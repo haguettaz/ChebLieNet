{
 "cells": [
  {
   "cell_type": "code",
   "execution_count": null,
   "metadata": {},
   "outputs": [],
   "source": [
    "from torchvision.transforms.functional import rotate"
   ]
  },
  {
   "cell_type": "code",
   "execution_count": null,
   "metadata": {},
   "outputs": [],
   "source": [
    "from gechebnet.engines.utils import prepare_batch"
   ]
  },
  {
   "cell_type": "code",
   "execution_count": null,
   "metadata": {},
   "outputs": [],
   "source": [
    "import torch\n",
    "import matplotlib.pyplot as plt\n",
    "from torchvision.utils import make_grid\n",
    "\n",
    "import numpy as np"
   ]
  },
  {
   "cell_type": "code",
   "execution_count": null,
   "metadata": {},
   "outputs": [],
   "source": [
    "def rotate_image(x, angles):\n",
    "    x0 = x.clone()\n",
    "    for a in angles:\n",
    "        x = torch.cat((x, rotate(x0, a)), 0)   \n",
    "    return x"
   ]
  },
  {
   "cell_type": "code",
   "execution_count": null,
   "metadata": {},
   "outputs": [],
   "source": [
    "def equivariance_error(x0, angle, chebconv, laplacian):\n",
    "    x1 = rotate(x0, angle)\n",
    "    x1, _ = prepare_batch((x1, torch.empty(1)), se2_graph, device)\n",
    "    x1_hat = chebconv(x1, laplacian).contiguous().view(graph.nsym, 28, 28)\n",
    "    \n",
    "    x0, _ = prepare_batch((x0, torch.empty(1)), se2_graph, device)\n",
    "    x0_hat = chebconv(x0, laplacian).contiguous().view(graph.nsym, 28, 28)\n",
    "    x0_hat = rotate(x0_hat, angle)\n",
    "    \n",
    "    return (x1_hat - x0_hat).pow(2).sum() / x0_hat.pow(2).sum()"
   ]
  },
  {
   "cell_type": "code",
   "execution_count": null,
   "metadata": {},
   "outputs": [],
   "source": [
    "def imshow(img):\n",
    "    fig = plt.figure(figsize=(20., 20.))\n",
    "    \n",
    "    img = img.permute(1, 2, 0)\n",
    "    \n",
    "    if torch.allclose(img[:,:,0], img[:,:,1]):\n",
    "        plt.imshow(img[:,:,0])\n",
    "    else:\n",
    "        plt.imshow(img)\n",
    "        \n",
    "    plt.axis(\"off\")\n",
    "    plt.show()"
   ]
  },
  {
   "cell_type": "code",
   "execution_count": null,
   "metadata": {},
   "outputs": [],
   "source": [
    "device = torch.device(\"cuda\" if torch.cuda.is_available() else \"cpu\")"
   ]
  },
  {
   "cell_type": "markdown",
   "metadata": {},
   "source": [
    "# MNIST "
   ]
  },
  {
   "cell_type": "code",
   "execution_count": null,
   "metadata": {},
   "outputs": [],
   "source": [
    "from torchvision.datasets import MNIST\n",
    "from torchvision.transforms import Compose, ToTensor\n",
    "from torch.utils.data import DataLoader\n",
    "from torch.utils.data import RandomSampler"
   ]
  },
  {
   "cell_type": "code",
   "execution_count": null,
   "metadata": {},
   "outputs": [],
   "source": [
    "dataset = MNIST(\n",
    "            \"data\",\n",
    "            train=True,\n",
    "            download=True,\n",
    "            transform=Compose([ToTensor()]),\n",
    "        )\n",
    "sampler = RandomSampler(dataset)\n",
    "dataloader = DataLoader(dataset, batch_size=1, sampler=sampler)"
   ]
  },
  {
   "cell_type": "code",
   "execution_count": null,
   "metadata": {},
   "outputs": [],
   "source": [
    "x, y = next(iter(dataloader))"
   ]
  },
  {
   "cell_type": "code",
   "execution_count": null,
   "metadata": {},
   "outputs": [],
   "source": [
    "plt.imshow(x[0,0])"
   ]
  },
  {
   "cell_type": "markdown",
   "metadata": {},
   "source": [
    "# Chebyschev convolutional layer"
   ]
  },
  {
   "cell_type": "code",
   "execution_count": null,
   "metadata": {},
   "outputs": [],
   "source": [
    "from gechebnet.graphs.graphs import SE2GEGraph\n",
    "from gechebnet.nn.layers.convs import ChebConv\n",
    "from gechebnet.liegroups.se2 import se2_uniform_sampling"
   ]
  },
  {
   "cell_type": "code",
   "execution_count": null,
   "metadata": {},
   "outputs": [],
   "source": [
    "xi = 3e-3\n",
    "eps = 0.1\n",
    "\n",
    "se2_sampling = se2_uniform_sampling(28, 28, 6)\n",
    "se2_graph = SE2GEGraph(\n",
    "    se2_sampling,\n",
    "    K=16,\n",
    "    sigmas=(1., eps, xi),\n",
    "    path_to_graph=\"saved_graphs\"\n",
    ")"
   ]
  },
  {
   "cell_type": "code",
   "execution_count": null,
   "metadata": {},
   "outputs": [],
   "source": [
    "cheb_conv = ChebConv(1, 1, 4, se2_graph).to(device)"
   ]
  },
  {
   "cell_type": "markdown",
   "metadata": {},
   "source": [
    "# Equivariance layers"
   ]
  },
  {
   "cell_type": "code",
   "execution_count": null,
   "metadata": {},
   "outputs": [],
   "source": [
    "x0, y0 = next(iter(dataloader))\n",
    "x0 = rotate_image(x0, [30*i for i in range(1, 11)])\n",
    "x, _ = prepare_batch((x0, y0), se2_graph, device)"
   ]
  },
  {
   "cell_type": "code",
   "execution_count": null,
   "metadata": {},
   "outputs": [],
   "source": [
    "with torch.no_grad():\n",
    "    x_hat = pool(x).cpu()\n",
    "    x_hat = x_hat.reshape(11, 1, 6, 14, 14).permute(2, 0, 1, 3, 4).reshape(-1, 1, 14, 14)"
   ]
  },
  {
   "cell_type": "code",
   "execution_count": null,
   "metadata": {},
   "outputs": [],
   "source": [
    "imshow(make_grid(x0, nrow=11, normalize=False))"
   ]
  },
  {
   "cell_type": "code",
   "execution_count": null,
   "metadata": {},
   "outputs": [],
   "source": [
    "imshow(make_grid(x_hat, nrow=11, normalize=False))"
   ]
  },
  {
   "cell_type": "markdown",
   "metadata": {},
   "source": [
    "# ChebConv layer"
   ]
  },
  {
   "cell_type": "code",
   "execution_count": null,
   "metadata": {},
   "outputs": [],
   "source": [
    "from gechebnet.nn.layers.convs import ChebConv"
   ]
  },
  {
   "cell_type": "code",
   "execution_count": null,
   "metadata": {},
   "outputs": [],
   "source": [
    "conv = ChebConv(1, 1, 4, se2_graph)"
   ]
  },
  {
   "cell_type": "code",
   "execution_count": null,
   "metadata": {},
   "outputs": [],
   "source": [
    "x0, y0 = next(iter(dataloader))"
   ]
  },
  {
   "cell_type": "code",
   "execution_count": null,
   "metadata": {},
   "outputs": [],
   "source": [
    "x0_, _ = prepare_batch((x0, y0), se2_graph, None)\n",
    "plt.imshow(x0[0,0])\n",
    "plt.axis(\"off\")"
   ]
  },
  {
   "cell_type": "code",
   "execution_count": null,
   "metadata": {},
   "outputs": [],
   "source": [
    "with torch.no_grad():\n",
    "    x0_hat = conv(x0_)\n",
    "plt.imshow(x0_hat.view(6, 28, 28).roll(4, 0)[0])\n",
    "plt.axis(\"off\")"
   ]
  },
  {
   "cell_type": "code",
   "execution_count": null,
   "metadata": {},
   "outputs": [],
   "source": [
    "plt.imshow(rotate(x0_hat.view(6, 28, 28).roll(3, 0), 90)[0])\n",
    "plt.axis(\"off\")"
   ]
  },
  {
   "cell_type": "code",
   "execution_count": null,
   "metadata": {},
   "outputs": [],
   "source": [
    "x1_, _ = prepare_batch((rotate(x0, 90), y0), se2_graph, None)\n",
    "plt.imshow(x1_.view(6, 28, 28)[0])\n",
    "plt.axis(\"off\")"
   ]
  },
  {
   "cell_type": "code",
   "execution_count": null,
   "metadata": {},
   "outputs": [],
   "source": [
    "with torch.no_grad():\n",
    "    x1_hat = conv(x1_)\n",
    "plt.imshow(x1_hat.view(6, 28, 28)[0])\n",
    "plt.axis(\"off\")"
   ]
  },
  {
   "cell_type": "code",
   "execution_count": null,
   "metadata": {},
   "outputs": [],
   "source": [
    "err = []\n",
    "angle = 5\n",
    "\n",
    "for _ in range(500):\n",
    "    conv = ChebConv(1, 1, 4, se2_graph)\n",
    "\n",
    "    with torch.no_grad():\n",
    "        x0, y0 = next(iter(dataloader))\n",
    "        x0_, _ = prepare_batch((x0, y0), se2_graph, None)\n",
    "\n",
    "        # transform then pool\n",
    "        x1_, _ = prepare_batch((rotate(x0, angle), y0), se2_graph, None)\n",
    "        \n",
    "        x1_hat = conv(x1_).contiguous().view(1, 28, 28)\n",
    "\n",
    "        # pool then transform \n",
    "        x0_hat = conv(x0_).contiguous().view(1, 28, 28)\n",
    "        x0_hat = rotate(x0_hat, angle)    \n",
    "        \n",
    "        err.append(((x1_hat - x0_hat).pow(2).sum() / x0_hat.pow(2).sum()).item())\n",
    "\n",
    "np.mean(err), np.std(err)"
   ]
  },
  {
   "cell_type": "markdown",
   "metadata": {},
   "source": [
    "# Pooling layer"
   ]
  },
  {
   "cell_type": "code",
   "execution_count": null,
   "metadata": {},
   "outputs": [],
   "source": [
    "from gechebnet.nn.layers.pools import CubicPool"
   ]
  },
  {
   "cell_type": "code",
   "execution_count": null,
   "metadata": {},
   "outputs": [],
   "source": [
    "pool = CubicPool((1, 2), (6, 28, 28))"
   ]
  },
  {
   "cell_type": "code",
   "execution_count": null,
   "metadata": {},
   "outputs": [],
   "source": [
    "x0, y0 = next(iter(dataloader))"
   ]
  },
  {
   "cell_type": "code",
   "execution_count": null,
   "metadata": {},
   "outputs": [],
   "source": [
    "x0_, _ = prepare_batch((x0, y0), se2_graph, None)\n",
    "plt.imshow(x0[0,0])\n",
    "plt.axis(\"off\")"
   ]
  },
  {
   "cell_type": "code",
   "execution_count": null,
   "metadata": {},
   "outputs": [],
   "source": [
    "x0_hat = pool(x0_)\n",
    "plt.imshow(x0_hat.view(1, 1, 1)[0])\n",
    "plt.axis(\"off\")"
   ]
  },
  {
   "cell_type": "code",
   "execution_count": null,
   "metadata": {},
   "outputs": [],
   "source": [
    "plt.imshow(rotate(x0_hat.view(1, 1, 1), 90)[0])\n",
    "plt.axis(\"off\")"
   ]
  },
  {
   "cell_type": "code",
   "execution_count": null,
   "metadata": {},
   "outputs": [],
   "source": [
    "x1_, _ = prepare_batch((rotate(x0, 90), y0), se2_graph, None)\n",
    "plt.imshow(x1_.view(6, 28, 28)[0])\n",
    "plt.axis(\"off\")"
   ]
  },
  {
   "cell_type": "code",
   "execution_count": null,
   "metadata": {},
   "outputs": [],
   "source": [
    "x1_hat = pool(x1_)\n",
    "plt.imshow(x1_hat.view(1, 1, 1)[0])\n",
    "plt.axis(\"off\")"
   ]
  },
  {
   "cell_type": "code",
   "execution_count": null,
   "metadata": {},
   "outputs": [],
   "source": [
    "pool = CubicPool((1, 2), (6, 28, 28)).to(device)\n",
    "\n",
    "err = []\n",
    "angle = 45\n",
    "\n",
    "for _ in range(100):\n",
    "    with torch.no_grad():\n",
    "        x0, y0 = next(iter(dataloader))\n",
    "\n",
    "        # transform then pool\n",
    "        x1_, _ = prepare_batch((rotate(x0, angle), y0), se2_graph, device)\n",
    "        x1_hat = pool(x1_).contiguous().view(6, 14, 14)\n",
    "\n",
    "        # pool then transform\n",
    "        x0_, _ = prepare_batch((x0, y0), se2_graph, device)   \n",
    "        x0_hat = pool(x0_).contiguous().view(6, 14, 14)\n",
    "        x0_hat = rotate(x0_hat, angle)\n",
    "        \n",
    "        err.append(((x1_hat - x0_hat).pow(2).sum() / x0_hat.pow(2).sum()).item())\n",
    "\n",
    "np.mean(err), np.std(err)"
   ]
  },
  {
   "cell_type": "markdown",
   "metadata": {},
   "source": [
    "# Unpooling layer"
   ]
  },
  {
   "cell_type": "code",
   "execution_count": null,
   "metadata": {},
   "outputs": [],
   "source": [
    "from gechebnet.nn.layers.unpools import CubicUnpool"
   ]
  },
  {
   "cell_type": "code",
   "execution_count": null,
   "metadata": {},
   "outputs": [],
   "source": [
    "unpool = CubicUnpool((1, 2), (6, 28, 28))"
   ]
  },
  {
   "cell_type": "code",
   "execution_count": null,
   "metadata": {},
   "outputs": [],
   "source": [
    "x0, y0 = next(iter(dataloader))"
   ]
  },
  {
   "cell_type": "code",
   "execution_count": null,
   "metadata": {},
   "outputs": [],
   "source": [
    "x0_, _ = prepare_batch((x0, y0), se2_graph, None)\n",
    "plt.imshow(x0[0,0])\n",
    "plt.axis(\"off\")"
   ]
  },
  {
   "cell_type": "code",
   "execution_count": null,
   "metadata": {},
   "outputs": [],
   "source": [
    "x0_hat = unpool(x0_)\n",
    "plt.imshow(x0_hat.view(6, 56, 56)[0])\n",
    "plt.axis(\"off\")"
   ]
  },
  {
   "cell_type": "code",
   "execution_count": null,
   "metadata": {},
   "outputs": [],
   "source": [
    "plt.imshow(rotate(x0_hat.view(6, 56, 56), 90)[0])\n",
    "plt.axis(\"off\")"
   ]
  },
  {
   "cell_type": "code",
   "execution_count": null,
   "metadata": {},
   "outputs": [],
   "source": [
    "x1_, _ = prepare_batch((rotate(x0, 90), y0), se2_graph, None)\n",
    "plt.imshow(x1_.view(6, 28, 28)[0])\n",
    "plt.axis(\"off\")"
   ]
  },
  {
   "cell_type": "code",
   "execution_count": null,
   "metadata": {},
   "outputs": [],
   "source": [
    "x1_hat = unpool(x1_)\n",
    "plt.imshow(x1_hat.view(6, 56, 56)[0])\n",
    "plt.axis(\"off\")"
   ]
  },
  {
   "cell_type": "code",
   "execution_count": null,
   "metadata": {},
   "outputs": [],
   "source": [
    "unpool = CubicUnpool((2, 1), (6, 28, 28)).to(device)\n",
    "\n",
    "err = []\n",
    "angle = 30\n",
    "\n",
    "for _ in range(1000):\n",
    "    with torch.no_grad():\n",
    "        x0, y0 = next(iter(dataloader))\n",
    "\n",
    "        # transform then pool\n",
    "        x1_, _ = prepare_batch((rotate(x0, angle), y0), se2_graph, device)\n",
    "        x1_hat = unpool(x1_).contiguous().view(12, 28, 28)\n",
    "\n",
    "        # pool then transform\n",
    "        x0_, _ = prepare_batch((x0, y0), se2_graph, device)   \n",
    "        x0_hat = unpool(x0_).contiguous().view(12, 28, 28)\n",
    "        x0_hat = rotate(x0_hat, angle)\n",
    "        \n",
    "        err.append(((x1_hat - x0_hat).pow(2).sum() / x0_hat.pow(2).sum()).item())\n",
    "\n",
    "np.mean(err), np.std(err)"
   ]
  },
  {
   "cell_type": "code",
   "execution_count": null,
   "metadata": {},
   "outputs": [],
   "source": [
    "se2_graph.node_theta.unique()"
   ]
  }
 ],
 "metadata": {
  "language_info": {
   "name": "python",
   "pygments_lexer": "ipython3"
  }
 },
 "nbformat": 4,
 "nbformat_minor": 4
}
