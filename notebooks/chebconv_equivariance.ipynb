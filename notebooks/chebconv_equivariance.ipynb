{
 "cells": [
  {
   "cell_type": "code",
   "execution_count": null,
   "metadata": {},
   "outputs": [],
   "source": [
    "import torch\n",
    "import matplotlib.pyplot as plt\n",
    "from torchvision.utils import make_grid\n",
    "\n",
    "import numpy as np"
   ]
  },
  {
   "cell_type": "code",
   "execution_count": null,
   "metadata": {},
   "outputs": [],
   "source": [
    "def rotate_image(x, angles):\n",
    "    x0 = x.clone()\n",
    "    for a in angles:\n",
    "        x = torch.cat((x, rotate(x0, a)), 0)   \n",
    "    return x"
   ]
  },
  {
   "cell_type": "code",
   "execution_count": null,
   "metadata": {},
   "outputs": [],
   "source": [
    "def equivariance_error(x0, angle, chebconv, laplacian):\n",
    "    x1 = rotate(x0, angle)\n",
    "    x1, _ = prepare_batch((x1, torch.empty(1)), se2_graph, device)\n",
    "    x1_hat = chebconv(x1, laplacian).contiguous().view(graph.nsym, 28, 28)\n",
    "    \n",
    "    x0, _ = prepare_batch((x0, torch.empty(1)), se2_graph, device)\n",
    "    x0_hat = chebconv(x0, laplacian).contiguous().view(graph.nsym, 28, 28)\n",
    "    x0_hat = rotate(x0_hat, angle)\n",
    "    \n",
    "    return (x1_hat - x0_hat).pow(2).sum() / x0_hat.pow(2).sum()"
   ]
  },
  {
   "cell_type": "code",
   "execution_count": null,
   "metadata": {},
   "outputs": [],
   "source": [
    "def imshow(img):\n",
    "    fig = plt.figure(figsize=(20., 20.))\n",
    "    \n",
    "    img = img.permute(1, 2, 0)\n",
    "    \n",
    "    if torch.allclose(img[:,:,0], img[:,:,1]):\n",
    "        plt.imshow(img[:,:,0])\n",
    "    else:\n",
    "        plt.imshow(img)\n",
    "        \n",
    "    plt.axis(\"off\")\n",
    "    plt.show()"
   ]
  },
  {
   "cell_type": "code",
   "execution_count": null,
   "metadata": {},
   "outputs": [],
   "source": [
    "device = torch.device(\"cuda\" if torch.cuda.is_available() else \"cpu\")"
   ]
  },
  {
   "cell_type": "markdown",
   "metadata": {},
   "source": [
    "# MNIST "
   ]
  },
  {
   "cell_type": "code",
   "execution_count": null,
   "metadata": {},
   "outputs": [],
   "source": [
    "from torchvision.datasets import MNIST\n",
    "from torchvision.transforms import Compose, ToTensor\n",
    "from torch.utils.data import DataLoader\n",
    "from torch.utils.data import RandomSampler"
   ]
  },
  {
   "cell_type": "code",
   "execution_count": null,
   "metadata": {},
   "outputs": [],
   "source": [
    "dataset = MNIST(\n",
    "            \"data\",\n",
    "            train=True,\n",
    "            download=True,\n",
    "            transform=Compose([ToTensor()]),\n",
    "        )\n",
    "sampler = RandomSampler(dataset)\n",
    "dataloader = DataLoader(dataset, batch_size=1, sampler=sampler)"
   ]
  },
  {
   "cell_type": "markdown",
   "metadata": {},
   "source": [
    "# Chebyschev convolutional layer"
   ]
  },
  {
   "cell_type": "code",
   "execution_count": null,
   "metadata": {},
   "outputs": [],
   "source": [
    "from gechebnet.graph.graph import SE2GEGraph\n",
    "from gechebnet.model.convolution import ChebConv"
   ]
  },
  {
   "cell_type": "code",
   "execution_count": null,
   "metadata": {},
   "outputs": [],
   "source": [
    "xi = 1.\n",
    "eps = 1.\n",
    "se2_graph = SE2GEGraph(\n",
    "            nx=28,\n",
    "            ny=28,\n",
    "            ntheta=1, # theta = -pi/2, -pi/3, -pi/6, 0, pi/6, pi/3\n",
    "            sigmas=(xi / eps, xi, 1.0),\n",
    "            knn=16\n",
    "        )"
   ]
  },
  {
   "cell_type": "code",
   "execution_count": null,
   "metadata": {},
   "outputs": [],
   "source": [
    "cheb_conv = ChebConv(se2_graph, 1, 1, 6).to(device)"
   ]
  },
  {
   "cell_type": "markdown",
   "metadata": {},
   "source": [
    "# Equivariance error"
   ]
  },
  {
   "cell_type": "code",
   "execution_count": null,
   "metadata": {},
   "outputs": [],
   "source": [
    "from torchvision.transforms.functional import rotate"
   ]
  },
  {
   "cell_type": "code",
   "execution_count": null,
   "metadata": {},
   "outputs": [],
   "source": [
    "from gechebnet.engine.utils import prepare_batch"
   ]
  },
  {
   "cell_type": "code",
   "execution_count": null,
   "metadata": {},
   "outputs": [],
   "source": [
    "err = []\n",
    "for _ in range(10):\n",
    "    with torch.no_grad():\n",
    "        x0, y0 = next(iter(dataloader))\n",
    "        #plt.imshow(rotate(x0, 90)[0,0])\n",
    "        #plt.axis(\"off\")\n",
    "\n",
    "        x90, _ = prepare_batch((rotate(x0, 92), y0), se2_graph, device)\n",
    "        x90_hat = cheb_conv(x90).contiguous().view(se2_graph.nsym, 28, 28)\n",
    "        #plt.imshow(x90_hat[0].cpu())\n",
    "        #plt.axis(\"off\")\n",
    "\n",
    "        x0, _ = prepare_batch((x0, y0), se2_graph, device)    \n",
    "\n",
    "        x0_hat = cheb_conv(x0).contiguous().view(se2_graph.nsym, 28, 28)\n",
    "        #plt.imshow(x0_hat[3].cpu())\n",
    "        #plt.axis(\"off\")\n",
    "\n",
    "        x0_hat = rotate(torch.roll(x0_hat, 3, 0), 92)\n",
    "        #plt.imshow(x0_hat[0].cpu())\n",
    "        #plt.axis(\"off\")\n",
    "        \n",
    "        err.append(((x90_hat - x0_hat).pow(2).sum() / x0_hat.pow(2).sum()).item())\n",
    "\n",
    "np.mean(err), np.std(err)"
   ]
  },
  {
   "cell_type": "code",
   "execution_count": null,
   "metadata": {},
   "outputs": [],
   "source": [
    "err = []\n",
    "for _ in range(10):\n",
    "    with torch.no_grad():\n",
    "        x0, y0 = next(iter(dataloader))\n",
    "        #plt.imshow(rotate(x0, 90)[0,0])\n",
    "        #plt.axis(\"off\")\n",
    "\n",
    "        x95, _ = prepare_batch((rotate(x0, 95), y0), se2_graph, device)\n",
    "        x95_hat = cheb_conv(x95).contiguous().view(se2_graph.nsym, 28, 28)\n",
    "        #plt.imshow(x90_hat[0].cpu())\n",
    "        #plt.axis(\"off\")\n",
    "\n",
    "        x0, _ = prepare_batch((x0, y0), se2_graph, device)    \n",
    "\n",
    "        x0_hat = cheb_conv(x0).contiguous().view(se2_graph.nsym, 28, 28)\n",
    "        #plt.imshow(x0_hat[3].cpu())\n",
    "        #plt.axis(\"off\")\n",
    "\n",
    "        x0_hat = rotate(torch.roll(x0_hat, 3, 0), 95)\n",
    "        #plt.imshow(x0_hat[0].cpu())\n",
    "        #plt.axis(\"off\")\n",
    "        \n",
    "        err.append(((x95_hat - x0_hat).pow(2).sum() / x0_hat.pow(2).sum()).item())\n",
    "\n",
    "np.mean(err), np.std(err)"
   ]
  },
  {
   "cell_type": "code",
   "execution_count": null,
   "metadata": {},
   "outputs": [],
   "source": [
    "eq_errs = []\n",
    "\n",
    "for _ in range(10):\n",
    "    with torch.no_grad():\n",
    "        x0, y0 = next(iter(dataloader))\n",
    "        #plt.imshow(rotate(x0, 60)[0,0])\n",
    "        #plt.axis(\"off\")\n",
    "\n",
    "        x60, _ = prepare_batch((rotate(x0, 60), y0), se2_graph, device)\n",
    "        x60_hat = cheb_conv(x60).contiguous().view(se2_graph.nsym, 28, 28)\n",
    "        #plt.imshow(x60_hat[0].cpu())\n",
    "        #plt.axis(\"off\")\n",
    "\n",
    "        x0, _ = prepare_batch((x0, y0), se2_graph, device)    \n",
    "\n",
    "        x0_hat = cheb_conv(x0).contiguous().view(se2_graph.nsym, 28, 28)\n",
    "        #plt.imshow(x0_hat[2].cpu())\n",
    "        #plt.axis(\"off\")\n",
    "\n",
    "        x0_hat = rotate(torch.roll(x0_hat, 4, 0), 60)\n",
    "        #plt.imshow(x0_hat[0].cpu())\n",
    "        #plt.axis(\"off\")\n",
    "        \n",
    "        err = (x60_hat - x0_hat).pow(2).sum() / x0_hat.pow(2).sum()\n",
    "        eq_errs.append(err.item())\n",
    "        \n",
    "np.mean(eq_errs), np.std(eq_errs)"
   ]
  },
  {
   "cell_type": "code",
   "execution_count": null,
   "metadata": {},
   "outputs": [],
   "source": [
    "conv2d = torch.nn.Conv2d(1, 1, 3)"
   ]
  },
  {
   "cell_type": "code",
   "execution_count": null,
   "metadata": {},
   "outputs": [],
   "source": [
    "eq_errs = []\n",
    "\n",
    "for _ in range(100):\n",
    "    with torch.no_grad():\n",
    "        x0, y0 = next(iter(dataloader))\n",
    "        x90_hat = conv2d(rotate(x0, 95))\n",
    "        x0_hat = rotate(conv2d(x0), 95)\n",
    "        err = (x90_hat - x0_hat).pow(2).sum() / x0_hat.pow(2).sum()\n",
    "        eq_errs.append(err.item())\n",
    "    \n",
    "np.mean(eq_errs), np.std(eq_errs)"
   ]
  },
  {
   "cell_type": "markdown",
   "metadata": {},
   "source": [
    "# Equivariance layers"
   ]
  },
  {
   "cell_type": "code",
   "execution_count": null,
   "metadata": {},
   "outputs": [],
   "source": [
    "x0, y0 = next(iter(dataloader))\n",
    "x0 = rotate_image(x0, [30*i for i in range(1, 11)])\n",
    "x, _ = prepare_batch((x0, y0), se2_graph, device)"
   ]
  },
  {
   "cell_type": "code",
   "execution_count": null,
   "metadata": {},
   "outputs": [],
   "source": [
    "with torch.no_grad():\n",
    "    x_hat = cheb_conv(x).cpu()\n",
    "    x_hat = x_hat.reshape(11, 1, 6, 28, 28).permute(2, 0, 1, 3, 4).reshape(-1, 1, 28, 28)"
   ]
  },
  {
   "cell_type": "code",
   "execution_count": null,
   "metadata": {},
   "outputs": [],
   "source": [
    "imshow(make_grid(x0, nrow=11, normalize=True))"
   ]
  },
  {
   "cell_type": "code",
   "execution_count": null,
   "metadata": {},
   "outputs": [],
   "source": [
    "imshow(make_grid(x_hat, nrow=11, normalize=True))"
   ]
  }
 ],
 "metadata": {
  "language_info": {
   "name": "python",
   "pygments_lexer": "ipython3"
  }
 },
 "nbformat": 4,
 "nbformat_minor": 4
}
