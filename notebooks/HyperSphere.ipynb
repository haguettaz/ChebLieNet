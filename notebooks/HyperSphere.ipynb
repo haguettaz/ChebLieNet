{
 "cells": [
  {
   "cell_type": "code",
   "execution_count": null,
   "metadata": {},
   "outputs": [],
   "source": [
    "import torch"
   ]
  },
  {
   "cell_type": "code",
   "execution_count": null,
   "metadata": {},
   "outputs": [],
   "source": [
    "from gechebnet.nn.models.chebnets import WideResSE2GEChebNet\n",
    "from gechebnet.graphs.graphs import SE2GEGraph, R2GEGraph"
   ]
  },
  {
   "cell_type": "code",
   "execution_count": null,
   "metadata": {},
   "outputs": [],
   "source": [
    "device = torch.device(\"cuda\")"
   ]
  },
  {
   "cell_type": "code",
   "execution_count": null,
   "metadata": {},
   "outputs": [],
   "source": [
    "graph_lvl0 = R2GEGraph(\n",
    "    size=[7, 7, 1],\n",
    "    K=8,\n",
    "    sigmas=(1.0, 0.1, 2.048 / (7 ** 2)),\n",
    "    path_to_graph=\"saved_graphs\",\n",
    ")\n",
    "\n",
    "graph_lvl1 = R2GEGraph(\n",
    "    size=[14, 14,1],\n",
    "    K=8,\n",
    "    sigmas=(1.0, 0.1, 2.048 / (14 ** 2)),\n",
    "    path_to_graph=\"saved_graphs\",\n",
    ")\n",
    "\n",
    "graph_lvl2 = R2GEGraph(\n",
    "    size=[28, 28,1],\n",
    "    K=8,\n",
    "    sigmas=(1.0, 0.1, 2.048 / (28 ** 2)),\n",
    "    path_to_graph=\"saved_graphs\",\n",
    ")\n",
    "\n",
    "# Loads group equivariant Chebnet\n",
    "model = WideResSE2GEChebNet(\n",
    "    in_channels=3,\n",
    "    out_channels=10,\n",
    "    kernel_size=4,\n",
    "    reduction=\"max\",\n",
    "    graph_lvl0=graph_lvl0,\n",
    "    graph_lvl1=graph_lvl1,\n",
    "    graph_lvl2=graph_lvl2,\n",
    "    depth=14,\n",
    "    widen_factor=4,\n",
    ").to(device)"
   ]
  },
  {
   "cell_type": "code",
   "execution_count": null,
   "metadata": {},
   "outputs": [],
   "source": [
    "x = torch.rand(4, 3, 28*28*1, device=device)"
   ]
  },
  {
   "cell_type": "code",
   "execution_count": null,
   "metadata": {},
   "outputs": [],
   "source": [
    "%timeit model(x)"
   ]
  },
  {
   "cell_type": "code",
   "execution_count": null,
   "metadata": {},
   "outputs": [],
   "source": [
    "model(x)"
   ]
  },
  {
   "cell_type": "code",
   "execution_count": null,
   "metadata": {},
   "outputs": [],
   "source": [
    "a = torch.arange(10)\n",
    "b = torch.arange(6) * 10"
   ]
  },
  {
   "cell_type": "code",
   "execution_count": null,
   "metadata": {},
   "outputs": [],
   "source": [
    "a[:,None] + b[None,:]"
   ]
  },
  {
   "cell_type": "code",
   "execution_count": null,
   "metadata": {},
   "outputs": [],
   "source": [
    "def get_reduction_index( size, kernel_size):\n",
    "\n",
    "    ns, nalpha = size\n",
    "\n",
    "    if kernel_size != nalpha:\n",
    "        raise NotImplementedError\n",
    "\n",
    "    indices = torch.arange(ns)[:, None] + (torch.arange(nalpha) * ns)[None, :]\n",
    "    print(indices.shape)\n",
    "    return indices"
   ]
  },
  {
   "cell_type": "code",
   "execution_count": null,
   "metadata": {},
   "outputs": [],
   "source": [
    "get_reduction_index([12, 6], 6)"
   ]
  },
  {
   "cell_type": "code",
   "execution_count": null,
   "metadata": {},
   "outputs": [],
   "source": [
    "from gechebnet.graphs.graphs import SE2GEGraph, SO3GEGraph, S2GEGraph, R2GEGraph\n",
    "from gechebnet.nn.layers.unpools import SE2SpatialUnpool, SO3SpatialUnpool\n",
    "from gechebnet.nn.layers.pools import SE2SpatialPool, SO3SpatialPool, SO3OrientationPool, GlobalPool\n",
    "from gechebnet.graphs.viz import visualize_graph, visualize_graph_neighborhood, visualize_graph_signal\n",
    "import torch\n",
    "from gechebnet.utils.utils import mod"
   ]
  },
  {
   "cell_type": "code",
   "execution_count": null,
   "metadata": {},
   "outputs": [],
   "source": [
    "x = torch.rand(16, 3, 42*6)"
   ]
  },
  {
   "cell_type": "code",
   "execution_count": null,
   "metadata": {},
   "outputs": [],
   "source": [
    "size = [28, 28, 6]\n",
    "kernel_size = 2\n",
    "\n",
    "nx, ny, ntheta = size\n",
    "\n",
    "Fout = nx * kernel_size * ny * kernel_size\n",
    "Vout = Fout * ntheta\n",
    "\n",
    "indices = torch.arange(Vout)\n",
    "\n",
    "ix = mod(indices, Fout) % (nx * kernel_size) // kernel_size\n",
    "iy = mod(indices, Fout) // (nx * kernel_size * kernel_size)\n",
    "itheta = indices // Fout\n",
    "\n",
    "index = ix + nx * iy + nx * ny * itheta\n",
    "\n",
    "index.unsqueeze(1).long().shape"
   ]
  },
  {
   "cell_type": "code",
   "execution_count": null,
   "metadata": {},
   "outputs": [],
   "source": [
    "size = [4, 4, 6]\n",
    "kernel_size = 2\n",
    "\n",
    "nx, ny, ntheta = size\n",
    "\n",
    "Fin = nx * ny\n",
    "Fout = nx // kernel_size * ny // kernel_size\n",
    "\n",
    "x_idx = torch.arange(nx // kernel_size)\n",
    "y_idx = torch.arange(ny // kernel_size)\n",
    "\n",
    "grid_y, grid_x = torch.meshgrid(y_idx, x_idx)\n",
    "\n",
    "x_idx, y_idx = grid_x.flatten(), grid_y.flatten()\n",
    "\n",
    "theta_index = torch.arange(ntheta)\n",
    "xy_index = torch.empty((Fout, kernel_size ** 2))\n",
    "for ikx in range(kernel_size):\n",
    "    for iky in range(kernel_size):\n",
    "        xy_index[:, ikx + iky*kernel_size] = x_idx * kernel_size + y_idx * kernel_size * nx + ikx + iky * nx\n",
    "\n",
    "index = theta_index[:, None, None] * Fin + xy_index[None,:,:]\n",
    "index = index.reshape(-1, kernel_size ** 2)"
   ]
  },
  {
   "cell_type": "code",
   "execution_count": null,
   "metadata": {},
   "outputs": [],
   "source": [
    "index"
   ]
  },
  {
   "cell_type": "code",
   "execution_count": null,
   "metadata": {},
   "outputs": [],
   "source": [
    "index_0"
   ]
  },
  {
   "cell_type": "code",
   "execution_count": null,
   "metadata": {},
   "outputs": [],
   "source": [
    "grid_theta.flatten()"
   ]
  },
  {
   "cell_type": "code",
   "execution_count": null,
   "metadata": {},
   "outputs": [],
   "source": [
    "indices = torch.arange(4)\n",
    "ix = (indices % 4) % (nx // kx)\n",
    "iy = (indices % 4) // (nx // kx)\n",
    "itheta = "
   ]
  },
  {
   "cell_type": "code",
   "execution_count": null,
   "metadata": {},
   "outputs": [],
   "source": [
    "indices"
   ]
  },
  {
   "cell_type": "code",
   "execution_count": null,
   "metadata": {},
   "outputs": [],
   "source": [
    "x = torch.rand(16, 3, 28*28*6)\n",
    "m = SE2SpatialPool( 2, [28,28,6], \"rand\")\n",
    "m.index.reshape(-1, 2)"
   ]
  },
  {
   "cell_type": "code",
   "execution_count": null,
   "metadata": {},
   "outputs": [],
   "source": [
    "x = torch.rand(16, 3, 28*28*6)\n",
    "m = SO3SpatialPool( 2, [42,6], \"rand\")\n",
    "m.index.shape"
   ]
  },
  {
   "cell_type": "code",
   "execution_count": null,
   "metadata": {},
   "outputs": [],
   "source": [
    "%timeit m(x)"
   ]
  },
  {
   "cell_type": "code",
   "execution_count": null,
   "metadata": {},
   "outputs": [],
   "source": [
    "m1 = torch.nn.AdaptiveMaxPool1d((1))\n",
    "y1 = m1(x)\n",
    "y1.shape"
   ]
  },
  {
   "cell_type": "code",
   "execution_count": null,
   "metadata": {},
   "outputs": [],
   "source": [
    "%timeit m1(x)"
   ]
  },
  {
   "cell_type": "code",
   "execution_count": null,
   "metadata": {},
   "outputs": [],
   "source": [
    "m2 = GlobalPool(42*6, \"max\")\n",
    "y2 = m2(x)\n",
    "y2.shape"
   ]
  },
  {
   "cell_type": "code",
   "execution_count": null,
   "metadata": {},
   "outputs": [],
   "source": [
    "%timeit m2(x)"
   ]
  },
  {
   "cell_type": "code",
   "execution_count": null,
   "metadata": {},
   "outputs": [],
   "source": [
    "%timeit y2 = m2(x)"
   ]
  },
  {
   "cell_type": "code",
   "execution_count": null,
   "metadata": {},
   "outputs": [],
   "source": [
    "torch.allclose(y1, y2)"
   ]
  },
  {
   "cell_type": "code",
   "execution_count": null,
   "metadata": {},
   "outputs": [],
   "source": [
    "s2_graph_lvl0 = S2GEGraph(\n",
    "    size=[12],\n",
    "    K=8,\n",
    "    sigmas=(1., 1., 1.),\n",
    "    path_to_graph=\"saved_graphs\"\n",
    ")\n",
    "s2_graph_lvl1 = S2GEGraph(\n",
    "    size=[42],\n",
    "    K=8,\n",
    "    sigmas=(1., 1., 1.),\n",
    "    path_to_graph=\"saved_graphs\"\n",
    ")"
   ]
  },
  {
   "cell_type": "code",
   "execution_count": null,
   "metadata": {},
   "outputs": [],
   "source": [
    "x = torch.zeros(1, 1, 42)\n",
    "x[...,5]=1."
   ]
  },
  {
   "cell_type": "code",
   "execution_count": null,
   "metadata": {},
   "outputs": [],
   "source": [
    "visualize_graph_signal(s2_graph_lvl1, x[0,0])"
   ]
  },
  {
   "cell_type": "code",
   "execution_count": null,
   "metadata": {},
   "outputs": [],
   "source": [
    "m = SO3SpatialPool(2, (42, 1), \"rand\")"
   ]
  },
  {
   "cell_type": "code",
   "execution_count": null,
   "metadata": {},
   "outputs": [],
   "source": [
    "y = m(x)\n",
    "y.shape"
   ]
  },
  {
   "cell_type": "code",
   "execution_count": null,
   "metadata": {},
   "outputs": [],
   "source": [
    "visualize_graph_signal(s2_graph_lvl0, y[0,0])"
   ]
  },
  {
   "cell_type": "code",
   "execution_count": null,
   "metadata": {},
   "outputs": [],
   "source": [
    "so3_graph = SO3GEGraph(\n",
    "    size=[642, 6],\n",
    "    K=8,\n",
    "    sigmas=(.1, 50/42, 1.),\n",
    "    path_to_graph=\"saved_graphs\"\n",
    ")"
   ]
  },
  {
   "cell_type": "code",
   "execution_count": null,
   "metadata": {},
   "outputs": [],
   "source": [
    "from gechebnet.nn.layers.unpools import SE2SpatialUnpool, SO3SpatialUnpool\n",
    "import torch"
   ]
  },
  {
   "cell_type": "code",
   "execution_count": null,
   "metadata": {},
   "outputs": [],
   "source": [
    "a chaque noeud, les deux noeuds originels"
   ]
  },
  {
   "cell_type": "code",
   "execution_count": null,
   "metadata": {},
   "outputs": [],
   "source": [
    "x = torch.rand(1, 1, 12*6)\n",
    "x"
   ]
  },
  {
   "cell_type": "code",
   "execution_count": null,
   "metadata": {},
   "outputs": [],
   "source": [
    "m = SO3SpatialUnpool(2, (12, 6), \"avg\")\n",
    "m(x).shape"
   ]
  },
  {
   "cell_type": "code",
   "execution_count": null,
   "metadata": {},
   "outputs": [],
   "source": [
    "42*6"
   ]
  },
  {
   "cell_type": "code",
   "execution_count": null,
   "metadata": {},
   "outputs": [],
   "source": [
    "m.index"
   ]
  },
  {
   "cell_type": "code",
   "execution_count": null,
   "metadata": {},
   "outputs": [],
   "source": [
    "m = SE2SpatialUnpool((2,2), (2, 2, 2), expansion=\"avg\")"
   ]
  },
  {
   "cell_type": "code",
   "execution_count": null,
   "metadata": {},
   "outputs": [],
   "source": [
    "%timeit m(x)"
   ]
  },
  {
   "cell_type": "code",
   "execution_count": null,
   "metadata": {},
   "outputs": [],
   "source": [
    "from gechebnet.nn.layers.pools import SE2SpatialPool, SO3SpatialPool\n",
    "from torch.nn import MaxPool3d\n",
    "import torch"
   ]
  },
  {
   "cell_type": "code",
   "execution_count": null,
   "metadata": {},
   "outputs": [],
   "source": [
    "m = SE2SpatialPool((2, 2), (28, 28, 6), \"rand\")"
   ]
  },
  {
   "cell_type": "code",
   "execution_count": null,
   "metadata": {},
   "outputs": [],
   "source": [
    "m = SO3SpatialPool(2, (42, 6), \"avg\")"
   ]
  },
  {
   "cell_type": "code",
   "execution_count": null,
   "metadata": {},
   "outputs": [],
   "source": [
    "m.index.shape"
   ]
  },
  {
   "cell_type": "code",
   "execution_count": null,
   "metadata": {},
   "outputs": [],
   "source": [
    "m.index.shape"
   ]
  },
  {
   "cell_type": "code",
   "execution_count": null,
   "metadata": {},
   "outputs": [],
   "source": [
    "a = torch.rand(2, 3)\n",
    "b = torch.arange(4) * 6\n",
    "a, b"
   ]
  },
  {
   "cell_type": "code",
   "execution_count": null,
   "metadata": {},
   "outputs": [],
   "source": [
    "a[None,:,:] + b[:, None, None]"
   ]
  },
  {
   "cell_type": "code",
   "execution_count": null,
   "metadata": {},
   "outputs": [],
   "source": [
    "x = torch.rand(16, 3, 6, 28, 28)"
   ]
  },
  {
   "cell_type": "code",
   "execution_count": null,
   "metadata": {},
   "outputs": [],
   "source": [
    "m_torch = MaxPool3d((1, 2, 2))\n",
    "m_pers = SE2SpatialPool((2,2), (28, 28, 6), \"max\")"
   ]
  },
  {
   "cell_type": "code",
   "execution_count": null,
   "metadata": {},
   "outputs": [],
   "source": [
    "x = torch.rand(16, 3, 6, 28, 28)\n",
    "a = m_torch(x)\n",
    "b = m_pers(x.view(16, 3, -1)).view(16, 3, 6, 14, 14)\n",
    "torch.allclose(a, b)"
   ]
  },
  {
   "cell_type": "code",
   "execution_count": null,
   "metadata": {},
   "outputs": [],
   "source": [
    "b = m_pers(x.view(16, 3, -1))\n",
    "b.shape"
   ]
  },
  {
   "cell_type": "code",
   "execution_count": null,
   "metadata": {},
   "outputs": [],
   "source": [
    "x_ = x.flatten()"
   ]
  },
  {
   "cell_type": "code",
   "execution_count": null,
   "metadata": {},
   "outputs": [],
   "source": [
    "b = m_pers(x_).view(6, 14, 14)"
   ]
  },
  {
   "cell_type": "code",
   "execution_count": null,
   "metadata": {},
   "outputs": [],
   "source": [
    "x = torch.rand(12, 32, 6*28*28)"
   ]
  },
  {
   "cell_type": "code",
   "execution_count": null,
   "metadata": {},
   "outputs": [],
   "source": [
    "%%timeit\n",
    "x = torch.rand(12, 32, 6*28*28)\n",
    "x = x.reshape(12, 32, 6, 28, 28)\n",
    "x = m_torch(x)\n",
    "x = x.reshape(12, 32, -1)"
   ]
  },
  {
   "cell_type": "code",
   "execution_count": null,
   "metadata": {},
   "outputs": [],
   "source": [
    "%%timeit\n",
    "x = torch.rand(12, 32, 6*28*28)\n",
    "x = m_pers(x)"
   ]
  },
  {
   "cell_type": "code",
   "execution_count": null,
   "metadata": {},
   "outputs": [],
   "source": [
    "import torch\n",
    "path = \"up_0_1.pt\"\n",
    "a = torch.load(path)"
   ]
  },
  {
   "cell_type": "code",
   "execution_count": null,
   "metadata": {},
   "outputs": [],
   "source": [
    "a.shape"
   ]
  },
  {
   "cell_type": "code",
   "execution_count": null,
   "metadata": {},
   "outputs": [],
   "source": [
    "x = torch.rand(16, 6, 12)"
   ]
  },
  {
   "cell_type": "code",
   "execution_count": null,
   "metadata": {},
   "outputs": [],
   "source": [
    "x[..., a].mean(dim=-1).shape"
   ]
  },
  {
   "cell_type": "code",
   "execution_count": null,
   "metadata": {},
   "outputs": [],
   "source": [
    "0  1  2  3 \n",
    "4  5  6  7\n",
    "8  9  10 11\n",
    "12 13 14 15\n",
    "\n",
    "0 1\n",
    "2 3\n",
    "\n",
    "\n",
    "0 - 0\n",
    "1 - 0\n",
    "2 - 1\n",
    "3 - 1\n",
    "\n",
    "\n"
   ]
  },
  {
   "cell_type": "code",
   "execution_count": null,
   "metadata": {},
   "outputs": [],
   "source": [
    "ix = indices % nx"
   ]
  },
  {
   "cell_type": "code",
   "execution_count": null,
   "metadata": {},
   "outputs": [],
   "source": [
    "from gechebnet.utils.utils import mod"
   ]
  },
  {
   "cell_type": "code",
   "execution_count": null,
   "metadata": {},
   "outputs": [],
   "source": [
    "def get_expansion_index(size, kernel_size):\n",
    "\n",
    "    nx, ny, ntheta = size\n",
    "    kx, ky = kernel_size\n",
    "\n",
    "    Fin = nx * ny\n",
    "    Fout = nx * kx * ny * ky\n",
    "    \n",
    "    Vin = Fin * ntheta\n",
    "    Vout = Fout * ntheta\n",
    "    indices = torch.arange(Vout)\n",
    "    \n",
    "    ix = mod(indices, Fout) % (nx*kx) // kx\n",
    "    iy = mod(indices, Fout) // (nx * kx * ky)\n",
    "    itheta = indices // Fout\n",
    "    \n",
    "    index = ix + nx * iy + nx * ny * itheta\n",
    "    \n",
    "    return index.long()"
   ]
  },
  {
   "cell_type": "code",
   "execution_count": null,
   "metadata": {},
   "outputs": [],
   "source": [
    "index = down2up_index((2,2,4), (2,2))\n",
    "index"
   ]
  },
  {
   "cell_type": "code",
   "execution_count": null,
   "metadata": {},
   "outputs": [],
   "source": [
    "4 * 4 * 4"
   ]
  },
  {
   "cell_type": "code",
   "execution_count": null,
   "metadata": {},
   "outputs": [],
   "source": [
    "index"
   ]
  },
  {
   "cell_type": "code",
   "execution_count": null,
   "metadata": {},
   "outputs": [],
   "source": [
    "def up2down_index(size, kernel_size):\n",
    "    nx, ny, ntheta = size\n",
    "    kx, ky = kernel_size\n",
    "\n",
    "    Fin = nx * ny\n",
    "    Fout = (nx // kx) * (ny // ky)\n",
    "\n",
    "    Vin = nx * ny * ntheta\n",
    "\n",
    "    indices = torch.arange(Vin)\n",
    "\n",
    "    ix = mod(indices, nx) // kx\n",
    "    iy = mod(indices, Fin) // (nx * ky)\n",
    "    ith = indices // Fin\n",
    "    index = ix + iy * (nx // kx) + ith * Fout\n",
    "\n",
    "    return index.long()"
   ]
  },
  {
   "cell_type": "code",
   "execution_count": null,
   "metadata": {},
   "outputs": [],
   "source": [
    "index = up2down_index((2,2,4), (2,2))\n",
    "index"
   ]
  },
  {
   "cell_type": "code",
   "execution_count": null,
   "metadata": {},
   "outputs": [],
   "source": [
    "index = a[:12]\n",
    "index"
   ]
  },
  {
   "cell_type": "code",
   "execution_count": null,
   "metadata": {},
   "outputs": [],
   "source": [
    "x = torch"
   ]
  },
  {
   "cell_type": "code",
   "execution_count": null,
   "metadata": {},
   "outputs": [],
   "source": [
    "x = torch.rand(1, 1, 42)\n",
    "x"
   ]
  },
  {
   "cell_type": "code",
   "execution_count": null,
   "metadata": {},
   "outputs": [],
   "source": [
    "x[...,index[0]].mean()"
   ]
  },
  {
   "cell_type": "code",
   "execution_count": null,
   "metadata": {},
   "outputs": [],
   "source": [
    "out = x[..., index].mean(dim=-1)\n",
    "out"
   ]
  },
  {
   "cell_type": "code",
   "execution_count": null,
   "metadata": {},
   "outputs": [],
   "source": [
    "from gechebnet.geometry.se import se2_uniform_sampling"
   ]
  },
  {
   "cell_type": "code",
   "execution_count": null,
   "metadata": {},
   "outputs": [],
   "source": [
    "x, y, theta = se2_uniform_sampling(4, 4, 4)"
   ]
  },
  {
   "cell_type": "code",
   "execution_count": null,
   "metadata": {},
   "outputs": [],
   "source": [
    "theta"
   ]
  },
  {
   "cell_type": "code",
   "execution_count": null,
   "metadata": {},
   "outputs": [],
   "source": [
    "indices = torch.arange(4)\n",
    "nx = 2\n",
    "ny = 2\n",
    "ntheta = 1\n",
    "\n",
    "kx = 2\n",
    "ky = 2\n",
    "\n",
    "ix = (indices % (nx * ny)) % nx\n",
    "iy = (indices % (nx * ny)) // ny\n",
    "itheta = indices // (nx * ny)"
   ]
  },
  {
   "cell_type": "code",
   "execution_count": null,
   "metadata": {},
   "outputs": [],
   "source": [
    "ix * kx + ikx + iky * nx * kx + iy * ky * nx * kx + ith * ny * ky * nx * kx"
   ]
  },
  {
   "cell_type": "code",
   "execution_count": null,
   "metadata": {},
   "outputs": [],
   "source": [
    "ix, iy, itheta"
   ]
  },
  {
   "cell_type": "code",
   "execution_count": null,
   "metadata": {},
   "outputs": [],
   "source": [
    "ix = (indices%nx) // 2 + indices // (2 * nx) * (nx // 2)"
   ]
  },
  {
   "cell_type": "code",
   "execution_count": null,
   "metadata": {},
   "outputs": [],
   "source": [
    "index = torch.empty(nx * ny * ntheta, kx * ky, dtype=torch.long)"
   ]
  },
  {
   "cell_type": "code",
   "execution_count": null,
   "metadata": {},
   "outputs": [],
   "source": [
    "from gechebnet.utils.utils import mod"
   ]
  },
  {
   "cell_type": "code",
   "execution_count": null,
   "metadata": {},
   "outputs": [],
   "source": [
    "ix = (indices%nx) // 2 + indices // (2 * nx) * (nx // 2)"
   ]
  },
  {
   "cell_type": "code",
   "execution_count": null,
   "metadata": {},
   "outputs": [],
   "source": [
    "ix = mod(indices, Fin) // (kx)\n",
    "iy = mod(indices, Fin) // (nx * ny)\n",
    "itheta = indices // Fin\n",
    "ix, iy, itheta"
   ]
  },
  {
   "cell_type": "code",
   "execution_count": null,
   "metadata": {},
   "outputs": [],
   "source": [
    " mod(\n",
    "            mod(indices, nx) // kx + indices // (ky * nx) * (nx // kx), ((nx // kx) * (ny // ky))\n",
    "        ) + (indices // (nx * ny)) * (((nx // kx) * (ny // ky)))"
   ]
  },
  {
   "cell_type": "code",
   "execution_count": null,
   "metadata": {},
   "outputs": [],
   "source": [
    "size = (4, 4, 2)\n",
    "kernel_size = (2,2)"
   ]
  },
  {
   "cell_type": "code",
   "execution_count": null,
   "metadata": {},
   "outputs": [],
   "source": [
    "nx, ny, ntheta = size\n",
    "kx, ky = kernel_size\n",
    "\n",
    "Fin = nx * ny\n",
    "Fout = (nx // kx) * (ny // ky)\n",
    "\n",
    "Vin = nx * ny * ntheta\n",
    "Vout = (nx // kx) * (ny // ky) * ntheta\n",
    "\n",
    "indices = torch.arange(Vin)"
   ]
  },
  {
   "cell_type": "code",
   "execution_count": null,
   "metadata": {},
   "outputs": [],
   "source": [
    "ix = mod(indices, nx) // kx\n",
    "ix"
   ]
  },
  {
   "cell_type": "code",
   "execution_count": null,
   "metadata": {},
   "outputs": [],
   "source": [
    "iy = (indices % Fin) // (nx * ky)\n",
    "iy "
   ]
  },
  {
   "cell_type": "code",
   "execution_count": null,
   "metadata": {},
   "outputs": [],
   "source": [
    "ith = indices // Fin"
   ]
  },
  {
   "cell_type": "code",
   "execution_count": null,
   "metadata": {},
   "outputs": [],
   "source": [
    "index = ix + iy * (nx // kx) + ith * Fout\n",
    "index"
   ]
  },
  {
   "cell_type": "code",
   "execution_count": null,
   "metadata": {},
   "outputs": [],
   "source": [
    "def down_index(size, kernel_size):\n",
    "    nx, ny, ntheta = size\n",
    "    kx, ky = kernel_size\n",
    "\n",
    "    Fin = nx * ny\n",
    "    Fout = (nx // kx) * (ny // ky)\n",
    "\n",
    "    Vin = nx * ny * ntheta\n",
    "\n",
    "    indices = torch.arange(Vin)\n",
    "\n",
    "    ix = mod(indices, nx) // kx\n",
    "    iy = mod(indices, Fin) // (nx * ky)\n",
    "    ith = indices // Fin\n",
    "    index = ix + iy * (nx // kx) + ith * Fout\n",
    "\n",
    "    return index\n",
    "\n",
    "def down2up(size, kernel_size):\n",
    "\n",
    "    nx, ny, ntheta = size\n",
    "    kx, ky = kernel_size\n",
    "\n",
    "    Fin = nx * ny\n",
    "    Fout = (nx // kx) * (ny // ky)\n",
    "\n",
    "    Vout = (nx // kx) * (ny // ky) * ntheta\n",
    "\n",
    "    indices = torch.arange(Vout)\n",
    "\n",
    "    ix = mod(mod(indices, Fout), (nx // kx))\n",
    "    iy = mod(indices, Fout) // (nx // kx)\n",
    "    itheta = indices // Fout\n",
    "    \n",
    "    index = torch.empty(Vout, kx * ky, dtype=torch.long)\n",
    "    for ikx in range(kx):\n",
    "        for iky in range(ky):\n",
    "            index[:, ikx + kx * iky] = ix * kx + ikx + iky * nx + iy * ky * nx + itheta * Fin\n",
    "\n",
    "    return index\n"
   ]
  },
  {
   "cell_type": "code",
   "execution_count": null,
   "metadata": {},
   "outputs": [],
   "source": [
    "down2up((4, 4, 2), (2, 2))"
   ]
  },
  {
   "cell_type": "code",
   "execution_count": null,
   "metadata": {},
   "outputs": [],
   "source": [
    "up2down((4, 4, 2), (2, 2))"
   ]
  },
  {
   "cell_type": "code",
   "execution_count": null,
   "metadata": {},
   "outputs": [],
   "source": [
    "indices // (ky * nx) * (nx // kx)"
   ]
  },
  {
   "cell_type": "code",
   "execution_count": null,
   "metadata": {},
   "outputs": [],
   "source": [
    "index = torch.empty(Vout, kx * ky, dtype=torch.long)\n",
    "for ikx in range(kx):\n",
    "    for iky in range(ky):\n",
    "        index[:, ikx + kx * iky] = ix * kx + ikx + iky * nx + iy * ky * nx + itheta * Fin"
   ]
  },
  {
   "cell_type": "code",
   "execution_count": null,
   "metadata": {},
   "outputs": [],
   "source": [
    "index"
   ]
  },
  {
   "cell_type": "code",
   "execution_count": null,
   "metadata": {},
   "outputs": [],
   "source": [
    "index"
   ]
  },
  {
   "cell_type": "code",
   "execution_count": null,
   "metadata": {},
   "outputs": [],
   "source": [
    "def scatter_rand(source, index):\n",
    "    N, K = index.shape\n",
    "    return source[index[torch.arange(N), torch.randint(K, (N,))]]"
   ]
  },
  {
   "cell_type": "code",
   "execution_count": null,
   "metadata": {},
   "outputs": [],
   "source": [
    "signal = torch.rand(16)"
   ]
  },
  {
   "cell_type": "code",
   "execution_count": null,
   "metadata": {},
   "outputs": [],
   "source": [
    "signal.view(4, 4)"
   ]
  },
  {
   "cell_type": "code",
   "execution_count": null,
   "metadata": {},
   "outputs": [],
   "source": [
    "scatter_rand(signal, index)"
   ]
  },
  {
   "cell_type": "code",
   "execution_count": null,
   "metadata": {},
   "outputs": [],
   "source": [
    "lst = []\n",
    "for ikx in range(kx):\n",
    "    for iky in range(ky):\n",
    "        lst.append(ix * kx + ikx + iky * nx * kx + iy * ky * nx * kx + ith * ny * ky * nx * kx)"
   ]
  },
  {
   "cell_type": "code",
   "execution_count": null,
   "metadata": {},
   "outputs": [],
   "source": [
    "lst"
   ]
  },
  {
   "cell_type": "code",
   "execution_count": null,
   "metadata": {},
   "outputs": [],
   "source": [
    "ix, iy"
   ]
  },
  {
   "cell_type": "code",
   "execution_count": null,
   "metadata": {},
   "outputs": [],
   "source": [
    "ix, iy, ith"
   ]
  },
  {
   "cell_type": "code",
   "execution_count": null,
   "metadata": {},
   "outputs": [],
   "source": [
    "(2*idx)%(2*nx) + 2*ny*(idx//2) + nx * 2"
   ]
  },
  {
   "cell_type": "code",
   "execution_count": null,
   "metadata": {},
   "outputs": [],
   "source": [
    "idx = 0\n",
    "nx = 2\n",
    "ny = 2\n",
    "ntheta = 2"
   ]
  },
  {
   "cell_type": "code",
   "execution_count": null,
   "metadata": {},
   "outputs": [],
   "source": [
    "((2*idx)%nx + 2*ny*(idx//2))%(nx*2 * ny*2) + idx // (nx * ny) * (nx*2 * ny*2)"
   ]
  },
  {
   "cell_type": "code",
   "execution_count": null,
   "metadata": {},
   "outputs": [],
   "source": [
    "((2*idx)%nx + 2*ny*(idx//2) + 1)%(nx*2 * ny*2) + idx // (nx * ny) * (nx*2 * ny*2)"
   ]
  },
  {
   "cell_type": "code",
   "execution_count": null,
   "metadata": {},
   "outputs": [],
   "source": [
    "((2*idx)%nx + 2*ny*(idx//2) + nx * 2)%(nx*2 * ny*2) + idx // (nx * ny) * (nx*2 * ny*2)"
   ]
  },
  {
   "cell_type": "code",
   "execution_count": null,
   "metadata": {},
   "outputs": [],
   "source": [
    "((2*idx)%nx + 2*ny*(idx//2) + nx * 2 + 1)%(nx*2 * ny*2) + idx // (nx * ny) * (nx*2 * ny*2)"
   ]
  },
  {
   "cell_type": "code",
   "execution_count": null,
   "metadata": {},
   "outputs": [],
   "source": [
    "idx = 4\n",
    "nx = 4\n",
    "ny = 4\n",
    "ntheta = 2 "
   ]
  },
  {
   "cell_type": "code",
   "execution_count": null,
   "metadata": {},
   "outputs": [],
   "source": [
    "((idx % nx) // 2 + idx // (2 * nx) * (nx // 2))%(((nx//2) * (ny//2))) + (idx // (nx * ny))*(((nx//2) * (ny//2)))"
   ]
  },
  {
   "cell_type": "code",
   "execution_count": null,
   "metadata": {},
   "outputs": [],
   "source": [
    "((idx % nx) // 2 + idx // (2 * nx) * (nx // 2))%(((nx//2) * (ny//2))) + "
   ]
  },
  {
   "cell_type": "code",
   "execution_count": null,
   "metadata": {},
   "outputs": [],
   "source": [
    "(idx // (nx * ny))*(((nx//2) * (ny//2)))"
   ]
  },
  {
   "cell_type": "code",
   "execution_count": null,
   "metadata": {},
   "outputs": [],
   "source": [
    "(idx % nx) // 2"
   ]
  },
  {
   "cell_type": "code",
   "execution_count": null,
   "metadata": {},
   "outputs": [],
   "source": [
    "from torch_scatter import scatter_max"
   ]
  },
  {
   "cell_type": "code",
   "execution_count": null,
   "metadata": {},
   "outputs": [],
   "source": [
    "import torch"
   ]
  },
  {
   "cell_type": "code",
   "execution_count": null,
   "metadata": {},
   "outputs": [],
   "source": [
    "signal = torch.rand(16)\n",
    "nx = 4\n",
    "ny = 4"
   ]
  },
  {
   "cell_type": "code",
   "execution_count": null,
   "metadata": {},
   "outputs": [],
   "source": [
    "indices = torch.arange(nx * ny)\n",
    "down_sampling = (indices%nx) // 2 + indices // (2 * nx) * (nx // 2)"
   ]
  },
  {
   "cell_type": "code",
   "execution_count": null,
   "metadata": {},
   "outputs": [],
   "source": [
    "signal.view(4,4)"
   ]
  },
  {
   "cell_type": "code",
   "execution_count": null,
   "metadata": {},
   "outputs": [],
   "source": [
    "val, _ = scatter_max(signal, down_sampling)"
   ]
  },
  {
   "cell_type": "code",
   "execution_count": null,
   "metadata": {},
   "outputs": [],
   "source": [
    "val"
   ]
  },
  {
   "cell_type": "code",
   "execution_count": null,
   "metadata": {},
   "outputs": [],
   "source": [
    "down_sampling"
   ]
  },
  {
   "cell_type": "code",
   "execution_count": null,
   "metadata": {},
   "outputs": [],
   "source": [
    "signal[down_sampling]"
   ]
  },
  {
   "cell_type": "code",
   "execution_count": null,
   "metadata": {},
   "outputs": [],
   "source": [
    "val = [93.54, 95.26, 96.9]\n",
    "np.mean(val), np.std(val)"
   ]
  },
  {
   "cell_type": "code",
   "execution_count": null,
   "metadata": {},
   "outputs": [],
   "source": [
    "np.mean(val), np.std(val)"
   ]
  },
  {
   "cell_type": "code",
   "execution_count": null,
   "metadata": {},
   "outputs": [],
   "source": [
    "np.mean(aniso), np.std(aniso)"
   ]
  },
  {
   "cell_type": "code",
   "execution_count": null,
   "metadata": {},
   "outputs": [],
   "source": [
    "from gechebnet.geometry.so import s2_uniform_sampling\n",
    "from gechebnet.geometry.utils import betagamma2xyz"
   ]
  },
  {
   "cell_type": "code",
   "execution_count": null,
   "metadata": {},
   "outputs": [],
   "source": [
    "import torch"
   ]
  },
  {
   "cell_type": "code",
   "execution_count": null,
   "metadata": {},
   "outputs": [],
   "source": [
    "lvl_in = 5\n",
    "lvl_out = 4"
   ]
  },
  {
   "cell_type": "code",
   "execution_count": null,
   "metadata": {},
   "outputs": [],
   "source": [
    "num_in = (10 * 4 ** lvl_in + 2)\n",
    "num_out = (10 * 4 ** lvl_out + 2)"
   ]
  },
  {
   "cell_type": "code",
   "execution_count": null,
   "metadata": {},
   "outputs": [],
   "source": [
    "x, y, z = betagamma2xyz(*s2_uniform_sampling(num_in))"
   ]
  },
  {
   "cell_type": "code",
   "execution_count": null,
   "metadata": {},
   "outputs": [],
   "source": [
    "X = torch.stack((x, y, z),dim=-1)\n",
    "_, indices = (X[:,None,:] - X[None,:,:]).pow(2).sum(dim=2).topk(7, dim=0, largest=False)\n",
    "indices = indices.transpose(1, 0)\n",
    "tensor = indices[:num_out]"
   ]
  },
  {
   "cell_type": "code",
   "execution_count": null,
   "metadata": {},
   "outputs": [],
   "source": [
    "torch.save(tensor, f'reduction_lvl{lvl_in}_lvl{lvl_out}.pt')"
   ]
  },
  {
   "cell_type": "code",
   "execution_count": null,
   "metadata": {},
   "outputs": [],
   "source": [
    "tmp_indices = indices[num_in:, 1:].flatten()"
   ]
  },
  {
   "cell_type": "code",
   "execution_count": null,
   "metadata": {},
   "outputs": [],
   "source": [
    "indices = tmp_indices[tmp_indices < num_in].reshape(num_out - num_in, 2)"
   ]
  },
  {
   "cell_type": "code",
   "execution_count": null,
   "metadata": {},
   "outputs": [],
   "source": [
    "tensor = torch.empty(num_out, 2, dtype=torch.long)\n",
    "tensor[:num_in] = torch.stack((torch.arange(num_in), torch.arange(num_in)), dim=-1)\n",
    "tensor[num_in:] = indices"
   ]
  },
  {
   "cell_type": "code",
   "execution_count": null,
   "metadata": {},
   "outputs": [],
   "source": [
    "pr"
   ]
  },
  {
   "cell_type": "code",
   "execution_count": null,
   "metadata": {},
   "outputs": [],
   "source": [
    "torch.save(tensor, f'reduction_lvl{lvl_in}_lvl{lvl_out}.pt')"
   ]
  },
  {
   "cell_type": "code",
   "execution_count": null,
   "metadata": {},
   "outputs": [],
   "source": [
    "tensor.shape"
   ]
  },
  {
   "cell_type": "code",
   "execution_count": null,
   "metadata": {},
   "outputs": [],
   "source": [
    "lvl_in = 5\n",
    "lvl_out = 4"
   ]
  },
  {
   "cell_type": "code",
   "execution_count": null,
   "metadata": {},
   "outputs": [],
   "source": [
    "num_in = (10 * 4 ** lvl_in + 2)\n",
    "num_out = (10 * 4 ** lvl_out + 2)"
   ]
  },
  {
   "cell_type": "code",
   "execution_count": null,
   "metadata": {},
   "outputs": [],
   "source": [
    "x, y, z = betagamma2xyz(*s2_uniform_sampling(num_in))"
   ]
  },
  {
   "cell_type": "code",
   "execution_count": null,
   "metadata": {},
   "outputs": [],
   "source": [
    "X = torch.stack((x, y, z),dim=-1)\n",
    "_, indices = (X[:,None,:] - X[None,:,:]).pow(2).sum(dim=2).topk(7, dim=0, largest=False)\n",
    "indices = indices.transpose(1, 0)\n",
    "indices.shape"
   ]
  },
  {
   "cell_type": "code",
   "execution_count": null,
   "metadata": {},
   "outputs": [],
   "source": [
    "torch.save(indices, f'down_{lvl_in}_{lvl_out}.pt')"
   ]
  },
  {
   "cell_type": "code",
   "execution_count": null,
   "metadata": {},
   "outputs": [],
   "source": [
    "num_max"
   ]
  },
  {
   "cell_type": "code",
   "execution_count": null,
   "metadata": {},
   "outputs": [],
   "source": [
    "a = torch.rand(1, 3, 2)\n",
    "b = torch.rand(2, 1, 1)\n",
    "(a + b).shape"
   ]
  },
  {
   "cell_type": "code",
   "execution_count": null,
   "metadata": {},
   "outputs": [],
   "source": [
    "x = torch.rand(1, 1, num_min)"
   ]
  },
  {
   "cell_type": "code",
   "execution_count": null,
   "metadata": {},
   "outputs": [],
   "source": [
    "%timeit x[...,tensor].mean(dim=2)"
   ]
  },
  {
   "cell_type": "code",
   "execution_count": null,
   "metadata": {},
   "outputs": [],
   "source": [
    "b"
   ]
  },
  {
   "cell_type": "code",
   "execution_count": null,
   "metadata": {},
   "outputs": [],
   "source": [
    "tensor[:, 42]"
   ]
  },
  {
   "cell_type": "code",
   "execution_count": null,
   "metadata": {},
   "outputs": [],
   "source": [
    "torch.arange(12).repeat(2,1).shape"
   ]
  },
  {
   "cell_type": "code",
   "execution_count": null,
   "metadata": {},
   "outputs": [],
   "source": [
    "num_max = \n",
    "num_min =\n",
    "tensor = torch.zeros(2, 162)\n",
    "tensor[:, :num_min] = torch.arange(num_min).repeat(2,1)\n",
    "tensor[:, num_min:] = indices[1:, num_min:]"
   ]
  },
  {
   "cell_type": "code",
   "execution_count": null,
   "metadata": {},
   "outputs": [],
   "source": [
    "torch.arange(12).reshape(3, 4)"
   ]
  },
  {
   "cell_type": "code",
   "execution_count": null,
   "metadata": {},
   "outputs": [],
   "source": [
    "(indices[1:].flatten() < 42)"
   ]
  },
  {
   "cell_type": "code",
   "execution_count": null,
   "metadata": {},
   "outputs": [],
   "source": [
    "test_indices = indices[1:,:]\n",
    "mask = test_indices < 42\n",
    "test_indices[mask]"
   ]
  },
  {
   "cell_type": "code",
   "execution_count": null,
   "metadata": {},
   "outputs": [],
   "source": [
    "(indices[:,42:] < 42).sum(dim=0)"
   ]
  },
  {
   "cell_type": "code",
   "execution_count": null,
   "metadata": {},
   "outputs": [],
   "source": [
    "mask.sum()"
   ]
  },
  {
   "cell_type": "code",
   "execution_count": null,
   "metadata": {},
   "outputs": [],
   "source": [
    "162*2"
   ]
  },
  {
   "cell_type": "code",
   "execution_count": null,
   "metadata": {},
   "outputs": [],
   "source": [
    "indices[1][42:]"
   ]
  },
  {
   "cell_type": "code",
   "execution_count": null,
   "metadata": {},
   "outputs": [],
   "source": [
    "indices[2][12:]"
   ]
  },
  {
   "cell_type": "code",
   "execution_count": null,
   "metadata": {},
   "outputs": [],
   "source": [
    "tensor = torch.zeros(2, 642)\n",
    "tensor[:, :42] = indices[0, :42]\n",
    "tensor[:, 42:] = indices[1:, 42:]\n",
    "torch.save(tensor, 'subdivision_1_2.pt')"
   ]
  },
  {
   "cell_type": "code",
   "execution_count": null,
   "metadata": {},
   "outputs": [],
   "source": [
    "import torch\n",
    "import matplotlib.pyplot as plt\n",
    "import matplotlib.cm as cm\n",
    "\n",
    "fig = plt.figure(figsize=(10, 10))\n",
    "ax = fig.add_subplot(1, 1, 1, projection=\"3d\")\n",
    "ax.scatter(x1, y1, z1, c=torch.arange(12))\n",
    "\n",
    "fig.tight_layout()"
   ]
  },
  {
   "cell_type": "code",
   "execution_count": null,
   "metadata": {},
   "outputs": [],
   "source": [
    "from gechebnet.graphs.viz import visualize_graph, visualize_graph_neighborhood, visualize_graph_signal\n",
    "from gechebnet.graphs.graphs import SE2GEGraph, SO3GEGraph, S2GEGraph, R2GEGraph"
   ]
  },
  {
   "cell_type": "code",
   "execution_count": null,
   "metadata": {},
   "outputs": [],
   "source": [
    "s2_graph = S2GEGraph(\n",
    "    size=[12],\n",
    "    K=8,\n",
    "    sigmas=(1., 1., 1.),\n",
    "    path_to_graph=\"saved_graphs\"\n",
    ")"
   ]
  },
  {
   "cell_type": "code",
   "execution_count": null,
   "metadata": {},
   "outputs": [],
   "source": [
    "visualize_graph(s2_graph)"
   ]
  },
  {
   "cell_type": "code",
   "execution_count": null,
   "metadata": {},
   "outputs": [],
   "source": [
    "s2_graph = S2GEGraph(\n",
    "    size=[162],\n",
    "    K=8,\n",
    "    sigmas=(1., 1., 1.),\n",
    "    path_to_graph=\"saved_graphs\"\n",
    ")"
   ]
  },
  {
   "cell_type": "code",
   "execution_count": null,
   "metadata": {},
   "outputs": [],
   "source": [
    "visualize_graph(s2_graph)"
   ]
  },
  {
   "cell_type": "code",
   "execution_count": null,
   "metadata": {},
   "outputs": [],
   "source": [
    "import pandas as pd"
   ]
  },
  {
   "cell_type": "code",
   "execution_count": null,
   "metadata": {},
   "outputs": [],
   "source": [
    "path = \"~/Downloads/wandb_export_2021-03-18T11 05 18.843+01 00.csv\"\n",
    "df = pd.read_csv(path)\n",
    "df.head()"
   ]
  },
  {
   "cell_type": "code",
   "execution_count": null,
   "metadata": {},
   "outputs": [],
   "source": [
    "(df.iloc[:, [4, 10, 16]].max()).mean(), (df.iloc[:, [4, 10, 16]].max()).std()"
   ]
  },
  {
   "cell_type": "code",
   "execution_count": null,
   "metadata": {},
   "outputs": [],
   "source": [
    "import random"
   ]
  },
  {
   "cell_type": "code",
   "execution_count": null,
   "metadata": {},
   "outputs": [],
   "source": [
    "random.randint(0, 1)"
   ]
  },
  {
   "cell_type": "code",
   "execution_count": null,
   "metadata": {},
   "outputs": [],
   "source": [
    "import pykeops\n",
    "import torch\n",
    "import math\n",
    "from pykeops.torch import LazyTensor\n",
    "\n",
    "device = 'cpu' \n",
    "\n",
    "# rounds to the nearest integer (0 decimal)\n",
    "x = torch.FloatTensor(1000, 1).uniform_(-10, 10)\n",
    "y = x.data.clone()\n",
    "x = x.to(device)\n",
    "y = y.to(device)\n",
    "x.requires_grad = True\n",
    "y.requires_grad = True\n",
    "\n",
    "x_i = LazyTensor(x[:, None])\n",
    "s1 = x_i.round(0).sum(0)\n",
    "s2 = torch.sum(torch.round(y))\n",
    "print(\"s1 - s2\", torch.abs(s1 - s2).item())\n",
    "assert torch.abs(s1 - s2) < 1e-3, torch.abs(s1 - s2)\n",
    "\n",
    "s1.backward()\n",
    "s2.backward()\n",
    "\n",
    "print(\"grad_s1 - grad_s2\", torch.max(torch.abs(x.grad - y.grad)).item())\n",
    "assert torch.max(torch.abs(x.grad - y.grad)) < 1e-3\n",
    "\n",
    "# rounds to 3 decimal places\n",
    "x = torch.FloatTensor(1000, 1).uniform_(-1, 1)\n",
    "y = x.data.clone()\n",
    "x = x.to(device)\n",
    "y = y.to(device)\n",
    "x.requires_grad = True\n",
    "y.requires_grad = True\n",
    "\n",
    "x_i = LazyTensor(x[:, None])\n",
    "s1 = x_i.round(3).sum(0)\n",
    "s2 = torch.sum(torch.round(y * 1e3)*1e-3)\n",
    "print(\"s1 - s2\", torch.abs(s1 - s2).item())\n",
    "assert torch.abs(s1 - s2) < 1e-3, torch.abs(s1 - s2)\n",
    "\n",
    "s1.backward()\n",
    "s2.backward()\n",
    "\n",
    "print(\"grad_s1 - grad_s2\", torch.max(torch.abs(x.grad - y.grad)).item())\n",
    "assert torch.max(torch.abs(x.grad - y.grad)) < 1e-3"
   ]
  },
  {
   "cell_type": "code",
   "execution_count": null,
   "metadata": {},
   "outputs": [],
   "source": [
    "x = torch.linspace(-1, 1, 100)\n",
    "plt.scatter(x, torch.acos(x), s=5)"
   ]
  },
  {
   "cell_type": "code",
   "execution_count": null,
   "metadata": {},
   "outputs": [],
   "source": [
    "x = torch.linspace(0, 3.14159, 100)\n",
    "import matplotlib.pyplot as plt\n",
    "\n",
    "plt.scatter(x, 1 - torch.heaviside(x - 3.14159, torch.ones(1)), s=5)"
   ]
  },
  {
   "cell_type": "code",
   "execution_count": null,
   "metadata": {},
   "outputs": [],
   "source": [
    "l = torch.nn.Identity()\n",
    "x = torch.rand(16, 3, 100)\n",
    "torch.allclose(x, l(x))"
   ]
  },
  {
   "cell_type": "code",
   "execution_count": null,
   "metadata": {},
   "outputs": [],
   "source": [
    "def sub_divide(vertices, faces, level):\n",
    "    vertices /= torch.norm(vertices, dim=1, keepdim=True)\n",
    "    for _ in range(level):\n",
    "        sub_faces = torch.stack((faces[:, [0, 1, 2]], faces[:, [2, 0, 1]], faces[:, [1, 2, 0]]), dim=1)\n",
    "        vertices_1 = vertices[sub_faces[:, :, [0, 1]]].mean(dim=2)\n",
    "        vertices_1 /= torch.norm(vertices_1, dim=2, keepdim=True)\n",
    "        vertices_2 = vertices[sub_faces[:, :, [1, 2]]].mean(dim=2)\n",
    "        vertices_2 /= torch.norm(vertices_2, dim=2, keepdim=True)\n",
    "        \n",
    "        N = vertices.shape[0]\n",
    "        NV1 = vertices_1.shape[0]*vertices_1.shape[1]\n",
    "        NV2 = vertices_2.shape[0]*vertices_1.shape[1]\n",
    "        \n",
    "        sub_faces[:,:,0] = torch.arange(N, N+NV1).reshape(-1, 3)\n",
    "        sub_faces[:,:,2] = torch.arange(N+NV1, N+NV1+NV2).reshape(-1, 3)\n",
    "        \n",
    "        faces = torch.cat((sub_faces, torch.arange(N, N+NV1).reshape(-1,1, 3)), dim=1).reshape(-1, 3)\n",
    "        vertices = torch.cat((vertices, vertices_1.reshape(-1, 3), vertices_2.reshape(-1, 3)), dim=0)\n",
    "        \n",
    "    return vertices.unique(dim=0)"
   ]
  },
  {
   "cell_type": "code",
   "execution_count": null,
   "metadata": {},
   "outputs": [],
   "source": [
    "def xyz2betagamma(x, y, z):\n",
    "    \"\"\"\n",
    "    Returns new tensors corresponding to angle representation from the cartesian representation.\n",
    "\n",
    "    Args:\n",
    "        x (FloatTensor): input tensor, i.e. x positions.\n",
    "        y (FloatTensor): input tensor, i.e. y positions.\n",
    "        z (FloatTensor): input tensor, i.e. z positions.\n",
    "\n",
    "    Returns:\n",
    "        (FloatTensor): output tensor, i.e. alpha rotation about x axis.\n",
    "        (FloatTensor): output tensor, i.e. beta rotation about y axis.\n",
    "        (FloatTensor): output tensor, i.e. gamma rotation about z axis.\n",
    "    \"\"\"\n",
    "\n",
    "    beta = torch.stack(\n",
    "        (\n",
    "            torch.atan2(-z, -torch.sqrt(x.pow(2) + y.pow(2))),\n",
    "            torch.atan2(-z, torch.sqrt(x.pow(2) + y.pow(2))),\n",
    "        ),\n",
    "        dim=-1,\n",
    "    )\n",
    "\n",
    "    gamma = torch.stack((torch.atan2(-y, -x), torch.atan2(y, x)), dim=-1)\n",
    "\n",
    "    mask = (beta >= -math.pi) & (beta < math.pi) & (gamma >= -math.pi/2) & (gamma < math.pi/2)\n",
    "    \n",
    "    return beta[mask], gamma[mask]\n"
   ]
  },
  {
   "cell_type": "code",
   "execution_count": null,
   "metadata": {},
   "outputs": [],
   "source": [
    "tetrahedron_vertices = torch.tensor([[1, 0, -1/math.sqrt(2)],[-1, 0, -1/math.sqrt(2)], \n",
    "                                     [0, 1, 1/math.sqrt(2)],[0, -1, 1/math.sqrt(2)]])\n",
    "tetrahedron_faces = torch.tensor([[0, 1, 2], [0, 2, 3], [0, 1, 3], [1, 2, 3]])"
   ]
  },
  {
   "cell_type": "code",
   "execution_count": null,
   "metadata": {},
   "outputs": [],
   "source": [
    "octahedron_vertices = torch.tensor([[1., 0., 0.], [0., 1., 0.], [-1., 0., 0.], \n",
    "                                    [0., -1., 0.], [0., 0., 1.], [0., 0., -1.]])\n",
    "octahedron_faces = torch.tensor([[0, 1, 5], [1, 5, 2], [2, 5, 3], [0, 5, 3], \n",
    "                                 [0, 3, 4], [0, 1, 4], [1, 2, 4], [2, 3, 4]])"
   ]
  },
  {
   "cell_type": "code",
   "execution_count": null,
   "metadata": {},
   "outputs": [],
   "source": [
    "phi = (1 + math.sqrt(5))/2\n",
    "\n",
    "icosahedron_vertices = torch.tensor([[phi, 1., 0.], [-phi, 1., 0.], [phi, -1., 0.], [-phi, -1., 0.],\n",
    "                                     [1., 0., phi], [1., 0., -phi], [-1., 0., phi], [-1., 0., -phi],\n",
    "                                     [0., phi, 1.], [0., -phi, 1.], [0., phi, -1.], [0., -phi, -1.]])\n",
    "icosahedron_faces = torch.tensor([[0, 2, 4], [0, 2, 5], [0, 4, 8], [0, 8, 10], [0, 5, 10],\n",
    "                                  [1, 3, 6], [1, 3, 7], [1, 6, 8], [1, 7, 10], [1, 8, 10],\n",
    "                                  [2, 4, 9], [2, 5, 11], [2, 9, 11], [3, 7, 11], [3, 9, 11],\n",
    "                                  [3, 6, 9], [4, 6, 9], [4, 6, 8], [5, 7, 10], [5, 7, 11]])"
   ]
  },
  {
   "cell_type": "code",
   "execution_count": null,
   "metadata": {},
   "outputs": [],
   "source": [
    "X = sub_divide(icosahedron_vertices, icosahedron_faces, 5)\n",
    "X.shape"
   ]
  },
  {
   "cell_type": "code",
   "execution_count": null,
   "metadata": {},
   "outputs": [],
   "source": [
    "beta, gamma = xyz2betagamma(X[:,0],X[:,1],X[:,2])\n",
    "beta.shape"
   ]
  },
  {
   "cell_type": "code",
   "execution_count": null,
   "metadata": {},
   "outputs": [],
   "source": [
    "fig = plt.figure(figsize=(8.0, 8.0))\n",
    "\n",
    "ax = fig.add_subplot(\n",
    "    111,\n",
    "    projection=\"3d\",\n",
    "    xlim=(-1., 1.),\n",
    "    ylim=(-1., 1.),\n",
    "    zlim=(-1., 1.)\n",
    ")\n",
    "\n",
    "im = ax.scatter(\n",
    "    X[:, 0],\n",
    "    X[:, 1],\n",
    "    X[:, 2]\n",
    ")"
   ]
  },
  {
   "cell_type": "code",
   "execution_count": null,
   "metadata": {},
   "outputs": [],
   "source": [
    "N = X.shape[0]\n",
    "dist = (X.unsqueeze(0) - X.unsqueeze(1)).pow(2).sum(dim=2) + 100 * torch.eye(N, N).bool()\n",
    "min_, _ = dist.min(dim=0)\n",
    "\n",
    "_ = plt.hist(min_, bins=20)"
   ]
  },
  {
   "cell_type": "code",
   "execution_count": null,
   "metadata": {},
   "outputs": [],
   "source": [
    "def repulsive_sampling(num_samples, loss_fn, device, max_iter=10000):\n",
    "    lr = 1e-2\n",
    "\n",
    "    X = torch.FloatTensor(num_samples, 3).uniform_(-1, 1)\n",
    "    X = X.to(device)\n",
    "    X.requires_grad_()\n",
    "\n",
    "    for _ in range(max_iter):\n",
    "        loss = rejection_loss(X, 1., 10.)\n",
    "        loss.backward()\n",
    "\n",
    "        with torch.no_grad():\n",
    "            X -= lr * X.grad\n",
    "            X.grad.zero_()\n",
    "\n",
    "    X = X.detach().cpu()   \n",
    "    X /= X.norm(dim=1, keepdim=True)\n",
    "    \n",
    "    return X[:,0], X[:,1], X[:,2]\n",
    "\n",
    "def rejection_loss(x, alpha=1., beta=1.):\n",
    "    N = x.shape[0]\n",
    "    dist = (x.unsqueeze(0) - x.unsqueeze(1)).pow(2).sum(dim=2) + 1000 * torch.eye(N, N).to(x.device)   \n",
    "    return alpha*(1/dist).mean() + beta*torch.abs(1. - x.norm(dim=1)).mean()\n",
    "    "
   ]
  },
  {
   "cell_type": "code",
   "execution_count": null,
   "metadata": {},
   "outputs": [],
   "source": [
    "def xyz2betagamma(x, y, z):           \n",
    "    beta = torch.stack(\n",
    "        (\n",
    "            torch.atan2(-z, torch.sqrt(x.pow(2) + y.pow(2))), \n",
    "            torch.atan2(-z, torch.sqrt(x.pow(2) + y.pow(2))), \n",
    "        ),\n",
    "        dim=1\n",
    "    )\n",
    "    \n",
    "    gamma = torch.stack(\n",
    "        (\n",
    "            torch.atan2(-y, -x), \n",
    "            torch.atan2(y, x), \n",
    "        ),\n",
    "        dim=1\n",
    "    )\n",
    "            \n",
    "    mask = (-math.pi <= beta) & (beta < math.pi) & (-math.pi/2 <= gamma) & ( gamma < math.pi/2)\n",
    "                        \n",
    "    return beta[mask], gamma[mask]\n",
    "\n",
    "def betagamma2xyz(beta, gamma):\n",
    "    alpha, beta, gamma = alphabetagamma[:, 0], alphabetagamma[:, 1], alphabetagamma[:, 2]    \n",
    "    x = (1 + alpha) * torch.cos(beta) * torch.cos(gamma) \n",
    "    y = (1 + alpha) * torch.cos(beta) * torch.sin(gamma) \n",
    "    z = -(1 + alpha) * torch.sin(beta)\n",
    "    return x, y, z"
   ]
  },
  {
   "cell_type": "code",
   "execution_count": null,
   "metadata": {},
   "outputs": [],
   "source": [
    "def xyz2alphabetagamma(x, y, z):\n",
    "\n",
    "    alpha = torch.sqrt(x.pow(2) + y.pow(2) + z.pow(2)) - math.pi\n",
    "\n",
    "    beta = torch.stack(\n",
    "        (\n",
    "            torch.atan2(-z, -torch.sqrt(x.pow(2) + y.pow(2))),\n",
    "            torch.atan2(-z, torch.sqrt(x.pow(2) + y.pow(2))),\n",
    "        ),\n",
    "        dim=-1,\n",
    "    )\n",
    "\n",
    "    gamma = torch.stack((torch.atan2(-y, -x), torch.atan2(y, x)), dim=-1)\n",
    "\n",
    "    mask = (beta >= -math.pi) & (beta < math.pi) & (gamma >= -math.pi/2) & (gamma < math.pi/2)\n",
    "\n",
    "    return alpha, beta[mask], gamma[mask]"
   ]
  },
  {
   "cell_type": "code",
   "execution_count": null,
   "metadata": {},
   "outputs": [],
   "source": [
    "import torch\n",
    "import math\n",
    "\n",
    "x = torch.tensor([-1.])\n",
    "y = torch.tensor([0.])\n",
    "z = torch.tensor([0.])\n",
    "\n",
    "xyz2alphabetagamma(x, y, z)"
   ]
  },
  {
   "cell_type": "code",
   "execution_count": null,
   "metadata": {},
   "outputs": [],
   "source": [
    "sign = lambda x: -1 if x < 0. else 1"
   ]
  },
  {
   "cell_type": "code",
   "execution_count": null,
   "metadata": {},
   "outputs": [],
   "source": [
    "sign(0.)"
   ]
  },
  {
   "cell_type": "code",
   "execution_count": null,
   "metadata": {},
   "outputs": [],
   "source": [
    "math.tan(math.fabs(math.pi/2 - beta/8))"
   ]
  },
  {
   "cell_type": "code",
   "execution_count": null,
   "metadata": {},
   "outputs": [],
   "source": [
    "math.sgn(-1)"
   ]
  },
  {
   "cell_type": "code",
   "execution_count": null,
   "metadata": {},
   "outputs": [],
   "source": [
    "beta = -math.pi/3\n",
    "gamma = -math.pi/2\n",
    "x = gamma\n",
    "y = - 4 * math.tan(beta/4)\n",
    "x, y"
   ]
  },
  {
   "cell_type": "code",
   "execution_count": null,
   "metadata": {},
   "outputs": [],
   "source": [
    "math.log(1.)"
   ]
  },
  {
   "cell_type": "code",
   "execution_count": null,
   "metadata": {},
   "outputs": [],
   "source": [
    "gamma = 0.\n",
    "x = gamma\n",
    "x"
   ]
  },
  {
   "cell_type": "code",
   "execution_count": null,
   "metadata": {},
   "outputs": [],
   "source": [
    "nalpha = 2\n",
    "\n",
    "alpha = torch.arange(0.0, math.pi, math.pi / nalpha).unsqueeze(1).repeat(1, 3)\n",
    "\n",
    "xyz = (X.unsqueeze(1) * (1 + alpha.unsqueeze(0))).reshape(-1, 3)"
   ]
  },
  {
   "cell_type": "code",
   "execution_count": null,
   "metadata": {},
   "outputs": [],
   "source": [
    "alphabetagamma = xyz2alphabetagamma(xyz)"
   ]
  },
  {
   "cell_type": "code",
   "execution_count": null,
   "metadata": {},
   "outputs": [],
   "source": [
    "torch.allclose(xyz, alphabetagamma2xyz(alphabetagamma), atol=1e-6)"
   ]
  },
  {
   "cell_type": "code",
   "execution_count": null,
   "metadata": {},
   "outputs": [],
   "source": [
    "def rejection_loss(x, alpha=1., beta=1.):\n",
    "    N = x.shape[0]\n",
    "    \n",
    "    dist = (x.unsqueeze(0) - x.unsqueeze(1)).pow(2).sum(dim=2) + 1000 * torch.eye(N, N).to(x.device)\n",
    "        \n",
    "    norm = x.norm(dim=1)\n",
    "    \n",
    "    return alpha*(1/dist).mean() + beta*torch.abs(1. - norm).mean()"
   ]
  },
  {
   "cell_type": "code",
   "execution_count": null,
   "metadata": {},
   "outputs": [],
   "source": [
    "fig = plt.figure(figsize=(8.0, 8.0))\n",
    "\n",
    "ax = fig.add_subplot(\n",
    "    111,\n",
    "    projection=\"3d\",\n",
    "    xlim=(-1., 1.),\n",
    "    ylim=(-1., 1.),\n",
    "    zlim=(-1., 1.)\n",
    ")\n",
    "\n",
    "im = ax.scatter(\n",
    "    X[:, 0],\n",
    "    X[:, 1],\n",
    "    X[:, 2]\n",
    ")"
   ]
  },
  {
   "cell_type": "markdown",
   "metadata": {},
   "source": [
    "# Mercator projection"
   ]
  },
  {
   "cell_type": "code",
   "execution_count": null,
   "metadata": {},
   "outputs": [],
   "source": [
    "def mercator_projection(beta, gamma, images):\n",
    "    ix = beta\n",
    "    iy = torch.log(torch.tan(gamma/2 + math.pi/4))\n",
    "    \n",
    "    ix_ = (ix - ix.min())/(ix.max()-ix.min())\n",
    "    iy_ = (iy - iy.min())/(iy.max()-iy.min())\n",
    "    \n",
    "    ix_inf = ix_.floor().long()\n",
    "    ix_sup = ix_.ceil().long()\n",
    "    iy_inf = iy_.floor().long()\n",
    "    iy_sup = iy_.ceil().long()\n",
    "    \n",
    "    return (images[:,:,ix_inf, iy_inf] + images[:,:,ix_sup, iy_sup])/2"
   ]
  },
  {
   "cell_type": "code",
   "execution_count": null,
   "metadata": {},
   "outputs": [],
   "source": [
    "num_samples = 100\n",
    "nalpha = 3"
   ]
  },
  {
   "cell_type": "code",
   "execution_count": null,
   "metadata": {},
   "outputs": [],
   "source": [
    "x, y, z = repulsive_spherical_sampling(num_samples, torch.device(\"cuda\"), 20000)"
   ]
  },
  {
   "cell_type": "code",
   "execution_count": null,
   "metadata": {},
   "outputs": [],
   "source": [
    "beta, gamma = xyz2betagamma(x, y, z)\n",
    "alpha = torch.arange(0.0, math.pi, math.pi / nalpha)"
   ]
  },
  {
   "cell_type": "code",
   "execution_count": null,
   "metadata": {},
   "outputs": [],
   "source": [
    "node_pos = torch.stack(\n",
    "    (\n",
    "        beta.unsqueeze(0).expand(nalpha, num_samples).flatten(), \n",
    "        gamma.unsqueeze(0).expand(nalpha, num_samples).flatten(), \n",
    "        alpha.unsqueeze(1).expand(nalpha, num_samples).flatten()\n",
    "    )\n",
    ")"
   ]
  },
  {
   "cell_type": "code",
   "execution_count": null,
   "metadata": {},
   "outputs": [],
   "source": [
    "img = torch.rand(10, 3, 10, 10)"
   ]
  },
  {
   "cell_type": "code",
   "execution_count": null,
   "metadata": {},
   "outputs": [],
   "source": [
    "img = mercator_projection(beta, gamma, img) "
   ]
  },
  {
   "cell_type": "code",
   "execution_count": null,
   "metadata": {},
   "outputs": [],
   "source": [
    "img = img.repeat(1, 1, nalpha)"
   ]
  },
  {
   "cell_type": "code",
   "execution_count": null,
   "metadata": {},
   "outputs": [],
   "source": [
    "fig = plt.figure(figsize=(8.0, 8.0))\n",
    "\n",
    "ax = fig.add_subplot(\n",
    "    111,\n",
    "    projection=\"3d\",\n",
    ")\n",
    "\n",
    "im = ax.scatter(\n",
    "    x, \n",
    "    y,\n",
    "    z,\n",
    "    c = img[0,0,0:100]\n",
    ")"
   ]
  },
  {
   "cell_type": "code",
   "execution_count": null,
   "metadata": {},
   "outputs": [],
   "source": [
    "fig = plt.figure(figsize=(8.0, 8.0))\n",
    "\n",
    "ax = fig.add_subplot(\n",
    "    111,\n",
    "    projection=\"3d\",\n",
    ")\n",
    "\n",
    "im = ax.scatter(\n",
    "    x, \n",
    "    y,\n",
    "    z,\n",
    "    c = img[0, 0, 100:200]\n",
    ")"
   ]
  },
  {
   "cell_type": "code",
   "execution_count": null,
   "metadata": {},
   "outputs": [],
   "source": [
    "100*100*6"
   ]
  },
  {
   "cell_type": "code",
   "execution_count": null,
   "metadata": {},
   "outputs": [],
   "source": [
    "import torch\n",
    "\n",
    "x = torch.rand(100000,3)"
   ]
  },
  {
   "cell_type": "code",
   "execution_count": null,
   "metadata": {},
   "outputs": [],
   "source": [
    "(x.unsqueeze(0) - x.unsqueeze(1)).pow(2).sum(dim=2)"
   ]
  },
  {
   "cell_type": "code",
   "execution_count": null,
   "metadata": {},
   "outputs": [],
   "source": [
    "%timeit (x[0] - x[1:]).pow(2).sum(dim=1).topk(32, largest=False)"
   ]
  },
  {
   "cell_type": "code",
   "execution_count": null,
   "metadata": {},
   "outputs": [],
   "source": [
    "RX = torch.tensor([\n",
    "                [1, 0, 0],\n",
    "                [0, cos(roll), -sin(roll)],\n",
    "                [0, sin(roll), cos(roll)]\n",
    "            ],requires_grad=True)"
   ]
  },
  {
   "cell_type": "code",
   "execution_count": null,
   "metadata": {},
   "outputs": [],
   "source": [
    "def rotation_matrice(theta, axis):\n",
    "    cos = torch.cos(theta)\n",
    "    sin = torch.sin(theta)\n",
    "    \n",
    "    if axis == 0:\n",
    "        return torch.tensor([\n",
    "                [1, 0, 0],\n",
    "                [0, cos, -sin],\n",
    "                [0, sin, cos]\n",
    "            ])\n",
    "    \n",
    "    if axis == 1:\n",
    "        return torch.tensor([\n",
    "                [cos, 0, sin],\n",
    "                [0, 0, 0],\n",
    "                [-sin, 0, cos]\n",
    "            ])\n",
    "    \n",
    "    if axis == 2:\n",
    "        return torch.tensor([\n",
    "                [cos, -sin, 0],\n",
    "                [sin, cos, 0],\n",
    "                [0, 0, 0]\n",
    "            ])"
   ]
  },
  {
   "cell_type": "code",
   "execution_count": null,
   "metadata": {},
   "outputs": [],
   "source": [
    "theta = torch.rand(100)\n",
    "theta.shape"
   ]
  },
  {
   "cell_type": "code",
   "execution_count": null,
   "metadata": {},
   "outputs": [],
   "source": [
    "rotation_matrice(theta, 2)"
   ]
  },
  {
   "cell_type": "code",
   "execution_count": null,
   "metadata": {},
   "outputs": [],
   "source": [
    "import torch\n",
    "\n",
    "a = torch.tensor([[0., -1., 5.],[1., 0., 8.],[0., 0., 1.]])"
   ]
  },
  {
   "cell_type": "code",
   "execution_count": null,
   "metadata": {},
   "outputs": [],
   "source": [
    "def se2group2matrix(g):\n",
    "    N, D = g.shape\n",
    "    \n",
    "    cos = torch.cos(g[:,2])\n",
    "    sin = torch.sin(g[:,2])\n",
    "    \n",
    "    Gg = torch.zeros(N, D, D)\n",
    "    Gg[:, 0, 0] = cos\n",
    "    Gg[:, 0, 1] = - sin\n",
    "    Gg[:, 0, 2] = g[:,0]\n",
    "    Gg[:, 1, 0] = sin\n",
    "    Gg[:, 1, 1] = cos\n",
    "    Gg[:, 1, 2] = g[:,1]\n",
    "    Gg[:, 2, 2] = 1.\n",
    "\n",
    "def matrix2se2group(Gg):\n",
    "    "
   ]
  },
  {
   "cell_type": "code",
   "execution_count": null,
   "metadata": {},
   "outputs": [],
   "source": [
    "def tensor_log(A, max_order=10):\n",
    "    D = A.shape[-1]\n",
    "    A = A - torch.eye(D)\n",
    "    Ak = A.clone()\n",
    "    \n",
    "    M = torch.zeros(A.shape)\n",
    "        \n",
    "    for k in range(1, max_order):\n",
    "        Ak = torch.matmul(Ak, A)\n",
    "        if k % 2:\n",
    "            M += Ak/k\n",
    "        else:\n",
    "            M -= Ak/k\n",
    "            \n",
    "        print(Ak, M)\n",
    "            \n",
    "    return M"
   ]
  },
  {
   "cell_type": "code",
   "execution_count": null,
   "metadata": {},
   "outputs": [],
   "source": [
    "a = torch.rand(100, 3, 3)"
   ]
  },
  {
   "cell_type": "code",
   "execution_count": null,
   "metadata": {},
   "outputs": [],
   "source": [
    "val, vec = torch.eig(a, eigenvectors=True)"
   ]
  },
  {
   "cell_type": "code",
   "execution_count": null,
   "metadata": {},
   "outputs": [],
   "source": [
    "from scipy.linalg import logm"
   ]
  },
  {
   "cell_type": "code",
   "execution_count": null,
   "metadata": {},
   "outputs": [],
   "source": [
    "theta = math.pi\n",
    "x = 1\n",
    "y = 1\n",
    "\n",
    "a = torch.tensor([\n",
    "    [math.cos(theta), -math.sin(theta), x],\n",
    "    [math.sin(theta), math.cos(theta), y],\n",
    "    [0, 0, 1]\n",
    "])"
   ]
  },
  {
   "cell_type": "code",
   "execution_count": null,
   "metadata": {},
   "outputs": [],
   "source": [
    "%%timeit\n",
    "logm(a)"
   ]
  },
  {
   "cell_type": "code",
   "execution_count": null,
   "metadata": {},
   "outputs": [],
   "source": [
    "log = torch.log(torch.complex(val[:,0], val[:,1]))"
   ]
  },
  {
   "cell_type": "code",
   "execution_count": null,
   "metadata": {},
   "outputs": [],
   "source": [
    "vec[:,2]"
   ]
  },
  {
   "cell_type": "code",
   "execution_count": null,
   "metadata": {},
   "outputs": [],
   "source": [
    "true_vec = torch.complex(vec[:,1], vec[:,2])\n",
    "true_vec"
   ]
  },
  {
   "cell_type": "code",
   "execution_count": null,
   "metadata": {},
   "outputs": [],
   "source": [
    "torch.complex(vec, torch.zeros(vec.shape)) @ log @ torch.complex(vec, torch.zeros(vec.shape)).T"
   ]
  },
  {
   "cell_type": "code",
   "execution_count": null,
   "metadata": {},
   "outputs": [],
   "source": [
    "tensor_log(a, 100)"
   ]
  },
  {
   "cell_type": "code",
   "execution_count": null,
   "metadata": {},
   "outputs": [],
   "source": [
    "a = torch.tensor([[-1.,  1.,  5.],\n",
    "        [-1., -1.,  8.],\n",
    "        [ 0.,  0.,  0.]])"
   ]
  },
  {
   "cell_type": "code",
   "execution_count": null,
   "metadata": {},
   "outputs": [],
   "source": [
    "a @ a"
   ]
  },
  {
   "cell_type": "code",
   "execution_count": null,
   "metadata": {},
   "outputs": [],
   "source": [
    "import torch\n",
    "tensor = torch.rand(100, 3)"
   ]
  },
  {
   "cell_type": "code",
   "execution_count": null,
   "metadata": {},
   "outputs": [],
   "source": [
    "a, b, c = tensor[:, [0,1,2]]"
   ]
  }
 ],
 "metadata": {
  "language_info": {
   "name": "python",
   "pygments_lexer": "ipython3"
  }
 },
 "nbformat": 4,
 "nbformat_minor": 4
}
