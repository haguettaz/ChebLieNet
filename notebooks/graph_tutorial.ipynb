{
 "cells": [
  {
   "cell_type": "markdown",
   "metadata": {},
   "source": [
    "# Group Equivariant Graph Tutorial\n",
    "\n",
    "## Introduction\n",
    "\n",
    "In this tutorial, we present the different functionnalities of our implementation of the group equivariant graph. Such a graph is a k-NN graph representing the structure of a group, a set equipped with a binary operation called the group product. Each vertex of the graph represents an element of the group and the edge's weights corresponds to the Riemannian distance between these element. "
   ]
  },
  {
   "cell_type": "code",
   "execution_count": null,
   "metadata": {},
   "outputs": [],
   "source": [
    "import torch\n",
    "import numpy as np\n",
    "import math"
   ]
  },
  {
   "cell_type": "markdown",
   "metadata": {},
   "source": [
    "## Package\n",
    "\n",
    "The `gechebnet` package implements such a graph and have the basic functions to interact with them. For the most part, it uses PyTorch for tensor operations and PyKeops to achieve a memory and time efficient graph construction.\n",
    "\n",
    "## Graph class\n",
    "\n",
    "The main class of the package is the `Graph` class. It stores a graph in a very efficient way using `node_index`, `edge_index` and `edge_weight` attributes. Very easily, we can get important properties of a graph with `num_nodes` or `num_edges`. Other method, properties and attributes are available, we will see them later. However, this class just gives the main structure of a graph, the group equivariant graph inherits from this class.\n",
    "\n",
    "An important remark is that our graphs are necessarily symmetric, that's why we refer the `knn` parameter as the **maximum** number of neighbours of a vertex.\n",
    "\n",
    "## SE(2) Group Equivariant Graph\n",
    "\n",
    "The SE(2) group equivariant graph is the oldest group equivariant graph we have implemented. To create such a graph, different variables have to be speficied:\n",
    "- `grid_size`: the limit of the space in 2 dimensional euclidean space. It corresponds to the spatial domain.\n",
    "- `nx3`: the resolution of the discretization of the orientation axis. It corresponds to the orientation domain.\n",
    "- `knn`: the maximum number of neighbors of each vertex. \n",
    "- `sigmas`: the anisotropy's parameters for the computation of the Riemannian distance between vertices.\n",
    "- `weight_kernel`: the weight kernel, that is a function taking as input the squared Riemannian distance and returning a weight.\n",
    "- `kappa`: the edge's compression rate, the rate of edges to drop during random compression."
   ]
  },
  {
   "cell_type": "code",
   "execution_count": null,
   "metadata": {},
   "outputs": [],
   "source": [
    "from gechebnet.graph.graph import SE2GEGraph"
   ]
  },
  {
   "cell_type": "code",
   "execution_count": null,
   "metadata": {},
   "outputs": [],
   "source": [
    "xi = 0.001\n",
    "eps = .58\n",
    "\n",
    "graph = SE2GEGraph(\n",
    "    grid_size=(28, 28),\n",
    "    nx3=9,\n",
    "    knn=128,\n",
    "    sigmas=(xi / eps, xi, 1.0),\n",
    "    weight_kernel=lambda sqdistc, sigmac: torch.exp(-sqdistc / sigmac),           # gaussian\n",
    "    #weight_kernel = lambda sqdistc, sigmac: torch.exp(-torch.sqrt(sqdistc/sigmac)), # laplace\n",
    "    #weight_kernel = lambda sqdistc, sigmac: 1 / (1 + sqdistc / sigmac),        # cauchy\n",
    "    kappa=0.,\n",
    ")"
   ]
  },
  {
   "cell_type": "code",
   "execution_count": null,
   "metadata": {},
   "outputs": [],
   "source": [
    "f\"The SE(2) graph has {graph.num_nodes} vertices and {graph.num_edges} edges\""
   ]
  },
  {
   "cell_type": "markdown",
   "metadata": {},
   "source": [
    "## Visualization"
   ]
  },
  {
   "cell_type": "markdown",
   "metadata": {},
   "source": [
    "To visualize the vertices of a graph or the neighborhood of a vertex, you can use the function `visualize_graph`, `visualize_neighborhood`. The former can also be used with an optional `signal` parameter to plot a signal on a graph."
   ]
  },
  {
   "cell_type": "code",
   "execution_count": null,
   "metadata": {},
   "outputs": [],
   "source": [
    "from gechebnet.graph.plot import visualize_graph, visualize_neighborhood"
   ]
  },
  {
   "cell_type": "code",
   "execution_count": null,
   "metadata": {},
   "outputs": [],
   "source": [
    "_ = visualize_graph(graph)"
   ]
  },
  {
   "cell_type": "code",
   "execution_count": null,
   "metadata": {},
   "outputs": [],
   "source": [
    "_ = visualize_neighborhood(graph, graph.centroid_index)"
   ]
  },
  {
   "cell_type": "markdown",
   "metadata": {},
   "source": [
    "## Fourier basis\n",
    "\n",
    "A discrete graph can be seen as an approximation of a continuous manifold. To evaluate the quality of this approximation, we can rely on the eigen space of the graph (an other work to speak about its spectrum). The eigen decomposition of the graph should give the same eigen space as the continuous manifold that we are trying to approximate. It is a well-known fact that the eigen functions of the Euclidean space are the fourier basis (cosine and sine functions). In the case of the SO(3) group, the eigen functions are the so-called harmonic spherics."
   ]
  },
  {
   "cell_type": "code",
   "execution_count": null,
   "metadata": {},
   "outputs": [],
   "source": [
    "eigenvec = torch.from_numpy(graph.eigen_space[1])\n",
    "_ = visualize_graph(graph, eigenvec[:, 3])"
   ]
  },
  {
   "cell_type": "markdown",
   "metadata": {},
   "source": [
    "## Diffusion process\n",
    "\n",
    "A tool to visualize a diffusion process on a graph is also available. The computation of this diffusion relies on the graph spectral theory and the eigen decomposition of the graph laplacian. The `visualize_diffusion_process` takes as parameters the time constants of the diffusion `times`, the diffusion kernel `diff_kernel` ($exp (-\\tau \\lambda)$ for the heat diffusion) and the initial signal on the graph that we want to diffuse `f0` (a centroid node centered dirac function by default). The diffusion process is save as a gif image."
   ]
  },
  {
   "cell_type": "code",
   "execution_count": null,
   "metadata": {},
   "outputs": [],
   "source": [
    "from gechebnet.graph.plot import visualize_diffusion_process"
   ]
  },
  {
   "cell_type": "code",
   "execution_count": null,
   "metadata": {},
   "outputs": [],
   "source": [
    "times = np.arange(0., 200., 20.)\n",
    "diff_kernel = lambda x, t: np.exp(-t * x)\n",
    "visualize_diffusion_process(graph, f0=graph.dirac(0), times=times, diff_kernel=diff_kernel, file_name= \"heat_diffusion.gif\")"
   ]
  },
  {
   "cell_type": "code",
   "execution_count": null,
   "metadata": {},
   "outputs": [],
   "source": [
    "times = np.arange(0., 200., 20.)\n",
    "diff_kernel = lambda x, t: (x/2.) ** t # rescale eigenvalues to avoid explosion\n",
    "visualize_diffusion_process(graph, f0=graph.dirac(0), times=times, diff_kernel=diff_kernel, file_name= \"power_diffusion.gif\")"
   ]
  },
  {
   "cell_type": "code",
   "execution_count": null,
   "metadata": {},
   "outputs": [],
   "source": [
    "w = torch.rand(1000)\n",
    "kappa=1\n",
    "\n",
    "torch.multinomial(1-w, 50)"
   ]
  },
  {
   "cell_type": "code",
   "execution_count": null,
   "metadata": {},
   "outputs": [],
   "source": [
    "torch.bernoulli((1-kappa)*w).bool()"
   ]
  }
 ],
 "metadata": {
  "language_info": {
   "name": "python",
   "pygments_lexer": "ipython3"
  }
 },
 "nbformat": 4,
 "nbformat_minor": 4
}
