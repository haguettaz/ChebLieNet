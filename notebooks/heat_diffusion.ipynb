{
 "cells": [
  {
   "cell_type": "code",
   "execution_count": null,
   "metadata": {},
   "outputs": [],
   "source": [
    "from gechebnet.graph.graph import HyperCubeGraph\n",
    "from gechebnet.graph.plot import visualize_heat_diffusion, visualize_neighborhood, visualize_graph\n",
    "\n",
    "from gechebnet.utils import sparse_tensor_to_sparse_array\n",
    "\n",
    "import numpy as np\n",
    "\n",
    "import torch\n",
    "import scipy\n",
    "\n",
    "DEVICE = torch.device(\"cuda\")"
   ]
  },
  {
   "cell_type": "markdown",
   "metadata": {},
   "source": [
    "# Anisotropic SE(2) Group Equivariant Graph"
   ]
  },
  {
   "cell_type": "code",
   "execution_count": null,
   "metadata": {},
   "outputs": [],
   "source": [
    "xi = 0.01\n",
    "eps = 0.1"
   ]
  },
  {
   "cell_type": "code",
   "execution_count": null,
   "metadata": {},
   "outputs": [],
   "source": [
    "graph = HyperCubeGraph(\n",
    "    grid_size=(11, 11),\n",
    "    nx3=11,\n",
    "    knn=100,\n",
    "    weight_comp_device=DEVICE,\n",
    "    sigmas=(xi / eps, xi, 1.0),\n",
    ")"
   ]
  },
  {
   "cell_type": "code",
   "execution_count": null,
   "metadata": {},
   "outputs": [],
   "source": [
    "fig = visualize_graph(graph)"
   ]
  },
  {
   "cell_type": "code",
   "execution_count": null,
   "metadata": {},
   "outputs": [],
   "source": [
    "fig = visualize_neighborhood(graph, graph.centroid_index)"
   ]
  },
  {
   "cell_type": "code",
   "execution_count": null,
   "metadata": {},
   "outputs": [],
   "source": [
    "f0 = np.zeros(graph.num_nodes)\n",
    "f0[graph.centroid_index] = 1."
   ]
  },
  {
   "cell_type": "code",
   "execution_count": null,
   "metadata": {},
   "outputs": [],
   "source": [
    "fig = visualize_heat_diffusion(graph, f0, times=(0.001, 0.01, 0.1, 1.0))"
   ]
  },
  {
   "cell_type": "markdown",
   "metadata": {},
   "source": [
    "# Isotropic SE(2) Group Equivariant Graph"
   ]
  },
  {
   "cell_type": "code",
   "execution_count": null,
   "metadata": {},
   "outputs": [],
   "source": [
    "xi = 0.05\n",
    "eps = 1.0"
   ]
  },
  {
   "cell_type": "code",
   "execution_count": null,
   "metadata": {},
   "outputs": [],
   "source": [
    "graph = HyperCubeGraph(\n",
    "    grid_size=(11, 11),\n",
    "    nx3=11,\n",
    "    knn=100,\n",
    "    weight_comp_device=DEVICE,\n",
    "    sigmas=(xi / eps, xi, 1.0),\n",
    ")"
   ]
  },
  {
   "cell_type": "code",
   "execution_count": null,
   "metadata": {},
   "outputs": [],
   "source": [
    "fig = visualize_neighborhood(graph, graph.centroid_index)"
   ]
  },
  {
   "cell_type": "code",
   "execution_count": null,
   "metadata": {},
   "outputs": [],
   "source": [
    "f0 = np.zeros(graph.num_nodes)\n",
    "f0[graph.centroid_index] = 1."
   ]
  },
  {
   "cell_type": "code",
   "execution_count": null,
   "metadata": {},
   "outputs": [],
   "source": [
    "fig = visualize_heat_diffusion(graph, f0, times=(0.001, 0.01, 0.05, .5))"
   ]
  }
 ],
 "metadata": {
  "language_info": {
   "name": "python",
   "pygments_lexer": "ipython3"
  }
 },
 "nbformat": 4,
 "nbformat_minor": 4
}
