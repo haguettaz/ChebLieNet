{
 "cells": [
  {
   "cell_type": "code",
   "execution_count": null,
   "metadata": {},
   "outputs": [],
   "source": [
    "from gechebnet.graph.graph import HyperCubeGraph\n",
    "from gechebnet.graph.plot import visualize_heat_diffusion\n",
    "\n",
    "from gechebnet.utils import sparse_tensor_to_sparse_array\n",
    "\n",
    "import numpy as np\n",
    "\n",
    "import torch\n",
    "import scipy"
   ]
  },
  {
   "cell_type": "markdown",
   "metadata": {},
   "source": [
    "# Isotropic 2D Graph"
   ]
  },
  {
   "cell_type": "code",
   "execution_count": null,
   "metadata": {},
   "outputs": [],
   "source": [
    "xi = 0.05\n",
    "eps = 1.\n",
    "\n",
    "weight_sigma = 1.\n",
    "eps, xi = .1, .01\n",
    "\n",
    "MIN_KNN = 2\n",
    "MULT_KNN = 2\n",
    "POOLING_SIZE = 2\n",
    "\n",
    "DEVICE = torch.device(\"cuda\")"
   ]
  },
  {
   "cell_type": "code",
   "execution_count": null,
   "metadata": {},
   "outputs": [],
   "source": [
    "graph = HyperCubeGraph(\n",
    "    grid_size=(10, 10),\n",
    "    nx3=10,\n",
    "    knn=10,\n",
    "    weight_comp_device=DEVICE,\n",
    ")"
   ]
  },
  {
   "cell_type": "code",
   "execution_count": null,
   "metadata": {},
   "outputs": [],
   "source": [
    "e, U = graph.fourier_basis"
   ]
  },
  {
   "cell_type": "code",
   "execution_count": null,
   "metadata": {},
   "outputs": [],
   "source": [
    "fig = visualize_weight_fields(graph_data, grid_size=(1,4))"
   ]
  },
  {
   "cell_type": "code",
   "execution_count": null,
   "metadata": {},
   "outputs": [],
   "source": [
    "f0 = torch.zeros(graph_data.num_nodes)\n",
    "f0[graph_data.centroid_index] = 1."
   ]
  },
  {
   "cell_type": "code",
   "execution_count": null,
   "metadata": {},
   "outputs": [],
   "source": [
    "graph_data.edge_index.max()"
   ]
  },
  {
   "cell_type": "code",
   "execution_count": null,
   "metadata": {},
   "outputs": [],
   "source": [
    "times = (0., 0.0001, 0.001, 0.01, 1.)"
   ]
  },
  {
   "cell_type": "code",
   "execution_count": null,
   "metadata": {},
   "outputs": [],
   "source": [
    "fig = visualize_heat_diffusion(graph_data, f0, times, normalization=\"sym\")"
   ]
  },
  {
   "cell_type": "markdown",
   "metadata": {},
   "source": [
    "# Anisotropic 2D Graph"
   ]
  },
  {
   "cell_type": "code",
   "execution_count": null,
   "metadata": {},
   "outputs": [],
   "source": [
    "xi = 0.05\n",
    "eps = 0.1"
   ]
  },
  {
   "cell_type": "code",
   "execution_count": null,
   "metadata": {},
   "outputs": [],
   "source": [
    "graph_data = GraphData(\n",
    "    grid_size=(11,11), \n",
    "    num_layers=1,\n",
    "    self_loop=True, \n",
    "    weight_kernel=GaussianKernel(0.5, 0.5),\n",
    "    sigmas=(xi/eps, xi, 1.)\n",
    ")"
   ]
  },
  {
   "cell_type": "code",
   "execution_count": null,
   "metadata": {},
   "outputs": [],
   "source": [
    "fig = visualize_weight_fields(graph_data, grid_size=(1,4))"
   ]
  },
  {
   "cell_type": "code",
   "execution_count": null,
   "metadata": {},
   "outputs": [],
   "source": [
    "f0 = np.zeros(graph_data.num_nodes)\n",
    "f0[graph_data.centroid_index] = 1."
   ]
  },
  {
   "cell_type": "code",
   "execution_count": null,
   "metadata": {},
   "outputs": [],
   "source": [
    "times = (0., 0.0001, 0.001, 0.01, 1.)"
   ]
  },
  {
   "cell_type": "code",
   "execution_count": null,
   "metadata": {},
   "outputs": [],
   "source": [
    "fig = visualize_heat_diffusion(graph_data, f0, times, normalization=\"sym\")"
   ]
  },
  {
   "cell_type": "markdown",
   "metadata": {},
   "source": [
    "# Anisotropic 3d Graph"
   ]
  },
  {
   "cell_type": "code",
   "execution_count": null,
   "metadata": {},
   "outputs": [],
   "source": [
    "xi = 0.05\n",
    "eps = 0.1"
   ]
  },
  {
   "cell_type": "code",
   "execution_count": null,
   "metadata": {},
   "outputs": [],
   "source": [
    "graph_data = GraphData(\n",
    "    grid_size=(11,11), \n",
    "    num_layers=5,\n",
    "    self_loop=True, \n",
    "    weight_kernel=GaussianKernel(0.5, 0.5),\n",
    "    sigmas=(xi/eps, xi, 1.)\n",
    ")"
   ]
  },
  {
   "cell_type": "code",
   "execution_count": null,
   "metadata": {},
   "outputs": [],
   "source": [
    "fig = visualize_weight_fields(graph_data, grid_size=(1,4))"
   ]
  },
  {
   "cell_type": "code",
   "execution_count": null,
   "metadata": {},
   "outputs": [],
   "source": [
    "f0 = np.zeros(graph_data.num_nodes)\n",
    "f0[graph_data.centroid_index] = 1."
   ]
  },
  {
   "cell_type": "code",
   "execution_count": null,
   "metadata": {},
   "outputs": [],
   "source": [
    "times = (0., 0.0001, 0.001, 0.01, 1.)"
   ]
  },
  {
   "cell_type": "code",
   "execution_count": null,
   "metadata": {},
   "outputs": [],
   "source": [
    "fig = visualize_heat_diffusion(graph_data, f0, times, normalization=\"sym\")"
   ]
  },
  {
   "cell_type": "markdown",
   "metadata": {},
   "source": [
    "# Anisotropic 3d Graph with node compression"
   ]
  },
  {
   "cell_type": "code",
   "execution_count": null,
   "metadata": {},
   "outputs": [],
   "source": [
    "xi = 0.05\n",
    "eps = 0.1"
   ]
  },
  {
   "cell_type": "code",
   "execution_count": null,
   "metadata": {},
   "outputs": [],
   "source": [
    "graph_data = GraphData(\n",
    "    grid_size=(11,11), \n",
    "    num_layers=5,\n",
    "    self_loop=True,\n",
    "    static_compression=(\"node\", 0.3),\n",
    "    weight_kernel=GaussianKernel(0.5, 0.5),\n",
    "    sigmas=(xi/eps, xi, 1.)\n",
    ")"
   ]
  },
  {
   "cell_type": "code",
   "execution_count": null,
   "metadata": {},
   "outputs": [],
   "source": [
    "fig = visualize_weight_fields(graph_data, grid_size=(1,4))"
   ]
  },
  {
   "cell_type": "code",
   "execution_count": null,
   "metadata": {},
   "outputs": [],
   "source": [
    "f0 = np.zeros(graph_data.num_nodes)\n",
    "f0[graph_data.centroid_index] = 1."
   ]
  },
  {
   "cell_type": "code",
   "execution_count": null,
   "metadata": {},
   "outputs": [],
   "source": [
    "times = (0., 0.0001, 0.001, 0.01, 1.)"
   ]
  },
  {
   "cell_type": "code",
   "execution_count": null,
   "metadata": {},
   "outputs": [],
   "source": [
    "fig = visualize_heat_diffusion(graph_data, f0, times, normalization=\"sym\")"
   ]
  }
 ],
 "metadata": {
  "language_info": {
   "name": "python",
   "pygments_lexer": "ipython3"
  }
 },
 "nbformat": 4,
 "nbformat_minor": 4
}
