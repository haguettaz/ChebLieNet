{
 "cells": [
  {
   "cell_type": "code",
   "execution_count": null,
   "metadata": {},
   "outputs": [],
   "source": [
    "from gechebnet.graph.graph import GraphData\n",
    "from gechebnet.graph.utils import GaussianKernel, CauchyKernel\n",
    "from gechebnet.graph.plot import visualize_graph, visualize_weight_fields, visualize_samples, visualize_weight_field"
   ]
  },
  {
   "cell_type": "markdown",
   "metadata": {},
   "source": [
    "# Define anisotropy parameters"
   ]
  },
  {
   "cell_type": "code",
   "execution_count": null,
   "metadata": {},
   "outputs": [],
   "source": [
    "xi = 0.05\n",
    "eps = 0.1"
   ]
  },
  {
   "cell_type": "markdown",
   "metadata": {},
   "source": [
    "# Create a graph"
   ]
  },
  {
   "cell_type": "code",
   "execution_count": null,
   "metadata": {},
   "outputs": [],
   "source": [
    "graph_data = GraphData(grid_size=(28, 28), \n",
    "                       num_layers=9,\n",
    "                       self_loop=True, \n",
    "                       sigmas=(xi/eps, xi, 1.))"
   ]
  },
  {
   "cell_type": "markdown",
   "metadata": {},
   "source": [
    "# Visualize graph's nodes"
   ]
  },
  {
   "cell_type": "code",
   "execution_count": null,
   "metadata": {},
   "outputs": [],
   "source": [
    "fig = visualize_graph(graph_data)"
   ]
  },
  {
   "cell_type": "markdown",
   "metadata": {},
   "source": [
    "# Plot weight fields"
   ]
  },
  {
   "cell_type": "code",
   "execution_count": null,
   "metadata": {},
   "outputs": [],
   "source": [
    "fig = visualize_weight_fields(graph_data)"
   ]
  },
  {
   "cell_type": "markdown",
   "metadata": {},
   "source": [
    "# Plot specific weight field"
   ]
  },
  {
   "cell_type": "code",
   "execution_count": null,
   "metadata": {},
   "outputs": [],
   "source": [
    "node_index = int(graph_data.nx1 / 2) + int(graph_data.nx2 / 2) * graph_data.nx1 + 2 * graph_data.nx1 * graph_data.nx2\n",
    "fig = visualize_weight_field(graph_data, node_index)"
   ]
  },
  {
   "cell_type": "markdown",
   "metadata": {},
   "source": [
    "# Use a different weights' kernel"
   ]
  },
  {
   "cell_type": "markdown",
   "metadata": {},
   "source": [
    "## Gaussian Kernel"
   ]
  },
  {
   "cell_type": "code",
   "execution_count": null,
   "metadata": {},
   "outputs": [],
   "source": [
    "graph_data = GraphData(grid_size=(28, 28), \n",
    "                       num_layers=9,\n",
    "                       self_loop=True, \n",
    "                       weight_kernel=GaussianKernel(0.3, 1.0),\n",
    "                       sigmas=(xi/eps, xi, 1.),\n",
    "                      )"
   ]
  },
  {
   "cell_type": "code",
   "execution_count": null,
   "metadata": {},
   "outputs": [],
   "source": [
    "fig = visualize_weight_fields(graph_data)"
   ]
  },
  {
   "cell_type": "markdown",
   "metadata": {},
   "source": [
    "## Cauchy Kernel"
   ]
  },
  {
   "cell_type": "code",
   "execution_count": null,
   "metadata": {},
   "outputs": [],
   "source": [
    "graph_data = GraphData(grid_size=(28, 28), \n",
    "                       num_layers=9,\n",
    "                       self_loop=True, \n",
    "                       weight_kernel=CauchyKernel(0.3, 1.0),\n",
    "                       sigmas=(xi/eps, xi, 1.))"
   ]
  },
  {
   "cell_type": "code",
   "execution_count": null,
   "metadata": {},
   "outputs": [],
   "source": [
    "fig = visualize_weight_fields(graph_data)"
   ]
  },
  {
   "cell_type": "markdown",
   "metadata": {},
   "source": [
    "# Compress graph"
   ]
  },
  {
   "cell_type": "code",
   "execution_count": null,
   "metadata": {},
   "outputs": [],
   "source": [
    "alpha = 96/28\n",
    "xi_ = xi/(alpha**2)\n",
    "eps_ = eps"
   ]
  },
  {
   "cell_type": "markdown",
   "metadata": {},
   "source": [
    "## Node compression"
   ]
  },
  {
   "cell_type": "code",
   "execution_count": null,
   "metadata": {},
   "outputs": [],
   "source": [
    "graph_data = GraphData(grid_size=(28, 28), \n",
    "                       num_layers=6,\n",
    "                       static_compression=(\"node\", 0.5),\n",
    "                       self_loop=True, \n",
    "                       weight_kernel=GaussianKernel(0.3, 1.0),\n",
    "                       sigmas=(xi_/eps_, xi_, 1.))"
   ]
  },
  {
   "cell_type": "code",
   "execution_count": null,
   "metadata": {},
   "outputs": [],
   "source": [
    "fig = visualize_graph(graph_data)"
   ]
  },
  {
   "cell_type": "code",
   "execution_count": null,
   "metadata": {},
   "outputs": [],
   "source": [
    "fig = visualize_weight_fields(graph_data)"
   ]
  },
  {
   "cell_type": "markdown",
   "metadata": {},
   "source": [
    "## Edge compression"
   ]
  },
  {
   "cell_type": "code",
   "execution_count": null,
   "metadata": {},
   "outputs": [],
   "source": [
    "graph_data = GraphData(grid_size=(96, 96), \n",
    "                       num_layers=6,\n",
    "                       static_compression=(\"edge\", 0.5),\n",
    "                       self_loop=True, \n",
    "                       weight_kernel=GaussianKernel(0.3, 1.0),\n",
    "                       sigmas=(xi_/eps_, xi_, 1.))"
   ]
  },
  {
   "cell_type": "code",
   "execution_count": null,
   "metadata": {},
   "outputs": [],
   "source": [
    "fig = visualize_graph(graph_data)"
   ]
  },
  {
   "cell_type": "code",
   "execution_count": null,
   "metadata": {},
   "outputs": [],
   "source": [
    "fig = visualize_weight_fields(graph_data)"
   ]
  },
  {
   "cell_type": "markdown",
   "metadata": {},
   "source": [
    "# Image embedding"
   ]
  },
  {
   "cell_type": "code",
   "execution_count": null,
   "metadata": {},
   "outputs": [],
   "source": [
    "from gechebnet.data.dataloader import get_data_list_mnist, get_data_list_rotated_mnist, get_data_list_stl10"
   ]
  },
  {
   "cell_type": "markdown",
   "metadata": {},
   "source": [
    "## MNIST"
   ]
  },
  {
   "cell_type": "code",
   "execution_count": null,
   "metadata": {},
   "outputs": [],
   "source": [
    "graph_data = GraphData(grid_size=(28, 28), \n",
    "                       num_layers=3,\n",
    "                       self_loop=True, \n",
    "                       weight_kernel=GaussianKernel(0.3, 1.0),\n",
    "                       sigmas=(xi/eps, xi, 1.))"
   ]
  },
  {
   "cell_type": "code",
   "execution_count": null,
   "metadata": {},
   "outputs": [],
   "source": [
    "processed_path = \"../../data/MNIST/processed\"\n",
    "data_list = get_data_list_mnist(graph_data, processed_path, train=True)"
   ]
  },
  {
   "cell_type": "code",
   "execution_count": null,
   "metadata": {},
   "outputs": [],
   "source": [
    "fig = visualize_samples(data_list)"
   ]
  },
  {
   "cell_type": "markdown",
   "metadata": {},
   "source": [
    "## Rotated MNIST"
   ]
  },
  {
   "cell_type": "code",
   "execution_count": null,
   "metadata": {},
   "outputs": [],
   "source": [
    "graph_data = GraphData(grid_size=(28, 28), \n",
    "                       num_layers=3,\n",
    "                       self_loop=True, \n",
    "                       weight_kernel=GaussianKernel(0.3, 1.0),\n",
    "                       sigmas=(xi/eps, xi, 1.))"
   ]
  },
  {
   "cell_type": "code",
   "execution_count": null,
   "metadata": {},
   "outputs": [],
   "source": [
    "processed_path = \"../../data/RotatedMNIST/processed\"\n",
    "data_list = get_data_list_rotated_mnist(graph_data, processed_path, train=True)"
   ]
  },
  {
   "cell_type": "code",
   "execution_count": null,
   "metadata": {},
   "outputs": [],
   "source": [
    "fig = visualize_samples(data_list)"
   ]
  },
  {
   "cell_type": "markdown",
   "metadata": {},
   "source": [
    "## STL10"
   ]
  },
  {
   "cell_type": "code",
   "execution_count": null,
   "metadata": {},
   "outputs": [],
   "source": [
    "graph_data = GraphData(grid_size=(96, 96), \n",
    "                       num_layers=3,\n",
    "                       self_loop=True, \n",
    "                       weight_kernel=GaussianKernel(0.3, 1.0),\n",
    "                       static_compression=(\"node\", 0.5),\n",
    "                       sigmas=(xi_/eps_, xi_, 1.))"
   ]
  },
  {
   "cell_type": "code",
   "execution_count": null,
   "metadata": {},
   "outputs": [],
   "source": [
    "fig = visualize_weight_fields(graph_data)"
   ]
  },
  {
   "cell_type": "code",
   "execution_count": null,
   "metadata": {},
   "outputs": [],
   "source": [
    "processed_path = \"../../data/stl10/processed\"\n",
    "data_list = get_data_list_stl10(graph_data, processed_path, train=True)"
   ]
  },
  {
   "cell_type": "code",
   "execution_count": null,
   "metadata": {},
   "outputs": [],
   "source": [
    "fig = visualize_samples(data_list)"
   ]
  }
 ],
 "metadata": {
  "language_info": {
   "name": "python",
   "pygments_lexer": "ipython3"
  }
 },
 "nbformat": 4,
 "nbformat_minor": 4
}
