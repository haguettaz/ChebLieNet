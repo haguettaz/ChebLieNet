{
 "cells": [
  {
   "cell_type": "code",
   "execution_count": null,
   "metadata": {},
   "outputs": [],
   "source": [
    "import torch\n",
    "import torch_sparse\n",
    "import torch_scatter\n",
    "import torchvisio\n",
    "\n",
    "torch.__version__, torch_sparse.__version__, torch_scatter.__version__"
   ]
  },
  {
   "cell_type": "code",
   "execution_count": null,
   "metadata": {},
   "outputs": [],
   "source": [
    "from gechebnet.graph.graph import HyperCubeGraph\n",
    "from gechebnet.graph.plot import visualize_graph, visualize_neighborhood\n",
    "from gechebnet.graph.utils import is_undirected"
   ]
  },
  {
   "cell_type": "code",
   "execution_count": null,
   "metadata": {},
   "outputs": [],
   "source": [
    "from torch_sparse import coalesce, transpose"
   ]
  },
  {
   "cell_type": "markdown",
   "metadata": {},
   "source": [
    "# Define anisotropy parameters"
   ]
  },
  {
   "cell_type": "code",
   "execution_count": null,
   "metadata": {},
   "outputs": [],
   "source": [
    "xi = .01\n",
    "eps = .1"
   ]
  },
  {
   "cell_type": "markdown",
   "metadata": {},
   "source": [
    "# Create a graph"
   ]
  },
  {
   "cell_type": "code",
   "execution_count": null,
   "metadata": {},
   "outputs": [],
   "source": [
    "graph = HyperCubeGraph(\n",
    "    grid_size=(5,5),\n",
    "    nx3=5,\n",
    "    sigmas=(xi/eps, xi, 1.),\n",
    "    weight_sigma=1.0,\n",
    "    knn=26,\n",
    "    weight_comp_device=torch.device(\"cuda\")\n",
    ")"
   ]
  },
  {
   "cell_type": "code",
   "execution_count": null,
   "metadata": {},
   "outputs": [],
   "source": [
    "is_undirected(graph.edge_index, graph.edge_weight, graph.num_nodes)"
   ]
  },
  {
   "cell_type": "markdown",
   "metadata": {},
   "source": [
    "# Visualize graph's nodes"
   ]
  },
  {
   "cell_type": "code",
   "execution_count": null,
   "metadata": {},
   "outputs": [],
   "source": [
    "fig = visualize_graph(graph)"
   ]
  },
  {
   "cell_type": "markdown",
   "metadata": {},
   "source": [
    "# Visualize neighborhood"
   ]
  },
  {
   "cell_type": "code",
   "execution_count": null,
   "metadata": {},
   "outputs": [],
   "source": [
    "fig = visualize_neighborhood(graph, 211)"
   ]
  },
  {
   "cell_type": "code",
   "execution_count": null,
   "metadata": {},
   "outputs": [],
   "source": [
    "fig = visualize_neighborhood(graph, 2)"
   ]
  },
  {
   "cell_type": "markdown",
   "metadata": {},
   "source": [
    "# One can choose an other weight kernel"
   ]
  },
  {
   "cell_type": "code",
   "execution_count": null,
   "metadata": {},
   "outputs": [],
   "source": [
    "# Laplacian kernel\n",
    "graph = HyperCubeGraph(\n",
    "    grid_size=(10,10),\n",
    "    equiv_axis_size=10,\n",
    "    sigmas=(xi/eps, xi, 1.),\n",
    "    weight_kernel=\"laplacian\",\n",
    "    weight_comp_device=torch.device(\"cuda\")\n",
    ")\n",
    "\n",
    "fig = visualize_neighborhood(graph, graph.centroid_index)"
   ]
  },
  {
   "cell_type": "code",
   "execution_count": null,
   "metadata": {},
   "outputs": [],
   "source": [
    "# Cauchy kernel\n",
    "graph = HyperCubeGraph(\n",
    "    grid_size=(10,10),\n",
    "    equiv_axis_size=10,\n",
    "    sigmas=(xi/eps, xi, 1.),\n",
    "    weight_kernel=\"cauchy\",\n",
    "    weight_comp_device=torch.device(\"cuda\")\n",
    ")\n",
    "\n",
    "fig = visualize_neighborhood(graph, graph.centroid_index)"
   ]
  },
  {
   "cell_type": "markdown",
   "metadata": {},
   "source": [
    "# Compress graph"
   ]
  },
  {
   "cell_type": "code",
   "execution_count": null,
   "metadata": {},
   "outputs": [],
   "source": [
    "alpha = 96/28\n",
    "xi_ = xi/(alpha**2)\n",
    "eps_ = eps"
   ]
  },
  {
   "cell_type": "markdown",
   "metadata": {},
   "source": [
    "## Node compression"
   ]
  },
  {
   "cell_type": "code",
   "execution_count": null,
   "metadata": {},
   "outputs": [],
   "source": [
    "graph_data = GraphData(grid_size=(28, 28), \n",
    "                       num_layers=6,\n",
    "                       static_compression=(\"node\", 0.5),\n",
    "                       self_loop=True, \n",
    "                       weight_kernel=GaussianKernel(0.3, 1.0),\n",
    "                       sigmas=(xi_/eps_, xi_, 1.))"
   ]
  },
  {
   "cell_type": "code",
   "execution_count": null,
   "metadata": {},
   "outputs": [],
   "source": [
    "fig = visualize_graph(graph_data)"
   ]
  },
  {
   "cell_type": "code",
   "execution_count": null,
   "metadata": {},
   "outputs": [],
   "source": [
    "fig = visualize_weight_fields(graph_data)"
   ]
  },
  {
   "cell_type": "markdown",
   "metadata": {},
   "source": [
    "## Edge compression"
   ]
  },
  {
   "cell_type": "code",
   "execution_count": null,
   "metadata": {},
   "outputs": [],
   "source": [
    "graph_data = GraphData(grid_size=(96, 96), \n",
    "                       num_layers=6,\n",
    "                       static_compression=(\"edge\", 0.5),\n",
    "                       self_loop=True, \n",
    "                       weight_kernel=GaussianKernel(0.3, 1.0),\n",
    "                       sigmas=(xi_/eps_, xi_, 1.))"
   ]
  },
  {
   "cell_type": "code",
   "execution_count": null,
   "metadata": {},
   "outputs": [],
   "source": [
    "fig = visualize_graph(graph_data)"
   ]
  },
  {
   "cell_type": "code",
   "execution_count": null,
   "metadata": {},
   "outputs": [],
   "source": [
    "fig = visualize_weight_fields(graph_data)"
   ]
  },
  {
   "cell_type": "markdown",
   "metadata": {},
   "source": [
    "# Image embedding"
   ]
  },
  {
   "cell_type": "code",
   "execution_count": null,
   "metadata": {},
   "outputs": [],
   "source": [
    "from gechebnet.data.dataloader import get_data_list_mnist, get_data_list_rotated_mnist, get_data_list_stl10"
   ]
  },
  {
   "cell_type": "markdown",
   "metadata": {},
   "source": [
    "## MNIST"
   ]
  },
  {
   "cell_type": "code",
   "execution_count": null,
   "metadata": {},
   "outputs": [],
   "source": [
    "graph_data = GraphData(grid_size=(28, 28), \n",
    "                       num_layers=3,\n",
    "                       self_loop=True, \n",
    "                       weight_kernel=GaussianKernel(0.3, 1.0),\n",
    "                       sigmas=(xi/eps, xi, 1.))"
   ]
  },
  {
   "cell_type": "code",
   "execution_count": null,
   "metadata": {},
   "outputs": [],
   "source": [
    "processed_path = \"../../data/MNIST/processed\"\n",
    "data_list = get_data_list_mnist(graph_data, processed_path, train=True)"
   ]
  },
  {
   "cell_type": "code",
   "execution_count": null,
   "metadata": {},
   "outputs": [],
   "source": [
    "fig = visualize_samples(data_list)"
   ]
  },
  {
   "cell_type": "markdown",
   "metadata": {},
   "source": [
    "## Rotated MNIST"
   ]
  },
  {
   "cell_type": "code",
   "execution_count": null,
   "metadata": {},
   "outputs": [],
   "source": [
    "graph_data = GraphData(grid_size=(28, 28), \n",
    "                       num_layers=3,\n",
    "                       self_loop=True, \n",
    "                       weight_kernel=GaussianKernel(0.3, 1.0),\n",
    "                       sigmas=(xi/eps, xi, 1.))"
   ]
  },
  {
   "cell_type": "code",
   "execution_count": null,
   "metadata": {},
   "outputs": [],
   "source": [
    "processed_path = \"../../data/RotatedMNIST/processed\"\n",
    "data_list = get_data_list_rotated_mnist(graph_data, processed_path, train=True)"
   ]
  },
  {
   "cell_type": "code",
   "execution_count": null,
   "metadata": {},
   "outputs": [],
   "source": [
    "fig = visualize_samples(data_list)"
   ]
  },
  {
   "cell_type": "markdown",
   "metadata": {},
   "source": [
    "## STL10"
   ]
  },
  {
   "cell_type": "code",
   "execution_count": null,
   "metadata": {},
   "outputs": [],
   "source": [
    "graph_data = GraphData(grid_size=(96, 96), \n",
    "                       num_layers=3,\n",
    "                       self_loop=True, \n",
    "                       weight_kernel=GaussianKernel(0.3, 1.0),\n",
    "                       static_compression=(\"node\", 0.5),\n",
    "                       sigmas=(xi_/eps_, xi_, 1.))"
   ]
  },
  {
   "cell_type": "code",
   "execution_count": null,
   "metadata": {},
   "outputs": [],
   "source": [
    "fig = visualize_weight_fields(graph_data)"
   ]
  },
  {
   "cell_type": "code",
   "execution_count": null,
   "metadata": {},
   "outputs": [],
   "source": [
    "processed_path = \"../../data/stl10/processed\"\n",
    "data_list = get_data_list_stl10(graph_data, processed_path, train=True)"
   ]
  },
  {
   "cell_type": "code",
   "execution_count": null,
   "metadata": {},
   "outputs": [],
   "source": [
    "fig = visualize_samples(data_list)"
   ]
  }
 ],
 "metadata": {
  "language_info": {
   "name": "python",
   "pygments_lexer": "ipython3"
  }
 },
 "nbformat": 4,
 "nbformat_minor": 4
}
