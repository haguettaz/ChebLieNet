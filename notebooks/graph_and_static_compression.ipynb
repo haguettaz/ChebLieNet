{
 "cells": [
  {
   "cell_type": "code",
   "execution_count": null,
   "metadata": {},
   "outputs": [],
   "source": [
    "from gechebnet.graph.graph import HyperCubeGraph\n",
    "from gechebnet.graph.plot import visualize_graph, visualize_neighborhood\n",
    "from gechebnet.graph.utils import is_undirected\n",
    "\n",
    "import torch\n",
    "\n",
    "import matplotlib.pyplot as plt"
   ]
  },
  {
   "cell_type": "markdown",
   "metadata": {},
   "source": [
    "# Define anisotropy parameters"
   ]
  },
  {
   "cell_type": "code",
   "execution_count": null,
   "metadata": {},
   "outputs": [],
   "source": [
    "def compute_weight(sqdist, weight_kernel, weight_sigma=1.):\n",
    "    if weight_kernel == \"gaussian\":\n",
    "        kernel = lambda sqdistc: torch.exp(-sqdistc / weight_sigma ** 2)\n",
    "    elif weight_kernel == \"laplacian\":\n",
    "        kernel = lambda sqdistc: torch.exp(-torch.sqrt(sqdistc) / weight_sigma)\n",
    "    elif weight_kernel == \"cauchy\":\n",
    "        kernel = lambda sqdistc: 1 / (1 + sqdistc / weight_sigma ** 2)\n",
    "        \n",
    "    return kernel(sqdist)"
   ]
  },
  {
   "cell_type": "code",
   "execution_count": null,
   "metadata": {},
   "outputs": [],
   "source": [
    "sqdist = torch.arange(0, 5, 0.01)\n",
    "_ = plt.plot(sqdist, compute_weight(sqdist, \"gaussian\"))\n",
    "_ = plt.plot(sqdist, compute_weight(sqdist, \"cauchy\"))\n",
    "_ = plt.plot(sqdist, compute_weight(sqdist, \"laplacian\"))\n",
    "_ = plt.legend([\"gaussian\", \"cauchy\", \"laplacian\"])"
   ]
  },
  {
   "cell_type": "markdown",
   "metadata": {},
   "source": [
    "# Create a graph"
   ]
  },
  {
   "cell_type": "code",
   "execution_count": null,
   "metadata": {},
   "outputs": [],
   "source": [
    "weight_sigma = 1.\n",
    "eps, xi = 1., 1.\n",
    "\n",
    "MIN_KNN = 2\n",
    "MULT_KNN = 2\n",
    "POOLING_SIZE = 2\n",
    "\n",
    "DEVICE = torch.device(\"cuda\")\n",
    "\n",
    "NX1, NX2, NX3 = 20, 20, 20\n",
    "\n",
    "for exp_knn in torch.arange(4):\n",
    "\n",
    "    graph_1 = HyperCubeGraph(\n",
    "        grid_size=(NX1, NX2),\n",
    "        nx3=NX3,\n",
    "        knn=int(MIN_KNN * MULT_KNN ** exp_knn * POOLING_SIZE ** 4),\n",
    "        sigmas=(xi / eps, xi, 1.0),\n",
    "        weight_comp_device=DEVICE,\n",
    "    )\n",
    "\n",
    "    wandb.log({f\"graph_1_nodes\": graph_1.num_nodes, f\"graph_1_edges\": graph_1.num_edges})\n",
    "\n",
    "    graph_2 = HyperCubeGraph(\n",
    "        grid_size=(NX1 // POOLING_SIZE, NX2 // POOLING_SIZE),\n",
    "        nx3=NX3,\n",
    "        knn=int(MIN_KNN * MULT_KNN ** exp_knn * POOLING_SIZE ** 2),\n",
    "        sigmas=(xi / eps, xi, 1.0),\n",
    "        weight_comp_device=DEVICE,\n",
    "    )\n",
    "\n",
    "    wandb.log({f\"graph_2_nodes\": graph_2.num_nodes, f\"graph_2_edges\": graph_2.num_edges})\n",
    "\n",
    "    graph_3 = HyperCubeGraph(\n",
    "        grid_size=(NX1 // POOLING_SIZE // POOLING_SIZE, NX2 // POOLING_SIZE // POOLING_SIZE),\n",
    "        nx3=NX3,\n",
    "        knn=int(MIN_KNN * MULT_KNN ** exp_knn),\n",
    "        sigmas=(xi / eps, xi, 1.0),\n",
    "        weight_comp_device=DEVICE,\n",
    "    )"
   ]
  },
  {
   "cell_type": "code",
   "execution_count": null,
   "metadata": {},
   "outputs": [],
   "source": [
    "fig = visualize_neighborhood(graph, )"
   ]
  },
  {
   "cell_type": "code",
   "execution_count": null,
   "metadata": {},
   "outputs": [],
   "source": [
    "graph.edge_weight[1]"
   ]
  },
  {
   "cell_type": "code",
   "execution_count": null,
   "metadata": {},
   "outputs": [],
   "source": [
    "graph = HyperCubeGraph(\n",
    "    grid_size=(5,5),\n",
    "    nx3=1,\n",
    "    sigmas=(4*xi/eps, 4*xi, 1.),\n",
    "    weight_sigma=1.84,\n",
    "    weight_kernel=\"cauchy\",\n",
    "    knn=26,\n",
    "    weight_comp_device=torch.device(\"cuda\")\n",
    ")"
   ]
  },
  {
   "cell_type": "code",
   "execution_count": null,
   "metadata": {},
   "outputs": [],
   "source": [
    "graph.edge_weight[0]"
   ]
  },
  {
   "cell_type": "code",
   "execution_count": null,
   "metadata": {},
   "outputs": [],
   "source": [
    "fig = visualize_neighborhood(graph, 0)"
   ]
  },
  {
   "cell_type": "code",
   "execution_count": null,
   "metadata": {},
   "outputs": [],
   "source": [
    "is_undirected(graph.edge_index, graph.edge_weight, graph.num_nodes)"
   ]
  },
  {
   "cell_type": "markdown",
   "metadata": {},
   "source": [
    "# Visualize graph's nodes"
   ]
  },
  {
   "cell_type": "code",
   "execution_count": null,
   "metadata": {},
   "outputs": [],
   "source": [
    "fig = visualize_graph(graph)"
   ]
  },
  {
   "cell_type": "markdown",
   "metadata": {},
   "source": [
    "# Visualize neighborhood"
   ]
  },
  {
   "cell_type": "code",
   "execution_count": null,
   "metadata": {},
   "outputs": [],
   "source": [
    "fig = visualize_neighborhood(graph, 0)"
   ]
  },
  {
   "cell_type": "code",
   "execution_count": null,
   "metadata": {},
   "outputs": [],
   "source": [
    "fig = visualize_neighborhood(graph, 2)"
   ]
  },
  {
   "cell_type": "markdown",
   "metadata": {},
   "source": [
    "# One can choose an other weight kernel"
   ]
  },
  {
   "cell_type": "code",
   "execution_count": null,
   "metadata": {},
   "outputs": [],
   "source": [
    "# Laplacian kernel\n",
    "graph = HyperCubeGraph(\n",
    "    grid_size=(10,10),\n",
    "    equiv_axis_size=10,\n",
    "    sigmas=(xi/eps, xi, 1.),\n",
    "    weight_kernel=\"laplacian\",\n",
    "    weight_comp_device=torch.device(\"cuda\")\n",
    ")\n",
    "\n",
    "fig = visualize_neighborhood(graph, graph.centroid_index)"
   ]
  },
  {
   "cell_type": "code",
   "execution_count": null,
   "metadata": {},
   "outputs": [],
   "source": [
    "# Cauchy kernel\n",
    "graph = HyperCubeGraph(\n",
    "    grid_size=(10,10),\n",
    "    equiv_axis_size=10,\n",
    "    sigmas=(xi/eps, xi, 1.),\n",
    "    weight_kernel=\"cauchy\",\n",
    "    weight_comp_device=torch.device(\"cuda\")\n",
    ")\n",
    "\n",
    "fig = visualize_neighborhood(graph, graph.centroid_index)"
   ]
  },
  {
   "cell_type": "markdown",
   "metadata": {},
   "source": [
    "# Compress graph"
   ]
  },
  {
   "cell_type": "code",
   "execution_count": null,
   "metadata": {},
   "outputs": [],
   "source": [
    "alpha = 96/28\n",
    "xi_ = xi/(alpha**2)\n",
    "eps_ = eps"
   ]
  },
  {
   "cell_type": "markdown",
   "metadata": {},
   "source": [
    "## Node compression"
   ]
  },
  {
   "cell_type": "code",
   "execution_count": null,
   "metadata": {},
   "outputs": [],
   "source": [
    "graph_data = GraphData(grid_size=(28, 28), \n",
    "                       num_layers=6,\n",
    "                       static_compression=(\"node\", 0.5),\n",
    "                       self_loop=True, \n",
    "                       weight_kernel=GaussianKernel(0.3, 1.0),\n",
    "                       sigmas=(xi_/eps_, xi_, 1.))"
   ]
  },
  {
   "cell_type": "code",
   "execution_count": null,
   "metadata": {},
   "outputs": [],
   "source": [
    "fig = visualize_graph(graph_data)"
   ]
  },
  {
   "cell_type": "code",
   "execution_count": null,
   "metadata": {},
   "outputs": [],
   "source": [
    "fig = visualize_weight_fields(graph_data)"
   ]
  },
  {
   "cell_type": "markdown",
   "metadata": {},
   "source": [
    "## Edge compression"
   ]
  },
  {
   "cell_type": "code",
   "execution_count": null,
   "metadata": {},
   "outputs": [],
   "source": [
    "graph_data = GraphData(grid_size=(96, 96), \n",
    "                       num_layers=6,\n",
    "                       static_compression=(\"edge\", 0.5),\n",
    "                       self_loop=True, \n",
    "                       weight_kernel=GaussianKernel(0.3, 1.0),\n",
    "                       sigmas=(xi_/eps_, xi_, 1.))"
   ]
  },
  {
   "cell_type": "code",
   "execution_count": null,
   "metadata": {},
   "outputs": [],
   "source": [
    "fig = visualize_graph(graph_data)"
   ]
  },
  {
   "cell_type": "code",
   "execution_count": null,
   "metadata": {},
   "outputs": [],
   "source": [
    "fig = visualize_weight_fields(graph_data)"
   ]
  },
  {
   "cell_type": "markdown",
   "metadata": {},
   "source": [
    "# Image embedding"
   ]
  },
  {
   "cell_type": "code",
   "execution_count": null,
   "metadata": {},
   "outputs": [],
   "source": [
    "from gechebnet.data.dataloader import get_data_list_mnist, get_data_list_rotated_mnist, get_data_list_stl10"
   ]
  },
  {
   "cell_type": "markdown",
   "metadata": {},
   "source": [
    "## MNIST"
   ]
  },
  {
   "cell_type": "code",
   "execution_count": null,
   "metadata": {},
   "outputs": [],
   "source": [
    "graph_data = GraphData(grid_size=(28, 28), \n",
    "                       num_layers=3,\n",
    "                       self_loop=True, \n",
    "                       weight_kernel=GaussianKernel(0.3, 1.0),\n",
    "                       sigmas=(xi/eps, xi, 1.))"
   ]
  },
  {
   "cell_type": "code",
   "execution_count": null,
   "metadata": {},
   "outputs": [],
   "source": [
    "processed_path = \"../../data/MNIST/processed\"\n",
    "data_list = get_data_list_mnist(graph_data, processed_path, train=True)"
   ]
  },
  {
   "cell_type": "code",
   "execution_count": null,
   "metadata": {},
   "outputs": [],
   "source": [
    "fig = visualize_samples(data_list)"
   ]
  },
  {
   "cell_type": "markdown",
   "metadata": {},
   "source": [
    "## Rotated MNIST"
   ]
  },
  {
   "cell_type": "code",
   "execution_count": null,
   "metadata": {},
   "outputs": [],
   "source": [
    "graph_data = GraphData(grid_size=(28, 28), \n",
    "                       num_layers=3,\n",
    "                       self_loop=True, \n",
    "                       weight_kernel=GaussianKernel(0.3, 1.0),\n",
    "                       sigmas=(xi/eps, xi, 1.))"
   ]
  },
  {
   "cell_type": "code",
   "execution_count": null,
   "metadata": {},
   "outputs": [],
   "source": [
    "processed_path = \"../../data/RotatedMNIST/processed\"\n",
    "data_list = get_data_list_rotated_mnist(graph_data, processed_path, train=True)"
   ]
  },
  {
   "cell_type": "code",
   "execution_count": null,
   "metadata": {},
   "outputs": [],
   "source": [
    "fig = visualize_samples(data_list)"
   ]
  },
  {
   "cell_type": "markdown",
   "metadata": {},
   "source": [
    "## STL10"
   ]
  },
  {
   "cell_type": "code",
   "execution_count": null,
   "metadata": {},
   "outputs": [],
   "source": [
    "graph_data = GraphData(grid_size=(96, 96), \n",
    "                       num_layers=3,\n",
    "                       self_loop=True, \n",
    "                       weight_kernel=GaussianKernel(0.3, 1.0),\n",
    "                       static_compression=(\"node\", 0.5),\n",
    "                       sigmas=(xi_/eps_, xi_, 1.))"
   ]
  },
  {
   "cell_type": "code",
   "execution_count": null,
   "metadata": {},
   "outputs": [],
   "source": [
    "fig = visualize_weight_fields(graph_data)"
   ]
  },
  {
   "cell_type": "code",
   "execution_count": null,
   "metadata": {},
   "outputs": [],
   "source": [
    "processed_path = \"../../data/stl10/processed\"\n",
    "data_list = get_data_list_stl10(graph_data, processed_path, train=True)"
   ]
  },
  {
   "cell_type": "code",
   "execution_count": null,
   "metadata": {},
   "outputs": [],
   "source": [
    "fig = visualize_samples(data_list)"
   ]
  }
 ],
 "metadata": {
  "language_info": {
   "name": "python",
   "pygments_lexer": "ipython3"
  }
 },
 "nbformat": 4,
 "nbformat_minor": 4
}
