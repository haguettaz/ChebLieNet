{
 "cells": [
  {
   "cell_type": "code",
   "execution_count": null,
   "metadata": {},
   "outputs": [],
   "source": [
    "from gechebnet.graph.graph import GraphData\n",
    "from gechebnet.graph.utils import GaussianKernel, CauchyKernel\n",
    "from gechebnet.graph.plot import visualize_graph, visualize_weight_fields\n",
    "\n",
    "import torch"
   ]
  },
  {
   "cell_type": "markdown",
   "metadata": {},
   "source": [
    "# Create the graph"
   ]
  },
  {
   "cell_type": "code",
   "execution_count": null,
   "metadata": {},
   "outputs": [],
   "source": [
    "xi = 0.8\n",
    "eps = 0.7\n",
    "\n",
    "graph_data = GraphData(grid_size=(28, 28), \n",
    "                       num_layers=3,\n",
    "                       self_loop=True, \n",
    "                       weight_kernel=GaussianKernel(0.3, 1.0),\n",
    "                       sigmas=(xi/eps, xi, 1.))"
   ]
  },
  {
   "cell_type": "markdown",
   "metadata": {},
   "source": [
    "# Access some graph informations"
   ]
  },
  {
   "cell_type": "code",
   "execution_count": null,
   "metadata": {},
   "outputs": [],
   "source": [
    "print(f\"number of edges: {graph_data.data.num_edges}\")\n",
    "print(f\"number of nodes: {graph_data.data.num_nodes}\")\n",
    "print(f\"mean weight value: {graph_data.data.edge_attr.mean()}\")"
   ]
  },
  {
   "cell_type": "markdown",
   "metadata": {},
   "source": [
    "# Visualize graph's nodes"
   ]
  },
  {
   "cell_type": "code",
   "execution_count": null,
   "metadata": {},
   "outputs": [],
   "source": [
    "fig = visualize_graph(graph_data)"
   ]
  },
  {
   "cell_type": "markdown",
   "metadata": {},
   "source": [
    "# Visualize weight's fields"
   ]
  },
  {
   "cell_type": "code",
   "execution_count": null,
   "metadata": {},
   "outputs": [],
   "source": [
    "fig = visualize_weight_fields(graph_data)"
   ]
  },
  {
   "cell_type": "markdown",
   "metadata": {},
   "source": [
    "# Static node's compression"
   ]
  },
  {
   "cell_type": "code",
   "execution_count": null,
   "metadata": {},
   "outputs": [],
   "source": [
    "eps = .1\n",
    "xi = .01\n",
    "graph_data = GraphData(grid_size=(28, 28), \n",
    "                       num_layers=6,\n",
    "                       static_compression=(\"node\", 0.5),\n",
    "                       self_loop=True, \n",
    "                       weight_kernel=GaussianKernel(10., 1.),\n",
    "                       sigmas=(xi/eps, xi, 1.))"
   ]
  },
  {
   "cell_type": "code",
   "execution_count": null,
   "metadata": {},
   "outputs": [],
   "source": [
    "fig = visualize_graph(graph_data)"
   ]
  },
  {
   "cell_type": "markdown",
   "metadata": {},
   "source": [
    "# Static edge's compression"
   ]
  },
  {
   "cell_type": "code",
   "execution_count": null,
   "metadata": {},
   "outputs": [],
   "source": [
    "eps = .1\n",
    "xi = .01\n",
    "graph_data = GraphData(grid_size=(28, 28), \n",
    "                       num_layers=6,\n",
    "                       static_compression=(\"edge\", 0.5),\n",
    "                       self_loop=True, \n",
    "                       weight_kernel=GaussianKernel(0.3, 1.0),\n",
    "                       sigmas=(xi/eps, xi, 1.))"
   ]
  },
  {
   "cell_type": "code",
   "execution_count": null,
   "metadata": {},
   "outputs": [],
   "source": [
    "fig = visualize_weight_fields(graph_data)"
   ]
  },
  {
   "cell_type": "markdown",
   "metadata": {},
   "source": [
    "# MNIST"
   ]
  },
  {
   "cell_type": "code",
   "execution_count": null,
   "metadata": {},
   "outputs": [],
   "source": [
    "eps = .1\n",
    "xi = .01\n",
    "graph_data = GraphData(grid_size=(28, 28), \n",
    "                       num_layers=6,\n",
    "                       static_compression=(\"node\", 0.5),\n",
    "                       self_loop=True, \n",
    "                       weight_kernel=GaussianKernel(0.3, 1.0),\n",
    "                       sigmas=(xi/eps, xi, 1.))"
   ]
  },
  {
   "cell_type": "code",
   "execution_count": null,
   "metadata": {},
   "outputs": [],
   "source": [
    "get_data_list_mnist"
   ]
  }
 ],
 "metadata": {
  "language_info": {
   "name": "python",
   "pygments_lexer": "ipython3"
  }
 },
 "nbformat": 4,
 "nbformat_minor": 4
}
