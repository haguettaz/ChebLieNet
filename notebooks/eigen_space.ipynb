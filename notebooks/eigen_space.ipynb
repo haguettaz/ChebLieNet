{
 "cells": [
  {
   "cell_type": "code",
   "execution_count": null,
   "metadata": {},
   "outputs": [],
   "source": [
    "import matplotlib.pyplot as plt\n",
    "\n",
    "import torch"
   ]
  },
  {
   "cell_type": "code",
   "execution_count": null,
   "metadata": {},
   "outputs": [],
   "source": [
    "from gechebnet.graph.graph import SE2GEGraph\n",
    "from gechebnet.graph.visualization import visualize_graph_signal "
   ]
  },
  {
   "cell_type": "markdown",
   "metadata": {},
   "source": [
    "# Projective line bundle of the SE(2) group"
   ]
  },
  {
   "cell_type": "code",
   "execution_count": null,
   "metadata": {},
   "outputs": [],
   "source": [
    "# create graph and set laplacian\n",
    "eps, xi = 1., 0.05\n",
    "se2_graph = SE2GEGraph(\n",
    "    nx=28,\n",
    "    ny=28,\n",
    "    ntheta=6,\n",
    "    knn=32,\n",
    "    sigmas=(xi / eps, xi, 1.0),\n",
    "    weight_kernel=lambda sqdistc, sigmac: torch.exp(-sqdistc / sigmac),\n",
    ")\n",
    "se2_graph.set_laplacian(norm=False)"
   ]
  },
  {
   "cell_type": "markdown",
   "metadata": {},
   "source": [
    "## Eigenspace"
   ]
  },
  {
   "cell_type": "code",
   "execution_count": null,
   "metadata": {},
   "outputs": [],
   "source": [
    "eigenval, eigenvec = se2_graph.eigen_space"
   ]
  },
  {
   "cell_type": "markdown",
   "metadata": {},
   "source": [
    "### Frequencies"
   ]
  },
  {
   "cell_type": "code",
   "execution_count": null,
   "metadata": {},
   "outputs": [],
   "source": [
    "_ = plt.plot(eigenval)"
   ]
  },
  {
   "cell_type": "code",
   "execution_count": null,
   "metadata": {},
   "outputs": [],
   "source": [
    "eigenval[2000]"
   ]
  },
  {
   "cell_type": "markdown",
   "metadata": {},
   "source": [
    "### Fourier basis"
   ]
  },
  {
   "cell_type": "code",
   "execution_count": null,
   "metadata": {},
   "outputs": [],
   "source": [
    "eigen_val_idx = 1\n",
    "visualize_graph_signal(se2_graph, eigenvec[:,eigen_val_idx])"
   ]
  }
 ],
 "metadata": {
  "language_info": {
   "name": "python",
   "pygments_lexer": "ipython3"
  }
 },
 "nbformat": 4,
 "nbformat_minor": 4
}
