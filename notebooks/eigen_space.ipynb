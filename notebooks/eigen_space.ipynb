{
 "cells": [
  {
   "cell_type": "code",
   "execution_count": null,
   "metadata": {},
   "outputs": [],
   "source": [
    "import matplotlib.pyplot as plt\n",
    "\n",
    "import torch"
   ]
  },
  {
   "cell_type": "code",
   "execution_count": null,
   "metadata": {},
   "outputs": [],
   "source": [
    "from gechebnet.graph.graph import SE2GEGraph, SO3GEGraph\n",
    "from gechebnet.graph.visualization import visualize_graph_signal "
   ]
  },
  {
   "cell_type": "markdown",
   "metadata": {},
   "source": [
    "# Projective line bundle of the SE(2) group"
   ]
  },
  {
   "cell_type": "code",
   "execution_count": null,
   "metadata": {},
   "outputs": [],
   "source": [
    "# create graph and set laplacian\n",
    "eps, xi = .1, 0.001\n",
    "se2_graph = SE2GEGraph(\n",
    "    nx=28,\n",
    "    ny=28,\n",
    "    ntheta=6,\n",
    "    knn=64,\n",
    "    sigmas=(xi / eps, xi, 1.0),\n",
    "    weight_kernel=lambda sqdistc, tc: torch.exp(-sqdistc / 4*tc),\n",
    ")\n",
    "se2_graph.set_laplacian(norm=False)"
   ]
  },
  {
   "cell_type": "markdown",
   "metadata": {},
   "source": [
    "## Eigenspace"
   ]
  },
  {
   "cell_type": "code",
   "execution_count": null,
   "metadata": {},
   "outputs": [],
   "source": [
    "eigenval, eigenvec = se2_graph.eigen_space\n",
    "eigenval = torch.from_numpy(eigenval)\n",
    "eigenvec = torch.from_numpy(eigenvec)"
   ]
  },
  {
   "cell_type": "markdown",
   "metadata": {},
   "source": [
    "### Frequencies"
   ]
  },
  {
   "cell_type": "code",
   "execution_count": null,
   "metadata": {},
   "outputs": [],
   "source": [
    "_ = plt.scatter(torch.arange(se2_graph.num_nodes), eigenval, s=1)\n",
    "_ = plt.xlabel(\"index\")\n",
    "_ = plt.ylabel(\"eigenvalue\")"
   ]
  },
  {
   "cell_type": "markdown",
   "metadata": {},
   "source": [
    "### Fourier basis"
   ]
  },
  {
   "cell_type": "code",
   "execution_count": null,
   "metadata": {},
   "outputs": [],
   "source": [
    "_ = plt.scatter(torch.arange(20), eigenval[:20])\n",
    "_ = plt.xlabel(\"index\")\n",
    "_ = plt.ylabel(\"eigenvalue\")"
   ]
  },
  {
   "cell_type": "code",
   "execution_count": null,
   "metadata": {},
   "outputs": [],
   "source": [
    "visualize_graph_signal(se2_graph, eigenvec[:,0], title=fr\"$\\lambda_{0}={eigenval[0].item()}$\")"
   ]
  },
  {
   "cell_type": "code",
   "execution_count": null,
   "metadata": {},
   "outputs": [],
   "source": [
    "visualize_graph_signal(se2_graph, eigenvec[:,1], title=fr\"$\\lambda_{1}={eigenval[1].item()}$\")"
   ]
  },
  {
   "cell_type": "code",
   "execution_count": null,
   "metadata": {},
   "outputs": [],
   "source": [
    "visualize_graph_signal(se2_graph, eigenvec[:,2], title=fr\"$\\lambda_{2}={eigenval[2].item()}$\")"
   ]
  },
  {
   "cell_type": "code",
   "execution_count": null,
   "metadata": {},
   "outputs": [],
   "source": [
    "visualize_graph_signal(se2_graph, eigenvec[:,3], title=fr\"$\\lambda_{3}={eigenval[3].item()}$\")"
   ]
  },
  {
   "cell_type": "code",
   "execution_count": null,
   "metadata": {},
   "outputs": [],
   "source": [
    "visualize_graph_signal(se2_graph, eigenvec[:,4], title=fr\"$\\lambda_{4}={eigenval[4].item()}$\")"
   ]
  },
  {
   "cell_type": "code",
   "execution_count": null,
   "metadata": {},
   "outputs": [],
   "source": [
    "visualize_graph_signal(se2_graph, eigenvec[:,5], title=fr\"$\\lambda_{5}={eigenval[5].item()}$\")"
   ]
  },
  {
   "cell_type": "markdown",
   "metadata": {},
   "source": [
    "# Projective line bundle of the SO(3) group"
   ]
  },
  {
   "cell_type": "code",
   "execution_count": null,
   "metadata": {},
   "outputs": [],
   "source": [
    "# create graph and set laplacian\n",
    "eps, xi = 1., 1.\n",
    "so3_graph = SO3GEGraph(\n",
    "    polyhedron=\"icosahedron\",\n",
    "    level=3,\n",
    "    nalpha=1,\n",
    "    knn=64,\n",
    "    sigmas=(xi / eps, xi, 1.0),\n",
    "    weight_kernel=lambda sqdistc, sigmac: torch.exp(-sqdistc / sigmac),\n",
    ")\n",
    "so3_graph.set_laplacian(norm=False)"
   ]
  },
  {
   "cell_type": "code",
   "execution_count": null,
   "metadata": {},
   "outputs": [],
   "source": [
    "so3_graph.num_nodes"
   ]
  },
  {
   "cell_type": "markdown",
   "metadata": {},
   "source": [
    "## Eigenspace"
   ]
  },
  {
   "cell_type": "code",
   "execution_count": null,
   "metadata": {},
   "outputs": [],
   "source": [
    "eigenval, eigenvec = so3_graph.eigen_space"
   ]
  },
  {
   "cell_type": "code",
   "execution_count": null,
   "metadata": {},
   "outputs": [],
   "source": [
    "eigenval = torch.from_numpy(eigenval)\n",
    "eigenvec = torch.from_numpy(eigenvec)"
   ]
  },
  {
   "cell_type": "markdown",
   "metadata": {},
   "source": [
    "### Frequencies"
   ]
  },
  {
   "cell_type": "code",
   "execution_count": null,
   "metadata": {},
   "outputs": [],
   "source": [
    "_ = plt.scatter(torch.arange(so3_graph.num_nodes), eigenval, s=1)\n",
    "_ = plt.xlabel(\"index\")\n",
    "_ = plt.ylabel(\"eigenvalue\")"
   ]
  },
  {
   "cell_type": "markdown",
   "metadata": {},
   "source": [
    "### Fourier basis"
   ]
  },
  {
   "cell_type": "code",
   "execution_count": null,
   "metadata": {},
   "outputs": [],
   "source": [
    "_ = plt.scatter(torch.arange(20), eigenval[:20])\n",
    "_ = plt.xlabel(\"index\")\n",
    "_ = plt.ylabel(\"eigenvalue\")"
   ]
  },
  {
   "cell_type": "code",
   "execution_count": null,
   "metadata": {},
   "outputs": [],
   "source": [
    "visualize_graph_signal(so3_graph, eigenvec[:,0], title=fr\"$\\lambda_{0}={eigenval[0].item()}$\")"
   ]
  },
  {
   "cell_type": "code",
   "execution_count": null,
   "metadata": {},
   "outputs": [],
   "source": [
    "visualize_graph_signal(so3_graph, eigenvec[:,1], title=fr\"$\\lambda_{1}={eigenval[1].item()}$\")"
   ]
  },
  {
   "cell_type": "code",
   "execution_count": null,
   "metadata": {},
   "outputs": [],
   "source": [
    "visualize_graph_signal(so3_graph, eigenvec[:,2], title=fr\"$\\lambda_{2}={eigenval[2].item()}$\")"
   ]
  },
  {
   "cell_type": "code",
   "execution_count": null,
   "metadata": {},
   "outputs": [],
   "source": [
    "visualize_graph_signal(so3_graph, eigenvec[:,3], title=fr\"$\\lambda_{3}={eigenval[3].item()}$\")"
   ]
  },
  {
   "cell_type": "code",
   "execution_count": null,
   "metadata": {},
   "outputs": [],
   "source": [
    "visualize_graph_signal(so3_graph, eigenvec[:,4], title=fr\"$\\lambda_{4}={eigenval[4].item()}$\")"
   ]
  },
  {
   "cell_type": "code",
   "execution_count": null,
   "metadata": {},
   "outputs": [],
   "source": [
    "visualize_graph_signal(so3_graph, eigenvec[:,5], title=fr\"$\\lambda_{5}={eigenval[5].item()}$\")"
   ]
  }
 ],
 "metadata": {
  "language_info": {
   "name": "python",
   "pygments_lexer": "ipython3"
  }
 },
 "nbformat": 4,
 "nbformat_minor": 4
}
