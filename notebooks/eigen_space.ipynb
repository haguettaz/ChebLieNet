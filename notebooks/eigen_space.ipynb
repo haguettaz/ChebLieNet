{
 "cells": [
  {
   "cell_type": "markdown",
   "metadata": {},
   "source": [
    "# Eigen space\n",
    "\n",
    "\n",
    "In this tutorial, we introduce the notion of manifold graph eigen space. It is defined as the eigen decomposition of the symmetric normalized graph laplacian where:\n",
    "- the eigen values correspond to frequencies of the eigen functions on the graph,\n",
    "- the eigen vectors correspond to eigen functions on the graph."
   ]
  },
  {
   "cell_type": "code",
   "execution_count": null,
   "metadata": {},
   "outputs": [],
   "source": [
    "import matplotlib.pyplot as plt\n",
    "import matplotlib.cm as cm\n",
    "\n",
    "import numpy as np\n",
    "import torch\n",
    "\n",
    "from gechebnet.graphs.graphs import SE2GEGraph, SO3GEGraph, S2GEGraph, R2GEGraph"
   ]
  },
  {
   "cell_type": "markdown",
   "metadata": {},
   "source": [
    "## Get the eigen space"
   ]
  },
  {
   "cell_type": "code",
   "execution_count": null,
   "metadata": {},
   "outputs": [],
   "source": [
    "s2_graph = S2GEGraph(\n",
    "    size=[642, 1],\n",
    "    K=8,\n",
    "    sigmas=(1., 1., 1.),\n",
    "    path_to_graph=\"saved_graphs\"\n",
    ")"
   ]
  },
  {
   "cell_type": "code",
   "execution_count": null,
   "metadata": {},
   "outputs": [],
   "source": [
    "eigen_values, eigen_vectors = s2_graph.get_eigen_space()"
   ]
  },
  {
   "cell_type": "code",
   "execution_count": null,
   "metadata": {},
   "outputs": [],
   "source": [
    "eigen_values.shape, eigen_values.min(), eigen_values.max()"
   ]
  },
  {
   "cell_type": "code",
   "execution_count": null,
   "metadata": {},
   "outputs": [],
   "source": [
    "eigen_vectors.shape"
   ]
  },
  {
   "cell_type": "markdown",
   "metadata": {},
   "source": [
    "## Visualize the eigen space"
   ]
  },
  {
   "cell_type": "code",
   "execution_count": null,
   "metadata": {},
   "outputs": [],
   "source": [
    "def plot_eigenvalues(graph, indices):\n",
    "    \n",
    "    eigenval, _ = graph.get_eigen_space()\n",
    "    \n",
    "    fig = plt.figure(figsize=(5, 2))\n",
    "    \n",
    "    if len(indices) > 50:\n",
    "        plt.plot(indices, eigenval[indices], c=\"firebrick\")\n",
    "    else:\n",
    "        plt.scatter(indices, eigenval[indices], c=\"firebrick\")\n",
    "        \n",
    "    plt.xlabel(r\"$k$\")\n",
    "    plt.ylabel(r\"$\\lambda_k$\")\n",
    "    plt.xlim(min(indices)-1, max(indices)+1)\n",
    "    plt.ylim(0, 2 if len(indices) > 50 else 0.2)\n",
    "    \n",
    "    fig.tight_layout()\n",
    "\n",
    "def plot_eigenspace(graph, indices, size, projection=None):\n",
    "    M, L = size\n",
    "    K = len(indices)\n",
    "\n",
    "    _, eigenvec = graph.get_eigen_space()\n",
    "    eigenvec = torch.from_numpy(eigenvec)\n",
    "        \n",
    "    fig = plt.figure(figsize=(7*K, 7*L))\n",
    "    \n",
    "    X, Y, Z = graph.cartesian_pos()\n",
    "    \n",
    "    for i, k in enumerate(indices):\n",
    "        for l in range(L):\n",
    "            ax = fig.add_subplot(L, K, l * K + i + 1, projection=projection)\n",
    "            ax.scatter(X[l*M:(l+1)*M], Y[l*M:(l+1)*M], Z[l*M:(l+1)*M], c=eigenvec[l*M:(l+1)*M, k], cmap=cm.PiYG)\n",
    "            ax.axis(\"off\")\n",
    "            \n",
    "    fig.tight_layout()"
   ]
  },
  {
   "cell_type": "markdown",
   "metadata": {},
   "source": [
    "### Translation group $\\mathbb{R}^2$"
   ]
  },
  {
   "cell_type": "code",
   "execution_count": null,
   "metadata": {},
   "outputs": [],
   "source": [
    "r2_graph = R2GEGraph(\n",
    "    [28,28, 1],\n",
    "    K=8,\n",
    "    sigmas=(1., 1., 1.),\n",
    "    path_to_graph=\"saved_graphs\"\n",
    ")"
   ]
  },
  {
   "cell_type": "code",
   "execution_count": null,
   "metadata": {},
   "outputs": [],
   "source": [
    "plot_eigenvalues(r2_graph, np.arange(r2_graph.num_nodes))"
   ]
  },
  {
   "cell_type": "code",
   "execution_count": null,
   "metadata": {},
   "outputs": [],
   "source": [
    "plot_eigenspace(r2_graph, , (784, 1), projection=\"3d\")"
   ]
  },
  {
   "cell_type": "markdown",
   "metadata": {},
   "source": [
    "### Roto-translation group $SE(2)$"
   ]
  },
  {
   "cell_type": "code",
   "execution_count": null,
   "metadata": {},
   "outputs": [],
   "source": [
    "se2_graph = SE2GEGraph(\n",
    "    [28,28, 6],\n",
    "    K=8,\n",
    "    sigmas=(1., 0.1, 0.0026),\n",
    "    path_to_graph=\"saved_graphs\"\n",
    ")"
   ]
  },
  {
   "cell_type": "code",
   "execution_count": null,
   "metadata": {},
   "outputs": [],
   "source": [
    "plot_eigenvalues(se2_graph, np.arange(se2_graph.num_nodes))"
   ]
  },
  {
   "cell_type": "code",
   "execution_count": null,
   "metadata": {},
   "outputs": [],
   "source": [
    "plot_eigenspace(se2_graph, [1, 2, 3, 13, 14], (784, 6), projection=\"3d\")"
   ]
  },
  {
   "cell_type": "markdown",
   "metadata": {},
   "source": [
    "### 1-sphere $S(2)$"
   ]
  },
  {
   "cell_type": "code",
   "execution_count": null,
   "metadata": {},
   "outputs": [],
   "source": [
    "s2_graph = S2GEGraph(\n",
    "    size=[642, 1],\n",
    "    K=8,\n",
    "    sigmas=[1., 1., 1.],\n",
    "    path_to_graph=\"saved_graphs\"\n",
    ")"
   ]
  },
  {
   "cell_type": "code",
   "execution_count": null,
   "metadata": {},
   "outputs": [],
   "source": [
    "plot_eigenvalues(s2_graph, np.arange(s2_graph.num_nodes))"
   ]
  },
  {
   "cell_type": "code",
   "execution_count": null,
   "metadata": {},
   "outputs": [],
   "source": [
    "plot_eigenspace(s2_graph, np.arange(1,7), (642, 1), projection=\"3d\")"
   ]
  },
  {
   "cell_type": "markdown",
   "metadata": {},
   "source": [
    "### 3-d rotation group $SO(3)$"
   ]
  },
  {
   "cell_type": "code",
   "execution_count": null,
   "metadata": {},
   "outputs": [],
   "source": [
    "so3_graph = SO3GEGraph(\n",
    "    size=[642, 6],\n",
    "    K=8,\n",
    "    sigmas=(1., 0.1, 10/642),\n",
    "    path_to_graph=\"saved_graphs\"\n",
    ")"
   ]
  },
  {
   "cell_type": "code",
   "execution_count": null,
   "metadata": {},
   "outputs": [],
   "source": [
    "plot_eigenvalues(so3_graph, np.arange(so3_graph.num_nodes))"
   ]
  },
  {
   "cell_type": "code",
   "execution_count": null,
   "metadata": {},
   "outputs": [],
   "source": [
    "plot_eigenspace(so3_graph,np.arange(1, 7), (642, 6), projection=\"3d\")"
   ]
  }
 ],
 "metadata": {
  "language_info": {
   "name": "python",
   "pygments_lexer": "ipython3"
  }
 },
 "nbformat": 4,
 "nbformat_minor": 4
}
