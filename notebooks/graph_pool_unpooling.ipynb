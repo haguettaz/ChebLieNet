{
 "cells": [
  {
   "cell_type": "markdown",
   "metadata": {},
   "source": [
    "# SE(2) Lie group"
   ]
  },
  {
   "cell_type": "code",
   "execution_count": null,
   "metadata": {},
   "outputs": [],
   "source": [
    "from gechebnet.geometry.se2 import se2_uniform_sampling\n",
    "from gechebnet.nn.layers.unpools import CubicUnpool\n",
    "from gechebnet.nn.layers.pools import CubicPool"
   ]
  },
  {
   "cell_type": "code",
   "execution_count": null,
   "metadata": {},
   "outputs": [],
   "source": [
    "pos = se2_uniform_sampling(8, 8, 6).unsqueeze(0)\n",
    "pos.shape"
   ]
  },
  {
   "cell_type": "markdown",
   "metadata": {},
   "source": [
    "## Pooling : max pooling"
   ]
  },
  {
   "cell_type": "code",
   "execution_count": null,
   "metadata": {},
   "outputs": [],
   "source": [
    "# spatial pooling\n",
    "pool = CubicPool(kernel_size=(1, 2), size=(6, 8, 8))\n",
    "pool(pos).shape"
   ]
  },
  {
   "cell_type": "code",
   "execution_count": null,
   "metadata": {},
   "outputs": [],
   "source": [
    "# symmetric pooling\n",
    "pool = CubicPool(kernel_size=(2, 1), size=(6, 8, 8))\n",
    "pool(pos).shape"
   ]
  },
  {
   "cell_type": "code",
   "execution_count": null,
   "metadata": {},
   "outputs": [],
   "source": [
    "# global pooling\n",
    "pool = CubicPool(kernel_size=(6, 8), size=(6, 8, 8)) \n",
    "pool(pos).shape"
   ]
  },
  {
   "cell_type": "markdown",
   "metadata": {},
   "source": [
    "## Unpooling : average unpooling"
   ]
  },
  {
   "cell_type": "code",
   "execution_count": null,
   "metadata": {},
   "outputs": [],
   "source": [
    "# spatial pooling\n",
    "pool = CubicUnpool(kernel_size=(1, 2), size=(6, 8, 8))\n",
    "pool(pos).shape"
   ]
  },
  {
   "cell_type": "code",
   "execution_count": null,
   "metadata": {},
   "outputs": [],
   "source": [
    "# symmetric pooling\n",
    "pool = CubicUnpool(kernel_size=(2, 1), size=(6, 8, 8))\n",
    "pool(pos).shape"
   ]
  },
  {
   "cell_type": "code",
   "execution_count": null,
   "metadata": {},
   "outputs": [],
   "source": [
    "# global pooling\n",
    "pool = CubicUnpool(kernel_size=(2, 2), size=(6, 8, 8))\n",
    "pool(pos).shape"
   ]
  },
  {
   "cell_type": "markdown",
   "metadata": {},
   "source": [
    "# SO(3) Lie group"
   ]
  },
  {
   "cell_type": "code",
   "execution_count": null,
   "metadata": {},
   "outputs": [],
   "source": [
    "from gechebnet.geometry.so3 import so3_uniform_sampling\n",
    "from gechebnet.nn.layers.unpools import IcosahedralUnpool\n",
    "from gechebnet.nn.layers.pools import IcosahedralPool"
   ]
  },
  {
   "cell_type": "code",
   "execution_count": null,
   "metadata": {},
   "outputs": [],
   "source": [
    "pos = so3_uniform_sampling(1, 6).unsqueeze(0)\n",
    "pos.shape"
   ]
  },
  {
   "cell_type": "code",
   "execution_count": null,
   "metadata": {},
   "outputs": [],
   "source": [
    "pos = so3_uniform_sampling(1, 6)"
   ]
  },
  {
   "cell_type": "code",
   "execution_count": null,
   "metadata": {},
   "outputs": [],
   "source": [
    "len(pos[1:].unique())"
   ]
  },
  {
   "cell_type": "markdown",
   "metadata": {},
   "source": [
    "## Pooling"
   ]
  },
  {
   "cell_type": "code",
   "execution_count": null,
   "metadata": {},
   "outputs": [],
   "source": [
    "# spatial pooling\n",
    "pool = IcosahedralPool(kernel_size=(1, 2), size=(6, 42))\n",
    "pool(pos).shape"
   ]
  },
  {
   "cell_type": "code",
   "execution_count": null,
   "metadata": {},
   "outputs": [],
   "source": [
    "# symmetric pooling\n",
    "pool = IcosahedralPool(kernel_size=(2, 1), size=(6, 42))\n",
    "pool(pos).shape"
   ]
  },
  {
   "cell_type": "code",
   "execution_count": null,
   "metadata": {},
   "outputs": [],
   "source": [
    "# global pooling\n",
    "pool = IcosahedralPool(kernel_size=(6, 4), size=(6, 42))\n",
    "pool(pos).shape"
   ]
  },
  {
   "cell_type": "markdown",
   "metadata": {},
   "source": [
    "## Unpooling : zero padding + max unpool"
   ]
  },
  {
   "cell_type": "code",
   "execution_count": null,
   "metadata": {},
   "outputs": [],
   "source": [
    "# spatial pooling\n",
    "pool = IcosahedralUnpool(kernel_size=(1, 2), size=(6, 42))\n",
    "pool(pos).shape"
   ]
  },
  {
   "cell_type": "code",
   "execution_count": null,
   "metadata": {},
   "outputs": [],
   "source": [
    "# symmetric pooling\n",
    "pool = IcosahedralUnpool(kernel_size=(2, 1), size=(6, 42))\n",
    "pool(pos).shape"
   ]
  },
  {
   "cell_type": "code",
   "execution_count": null,
   "metadata": {},
   "outputs": [],
   "source": [
    "# global pooling\n",
    "pool = IcosahedralUnpool(kernel_size=(2, 2), size=(6, 42))\n",
    "pool(pos).shape"
   ]
  }
 ],
 "metadata": {
  "language_info": {
   "name": "python",
   "pygments_lexer": "ipython3"
  }
 },
 "nbformat": 4,
 "nbformat_minor": 4
}
