{
 "cells": [
  {
   "cell_type": "code",
   "execution_count": null,
   "metadata": {},
   "outputs": [],
   "source": [
    "!python3 ~/Documents/thesis/GroupEquivariantChebNets/scripts/debug_script.py"
   ]
  },
  {
   "cell_type": "code",
   "execution_count": null,
   "metadata": {},
   "outputs": [],
   "source": [
    "import torch\n",
    "from torch.nn import BatchNorm1d, Module, MaxPool1d, AvgPool1d"
   ]
  },
  {
   "cell_type": "code",
   "execution_count": null,
   "metadata": {},
   "outputs": [],
   "source": [
    "x = torch.rand(8, 1, 10*10*3).to(torch.device(\"cuda\"))"
   ]
  },
  {
   "cell_type": "code",
   "execution_count": null,
   "metadata": {},
   "outputs": [],
   "source": [
    "x = torch.rand((1000, 3))\n",
    "x.max(dim=1).shape"
   ]
  },
  {
   "cell_type": "code",
   "execution_count": null,
   "metadata": {},
   "outputs": [],
   "source": [
    "model(x)"
   ]
  },
  {
   "cell_type": "code",
   "execution_count": null,
   "metadata": {},
   "outputs": [],
   "source": [
    "D = torch.sparse.FloatTensor(edge_index, edge_weight, torch.Size((num_nodes, num_nodes)))"
   ]
  },
  {
   "cell_type": "code",
   "execution_count": null,
   "metadata": {},
   "outputs": [],
   "source": [
    "D @ torch.ones(num_nodes)"
   ]
  },
  {
   "cell_type": "code",
   "execution_count": null,
   "metadata": {},
   "outputs": [],
   "source": [
    "torch.zeros(num_nodes).scatter_add(0, edge_index[1], edge_weight)"
   ]
  },
  {
   "cell_type": "code",
   "execution_count": null,
   "metadata": {},
   "outputs": [],
   "source": [
    "edge_index_t = edge_index.t()\n",
    "max_, _ = torch.max(edge_index_t, dim=1)\n",
    "min_, _ = torch.min(edge_index_t, dim=1)\n",
    "minmax = torch.stack((min_, max_), dim=0)\n",
    "\n",
    "_, inverse, counts = torch.unique(minmax, dim=1, return_inverse=True, return_counts=True)\n",
    "bad_index = torch.arange(counts.shape[0])[(counts < 2)]"
   ]
  },
  {
   "cell_type": "code",
   "execution_count": null,
   "metadata": {},
   "outputs": [],
   "source": [
    "(counts < 2).sum()"
   ]
  },
  {
   "cell_type": "code",
   "execution_count": null,
   "metadata": {},
   "outputs": [],
   "source": [
    "edge_index = torch.tensor([[0, 1, 2, 3, 1], [1, 0, 3, 2, 1]])\n",
    "edge_weight = torch.tensor([0.5, 0.5,0.5,0.5, 0.4])"
   ]
  },
  {
   "cell_type": "code",
   "execution_count": null,
   "metadata": {},
   "outputs": [],
   "source": [
    "edge_index_t = edge_index.t()\n",
    "max_, _ = torch.max(edge_index_t, dim=1)\n",
    "min_, _ = torch.min(edge_index_t, dim=1)\n",
    "minmax = torch.stack((min_, max_), dim=0)\n",
    "\n",
    "_, inverse, counts = torch.unique(minmax, dim=1, return_inverse=True, return_counts=True)\n",
    "bad_index = torch.arange(counts.shape[0])[(counts < 2)]"
   ]
  },
  {
   "cell_type": "code",
   "execution_count": null,
   "metadata": {},
   "outputs": [],
   "source": [
    "(counts < 2).sum()"
   ]
  },
  {
   "cell_type": "code",
   "execution_count": null,
   "metadata": {},
   "outputs": [],
   "source": [
    "minmax"
   ]
  },
  {
   "cell_type": "code",
   "execution_count": null,
   "metadata": {},
   "outputs": [],
   "source": [
    "from torch import LongTensor, FloatTensor\n",
    "from typing import Tuple\n",
    "\n",
    "def remove_self_loops(edge_index: LongTensor, edge_weight: FloatTensor) -> Tuple[LongTensor, FloatTensor]:\n",
    "    \"\"\"\n",
    "    Removes every self-loop in the graph given by edge_index and edge_weight.\n",
    "\n",
    "    Args:\n",
    "        edge_index (LongTensor): indices of edges.\n",
    "        edge_weight (FloatTensor): weights of edges.\n",
    "\n",
    "    Returns:\n",
    "        LongTensor: indices of edges.\n",
    "        FloatTensor: weights of edges.\n",
    "    \"\"\"\n",
    "    mask = edge_index[0] != edge_index[1]\n",
    "    return edge_index[:, mask], edge_weight[mask]\n",
    "\n",
    "\n",
    "def is_undirected(edge_index: LongTensor, edge_weight: FloatTensor) -> bool:\n",
    "    \"\"\"\n",
    "    Returns True if the graph given by edge_index and edge_weight is undirected.\n",
    "\n",
    "    Args:\n",
    "        edge_index (LongTensor): indices of edges.\n",
    "        edge_weight (FloatTensor): weights of indices.\n",
    "        num_nodes (int): number of nodes.\n",
    "\n",
    "    Returns:\n",
    "        (bool): True if graph is undirected, False otherwise.\n",
    "    \"\"\"\n",
    "    \n",
    "    if (edge_index[0] == edge_index[1]).sum() > 0:\n",
    "        print(\"Warning: Graph contains self-loop\")    \n",
    "        edge_index, edge_weight = remove_self_loops(edge_index, edge_weight)        \n",
    "        \n",
    "    max_, _ = torch.max(edge_index, dim=0)\n",
    "    min_, _ = torch.min(edge_index, dim=0)\n",
    "    minmax = torch.stack((min_, max_), dim=0)\n",
    "    \n",
    "    _, inverse, counts = torch.unique(minmax, dim=1, return_inverse=True, return_counts=True)\n",
    "\n",
    "    return (counts < 2).sum() == 0"
   ]
  },
  {
   "cell_type": "code",
   "execution_count": null,
   "metadata": {},
   "outputs": [],
   "source": [
    "is_undirected(edge_index, edge_weight)"
   ]
  },
  {
   "cell_type": "code",
   "execution_count": null,
   "metadata": {},
   "outputs": [],
   "source": [
    "edge_index = torch.tensor([[0, 0, 2, 3, 0], [2, 3, 3, 2, 3]])\n",
    "edge_weight = torch.tensor([0.5, 0.5, 0.5, 0.4])"
   ]
  },
  {
   "cell_type": "code",
   "execution_count": null,
   "metadata": {},
   "outputs": [],
   "source": [
    "edge_index.t()"
   ]
  },
  {
   "cell_type": "code",
   "execution_count": null,
   "metadata": {},
   "outputs": [],
   "source": [
    "sorted, indices = edge_index.t().sort(dim=1)"
   ]
  },
  {
   "cell_type": "code",
   "execution_count": null,
   "metadata": {},
   "outputs": [],
   "source": [
    "sorted"
   ]
  },
  {
   "cell_type": "code",
   "execution_count": null,
   "metadata": {},
   "outputs": [],
   "source": [
    "indices"
   ]
  },
  {
   "cell_type": "code",
   "execution_count": null,
   "metadata": {},
   "outputs": [],
   "source": [
    "import pandas as pd"
   ]
  },
  {
   "cell_type": "code",
   "execution_count": null,
   "metadata": {},
   "outputs": [],
   "source": [
    "array = edge_index.numpy()\n",
    "\n",
    "df1 = pd.DataFrame(np.arange(5), array[0], array[1])\n",
    "df1"
   ]
  },
  {
   "cell_type": "code",
   "execution_count": null,
   "metadata": {},
   "outputs": [],
   "source": [
    "array[0]"
   ]
  }
 ],
 "metadata": {
  "language_info": {
   "name": "python",
   "pygments_lexer": "ipython3"
  }
 },
 "nbformat": 4,
 "nbformat_minor": 4
}
