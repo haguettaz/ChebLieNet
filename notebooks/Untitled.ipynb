{
 "cells": [
  {
   "cell_type": "code",
   "execution_count": null,
   "metadata": {},
   "outputs": [],
   "source": [
    "!python3 ~/Documents/thesis/GroupEquivariantChebNets/scripts/debug_script.py"
   ]
  },
  {
   "cell_type": "code",
   "execution_count": null,
   "metadata": {},
   "outputs": [],
   "source": [
    "import torch\n",
    "from torch.nn import BatchNorm1d, Module, MaxPool1d, AvgPool1d\n",
    "\n",
    "from gechebnet.graph.graph import SE2GEGraph\n",
    "from gechebnet.model.chebnet import GEChebNet"
   ]
  },
  {
   "cell_type": "code",
   "execution_count": null,
   "metadata": {},
   "outputs": [],
   "source": [
    "import torch\n",
    "from pykeops.torch import LazyTensor, Pm, Vi, Vj\n",
    "import math"
   ]
  },
  {
   "cell_type": "code",
   "execution_count": null,
   "metadata": {},
   "outputs": [],
   "source": [
    "def so3_matrix(alpha, beta, gamma, device=None):\n",
    "    cosa = torch.cos(alpha)\n",
    "    sina = torch.sin(alpha)\n",
    "    Ra = torch.zeros((alpha.shape[0], 3, 3), device=device)\n",
    "    Ra[:, 1, 1] = cosa\n",
    "    Ra[:, 1, 2] = -sina\n",
    "    Ra[:, 2, 1] = sina\n",
    "    Ra[:, 2, 2] = cosa\n",
    "    Ra[:, 0, 0] = 1.0\n",
    "\n",
    "    cosb = torch.cos(beta)\n",
    "    sinb = torch.sin(beta)\n",
    "    Rb = torch.zeros((beta.shape[0], 3, 3), device=device)\n",
    "    Rb[:, 0, 0] = cosb\n",
    "    Rb[:, 0, 2] = sinb\n",
    "    Rb[:, 2, 0] = -sinb\n",
    "    Rb[:, 2, 2] = cosb\n",
    "    Rb[:, 1, 1] = 1.0\n",
    "\n",
    "    cosc = torch.cos(gamma)\n",
    "    sinc = torch.sin(gamma)\n",
    "    Rc = torch.zeros((gamma.shape[0], 3, 3), device=device)\n",
    "    Rc[:, 0, 0] = cosc\n",
    "    Rc[:, 0, 1] = -sinc\n",
    "    Rc[:, 1, 0] = sinc\n",
    "    Rc[:, 1, 1] = cosc\n",
    "    Rc[:, 2, 2] = 1.0\n",
    "\n",
    "    return Rc @ Rb @ Ra\n",
    "\n"
   ]
  },
  {
   "cell_type": "code",
   "execution_count": null,
   "metadata": {},
   "outputs": [],
   "source": [
    "0.3232**2 + 0.3232**2"
   ]
  },
  {
   "cell_type": "code",
   "execution_count": null,
   "metadata": {},
   "outputs": [],
   "source": [
    "alpha = torch.tensor([math.pi/4])\n",
    "beta = torch.tensor([math.pi/4])\n",
    "gamma = torch.tensor([math.pi/4])"
   ]
  },
  {
   "cell_type": "code",
   "execution_count": null,
   "metadata": {},
   "outputs": [],
   "source": [
    "Gg = so3_matrix(alpha, beta, gamma)[0]\n",
    "Gg"
   ]
  },
  {
   "cell_type": "code",
   "execution_count": null,
   "metadata": {},
   "outputs": [],
   "source": [
    "Gg = torch.tensor([\n",
    "    [-0.499861, -0.0920301, -0.861202],\n",
    "    [-0.263421, -0.931079, 0.252393], \n",
    "    [-0.825075, 0.35302, 0.441167]\n",
    "])\n",
    "Gg"
   ]
  },
  {
   "cell_type": "code",
   "execution_count": null,
   "metadata": {},
   "outputs": [],
   "source": [
    "A = 0.5 * (Gg - Gg.t())\n",
    "A"
   ]
  },
  {
   "cell_type": "code",
   "execution_count": null,
   "metadata": {},
   "outputs": [],
   "source": [
    "norm_A = (0.5 * A.pow(2).sum()).sqrt()\n",
    "norm_A"
   ]
  },
  {
   "cell_type": "code",
   "execution_count": null,
   "metadata": {},
   "outputs": [],
   "source": [
    "Log = A * torch.asin(norm_A) / norm_A\n",
    "math.acos(1)"
   ]
  },
  {
   "cell_type": "code",
   "execution_count": null,
   "metadata": {},
   "outputs": [],
   "source": [
    "theta = math.acos((Gg.diag().sum() - 1)/2)\n",
    "Log = theta / math.sin(theta) * 0.5 * (Gg - Gg.t())\n",
    "Log"
   ]
  },
  {
   "cell_type": "code",
   "execution_count": null,
   "metadata": {},
   "outputs": [],
   "source": [
    "0.406123 / math.asin(0.406123)"
   ]
  },
  {
   "cell_type": "code",
   "execution_count": null,
   "metadata": {},
   "outputs": [],
   "source": [
    "import torch\n",
    "import math"
   ]
  },
  {
   "cell_type": "code",
   "execution_count": null,
   "metadata": {},
   "outputs": [],
   "source": [
    "x = torch.rand(10)\n",
    "y = torch.rand(10)\n",
    "z = torch.rand(10)\n",
    "\n",
    "norm = torch.sqrt(x.pow(2) + y.pow(2) + z.pow(2))\n",
    "\n",
    "x *= math.pi / norm\n",
    "y *= math.pi / norm\n",
    "z *= math.pi / norm"
   ]
  },
  {
   "cell_type": "code",
   "execution_count": null,
   "metadata": {},
   "outputs": [],
   "source": [
    "x = torch.tensor([1])\n",
    "y = torch.tensor([0])\n",
    "\n",
    "torch.atan2(x, y)"
   ]
  },
  {
   "cell_type": "code",
   "execution_count": null,
   "metadata": {},
   "outputs": [],
   "source": [
    "def xyz2alphabetagamma(x, y, z):\n",
    "    # atan2 always returns a number in [-pi ; pi]\n",
    "    \n",
    "    alpha = torch.sqrt(x.pow(2) + y.pow(2) + z.pow(2)) - math.pi #ok\n",
    "    \n",
    "    beta = torch.stack(\n",
    "        (torch.atan2(-z, -torch.sqrt(x.pow(2) + y.pow(2))), torch.atan2(-z, torch.sqrt(x.pow(2) + y.pow(2)))),\n",
    "        dim=-1\n",
    "    )\n",
    "    \n",
    "    gamma = torch.stack(\n",
    "        (torch.atan2(-y, -x), torch.atan2(y, x)),\n",
    "        dim=-1\n",
    "    )\n",
    "    \n",
    "    mask = (beta >= -math.pi) & (beta < math.pi) & (gamma >= -math.pi/2) & (gamma < math.pi/2)\n",
    "        \n",
    "    return alpha, beta[mask], gamma[mask]\n",
    "    \n",
    "def alphabetagamma2xyz(alpha, beta, gamma):\n",
    "    x = (math.pi + alpha) * torch.cos(beta) * torch.cos(gamma)\n",
    "    y = (math.pi + alpha) * torch.cos(beta) * torch.sin(gamma)\n",
    "    z = -(math.pi + alpha) * torch.sin(beta)\n",
    "    return x, y, z\n",
    "    \n",
    "def mod(input, n, d=0.0):\n",
    "    \"\"\"\n",
    "    Returns a new tensor with the modulo with offset of the elements of input.\n",
    "\n",
    "    Args:\n",
    "        input (Tensor): input tensor.\n",
    "        n (float): modulus.\n",
    "        d (float, optional): offset. Defaults to 0.0.\n",
    "\n",
    "    Returns:\n",
    "        (Tensor): output tensor.\n",
    "    \"\"\"\n",
    "    return (input - d) % n + d"
   ]
  },
  {
   "cell_type": "code",
   "execution_count": null,
   "metadata": {},
   "outputs": [],
   "source": [
    "a = torch.tensor([-1., 0., 1.])\n",
    "x, y, z = torch.meshgrid(a,a,a)"
   ]
  },
  {
   "cell_type": "code",
   "execution_count": null,
   "metadata": {},
   "outputs": [],
   "source": [
    "x, y, z = x.flatten(), y.flatten(), z.flatten()\n",
    "\n",
    "mask = (x == 0.) & (y == 0.) & (z == 0.)\n",
    "x, y, z = x[~mask], y[~mask], z[~mask]\n",
    "\n",
    "norm = torch.sqrt(x.pow(2) + y.pow(2) + z.pow(2))\n",
    "\n",
    "x *= math.pi / norm\n",
    "y *= math.pi / norm\n",
    "z *= math.pi / norm\n",
    "\n",
    "x, y, z"
   ]
  },
  {
   "cell_type": "code",
   "execution_count": null,
   "metadata": {},
   "outputs": [],
   "source": [
    "alpha, beta, gamma = xyz2alphabetagamma(x, y, z)\n",
    "alpha, beta, gamma"
   ]
  },
  {
   "cell_type": "code",
   "execution_count": null,
   "metadata": {},
   "outputs": [],
   "source": [
    "x_, y_, z_ = alphabetagamma2xyz(alpha, beta, gamma)"
   ]
  },
  {
   "cell_type": "code",
   "execution_count": null,
   "metadata": {},
   "outputs": [],
   "source": [
    "torch.allclose(x, x_, atol=1e-5, equal_nan=True), torch.allclose(y, y_, atol=1e-5, equal_nan=True), torch.allclose(z, z_, atol=1e-5, equal_nan=True)"
   ]
  },
  {
   "cell_type": "code",
   "execution_count": null,
   "metadata": {},
   "outputs": [],
   "source": [
    "torch.allclose(x, x_, atol=1e-5, equal_nan=True), torch.allclose(y, y_, atol=1e-5, equal_nan=True), torch.allclose(z, z_, atol=1e-5, equal_nan=True)"
   ]
  },
  {
   "cell_type": "code",
   "execution_count": null,
   "metadata": {},
   "outputs": [],
   "source": [
    "alpha, beta, gamma = xyz2alphabetagamma(x, y, z)\n",
    "alpha, beta, gamma"
   ]
  },
  {
   "cell_type": "code",
   "execution_count": null,
   "metadata": {},
   "outputs": [],
   "source": [
    "x, y, z = alphabetagamma2xyz(alpha, beta, gamma)\n",
    "x, y, z"
   ]
  },
  {
   "cell_type": "code",
   "execution_count": null,
   "metadata": {},
   "outputs": [],
   "source": [
    "xi = 0.6545\n",
    "eps = .58\n",
    "\n",
    "graph = SE2GEGraph(\n",
    "    grid_size=(28, 28),\n",
    "    nsym=9,\n",
    "    knn=4,\n",
    "    sigmas=(xi / eps, xi, 1.0),\n",
    "    weight_kernel=lambda sqdistc, sigmac: torch.exp(-sqdistc / sigmac),           # gaussian\n",
    "    #weight_kernel = lambda sqdistc, sigmac: torch.exp(-torch.sqrt(sqdistc/sigmac)), # laplace\n",
    "    #weight_kernel = lambda sqdistc, sigmac: 1 / (1 + sqdistc / sigmac),        # cauchy\n",
    "    kappa=0.6657,\n",
    ")\n",
    "\n",
    "graph.num_edges"
   ]
  },
  {
   "cell_type": "code",
   "execution_count": null,
   "metadata": {},
   "outputs": [],
   "source": [
    "model = GEChebNet(graph, K=10, in_channels=1, out_channels=10, hidden_channels=20, pooling=\"avg\", laplacian_device=torch.device(\"cuda\"))\n",
    "model = model.to(torch.device(\"cuda\"))"
   ]
  },
  {
   "cell_type": "code",
   "execution_count": null,
   "metadata": {},
   "outputs": [],
   "source": [
    "x = torch.rand(4, 1, 28*28*9, device=torch.device(\"cuda\"))"
   ]
  },
  {
   "cell_type": "code",
   "execution_count": null,
   "metadata": {},
   "outputs": [],
   "source": [
    "model(x)"
   ]
  },
  {
   "cell_type": "code",
   "execution_count": null,
   "metadata": {},
   "outputs": [],
   "source": [
    "D = torch.sparse.FloatTensor(edge_index, edge_weight, torch.Size((num_nodes, num_nodes)))"
   ]
  },
  {
   "cell_type": "code",
   "execution_count": null,
   "metadata": {},
   "outputs": [],
   "source": [
    "D @ torch.ones(num_nodes)"
   ]
  },
  {
   "cell_type": "code",
   "execution_count": null,
   "metadata": {},
   "outputs": [],
   "source": [
    "torch.zeros(num_nodes).scatter_add(0, edge_index[1], edge_weight)"
   ]
  },
  {
   "cell_type": "code",
   "execution_count": null,
   "metadata": {},
   "outputs": [],
   "source": [
    "edge_index_t = edge_index.t()\n",
    "max_, _ = torch.max(edge_index_t, dim=1)\n",
    "min_, _ = torch.min(edge_index_t, dim=1)\n",
    "minmax = torch.stack((min_, max_), dim=0)\n",
    "\n",
    "_, inverse, counts = torch.unique(minmax, dim=1, return_inverse=True, return_counts=True)\n",
    "bad_index = torch.arange(counts.shape[0])[(counts < 2)]"
   ]
  },
  {
   "cell_type": "code",
   "execution_count": null,
   "metadata": {},
   "outputs": [],
   "source": [
    "(counts < 2).sum()"
   ]
  },
  {
   "cell_type": "code",
   "execution_count": null,
   "metadata": {},
   "outputs": [],
   "source": [
    "edge_index = torch.tensor([[0, 1, 2, 3, 1], [1, 0, 3, 2, 1]])\n",
    "edge_weight = torch.tensor([0.5, 0.5,0.5,0.5, 0.4])"
   ]
  },
  {
   "cell_type": "code",
   "execution_count": null,
   "metadata": {},
   "outputs": [],
   "source": [
    "edge_index_t = edge_index.t()\n",
    "max_, _ = torch.max(edge_index_t, dim=1)\n",
    "min_, _ = torch.min(edge_index_t, dim=1)\n",
    "minmax = torch.stack((min_, max_), dim=0)\n",
    "\n",
    "_, inverse, counts = torch.unique(minmax, dim=1, return_inverse=True, return_counts=True)\n",
    "bad_index = torch.arange(counts.shape[0])[(counts < 2)]"
   ]
  },
  {
   "cell_type": "code",
   "execution_count": null,
   "metadata": {},
   "outputs": [],
   "source": [
    "(counts < 2).sum()"
   ]
  },
  {
   "cell_type": "code",
   "execution_count": null,
   "metadata": {},
   "outputs": [],
   "source": [
    "minmax"
   ]
  },
  {
   "cell_type": "code",
   "execution_count": null,
   "metadata": {},
   "outputs": [],
   "source": [
    "from torch import LongTensor, FloatTensor\n",
    "from typing import Tuple\n",
    "\n",
    "def remove_self_loops(edge_index: LongTensor, edge_weight: FloatTensor) -> Tuple[LongTensor, FloatTensor]:\n",
    "    \"\"\"\n",
    "    Removes every self-loop in the graph given by edge_index and edge_weight.\n",
    "\n",
    "    Args:\n",
    "        edge_index (LongTensor): indices of edges.\n",
    "        edge_weight (FloatTensor): weights of edges.\n",
    "\n",
    "    Returns:\n",
    "        LongTensor: indices of edges.\n",
    "        FloatTensor: weights of edges.\n",
    "    \"\"\"\n",
    "    mask = edge_index[0] != edge_index[1]\n",
    "    return edge_index[:, mask], edge_weight[mask]\n",
    "\n",
    "\n",
    "def is_undirected(edge_index: LongTensor, edge_weight: FloatTensor) -> bool:\n",
    "    \"\"\"\n",
    "    Returns True if the graph given by edge_index and edge_weight is undirected.\n",
    "\n",
    "    Args:\n",
    "        edge_index (LongTensor): indices of edges.\n",
    "        edge_weight (FloatTensor): weights of indices.\n",
    "        num_nodes (int): number of nodes.\n",
    "\n",
    "    Returns:\n",
    "        (bool): True if graph is undirected, False otherwise.\n",
    "    \"\"\"\n",
    "    \n",
    "    if (edge_index[0] == edge_index[1]).sum() > 0:\n",
    "        print(\"Warning: Graph contains self-loop\")    \n",
    "        edge_index, edge_weight = remove_self_loops(edge_index, edge_weight)        \n",
    "        \n",
    "    max_, _ = torch.max(edge_index, dim=0)\n",
    "    min_, _ = torch.min(edge_index, dim=0)\n",
    "    minmax = torch.stack((min_, max_), dim=0)\n",
    "    \n",
    "    _, inverse, counts = torch.unique(minmax, dim=1, return_inverse=True, return_counts=True)\n",
    "\n",
    "    return (counts < 2).sum() == 0"
   ]
  },
  {
   "cell_type": "code",
   "execution_count": null,
   "metadata": {},
   "outputs": [],
   "source": [
    "is_undirected(edge_index, edge_weight)"
   ]
  },
  {
   "cell_type": "code",
   "execution_count": null,
   "metadata": {},
   "outputs": [],
   "source": [
    "edge_index = torch.tensor([[0, 0, 2, 3, 0], [2, 3, 3, 2, 3]])\n",
    "edge_weight = torch.tensor([0.5, 0.5, 0.5, 0.4])"
   ]
  },
  {
   "cell_type": "code",
   "execution_count": null,
   "metadata": {},
   "outputs": [],
   "source": [
    "edge_index.t()"
   ]
  },
  {
   "cell_type": "code",
   "execution_count": null,
   "metadata": {},
   "outputs": [],
   "source": [
    "sorted, indices = edge_index.t().sort(dim=1)"
   ]
  },
  {
   "cell_type": "code",
   "execution_count": null,
   "metadata": {},
   "outputs": [],
   "source": [
    "sorted"
   ]
  },
  {
   "cell_type": "code",
   "execution_count": null,
   "metadata": {},
   "outputs": [],
   "source": [
    "indices"
   ]
  },
  {
   "cell_type": "code",
   "execution_count": null,
   "metadata": {},
   "outputs": [],
   "source": [
    "import pandas as pd"
   ]
  },
  {
   "cell_type": "code",
   "execution_count": null,
   "metadata": {},
   "outputs": [],
   "source": [
    "array = edge_index.numpy()\n",
    "\n",
    "df1 = pd.DataFrame(np.arange(5), array[0], array[1])\n",
    "df1"
   ]
  },
  {
   "cell_type": "code",
   "execution_count": null,
   "metadata": {},
   "outputs": [],
   "source": [
    "array[0]"
   ]
  }
 ],
 "metadata": {
  "language_info": {
   "name": "python",
   "pygments_lexer": "ipython3"
  }
 },
 "nbformat": 4,
 "nbformat_minor": 4
}
