{
 "cells": [
  {
   "cell_type": "code",
   "execution_count": null,
   "metadata": {},
   "outputs": [],
   "source": [
    "from torchvision.datasets import MNIST"
   ]
  },
  {
   "cell_type": "code",
   "execution_count": null,
   "metadata": {},
   "outputs": [],
   "source": [
    "import torch\n",
    "import math"
   ]
  },
  {
   "cell_type": "code",
   "execution_count": null,
   "metadata": {},
   "outputs": [],
   "source": [
    "from gechebnet.graphs.gsp import get_rescaled_laplacian\n",
    "from gechebnet.graphs.utils import to_undirected"
   ]
  },
  {
   "cell_type": "code",
   "execution_count": null,
   "metadata": {},
   "outputs": [],
   "source": [
    "import numpy as np"
   ]
  },
  {
   "cell_type": "code",
   "execution_count": null,
   "metadata": {},
   "outputs": [],
   "source": [
    "val = np.array([85.55, 83.91, 83.28])\n",
    "val.mean(), val.std()"
   ]
  },
  {
   "cell_type": "code",
   "execution_count": null,
   "metadata": {},
   "outputs": [],
   "source": [
    "rate = 0.5\n",
    "graph_num_nodes = 20\n",
    "graph_node_index = torch.arange(graph_num_nodes)\n",
    "graph_edge_index = torch.randint(0, graph_num_nodes, (2, 10))\n",
    "graph_edge_weight = torch.rand(10)\n",
    "graph_edge_index, graph_edge_weight = to_undirected(graph_edge_index, graph_edge_weight, self_loop = False)"
   ]
  },
  {
   "cell_type": "code",
   "execution_count": null,
   "metadata": {},
   "outputs": [],
   "source": [
    "import torch"
   ]
  },
  {
   "cell_type": "code",
   "execution_count": null,
   "metadata": {},
   "outputs": [],
   "source": [
    "200 + torch.rand(10)*50"
   ]
  },
  {
   "cell_type": "code",
   "execution_count": null,
   "metadata": {},
   "outputs": [],
   "source": [
    "graph_edge_index"
   ]
  },
  {
   "cell_type": "code",
   "execution_count": null,
   "metadata": {},
   "outputs": [],
   "source": [
    "num_samples = math.floor(rate * graph_num_nodes)\n",
    "sampled_nodes, _ = torch.multinomial(torch.ones(graph_num_nodes), num_samples).sort()\n",
    "node_index = torch.arange(num_samples)\n",
    "sub_node_index = sampled_nodes.clone()\n",
    "\n",
    "# selects edges between sampled nodes\n",
    "node_mapping = torch.empty(graph_num_nodes, dtype=torch.long).fill_(-1)\n",
    "node_mapping[graph_node_index[sampled_nodes]] = node_index\n",
    "\n",
    "edge_index = node_mapping[graph_edge_index]\n",
    "mask = (edge_index[0] >= 0) & (edge_index[1] >= 0)\n",
    "edge_index = edge_index[:, mask]\n",
    "edge_weight = graph_edge_weight[mask]\n",
    "\n",
    "num_nodes = node_index.shape[0]"
   ]
  },
  {
   "cell_type": "code",
   "execution_count": null,
   "metadata": {},
   "outputs": [],
   "source": [
    "sampled_nodes"
   ]
  },
  {
   "cell_type": "code",
   "execution_count": null,
   "metadata": {},
   "outputs": [],
   "source": [
    "edge_index"
   ]
  },
  {
   "cell_type": "code",
   "execution_count": null,
   "metadata": {},
   "outputs": [],
   "source": [
    "edge_weight"
   ]
  },
  {
   "cell_type": "code",
   "execution_count": null,
   "metadata": {},
   "outputs": [],
   "source": [
    "get_rescaled_laplacian(edge_index, edge_weight, num_nodes, 2.0)"
   ]
  }
 ],
 "metadata": {
  "language_info": {
   "name": "python",
   "pygments_lexer": "ipython3"
  }
 },
 "nbformat": 4,
 "nbformat_minor": 4
}
