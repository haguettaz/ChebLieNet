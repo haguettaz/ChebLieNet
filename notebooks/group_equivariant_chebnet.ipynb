{
 "cells": [
  {
   "cell_type": "code",
   "execution_count": null,
   "metadata": {},
   "outputs": [],
   "source": [
    "import torch\n",
    "import numpy as np\n",
    "import math"
   ]
  },
  {
   "cell_type": "code",
   "execution_count": null,
   "metadata": {},
   "outputs": [],
   "source": [
    "device = torch.device(\"cuda\")"
   ]
  },
  {
   "cell_type": "code",
   "execution_count": null,
   "metadata": {},
   "outputs": [],
   "source": [
    "def get_memory_size(input, sparse=False):\n",
    "    if sparse:\n",
    "        return (input._values().element_size() * input._values().nelement() + \n",
    "               input._indices().element_size() * input._indices().nelement() + 8) * 1e-9\n",
    "    return input.element_size() * input.nelement() * 1e-9 # in GB\n",
    "\n",
    "def get_sparsity(input):\n",
    "    return 1 - input._nnz()/input.nelement()"
   ]
  },
  {
   "cell_type": "markdown",
   "metadata": {},
   "source": [
    "# Chebyschev convolution"
   ]
  },
  {
   "cell_type": "code",
   "execution_count": null,
   "metadata": {},
   "outputs": [],
   "source": [
    "from gechebnet.graphs.graphs import SE2GEGraph, RandomSubGraph\n",
    "from gechebnet.nn.layers.convs import ChebConv\n",
    "from gechebnet.liegroups.se2 import se2_uniform_sampling\n",
    "from gechebnet.nn.models.chebnets import WideResGEChebNet"
   ]
  },
  {
   "cell_type": "code",
   "execution_count": null,
   "metadata": {},
   "outputs": [],
   "source": [
    "K = 8\n",
    "kernel_size = 4\n",
    "xi, eps = 2.048 / (28 ** 2), 0.1\n",
    "ntheta = 6"
   ]
  },
  {
   "cell_type": "code",
   "execution_count": null,
   "metadata": {},
   "outputs": [],
   "source": [
    "uniform_sampling = se2_uniform_sampling(28, 28, ntheta)\n",
    "graph = SE2GEGraph(\n",
    "    uniform_sampling,\n",
    "    K=K,\n",
    "    sigmas=(1.0, eps, xi),\n",
    "    path_to_graph=\"saved_graphs\",\n",
    ")\n",
    "sub_graph = RandomSubGraph(graph)\n",
    "\n",
    "# Loads group equivariant Chebnet\n",
    "model = WideResGEChebNet(\n",
    "    in_channels=1,\n",
    "    out_channels=10,\n",
    "    kernel_size=kernel_size,\n",
    "    pool=None,\n",
    "    graph_lvl0=sub_graph,\n",
    "    graph_lvl1=None,\n",
    "    graph_lvl2=None,\n",
    "    depth=8,\n",
    "    widen_factor=2,\n",
    ")\n"
   ]
  },
  {
   "cell_type": "code",
   "execution_count": null,
   "metadata": {},
   "outputs": [],
   "source": [
    "model.load_state_dict(torch.load(\"models/models/model_17.pt\"))"
   ]
  },
  {
   "cell_type": "code",
   "execution_count": null,
   "metadata": {},
   "outputs": [],
   "source": [
    "model.block0.layers[0].conv1"
   ]
  },
  {
   "cell_type": "code",
   "execution_count": null,
   "metadata": {},
   "outputs": [],
   "source": [
    "impulse = torch.zeros(1, 64, 6*28*28)\n",
    "impulse[:,:,100] = 1."
   ]
  },
  {
   "cell_type": "code",
   "execution_count": null,
   "metadata": {},
   "outputs": [],
   "source": [
    "from gechebnet.utils.utils import delta_kronecker\n",
    "import matplotlib.cm as cm\n",
    "import matplotlib.pyplot as plt"
   ]
  },
  {
   "cell_type": "code",
   "execution_count": null,
   "metadata": {},
   "outputs": [],
   "source": [
    "impulse = delta_kronecker((1, 1, 6*28*28), (0,0, 3 * 28 * 28))"
   ]
  },
  {
   "cell_type": "code",
   "execution_count": null,
   "metadata": {},
   "outputs": [],
   "source": [
    "out = model.conv(impulse)"
   ]
  },
  {
   "cell_type": "code",
   "execution_count": null,
   "metadata": {},
   "outputs": [],
   "source": [
    "def plot_filters(graph, filter, indices, in_channels):\n",
    "    L = graph.size[0]\n",
    "    M = np.prod(graph.size[1:])\n",
    "    K = len(indices)\n",
    "\n",
    "    input = torch.zeros(1, in_channels, graph.num_nodes)\n",
    "    input[:,:,100] = 1.\n",
    "    \n",
    "    with torch.no_grad():\n",
    "        output = filter(input)\n",
    "    \n",
    "    fig = plt.figure(figsize=(4*K, 4*L))\n",
    "    \n",
    "    X, Y, Z = graph.cartesian_pos()\n",
    "    \n",
    "    for i, k in enumerate(indices):\n",
    "        for l in range(L):\n",
    "            ax = fig.add_subplot(L, K, l * K + i + 1)\n",
    "            ax.scatter(X[l*M:(l+1)*M], Y[l*M:(l+1)*M], c=output[0, k, l*M:(l+1)*M], cmap=cm.PiYG)\n",
    "            ax.axis(\"off\")\n",
    "            \n",
    "    fig.tight_layout()\n"
   ]
  },
  {
   "cell_type": "code",
   "execution_count": null,
   "metadata": {},
   "outputs": [],
   "source": [
    "plot_filters(sub_graph, model.conv, np.arange(12), 1)"
   ]
  },
  {
   "cell_type": "code",
   "execution_count": null,
   "metadata": {},
   "outputs": [],
   "source": [
    "plot_filters(sub_graph, model.block2, np.arange(12), 16)"
   ]
  },
  {
   "cell_type": "code",
   "execution_count": null,
   "metadata": {},
   "outputs": [],
   "source": [
    "plot_filters(sub_graph, model.block1, np.arange(12), 32)"
   ]
  },
  {
   "cell_type": "code",
   "execution_count": null,
   "metadata": {},
   "outputs": [],
   "source": [
    "plot_filters(sub_graph, model.block0, np.arange(12), 64)"
   ]
  },
  {
   "cell_type": "code",
   "execution_count": null,
   "metadata": {},
   "outputs": [],
   "source": [
    "min(dx ** 2, dy ** 2)/dz**2"
   ]
  },
  {
   "cell_type": "code",
   "execution_count": null,
   "metadata": {},
   "outputs": [],
   "source": [
    "eps = 0.1\n",
    "dz ** 2 / (9 * (dx ** 2)), dz ** 2 / (dx ** 2)"
   ]
  },
  {
   "cell_type": "code",
   "execution_count": null,
   "metadata": {},
   "outputs": [],
   "source": [
    "dz ** 2 / (9 * (dx ** 2) + 10 * dy ** 2)"
   ]
  },
  {
   "cell_type": "code",
   "execution_count": null,
   "metadata": {},
   "outputs": [],
   "source": [
    "dz ** 2 /  max(dx**2, dy**2)"
   ]
  },
  {
   "cell_type": "code",
   "execution_count": null,
   "metadata": {},
   "outputs": [],
   "source": [
    "eps, xi = .1, 20.\n",
    "\n",
    "uniform_sampling = se2_uniform_sampling(3, 3, 6)\n",
    "graph_lvl0 = SE2GEGraph(\n",
    "    uniform_sampling\n",
    "    16,\n",
    "    (xi / eps, xi, 1.0),\n",
    "    \"saved_graphs\"    \n",
    ")\n",
    "graph_lvl4 = SE2GEGraph(\n",
    "    nx=4,\n",
    "    ny=4,\n",
    "    ntheta=3,\n",
    "    K=8,\n",
    "    sigmas=(xi / eps, xi, 1.0),\n",
    "    weight_kernel=lambda sqdistc, sigmac: torch.exp(-sqdistc / sigmac),\n",
    ")\n",
    "graph_lvl3 = SE2GEGraph(\n",
    "    nx=2,\n",
    "    ny=2,\n",
    "    ntheta=3,\n",
    "    K=8,\n",
    "    sigmas=(xi / eps, xi, 1.0),\n",
    "    weight_kernel=lambda sqdistc, sigmac: torch.exp(-sqdistc / sigmac),\n",
    ")\n",
    "graph_lvl2 = SE2GEGraph(\n",
    "    nx=2,\n",
    "    ny=2,\n",
    "    ntheta=3,\n",
    "    K=8,\n",
    "    sigmas=(xi / eps, xi, 1.0),\n",
    "    weight_kernel=lambda sqdistc, sigmac: torch.exp(-sqdistc / sigmac),\n",
    ")\n",
    "graph_lvl1 = SE2GEGraph(\n",
    "    nx=2,\n",
    "    ny=2,\n",
    "    ntheta=3,\n",
    "    K=8,\n",
    "    sigmas=(xi / eps, xi, 1.0),\n",
    "    weight_kernel=lambda sqdistc, sigmac: torch.exp(-sqdistc / sigmac),\n",
    ")\n",
    "graph_lvl0 = SE2GEGraph(\n",
    "    nx=3,\n",
    "    ny=3,\n",
    "    ntheta=6,\n",
    "    K=16,\n",
    "    sigmas=(xi / eps, xi, 1.0),\n",
    "    weight_kernel=lambda sqdistc, sigmac: torch.exp(-sqdistc / sigmac),\n",
    ")"
   ]
  },
  {
   "cell_type": "code",
   "execution_count": null,
   "metadata": {},
   "outputs": [],
   "source": [
    "sub_graph_lvl1 = RandomSubGraph(graph_lvl1)\n",
    "sub_graph_lvl2 = RandomSubGraph(graph_lvl2)\n",
    "sub_graph_lvl3 = RandomSubGraph(graph_lvl3)"
   ]
  },
  {
   "cell_type": "code",
   "execution_count": null,
   "metadata": {},
   "outputs": [],
   "source": [
    "cheb_conv = ChebConv(sub_graph_lvl1, 1, 1, 2, ).to(device)"
   ]
  },
  {
   "cell_type": "code",
   "execution_count": null,
   "metadata": {},
   "outputs": [],
   "source": [
    "x = torch.rand(1, 1, 8*8*3).to(device)"
   ]
  },
  {
   "cell_type": "code",
   "execution_count": null,
   "metadata": {},
   "outputs": [],
   "source": [
    "cheb_conv(x).shape"
   ]
  },
  {
   "cell_type": "code",
   "execution_count": null,
   "metadata": {},
   "outputs": [],
   "source": [
    "if hasattr(sub_graph, \"laplacian\"):\n",
    "    del sub_graph.laplacian\n",
    "if hasattr(sub_graph, \"node_proj\"):\n",
    "    del sub_graph.node_proj\n",
    "    \n",
    "sub_graph.node_sampling(0.5)"
   ]
  },
  {
   "cell_type": "code",
   "execution_count": null,
   "metadata": {},
   "outputs": [],
   "source": [
    "x = sub_graph.project(x)\n",
    "y = cheb_conv(x)"
   ]
  },
  {
   "cell_type": "markdown",
   "metadata": {},
   "source": [
    "## Wide Residual Group Equivariant ChebNet"
   ]
  },
  {
   "cell_type": "code",
   "execution_count": null,
   "metadata": {},
   "outputs": [],
   "source": [
    "from gechebnet.model.reschebnet import WideResGEChebNet"
   ]
  },
  {
   "cell_type": "code",
   "execution_count": null,
   "metadata": {},
   "outputs": [],
   "source": [
    "model = WideResGEChebNet(in_channels=1, out_channels=10, R=5, graph=se2_graph, depth=26, widen_factor=2)\n",
    "model = model.to(device)\n",
    "model"
   ]
  },
  {
   "cell_type": "code",
   "execution_count": null,
   "metadata": {},
   "outputs": [],
   "source": [
    "capacity(model)"
   ]
  },
  {
   "cell_type": "code",
   "execution_count": null,
   "metadata": {},
   "outputs": [],
   "source": [
    "model(x)"
   ]
  }
 ],
 "metadata": {
  "language_info": {
   "name": "python",
   "pygments_lexer": "ipython3"
  }
 },
 "nbformat": 4,
 "nbformat_minor": 4
}
