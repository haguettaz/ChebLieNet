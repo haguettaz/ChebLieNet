{
 "cells": [
  {
   "cell_type": "code",
   "execution_count": null,
   "metadata": {},
   "outputs": [],
   "source": [
    "import torch\n",
    "import numpy as np\n",
    "import math\n",
    "\n",
    "#import pykeops\n",
    "#pykeops.clean_pykeops()"
   ]
  },
  {
   "cell_type": "code",
   "execution_count": null,
   "metadata": {},
   "outputs": [],
   "source": [
    "device = torch.device(\"cuda\")"
   ]
  },
  {
   "cell_type": "code",
   "execution_count": null,
   "metadata": {},
   "outputs": [],
   "source": [
    "from gechebnet.graph.graph import SE2GEGraph"
   ]
  },
  {
   "cell_type": "code",
   "execution_count": null,
   "metadata": {},
   "outputs": [],
   "source": [
    "xi, eps = 1., 1.\n",
    "se2_graph = SE2GEGraph(\n",
    "    nx=30,\n",
    "    ny=30,\n",
    "    ntheta=10,\n",
    "    knn=4,\n",
    "    sigmas=(xi / eps, xi, 1.0),\n",
    "    weight_kernel=lambda sqdistc, sigmac: torch.exp(-sqdistc / sigmac),\n",
    "    kappa=0.,\n",
    "    device=torch.device(\"cuda\")\n",
    ")"
   ]
  },
  {
   "cell_type": "code",
   "execution_count": null,
   "metadata": {},
   "outputs": [],
   "source": [
    "laplacian = se2_graph.laplacian()"
   ]
  },
  {
   "cell_type": "code",
   "execution_count": null,
   "metadata": {},
   "outputs": [],
   "source": [
    "from gechebnet.graph.signal_processing import get_laplacian\n",
    "from gechebnet.graph.utils import remove_directed_edges"
   ]
  },
  {
   "cell_type": "code",
   "execution_count": null,
   "metadata": {},
   "outputs": [],
   "source": [
    "from gechebnet.graph.utils import code_edges"
   ]
  },
  {
   "cell_type": "code",
   "execution_count": null,
   "metadata": {},
   "outputs": [],
   "source": [
    "def sparsify_laplacian(laplacian, kappa, on=\"edges\"):\n",
    "    if not on in {\"edges\", \"nodes\"}:\n",
    "        raise ValueError(f\"{on} is not a valid value for on: must be 'edges' or 'nodes'.\")\n",
    "    \n",
    "    num_nodes = laplacian.size(0)\n",
    "    \n",
    "    # number of edges corresponds to non zero values minus the number of diagonal elements\n",
    "    num_edges = laplacian._nnz() - num_nodes\n",
    "    \n",
    "    edge_index = laplacian._indices()\n",
    "    edge_weight = -laplacian._values()\n",
    "    mask = edge_index[0] != edge_index[1] # mask corresponding to non-diagonal elements \n",
    "    \n",
    "    if on==\"edges\":\n",
    "        return sparsify_edges(edge_index[:, mask], edge_weight[mask], num_nodes, num_edges, kappa)\n",
    "    else:\n",
    "        node_index = edge_index[0].unique()\n",
    "        return sparsify_nodes(edge_index[:, mask], edge_weight[mask], node_index, num_nodes, num_edges, kappa)\n",
    "\n",
    "def sparsify_edges(edge_index, edge_weight, num_nodes, num_edges, kappa):\n",
    "    edge_code = code_edges(edge_index, edge_weight, num_nodes)\n",
    "    unique, inverse = edge_code.unique(return_inverse=True)\n",
    "    \n",
    "    num_samples = math.ceil((1 - kappa) * unique.size(0))  # num edges to keep\n",
    "    probabilities = unique - unique.floor()\n",
    "    random_sampling = torch.multinomial(probabilities, num_samples)\n",
    "\n",
    "    mask = torch.tensor([False]*num_edges)\n",
    "    for eidx in unique[random_sampling]:\n",
    "        mask += edge_code == eidx\n",
    "        \n",
    "    return get_laplacian(edge_index[:, mask], edge_weight[mask], num_nodes)\n",
    "\n",
    "def sparsify_nodes(edge_index, edge_weight, node_index, num_nodes, num_edges, kappa):\n",
    "    num_samples = math.floor(kappa * num_nodes)  # num nodes to drop\n",
    "    random_sampling = torch.multinomial(torch.ones(num_nodes), num_samples)\n",
    "    \n",
    "    mask = torch.tensor([False]*num_edges)\n",
    "    for nidx in node_index[random_sampling]:\n",
    "        mask += (edge_index[0] == nidx) + (edge_index[1] == nidx)\n",
    "        \n",
    "    return get_laplacian(edge_index[:, ~mask], edge_weight[~mask], num_nodes)"
   ]
  },
  {
   "cell_type": "code",
   "execution_count": null,
   "metadata": {},
   "outputs": [],
   "source": [
    "sparse_laplacian = sparsify_laplacian(laplacian, 0.75, on=\"edges\")\n",
    "sparse_laplacian"
   ]
  },
  {
   "cell_type": "code",
   "execution_count": null,
   "metadata": {},
   "outputs": [],
   "source": [
    "get_laplacian(se2_graph.laplacian())"
   ]
  },
  {
   "cell_type": "code",
   "execution_count": null,
   "metadata": {},
   "outputs": [],
   "source": [
    "W_norm = torch.sparse.FloatTensor(sparse_index, sparse_weight / divide[sparse_index[1]], torch.Size((8, 8)))\n",
    "W_norm = torch.sparse.FloatTensor(edge_index, edge_weight, torch.Size((num_nodes, num_nodes)))\n",
    "I = sparse_tensor_diag(num_nodes)\n",
    "return (I - W_norm).to(device)"
   ]
  },
  {
   "cell_type": "code",
   "execution_count": null,
   "metadata": {},
   "outputs": [],
   "source": [
    "sparse_weight / divide[sparse_index[1]]"
   ]
  },
  {
   "cell_type": "code",
   "execution_count": null,
   "metadata": {},
   "outputs": [],
   "source": [
    "sparse_weight[sparse_]"
   ]
  },
  {
   "cell_type": "code",
   "execution_count": null,
   "metadata": {},
   "outputs": [],
   "source": [
    "S = torch.sparse.sum(sparse_L, dim=0)\n",
    "\n",
    "divide = torch.zeros(8)\n",
    "divide[S.coalesce().indices()] = S.coalesce().values()\n",
    "sparse_L / divide"
   ]
  },
  {
   "cell_type": "code",
   "execution_count": null,
   "metadata": {},
   "outputs": [],
   "source": [
    "sparse_L, S"
   ]
  },
  {
   "cell_type": "code",
   "execution_count": null,
   "metadata": {},
   "outputs": [],
   "source": [
    "index_row = sparse_L.coalesce().indices()[1]\n"
   ]
  },
  {
   "cell_type": "code",
   "execution_count": null,
   "metadata": {},
   "outputs": [],
   "source": [
    "laplacian = torch.sparse.FloatTensor(torch.randint(0, 100, (2, 1000)), torch.rand(1000), torch.Size((100, 100)))\n",
    "sparse_laplacian = torch.sparse.FloatTensor(torch.randint(0, 100, (2, 500)), torch.rand(500), torch.Size((100, 100)))"
   ]
  },
  {
   "cell_type": "code",
   "execution_count": null,
   "metadata": {},
   "outputs": [],
   "source": [
    "x0 = torch.rand(100,1)"
   ]
  },
  {
   "cell_type": "code",
   "execution_count": null,
   "metadata": {},
   "outputs": [],
   "source": [
    "%timeit torch.mm(laplacian, x0)"
   ]
  },
  {
   "cell_type": "code",
   "execution_count": null,
   "metadata": {},
   "outputs": [],
   "source": [
    "%timeit torch.mm(sparse_laplacian, x0)"
   ]
  },
  {
   "cell_type": "code",
   "execution_count": null,
   "metadata": {},
   "outputs": [],
   "source": [
    "def get_sparse_laplacian(laplacian, on=\"edges\"):\n",
    "    "
   ]
  },
  {
   "cell_type": "markdown",
   "metadata": {},
   "source": [
    "## ChebNet"
   ]
  },
  {
   "cell_type": "code",
   "execution_count": null,
   "metadata": {},
   "outputs": [],
   "source": [
    "from gechebnet.model.chebnet import GEChebNet"
   ]
  },
  {
   "cell_type": "code",
   "execution_count": null,
   "metadata": {},
   "outputs": [],
   "source": [
    "K = 5\n",
    "in_channels = 3\n",
    "out_channels = 10\n",
    "hidden_channels = [16, 17, 19, 23]"
   ]
  },
  {
   "cell_type": "code",
   "execution_count": null,
   "metadata": {},
   "outputs": [],
   "source": [
    "model = GEChebNet(se2_graph, K, in_channels, hidden_channels, out_channels, device=device)\n",
    "model"
   ]
  },
  {
   "cell_type": "code",
   "execution_count": null,
   "metadata": {},
   "outputs": [],
   "source": [
    "model = model.to(device)"
   ]
  },
  {
   "cell_type": "code",
   "execution_count": null,
   "metadata": {},
   "outputs": [],
   "source": [
    "x = torch.rand(16, 3, 600, device=device)\n",
    "x.shape"
   ]
  },
  {
   "cell_type": "code",
   "execution_count": null,
   "metadata": {},
   "outputs": [],
   "source": [
    "y = model(x)\n",
    "y.shape"
   ]
  },
  {
   "cell_type": "markdown",
   "metadata": {},
   "source": [
    "## ResChebNet"
   ]
  },
  {
   "cell_type": "code",
   "execution_count": null,
   "metadata": {},
   "outputs": [],
   "source": [
    "from gechebnet.model.reschebnet import ResGEChebNet"
   ]
  },
  {
   "cell_type": "code",
   "execution_count": null,
   "metadata": {},
   "outputs": [],
   "source": [
    "K = 10\n",
    "in_channels = 3\n",
    "out_channels = 10\n",
    "hidden_channels = [[16, 16, 16], [16, 32, 32], [32, 64, 64]]"
   ]
  },
  {
   "cell_type": "code",
   "execution_count": null,
   "metadata": {},
   "outputs": [],
   "source": [
    "model = ResGEChebNet(se2_graph, K, in_channels, hidden_channels, out_channels, device=device)\n",
    "model"
   ]
  },
  {
   "cell_type": "code",
   "execution_count": null,
   "metadata": {},
   "outputs": [],
   "source": [
    "model.capacity"
   ]
  },
  {
   "cell_type": "code",
   "execution_count": null,
   "metadata": {},
   "outputs": [],
   "source": [
    "model = model.to(device)"
   ]
  },
  {
   "cell_type": "code",
   "execution_count": null,
   "metadata": {},
   "outputs": [],
   "source": [
    "x = torch.rand(16, 3, 600, device=device)\n",
    "x.shape"
   ]
  },
  {
   "cell_type": "code",
   "execution_count": null,
   "metadata": {},
   "outputs": [],
   "source": [
    "y = model(x)\n",
    "y.shape"
   ]
  },
  {
   "cell_type": "code",
   "execution_count": null,
   "metadata": {},
   "outputs": [],
   "source": [
    "from torch import nn\n",
    "m = nn.Identity()\n",
    "m(x, torch.rand(2))"
   ]
  },
  {
   "cell_type": "code",
   "execution_count": null,
   "metadata": {},
   "outputs": [],
   "source": [
    "import torch"
   ]
  },
  {
   "cell_type": "code",
   "execution_count": null,
   "metadata": {},
   "outputs": [],
   "source": [
    "num_nodes = 5400\n",
    "num_edges = 5400*32\n",
    "edge_index = torch.randint(0, num_nodes, (2, num_edges))\n",
    "node_index = torch.arange(num_nodes).unsqueeze(1)"
   ]
  },
  {
   "cell_type": "code",
   "execution_count": null,
   "metadata": {},
   "outputs": [],
   "source": [
    "(node_index.repeat(1, num_edges) == edge_index[0]).sum(dim=1).min() > 0"
   ]
  },
  {
   "cell_type": "code",
   "execution_count": null,
   "metadata": {},
   "outputs": [],
   "source": [
    "random sparse nodes"
   ]
  }
 ],
 "metadata": {
  "language_info": {
   "name": "python",
   "pygments_lexer": "ipython3"
  }
 },
 "nbformat": 4,
 "nbformat_minor": 4
}
