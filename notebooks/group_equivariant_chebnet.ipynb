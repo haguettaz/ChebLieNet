{
 "cells": [
  {
   "cell_type": "code",
   "execution_count": null,
   "metadata": {},
   "outputs": [],
   "source": [
    "import torch\n",
    "import numpy as np\n",
    "import math"
   ]
  },
  {
   "cell_type": "code",
   "execution_count": null,
   "metadata": {},
   "outputs": [],
   "source": [
    "device = torch.device(\"cuda\")"
   ]
  },
  {
   "cell_type": "code",
   "execution_count": null,
   "metadata": {},
   "outputs": [],
   "source": [
    "def get_memory_size(input, sparse=False):\n",
    "    if sparse:\n",
    "        return (input._values().element_size() * input._values().nelement() + \n",
    "               input._indices().element_size() * input._indices().nelement() + 8) * 1e-9\n",
    "    return input.element_size() * input.nelement() * 1e-9 # in GB\n",
    "\n",
    "def get_sparsity(input):\n",
    "    return 1 - input._nnz()/input.nelement()"
   ]
  },
  {
   "cell_type": "markdown",
   "metadata": {},
   "source": [
    "# Chebyschev convolution"
   ]
  },
  {
   "cell_type": "code",
   "execution_count": null,
   "metadata": {},
   "outputs": [],
   "source": [
    "from gechebnet.graphs.graphs import SE2GEGraph, RandomSubGraph\n",
    "from gechebnet.nn.layers.convs import ChebConv\n",
    "from gechebnet.liegroups.se2 import se2_uniform_sampling"
   ]
  },
  {
   "cell_type": "code",
   "execution_count": null,
   "metadata": {},
   "outputs": [],
   "source": [
    "uniform_sampling = se2_uniform_sampling(3, 3, 6)\n",
    "dz = math.pi / 6\n",
    "dx = 1 / 8\n",
    "dy = 1 / 8"
   ]
  },
  {
   "cell_type": "code",
   "execution_count": null,
   "metadata": {},
   "outputs": [],
   "source": [
    "so3_uniform_sampling(2,1)"
   ]
  },
  {
   "cell_type": "code",
   "execution_count": null,
   "metadata": {},
   "outputs": [],
   "source": [
    "0.003/16"
   ]
  },
  {
   "cell_type": "code",
   "execution_count": null,
   "metadata": {},
   "outputs": [],
   "source": [
    "[0.4**(1/(2*i)) for i in range(1, 5)]"
   ]
  },
  {
   "cell_type": "code",
   "execution_count": null,
   "metadata": {},
   "outputs": [],
   "source": [
    "\n",
    "0.001 /4"
   ]
  },
  {
   "cell_type": "code",
   "execution_count": null,
   "metadata": {},
   "outputs": [],
   "source": [
    "L = 6\n",
    "fun = lambda M, a: a * 6 / (math.pi * math.sqrt(math.pi * M))\n",
    "\n",
    "for M in [16, 64, 256, 1024, 4096, 16384]:\n",
    "    for a in [0.4, 0.8, 1.2, 1.6]:\n",
    "        print(M, a, fun(M, a))"
   ]
  },
  {
   "cell_type": "code",
   "execution_count": null,
   "metadata": {},
   "outputs": [],
   "source": [
    "Sp = eps/M\n",
    "dm = math.sqrt(Sp)\n",
    "xi = 4 * dm**2 * 6**2/(math.pi**2)  \n",
    "xi"
   ]
  },
  {
   "cell_type": "code",
   "execution_count": null,
   "metadata": {},
   "outputs": [],
   "source": [
    "dm"
   ]
  },
  {
   "cell_type": "code",
   "execution_count": null,
   "metadata": {},
   "outputs": [],
   "source": [
    "min(dx ** 2, dy ** 2)/dz**2"
   ]
  },
  {
   "cell_type": "code",
   "execution_count": null,
   "metadata": {},
   "outputs": [],
   "source": [
    "eps = 0.1\n",
    "dz ** 2 / (9 * (dx ** 2)), dz ** 2 / (dx ** 2)"
   ]
  },
  {
   "cell_type": "code",
   "execution_count": null,
   "metadata": {},
   "outputs": [],
   "source": [
    "dz ** 2 / (9 * (dx ** 2) + 10 * dy ** 2)"
   ]
  },
  {
   "cell_type": "code",
   "execution_count": null,
   "metadata": {},
   "outputs": [],
   "source": [
    "dz ** 2 /  max(dx**2, dy**2)"
   ]
  },
  {
   "cell_type": "code",
   "execution_count": null,
   "metadata": {},
   "outputs": [],
   "source": [
    "eps, xi = .1, 20.\n",
    "\n",
    "uniform_sampling = se2_uniform_sampling(3, 3, 6)\n",
    "graph_lvl0 = SE2GEGraph(\n",
    "    uniform_sampling\n",
    "    16,\n",
    "    (xi / eps, xi, 1.0),\n",
    "    \"saved_graphs\"    \n",
    ")\n",
    "graph_lvl4 = SE2GEGraph(\n",
    "    nx=4,\n",
    "    ny=4,\n",
    "    ntheta=3,\n",
    "    K=8,\n",
    "    sigmas=(xi / eps, xi, 1.0),\n",
    "    weight_kernel=lambda sqdistc, sigmac: torch.exp(-sqdistc / sigmac),\n",
    ")\n",
    "graph_lvl3 = SE2GEGraph(\n",
    "    nx=2,\n",
    "    ny=2,\n",
    "    ntheta=3,\n",
    "    K=8,\n",
    "    sigmas=(xi / eps, xi, 1.0),\n",
    "    weight_kernel=lambda sqdistc, sigmac: torch.exp(-sqdistc / sigmac),\n",
    ")\n",
    "graph_lvl2 = SE2GEGraph(\n",
    "    nx=2,\n",
    "    ny=2,\n",
    "    ntheta=3,\n",
    "    K=8,\n",
    "    sigmas=(xi / eps, xi, 1.0),\n",
    "    weight_kernel=lambda sqdistc, sigmac: torch.exp(-sqdistc / sigmac),\n",
    ")\n",
    "graph_lvl1 = SE2GEGraph(\n",
    "    nx=2,\n",
    "    ny=2,\n",
    "    ntheta=3,\n",
    "    K=8,\n",
    "    sigmas=(xi / eps, xi, 1.0),\n",
    "    weight_kernel=lambda sqdistc, sigmac: torch.exp(-sqdistc / sigmac),\n",
    ")\n",
    "graph_lvl0 = SE2GEGraph(\n",
    "    nx=3,\n",
    "    ny=3,\n",
    "    ntheta=6,\n",
    "    K=16,\n",
    "    sigmas=(xi / eps, xi, 1.0),\n",
    "    weight_kernel=lambda sqdistc, sigmac: torch.exp(-sqdistc / sigmac),\n",
    ")"
   ]
  },
  {
   "cell_type": "code",
   "execution_count": null,
   "metadata": {},
   "outputs": [],
   "source": [
    "sub_graph_lvl1 = RandomSubGraph(graph_lvl1)\n",
    "sub_graph_lvl2 = RandomSubGraph(graph_lvl2)\n",
    "sub_graph_lvl3 = RandomSubGraph(graph_lvl3)"
   ]
  },
  {
   "cell_type": "code",
   "execution_count": null,
   "metadata": {},
   "outputs": [],
   "source": [
    "cheb_conv = ChebConv(sub_graph_lvl1, 1, 1, 2, ).to(device)"
   ]
  },
  {
   "cell_type": "code",
   "execution_count": null,
   "metadata": {},
   "outputs": [],
   "source": [
    "x = torch.rand(1, 1, 8*8*3).to(device)"
   ]
  },
  {
   "cell_type": "code",
   "execution_count": null,
   "metadata": {},
   "outputs": [],
   "source": [
    "cheb_conv(x).shape"
   ]
  },
  {
   "cell_type": "code",
   "execution_count": null,
   "metadata": {},
   "outputs": [],
   "source": [
    "if hasattr(sub_graph, \"laplacian\"):\n",
    "    del sub_graph.laplacian\n",
    "if hasattr(sub_graph, \"node_proj\"):\n",
    "    del sub_graph.node_proj\n",
    "    \n",
    "sub_graph.node_sampling(0.5)"
   ]
  },
  {
   "cell_type": "code",
   "execution_count": null,
   "metadata": {},
   "outputs": [],
   "source": [
    "x = sub_graph.project(x)\n",
    "y = cheb_conv(x)"
   ]
  },
  {
   "cell_type": "markdown",
   "metadata": {},
   "source": [
    "## Wide Residual Group Equivariant ChebNet"
   ]
  },
  {
   "cell_type": "code",
   "execution_count": null,
   "metadata": {},
   "outputs": [],
   "source": [
    "from gechebnet.model.reschebnet import WideResGEChebNet"
   ]
  },
  {
   "cell_type": "code",
   "execution_count": null,
   "metadata": {},
   "outputs": [],
   "source": [
    "model = WideResGEChebNet(in_channels=1, out_channels=10, R=5, graph=se2_graph, depth=26, widen_factor=2)\n",
    "model = model.to(device)\n",
    "model"
   ]
  },
  {
   "cell_type": "code",
   "execution_count": null,
   "metadata": {},
   "outputs": [],
   "source": [
    "capacity(model)"
   ]
  },
  {
   "cell_type": "code",
   "execution_count": null,
   "metadata": {},
   "outputs": [],
   "source": [
    "model(x)"
   ]
  }
 ],
 "metadata": {
  "language_info": {
   "name": "python",
   "pygments_lexer": "ipython3"
  }
 },
 "nbformat": 4,
 "nbformat_minor": 4
}
