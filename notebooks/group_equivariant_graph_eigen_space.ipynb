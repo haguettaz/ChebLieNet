{
 "cells": [
  {
   "cell_type": "code",
   "execution_count": null,
   "metadata": {},
   "outputs": [],
   "source": [
    "import matplotlib.pyplot as plt\n",
    "\n",
    "import torch"
   ]
  },
  {
   "cell_type": "code",
   "execution_count": null,
   "metadata": {},
   "outputs": [],
   "source": [
    "from gechebnet.graphs.graphs import SE2GEGraph, SO3GEGraph\n",
    "from gechebnet.graphs.viz import visualize_graph_signal \n"
   ]
  },
  {
   "cell_type": "code",
   "execution_count": null,
   "metadata": {},
   "outputs": [],
   "source": [
    "from gechebnet.liegroups.so3 import so3_uniform_sampling"
   ]
  },
  {
   "cell_type": "code",
   "execution_count": null,
   "metadata": {},
   "outputs": [],
   "source": [
    "from gechebnet.liegroups.se2 import se2_uniform_sampling\n",
    "import matplotlib.cm as cm\n",
    "import numpy as np"
   ]
  },
  {
   "cell_type": "code",
   "execution_count": null,
   "metadata": {},
   "outputs": [],
   "source": [
    "def plot_eigenspace(graph, indices):\n",
    "    L = graph.size[0]\n",
    "    M = np.prod(graph.size[1:])\n",
    "    K = len(indices)\n",
    "\n",
    "    _, eigenvec = graph.get_eigen_space()\n",
    "    eigenvec = torch.from_numpy(eigenvec)\n",
    "    \n",
    "    fig = plt.figure(figsize=(4*K, 4*L))\n",
    "    \n",
    "    X, Y, Z = graph.cartesian_pos()\n",
    "    \n",
    "    for i, k in enumerate(indices):\n",
    "        for l in range(L):\n",
    "            ax = fig.add_subplot(L, K, l * K + i + 1)\n",
    "            ax.scatter(X[l*M:(l+1)*M], Y[l*M:(l+1)*M], c=eigenvec[l*M:(l+1)*M, k], cmap=cm.PiYG)\n",
    "            ax.axis(\"off\")\n",
    "            \n",
    "    fig.tight_layout()\n"
   ]
  },
  {
   "cell_type": "code",
   "execution_count": null,
   "metadata": {},
   "outputs": [],
   "source": [
    "def plot_eigenvalues(graph, indices):\n",
    "    \n",
    "    eigenval, _ = graph.get_eigen_space()\n",
    "    \n",
    "    fig = plt.figure(figsize=(10, 2))\n",
    "    \n",
    "    plt.scatter(indices, eigenval[indices], s=20, c=\"firebrick\")\n",
    "    plt.xlabel(r\"$k$\")\n",
    "    plt.ylabel(r\"$\\lambda_k$\")\n",
    "    plt.xlim(min(indices)-1, max(indices)+1)\n",
    "    \n",
    "    fig.tight_layout()"
   ]
  },
  {
   "cell_type": "markdown",
   "metadata": {},
   "source": [
    "# Projective line bundle of the SE(2) group"
   ]
  },
  {
   "cell_type": "code",
   "execution_count": null,
   "metadata": {},
   "outputs": [],
   "source": [
    "eps, xi = 1., 1. #0.1, 2.048 / (28 ** 2)"
   ]
  },
  {
   "cell_type": "code",
   "execution_count": null,
   "metadata": {},
   "outputs": [],
   "source": [
    "se2_sampling = se2_uniform_sampling(28,28,1)"
   ]
  },
  {
   "cell_type": "code",
   "execution_count": null,
   "metadata": {},
   "outputs": [],
   "source": [
    "se2_graph = SE2GEGraph(\n",
    "    se2_sampling,\n",
    "    K=8,\n",
    "    sigmas=(1., eps, xi),\n",
    "    path_to_graph=\"saved_graphs\"\n",
    ")"
   ]
  },
  {
   "cell_type": "code",
   "execution_count": null,
   "metadata": {},
   "outputs": [],
   "source": [
    "plot_eigenspace(se2_graph,[1, 2, 3, 4, 5, 6, 7, 8, 9, 10, 11, 12])"
   ]
  },
  {
   "cell_type": "code",
   "execution_count": null,
   "metadata": {},
   "outputs": [],
   "source": [
    "plot_eigenvalues(se2_graph, np.arange(30))"
   ]
  },
  {
   "cell_type": "markdown",
   "metadata": {},
   "source": [
    "## Eigenspace"
   ]
  },
  {
   "cell_type": "code",
   "execution_count": null,
   "metadata": {},
   "outputs": [],
   "source": [
    "eigenval, eigenvec = se2_graph.get_eigen_space()\n",
    "eigenval = torch.from_numpy(eigenval)\n",
    "eigenvec = torch.from_numpy(eigenvec)"
   ]
  },
  {
   "cell_type": "code",
   "execution_count": null,
   "metadata": {},
   "outputs": [],
   "source": [
    "fig = plt.figure(figsize=(40, 20))\n",
    "\n",
    "_ = plt.scatter(torch.arange(50), eigenval[:50])\n",
    "_ = plt.xlabel(\"index\")\n",
    "_ = plt.ylabel(\"eigenvalue\")"
   ]
  },
  {
   "cell_type": "code",
   "execution_count": null,
   "metadata": {},
   "outputs": [],
   "source": [
    "import matplotlib.cm as cm\n",
    "\n",
    "num_vecs = 8\n",
    "num_layers = 6\n",
    "\n",
    "fig = plt.figure(figsize=plt.figaspect(1.))\n",
    "\n",
    "fig, axes = plt.subplots(num_layers, num_vecs, squeeze=False, figsize=(num_vecs*4, num_layers*4), projection='3d')\n",
    "\n",
    "for k in range(num_vecs):\n",
    "    for l in range(num_layers):\n",
    "        axes[l][k].scatter(se2_graph.node_x[l*784:(l+1)*784], se2_graph.node_y[l*784:(l+1)*784], c=eigenvec[l*784:(l+1)*784,k+1], cmap=cm.PiYG)\n",
    "        axes[l][k].axis(\"off\")\n",
    "\n",
    "plt.show()\n",
    "print(eigenval[1:9])"
   ]
  },
  {
   "cell_type": "code",
   "execution_count": null,
   "metadata": {},
   "outputs": [],
   "source": [
    "visualize_graph_signal(se2_graph, eigenvec[:,1])"
   ]
  },
  {
   "cell_type": "code",
   "execution_count": null,
   "metadata": {},
   "outputs": [],
   "source": [
    "visualize_graph_signal(se2_graph, eigenvec[:,2], title=fr\"$\\lambda_{2}={eigenval[2].item()}$\")"
   ]
  },
  {
   "cell_type": "code",
   "execution_count": null,
   "metadata": {},
   "outputs": [],
   "source": [
    "visualize_graph_signal(se2_graph, eigenvec[:,3], title=fr\"$\\lambda_{3}={eigenval[3].item()}$\")"
   ]
  },
  {
   "cell_type": "code",
   "execution_count": null,
   "metadata": {},
   "outputs": [],
   "source": [
    "visualize_graph_signal(se2_graph, eigenvec[:,4], title=fr\"$\\lambda_{4}={eigenval[4].item()}$\")"
   ]
  },
  {
   "cell_type": "code",
   "execution_count": null,
   "metadata": {},
   "outputs": [],
   "source": [
    "visualize_graph_signal(se2_graph, eigenvec[:,5], title=fr\"$\\lambda_{5}={eigenval[5].item()}$\")"
   ]
  },
  {
   "cell_type": "markdown",
   "metadata": {},
   "source": [
    "# Projective line bundle of the SO(3) group"
   ]
  },
  {
   "cell_type": "code",
   "execution_count": null,
   "metadata": {},
   "outputs": [],
   "source": [
    "eps, xi = 1., 1."
   ]
  },
  {
   "cell_type": "code",
   "execution_count": null,
   "metadata": {},
   "outputs": [],
   "source": [
    "path_to_sampling = \"/home/hugo/Documents/thesis/GroupEquivariantChebNets/gechebnet/liegroups/sampling\"\n",
    "so3_sampling = so3_uniform_sampling(path_to_sampling, 3, 1)"
   ]
  },
  {
   "cell_type": "code",
   "execution_count": null,
   "metadata": {},
   "outputs": [],
   "source": [
    "so3_graph = SO3GEGraph(\n",
    "    so3_sampling,\n",
    "    K=16,\n",
    "    sigmas=(1., eps, xi),\n",
    "    path_to_graph=\"saved_graphs\"\n",
    ")"
   ]
  },
  {
   "cell_type": "code",
   "execution_count": null,
   "metadata": {},
   "outputs": [],
   "source": [
    "eigenval, eigenvec = so3_graph.get_eigen_space()\n",
    "eigenval = torch.from_numpy(eigenval)\n",
    "eigenvec = torch.from_numpy(eigenvec)"
   ]
  },
  {
   "cell_type": "code",
   "execution_count": null,
   "metadata": {},
   "outputs": [],
   "source": [
    "so3_graph.edge_weight"
   ]
  },
  {
   "cell_type": "code",
   "execution_count": null,
   "metadata": {},
   "outputs": [],
   "source": [
    "_ = plt.scatter(torch.arange(30), eigenval[:30])\n",
    "_ = plt.xlabel(\"index\")\n",
    "_ = plt.ylabel(\"eigenvalue\")"
   ]
  },
  {
   "cell_type": "code",
   "execution_count": null,
   "metadata": {},
   "outputs": [],
   "source": [
    "import matplotlib.cm as cm\n",
    "\n",
    "num_vecs = 8\n",
    "num_layers = 6\n",
    "\n",
    "fig, axes = plt.subplots(num_layers, num_vecs, squeeze=False, figsize=(num_vecs*4, num_layers*4))\n",
    "\n",
    "for k in range(num_vecs):\n",
    "    for l in range(num_layers):\n",
    "        axes[l][k].scatter(so3_graph.node_x[l*784:(l+1)*784], so3_graph.node_y[l*784:(l+1)*784], c=eigenvec[l*784:(l+1)*784,k+1], cmap=cm.PiYG)\n",
    "\n",
    "plt.show()"
   ]
  },
  {
   "cell_type": "code",
   "execution_count": null,
   "metadata": {},
   "outputs": [],
   "source": [
    "so3_graph.num_nodes"
   ]
  },
  {
   "cell_type": "markdown",
   "metadata": {},
   "source": [
    "## Eigenspace"
   ]
  },
  {
   "cell_type": "code",
   "execution_count": null,
   "metadata": {},
   "outputs": [],
   "source": [
    "eigenval, eigenvec = so3_graph.eigen_space"
   ]
  },
  {
   "cell_type": "code",
   "execution_count": null,
   "metadata": {},
   "outputs": [],
   "source": [
    "eigenval = torch.from_numpy(eigenval)\n",
    "eigenvec = torch.from_numpy(eigenvec)"
   ]
  },
  {
   "cell_type": "markdown",
   "metadata": {},
   "source": [
    "### Frequencies"
   ]
  },
  {
   "cell_type": "code",
   "execution_count": null,
   "metadata": {},
   "outputs": [],
   "source": [
    "_ = plt.scatter(torch.arange(so3_graph.num_nodes), eigenval, s=1)\n",
    "_ = plt.xlabel(\"index\")\n",
    "_ = plt.ylabel(\"eigenvalue\")"
   ]
  },
  {
   "cell_type": "markdown",
   "metadata": {},
   "source": [
    "### Fourier basis"
   ]
  },
  {
   "cell_type": "code",
   "execution_count": null,
   "metadata": {},
   "outputs": [],
   "source": [
    "_ = plt.scatter(torch.arange(20), eigenval[:20])\n",
    "_ = plt.xlabel(\"index\")\n",
    "_ = plt.ylabel(\"eigenvalue\")"
   ]
  },
  {
   "cell_type": "code",
   "execution_count": null,
   "metadata": {},
   "outputs": [],
   "source": [
    "visualize_graph_signal(so3_graph, eigenvec[:,0], title=fr\"$\\lambda_{0}={eigenval[0].item()}$\")"
   ]
  },
  {
   "cell_type": "code",
   "execution_count": null,
   "metadata": {},
   "outputs": [],
   "source": [
    "visualize_graph_signal(so3_graph, eigenvec[:,1], title=fr\"$\\lambda_{1}={eigenval[1].item()}$\")"
   ]
  },
  {
   "cell_type": "code",
   "execution_count": null,
   "metadata": {},
   "outputs": [],
   "source": [
    "visualize_graph_signal(so3_graph, eigenvec[:,2], title=fr\"$\\lambda_{2}={eigenval[2].item()}$\")"
   ]
  },
  {
   "cell_type": "code",
   "execution_count": null,
   "metadata": {},
   "outputs": [],
   "source": [
    "visualize_graph_signal(so3_graph, eigenvec[:,3], title=fr\"$\\lambda_{3}={eigenval[3].item()}$\")"
   ]
  },
  {
   "cell_type": "code",
   "execution_count": null,
   "metadata": {},
   "outputs": [],
   "source": [
    "visualize_graph_signal(so3_graph, eigenvec[:,4], title=fr\"$\\lambda_{4}={eigenval[4].item()}$\")"
   ]
  },
  {
   "cell_type": "code",
   "execution_count": null,
   "metadata": {},
   "outputs": [],
   "source": [
    "visualize_graph_signal(so3_graph, eigenvec[:,5], title=fr\"$\\lambda_{5}={eigenval[5].item()}$\")"
   ]
  }
 ],
 "metadata": {
  "language_info": {
   "name": "python",
   "pygments_lexer": "ipython3"
  }
 },
 "nbformat": 4,
 "nbformat_minor": 4
}
