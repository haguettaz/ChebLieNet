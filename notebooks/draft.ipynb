{
 "cells": [
  {
   "cell_type": "code",
   "execution_count": null,
   "metadata": {},
   "outputs": [],
   "source": [
    "import torch\n",
    "import math"
   ]
  },
  {
   "cell_type": "code",
   "execution_count": null,
   "metadata": {},
   "outputs": [],
   "source": [
    "import matplotlib.pyplot as plt\n",
    "import seaborn as sns\n",
    "import pandas as pd"
   ]
  },
  {
   "cell_type": "code",
   "execution_count": null,
   "metadata": {},
   "outputs": [],
   "source": [
    "dataframe = pd.DataFrame()"
   ]
  },
  {
   "cell_type": "markdown",
   "metadata": {},
   "source": [
    "# Projective line bundle of the SE2 group"
   ]
  },
  {
   "cell_type": "code",
   "execution_count": null,
   "metadata": {},
   "outputs": [],
   "source": [
    "from gechebnet.liegroup.se2 import se2_riemannian_sqdist, se2_matrix"
   ]
  },
  {
   "cell_type": "code",
   "execution_count": null,
   "metadata": {},
   "outputs": [],
   "source": [
    "x = torch.rand(100000)\n",
    "y = torch.rand(100000)\n",
    "theta = torch.rand(100000) * math.pi - math.pi/2\n",
    "Gg = se2_matrix(x, y, theta)"
   ]
  },
  {
   "cell_type": "code",
   "execution_count": null,
   "metadata": {},
   "outputs": [],
   "source": [
    "x = torch.rand(100000)\n",
    "y = torch.rand(100000)\n",
    "theta = torch.rand(100000) * math.pi - math.pi/2\n",
    "Gh = se2_matrix(x, y, theta)"
   ]
  },
  {
   "cell_type": "code",
   "execution_count": null,
   "metadata": {},
   "outputs": [],
   "source": [
    "eps, xi = .1 , 20.\n",
    "Re = torch.diag(torch.tensor([xi/eps, xi, 1.]))\n",
    "dataframe[\"se2_sqdist\"] = se2_riemannian_sqdist(Gg, Gh, Re)"
   ]
  },
  {
   "cell_type": "markdown",
   "metadata": {},
   "source": [
    "# Projective line bundle of the SO3 group"
   ]
  },
  {
   "cell_type": "code",
   "execution_count": null,
   "metadata": {},
   "outputs": [],
   "source": [
    "from gechebnet.liegroup.so3 import so3_riemannian_sqdist, so3_matrix"
   ]
  },
  {
   "cell_type": "code",
   "execution_count": null,
   "metadata": {},
   "outputs": [],
   "source": [
    "alpha = torch.rand(100000) * math.pi - math.pi/2\n",
    "beta = torch.rand(100000) * 2 * math.pi - math.pi\n",
    "gamma = torch.rand(100000) * math.pi - math.pi/2\n",
    "Gg = so3_matrix(alpha, beta, gamma)"
   ]
  },
  {
   "cell_type": "code",
   "execution_count": null,
   "metadata": {},
   "outputs": [],
   "source": [
    "alpha = torch.rand(100000) * math.pi - math.pi/2\n",
    "beta = torch.rand(100000) * 2 * math.pi - math.pi\n",
    "gamma = torch.rand(100000) * math.pi - math.pi/2\n",
    "Gg = so3_matrix(alpha, beta, gamma)"
   ]
  },
  {
   "cell_type": "code",
   "execution_count": null,
   "metadata": {},
   "outputs": [],
   "source": [
    "eps, xi = .1, 2.\n",
    "Re = torch.diag(torch.tensor([xi/eps, xi, 1.]))\n",
    "dataframe[\"so3_sqdist\"] = so3_riemannian_sqdist(Gg, Gh, Re)"
   ]
  },
  {
   "cell_type": "code",
   "execution_count": null,
   "metadata": {},
   "outputs": [],
   "source": [
    "dataframe"
   ]
  },
  {
   "cell_type": "code",
   "execution_count": null,
   "metadata": {},
   "outputs": [],
   "source": [
    "_ = sns.kdeplot(data=dataframe)"
   ]
  },
  {
   "cell_type": "code",
   "execution_count": null,
   "metadata": {},
   "outputs": [],
   "source": [
    "from gechebnet.module.utils import GraphPooling"
   ]
  },
  {
   "cell_type": "code",
   "execution_count": null,
   "metadata": {},
   "outputs": [],
   "source": [
    "graphmaxpool1 = GraphPooling(3, 3, 4, 2, 4, 2)"
   ]
  },
  {
   "cell_type": "code",
   "execution_count": null,
   "metadata": {},
   "outputs": [],
   "source": [
    "x = torch.rand(8, 3, 4*4*3)"
   ]
  },
  {
   "cell_type": "code",
   "execution_count": null,
   "metadata": {},
   "outputs": [],
   "source": [
    "y = graphmaxpool1(x)"
   ]
  },
  {
   "cell_type": "code",
   "execution_count": null,
   "metadata": {},
   "outputs": [],
   "source": [
    "y.shape"
   ]
  },
  {
   "cell_type": "code",
   "execution_count": null,
   "metadata": {},
   "outputs": [],
   "source": [
    "x.shape"
   ]
  },
  {
   "cell_type": "code",
   "execution_count": null,
   "metadata": {},
   "outputs": [],
   "source": [
    "x[0,0]"
   ]
  },
  {
   "cell_type": "code",
   "execution_count": null,
   "metadata": {},
   "outputs": [],
   "source": [
    "y[0,0]"
   ]
  },
  {
   "cell_type": "code",
   "execution_count": null,
   "metadata": {},
   "outputs": [],
   "source": [
    "x[0,0].view(3, 4, 4)[0]"
   ]
  },
  {
   "cell_type": "code",
   "execution_count": null,
   "metadata": {},
   "outputs": [],
   "source": [
    "import numpy as np"
   ]
  },
  {
   "cell_type": "code",
   "execution_count": null,
   "metadata": {},
   "outputs": [],
   "source": [
    "import pandas as pd"
   ]
  },
  {
   "cell_type": "code",
   "execution_count": null,
   "metadata": {},
   "outputs": [],
   "source": [
    "file_path = \"~/Downloads/wandb_export_2021-02-26T11 19 11.000+01 00.csv\"\n",
    "df = pd.read_csv(file_path)\n",
    "df.head()"
   ]
  },
  {
   "cell_type": "code",
   "execution_count": null,
   "metadata": {},
   "outputs": [],
   "source": [
    "df._runtime.mean(), df._runtime.std()"
   ]
  },
  {
   "cell_type": "code",
   "execution_count": null,
   "metadata": {},
   "outputs": [],
   "source": [
    "h = 0\n",
    "m =7\n",
    "s = 9\n",
    "h*3600 + m * 60 + s"
   ]
  },
  {
   "cell_type": "code",
   "execution_count": null,
   "metadata": {},
   "outputs": [],
   "source": [
    "import datetime\n",
    "str(datetime.timedelta(seconds=107599))"
   ]
  },
  {
   "cell_type": "code",
   "execution_count": null,
   "metadata": {},
   "outputs": [],
   "source": [
    "df1 = df[df.columns.drop(list(df.filter(regex='_MIN|_MAX|_step')))]\n",
    "df2 = pd.DataFrame(df1.max())\n",
    "df2[\"mnist\"] = df2.index.str.contains(\"classic\")\n",
    "df2[\"flip_mnist\"] = df2.index.str.contains(\"flipped\")\n",
    "df2[\"rot_mnist\"] = df2.index.str.contains(\"rotated\")"
   ]
  },
  {
   "cell_type": "code",
   "execution_count": null,
   "metadata": {},
   "outputs": [],
   "source": [
    "df2[df2.flip_mnist == True].mean()"
   ]
  },
  {
   "cell_type": "code",
   "execution_count": null,
   "metadata": {},
   "outputs": [],
   "source": [
    "df2[df2.rot_mnist == True].std()"
   ]
  },
  {
   "cell_type": "code",
   "execution_count": null,
   "metadata": {},
   "outputs": [],
   "source": [
    "df.groupby(\"nodes_rate\").rotated_test_accuracy.std()"
   ]
  },
  {
   "cell_type": "code",
   "execution_count": null,
   "metadata": {},
   "outputs": [],
   "source": [
    "from gechebnet.nn.cnn import WideCNN\n",
    "\n",
    "import torch"
   ]
  },
  {
   "cell_type": "code",
   "execution_count": null,
   "metadata": {},
   "outputs": [],
   "source": [
    "x = torch.rand(16, 3, 10, 10)"
   ]
  },
  {
   "cell_type": "code",
   "execution_count": null,
   "metadata": {},
   "outputs": [],
   "source": [
    "model = WideCNN(3, 10, 3, 8, 1, False)"
   ]
  },
  {
   "cell_type": "code",
   "execution_count": null,
   "metadata": {},
   "outputs": [],
   "source": [
    "%timeit model(x)"
   ]
  },
  {
   "cell_type": "code",
   "execution_count": null,
   "metadata": {},
   "outputs": [],
   "source": [
    "m = torch.nn.Conv2d(in_channels=3, out_channels=10, kernel_size=1)"
   ]
  },
  {
   "cell_type": "code",
   "execution_count": null,
   "metadata": {},
   "outputs": [],
   "source": [
    "x = torch.rand(16, 3, 28, 28)"
   ]
  },
  {
   "cell_type": "code",
   "execution_count": null,
   "metadata": {},
   "outputs": [],
   "source": [
    "m(x).shape"
   ]
  },
  {
   "cell_type": "code",
   "execution_count": null,
   "metadata": {},
   "outputs": [],
   "source": [
    "file_path = \"data/area_1_0.npz\""
   ]
  },
  {
   "cell_type": "code",
   "execution_count": null,
   "metadata": {},
   "outputs": [],
   "source": [
    "file = np.load(file_path)\n",
    "file[\"data\"].shape"
   ]
  },
  {
   "cell_type": "code",
   "execution_count": null,
   "metadata": {},
   "outputs": [],
   "source": [
    "file[\"labels\"]"
   ]
  },
  {
   "cell_type": "code",
   "execution_count": null,
   "metadata": {},
   "outputs": [],
   "source": [
    "import numpy as np"
   ]
  },
  {
   "cell_type": "code",
   "execution_count": null,
   "metadata": {},
   "outputs": [],
   "source": [
    "file_path = \"data/data-2114-12-31-07-6-mesh.npz\""
   ]
  },
  {
   "cell_type": "code",
   "execution_count": null,
   "metadata": {},
   "outputs": [],
   "source": [
    "file = np.load(file_path)"
   ]
  },
  {
   "cell_type": "code",
   "execution_count": null,
   "metadata": {},
   "outputs": [],
   "source": [
    "for k in file:\n",
    "    print(k)"
   ]
  },
  {
   "cell_type": "code",
   "execution_count": null,
   "metadata": {},
   "outputs": [],
   "source": [
    "file[\"data\"].shape"
   ]
  },
  {
   "cell_type": "code",
   "execution_count": null,
   "metadata": {},
   "outputs": [],
   "source": [
    "file[\"labels\"].shape"
   ]
  },
  {
   "cell_type": "code",
   "execution_count": null,
   "metadata": {},
   "outputs": [],
   "source": [
    "from gechebnet.graph.polyhedron import SphericalPolyhedron"
   ]
  },
  {
   "cell_type": "code",
   "execution_count": null,
   "metadata": {},
   "outputs": [],
   "source": [
    "a = SphericalPolyhedron(\"icosahedron\")"
   ]
  },
  {
   "cell_type": "code",
   "execution_count": null,
   "metadata": {},
   "outputs": [],
   "source": [
    "x, y, z = a.spherical_sampling(5)"
   ]
  },
  {
   "cell_type": "code",
   "execution_count": null,
   "metadata": {},
   "outputs": [],
   "source": [
    "from gechebnet.graph.graph import SE2GEGraph, SO3GEGraph\n",
    "import torch"
   ]
  },
  {
   "cell_type": "code",
   "execution_count": null,
   "metadata": {},
   "outputs": [],
   "source": [
    "xi, eps = 1., 1.\n",
    "so3_graph = SO3GEGraph(\n",
    "    polyhedron=\"icosahedron\",\n",
    "    level=5,\n",
    "    nalpha=1,\n",
    "    K=16,\n",
    "    sigmas=(xi / eps, xi, 1.0),\n",
    "    weight_kernel=lambda sqdistc, tc: torch.exp(-sqdistc / (4*tc)),\n",
    ")"
   ]
  },
  {
   "cell_type": "code",
   "execution_count": null,
   "metadata": {},
   "outputs": [],
   "source": [
    "so3_graph.num_nodes"
   ]
  },
  {
   "cell_type": "code",
   "execution_count": null,
   "metadata": {},
   "outputs": [],
   "source": [
    "from gechebnet.graph.viz import visualize_graph_signal"
   ]
  },
  {
   "cell_type": "code",
   "execution_count": null,
   "metadata": {},
   "outputs": [],
   "source": [
    "signal = 0 * file[\"labels\"][0] + 1 * file[\"labels\"][1] + 2 * file[\"labels\"][2]"
   ]
  },
  {
   "cell_type": "code",
   "execution_count": null,
   "metadata": {},
   "outputs": [],
   "source": [
    "visualize_graph_signal(so3_graph, signal)"
   ]
  },
  {
   "cell_type": "code",
   "execution_count": null,
   "metadata": {},
   "outputs": [],
   "source": [
    "def xyztolatlong(x, y, z):\n",
    "    \"\"\"\n",
    "    [summary]\n",
    "\n",
    "    Args:\n",
    "        x (Tensor): [description]\n",
    "        y (Tensor): [description]\n",
    "        z (Tensor): [description]\n",
    "\n",
    "    Returns:\n",
    "        Tuple[Tensor, Tensor]: [description]\n",
    "    \"\"\"\n",
    "\n",
    "    r = torch.sqrt(x.pow(2) + y.pow(2) + z.pow(2))\n",
    "    latitude = torch.asin(z / r)\n",
    "    longitude = torch.atan2(y, x)\n",
    "    return latitude, longitude"
   ]
  },
  {
   "cell_type": "code",
   "execution_count": null,
   "metadata": {},
   "outputs": [],
   "source": [
    "x, y, z = so3_graph.node_pos()"
   ]
  },
  {
   "cell_type": "code",
   "execution_count": null,
   "metadata": {},
   "outputs": [],
   "source": [
    "lat, long = xyztolatlong(x, y, z)"
   ]
  },
  {
   "cell_type": "code",
   "execution_count": null,
   "metadata": {},
   "outputs": [],
   "source": [
    "lat"
   ]
  },
  {
   "cell_type": "code",
   "execution_count": null,
   "metadata": {},
   "outputs": [],
   "source": [
    "long"
   ]
  },
  {
   "cell_type": "code",
   "execution_count": null,
   "metadata": {},
   "outputs": [],
   "source": [
    "torch.arange(24).reshape(6,4)"
   ]
  },
  {
   "cell_type": "code",
   "execution_count": null,
   "metadata": {},
   "outputs": [],
   "source": [
    "from torch import nn\n",
    "import torch\n",
    "pool = nn.MaxPool3d(kernel_size=(2,2,2), return_indices=True)\n",
    "unpool = nn.MaxUnpool3d(kernel_size=(2,2,2))"
   ]
  },
  {
   "cell_type": "code",
   "execution_count": null,
   "metadata": {},
   "outputs": [],
   "source": [
    "torch.arange(8).reshape(2, 2, 2)[1]"
   ]
  },
  {
   "cell_type": "code",
   "execution_count": null,
   "metadata": {},
   "outputs": [],
   "source": [
    "x = torch.rand(1, 1, 4, 4, 4)\n",
    "xpool, idxpool = pool(x)\n",
    "idxpool"
   ]
  },
  {
   "cell_type": "code",
   "execution_count": null,
   "metadata": {},
   "outputs": [],
   "source": [
    "random_idx = "
   ]
  },
  {
   "cell_type": "code",
   "execution_count": null,
   "metadata": {},
   "outputs": [],
   "source": [
    "%timeit xunpool = unpool(xpool, idxpool)"
   ]
  },
  {
   "cell_type": "code",
   "execution_count": null,
   "metadata": {},
   "outputs": [],
   "source": [
    "t4d = torch.rand(1,3, 2, 2)\n",
    "p3d = (0, 1, 2, 1, 3, 3) # pad by (0, 1), (2, 1), and (3, 3)\n",
    "out = F.pad(t4d, p3d, \"constant\", 0)\n",
    "print(out.size())"
   ]
  },
  {
   "cell_type": "code",
   "execution_count": null,
   "metadata": {},
   "outputs": [],
   "source": [
    "import torch\n",
    "\n",
    "m = torch.nn.AdaptiveAvgPool2d((4, 4))\n",
    "x = torch.rand(1, 1, 2, 2)"
   ]
  },
  {
   "cell_type": "code",
   "execution_count": null,
   "metadata": {},
   "outputs": [],
   "source": [
    "x, m(x)"
   ]
  },
  {
   "cell_type": "code",
   "execution_count": null,
   "metadata": {},
   "outputs": [],
   "source": [
    "import pickle\n",
    "import pandas as pd\n",
    "import plotly.express as px\n",
    "import torch"
   ]
  },
  {
   "cell_type": "code",
   "execution_count": null,
   "metadata": {},
   "outputs": [],
   "source": [
    "from gechebnet.liegroups.se2 import se2_uniform_sampling\n",
    "from gechebnet.liegroups.so3 import so3_uniform_sampling"
   ]
  },
  {
   "cell_type": "code",
   "execution_count": null,
   "metadata": {},
   "outputs": [],
   "source": [
    "from gechebnet.nn.layers.unpools import CubicUnpool, IcosahedralUnpool"
   ]
  },
  {
   "cell_type": "code",
   "execution_count": null,
   "metadata": {},
   "outputs": [],
   "source": [
    "pos = se2_uniform_sampling(2, 2, 2).unsqueeze(0)"
   ]
  },
  {
   "cell_type": "code",
   "execution_count": null,
   "metadata": {},
   "outputs": [],
   "source": [
    "unpool = CubicUnpool((1, 4), (2, 2, 2))"
   ]
  },
  {
   "cell_type": "code",
   "execution_count": null,
   "metadata": {},
   "outputs": [],
   "source": [
    "unpool(pos).shape"
   ]
  },
  {
   "cell_type": "code",
   "execution_count": null,
   "metadata": {},
   "outputs": [],
   "source": [
    "pos = so3_uniform_sampling(\"icosahedron\", 2, 6).unsqueeze(0)"
   ]
  },
  {
   "cell_type": "code",
   "execution_count": null,
   "metadata": {},
   "outputs": [],
   "source": [
    "pos.shape"
   ]
  },
  {
   "cell_type": "code",
   "execution_count": null,
   "metadata": {},
   "outputs": [],
   "source": [
    "unpool = IcosahedralUnpool((1, 2), (6, 162))"
   ]
  },
  {
   "cell_type": "code",
   "execution_count": null,
   "metadata": {},
   "outputs": [],
   "source": [
    "unpool(pos)."
   ]
  },
  {
   "cell_type": "code",
   "execution_count": null,
   "metadata": {},
   "outputs": [],
   "source": [
    "plot_icosahedron(unpool(pos)[0] + torch.rand(3, 128)*1e-1)"
   ]
  },
  {
   "cell_type": "code",
   "execution_count": null,
   "metadata": {},
   "outputs": [],
   "source": [
    "from mpl_toolkits.mplot3d import Axes3D  # noqa: F401 unused import\n",
    "\n",
    "import matplotlib.pyplot as plt\n",
    "import numpy as np\n",
    "\n",
    "def plot_icosahedron(pos):\n",
    "    fig = plt.figure(figsize=(10,10))\n",
    "    ax = fig.add_subplot(111, projection='3d')\n",
    "    ax.scatter(pos[0], pos[1], pos[2])\n",
    "\n",
    "    plt.axis(\"off\")\n",
    "\n",
    "    plt.show()\n"
   ]
  },
  {
   "cell_type": "code",
   "execution_count": null,
   "metadata": {},
   "outputs": [],
   "source": [
    "from gechebnet.nn.layers.pools import CubicPooling, IcosahedralPooling"
   ]
  },
  {
   "cell_type": "code",
   "execution_count": null,
   "metadata": {},
   "outputs": [],
   "source": [
    "pos = so3_uniform_sampling(\"icosahedron\", 3, 6)\n",
    "pos.shape"
   ]
  },
  {
   "cell_type": "code",
   "execution_count": null,
   "metadata": {},
   "outputs": [],
   "source": [
    "pos = pos.unsqueeze(0)\n",
    "pos.shape"
   ]
  },
  {
   "cell_type": "code",
   "execution_count": null,
   "metadata": {},
   "outputs": [],
   "source": [
    "from torch import nn\n",
    "import torch"
   ]
  },
  {
   "cell_type": "code",
   "execution_count": null,
   "metadata": {},
   "outputs": [],
   "source": [
    "m = IcosahedralPooling((2, 2), (6, 642))"
   ]
  },
  {
   "cell_type": "code",
   "execution_count": null,
   "metadata": {},
   "outputs": [],
   "source": [
    "%timeit m(pos)"
   ]
  },
  {
   "cell_type": "code",
   "execution_count": null,
   "metadata": {},
   "outputs": [],
   "source": [
    "m(pos).shape"
   ]
  },
  {
   "cell_type": "code",
   "execution_count": null,
   "metadata": {},
   "outputs": [],
   "source": [
    "3*162"
   ]
  },
  {
   "cell_type": "code",
   "execution_count": null,
   "metadata": {},
   "outputs": [],
   "source": [
    "m = CubicPooling(10, 10, 10, 10, 10, 10)"
   ]
  },
  {
   "cell_type": "code",
   "execution_count": null,
   "metadata": {},
   "outputs": [],
   "source": [
    "%timeit m(pos)"
   ]
  },
  {
   "cell_type": "code",
   "execution_count": null,
   "metadata": {},
   "outputs": [],
   "source": [
    "m(pos).shape"
   ]
  },
  {
   "cell_type": "code",
   "execution_count": null,
   "metadata": {},
   "outputs": [],
   "source": [
    "plot_icosahedron(pos[0])\n",
    "plot_icosahedron(m(pos)[0])"
   ]
  },
  {
   "cell_type": "code",
   "execution_count": null,
   "metadata": {},
   "outputs": [],
   "source": [
    "path = \"data/icosphere_5.pkl\"\n",
    "with open(path, 'rb') as f:\n",
    "    data = pickle.load(f)\n",
    "pos = torch.from_numpy(data[\"V\"])\n",
    "plot_icosahedron(pos)"
   ]
  },
  {
   "cell_type": "code",
   "execution_count": null,
   "metadata": {},
   "outputs": [],
   "source": [
    "lvlout=2\n",
    "Vout = 10 * 4 ** lvlout\n",
    "plot_icosahedron(pos[:Vout])"
   ]
  },
  {
   "cell_type": "code",
   "execution_count": null,
   "metadata": {},
   "outputs": [],
   "source": [
    "file = np.load(file_path)"
   ]
  },
  {
   "cell_type": "code",
   "execution_count": null,
   "metadata": {},
   "outputs": [],
   "source": [
    "signal = 0 * file[\"labels\"][0] + 1 * file[\"labels\"][1] + 2 * file[\"labels\"][2]"
   ]
  },
  {
   "cell_type": "code",
   "execution_count": null,
   "metadata": {},
   "outputs": [],
   "source": [
    "import pandas as pd\n",
    "import plotly.express as px\n",
    "\n",
    "def visualize_graph_signal(pos, signal):\n",
    "    \"\"\"\n",
    "    Visualize graph's signal.\n",
    "\n",
    "    Args:\n",
    "        graph (Graph): graph.\n",
    "        signal (Tensor): graph's signal.\n",
    "    \"\"\"\n",
    "    \n",
    "    dataframe = pd.DataFrame(\n",
    "        {\n",
    "            \"X\": pos[:, 0],\n",
    "            \"Y\": pos[:, 1],\n",
    "            \"Z\": pos[:, 2],\n",
    "            \"intensity\": signal,\n",
    "        }\n",
    "    )\n",
    "    fig = px.scatter_3d(\n",
    "        dataframe,\n",
    "        x=\"X\",\n",
    "        y=\"Y\",\n",
    "        z=\"Z\",\n",
    "        color=\"intensity\",\n",
    "    )\n",
    "\n",
    "    fig.update_traces(\n",
    "        marker={\"size\": 2, \"opacity\": 1.0},\n",
    "    )\n",
    "\n",
    "    fig.update_layout(\n",
    "        width=600,\n",
    "        height=500,\n",
    "        margin=dict(l=0, r=0, t=0, b=50),\n",
    "    )\n",
    "    fig.show()\n"
   ]
  },
  {
   "cell_type": "code",
   "execution_count": null,
   "metadata": {},
   "outputs": [],
   "source": [
    "visualize_graph_signal(pos, signal)"
   ]
  },
  {
   "cell_type": "code",
   "execution_count": null,
   "metadata": {},
   "outputs": [],
   "source": [
    "class Graph():\n",
    "    @property\n",
    "    def num_nodes(self):\n",
    "        \"\"\"\n",
    "        Return the total number of nodes of the graph.\n",
    "\n",
    "        Returns:\n",
    "            (int): number of nodes.\n",
    "        \"\"\"\n",
    "        return self.node_index.shape[0]\n",
    "\n",
    "    @property\n",
    "    def num_edges(self):\n",
    "        \"\"\"\n",
    "        Return the total number of edges of the graph.\n",
    "\n",
    "        Returns:\n",
    "            (int): number of edges.\n",
    "        \"\"\"\n",
    "        return self.edge_index.shape[1]\n",
    "    \n",
    "    def get_laplacian(self, norm=True, device= None):\n",
    "        \"\"\"\n",
    "        Returns symmetric normalized graph laplacian .\n",
    "\n",
    "        Args:\n",
    "            norm (bool, optional): if True return normalized laplacian with eigenvalues in [-1, 1].\n",
    "            device (Device, optional): computation device. Defaults to None.\n",
    "\n",
    "        Returns:\n",
    "            (SparseFloatTensor): laplacian.\n",
    "        \"\"\"\n",
    "        if not hasattr(self, \"laplacian\"):\n",
    "            if norm:\n",
    "                self.laplacian = get_norm_laplacian(self.edge_index, self.edge_weight, self.num_nodes, 2.0, device)\n",
    "            else:\n",
    "                self.laplacian = get_laplacian(self.edge_index, self.edge_weight, self.num_nodes, device=device)\n",
    "\n",
    "        return self.laplacian\n",
    "    \n",
    "    def neighborhood(self, node_index: int):\n",
    "        \"\"\"\n",
    "        Returns the node's neighborhood.\n",
    "\n",
    "        Args:\n",
    "            node_index (int): node index.\n",
    "\n",
    "        Returns:\n",
    "            (LongTensor): neighbors' indices.\n",
    "            (FloatTensor): edges' weight from node to neighbors.\n",
    "            (FloatTensor): squared riemannian distance from node to neighbors.\n",
    "        \"\"\"\n",
    "        mask = self.edge_index[0] == node_index\n",
    "        return self.edge_index[1, mask], self.edge_weight[mask], self.edge_sqdist[mask]\n",
    "\n",
    "\n",
    "class GEGraph(Graph):\n",
    "    def __init__(self, uniform_sampling, sigmas, K):\n",
    "        \n",
    "        super().__init__(uniform_sampling, sigmas, K)\n",
    "        self._initnodes(uniform_sampling)\n",
    "        self._initedges(sigmas, K)\n",
    "        \n",
    "    def _initnodes(self, uniform_sampling):\n",
    "        D, V = uniform_sampling.shape\n",
    "                \n",
    "        for i in range(D):\n",
    "            setattr(self, f\"node_x{i+1}\", uniform_sampling[i])\n",
    "        \n",
    "        self.node_index = torch.arange(V)\n",
    "        \n",
    "    def _initedges(self, sigmas, K):\n",
    "        Gg = self.general_linear_group_element\n",
    "        edge_sqdist = torch.empty(self.num_nodes * (K + 1))\n",
    "        edge_index = torch.empty((2, self.num_nodes * (K + 1)), dtype=torch.long)\n",
    "        Re = torch.diag(torch.tensor(sigmas))\n",
    "        \n",
    "        # compute all pairwise distances of the graph. WARNING: can possibly take a lot of time!!\n",
    "        for idx in self.node_index:\n",
    "            sqdist = self.riemannian_sqdist(Gg[idx], Gg, Re)\n",
    "            values, indices = torch.topk(sqdist, largest=False, k=K + 1, sorted=False)\n",
    "            edge_sqdist[idx * (K + 1) : (idx + 1) * (K + 1)] = values\n",
    "            edge_index[0, idx * (K + 1) : (idx + 1) * (K + 1)] = idx\n",
    "            edge_index[1, idx * (K + 1) : (idx + 1) * (K + 1)] = indices\n",
    "\n",
    "        # remove duplicated edges and self-loops and make the graph undirected\n",
    "        edge_index, edge_sqdist = remove_duplicated_edges(edge_index, edge_sqdist)\n",
    "        self.edge_index, self.edge_sqdist = to_undirected(edge_index, edge_sqdist, self_loop=False)\n",
    "        \n",
    "        weight_kernel = lambda sqdistc, tc: torch.exp(-sqdistc/(4*tc))\n",
    "        self.edge_weight = weight_kernel(self.edge_sqdist, 0.2 * self.edge_sqdist.mean())\n",
    "        \n",
    "    def\n",
    "        \n",
    "class SE2GEGraph(GEGraph):\n",
    "    \n",
    "    def __init__(self, uniform_sampling, sigmas, K):\n",
    "        super().__init__(uniform_sampling, sigmas, K)   \n",
    "        self.lie_group = \"se2\"\n",
    "        \n",
    "    def riemannian_sqdist(self, Gg, Gh, Re):\n",
    "        return se2_riemannian_sqdist(Gg, Gh, Re)\n",
    "    \n",
    "    @property\n",
    "    def group_element(self):\n",
    "        return self.node_x1, self.node_x2, self.node_x3\n",
    "    \n",
    "    @property\n",
    "    def general_linear_group_element(self):\n",
    "        return se2_matrix(self.node_x1, self.node_x2, self.node_x3)\n",
    "    \n",
    "    def node_pos(self, axis=None):\n",
    "        if axis is None:\n",
    "            return self.node_x1, self.node_x2, self.node_x3\n",
    "        if axis == \"x\":\n",
    "            return self.node_x1\n",
    "        if axis == \"y\":\n",
    "            return self.node_x2\n",
    "        if axis == \"z\":\n",
    "            return self.node_x3\n",
    "    \n",
    "class SO3GEGraph(GEGraph):\n",
    "    \n",
    "    def __init__(self, uniform_sampling, sigmas, K):\n",
    "        super().__init__(uniform_sampling, sigmas, K)\n",
    "        self.lie_group = \"so3\"\n",
    "        \n",
    "    def riemannian_sqdist(self, Gg, Gh, Re):\n",
    "        return so3_riemannian_sqdist(Gg, Gh, Re)\n",
    "    \n",
    "    @property\n",
    "    def group_element(self):\n",
    "        return self.node_x1, self.node_x2, self.node_x3\n",
    "    \n",
    "    @property\n",
    "    def general_linear_group_element(self):\n",
    "        return so3_matrix(self.node_x1, self.node_x2, self.node_x3)"
   ]
  },
  {
   "cell_type": "code",
   "execution_count": null,
   "metadata": {},
   "outputs": [],
   "source": [
    "from gechebnet.liegroup.se2 import se2_matrix, se2_riemannian_sqdist\n",
    "from gechebnet.graph.signal_processing import get_fourier_basis, get_laplacian, get_norm_laplacian\n",
    "from gechebnet.graph.utils import remove_duplicated_edges, to_undirected\n",
    "from gechebnet.graph.viz import visualize_graph, visualize_graph_neighborhood\n",
    "\n",
    "import torch\n",
    "import math"
   ]
  },
  {
   "cell_type": "code",
   "execution_count": null,
   "metadata": {},
   "outputs": [],
   "source": [
    "nx, ny, ntheta = 10, 10, 6\n",
    "\n",
    "if nx == 1:\n",
    "    x_axis = torch.zeros(1)\n",
    "else:\n",
    "    x_axis = torch.arange(0.0, 1.0, 1 / nx)\n",
    "\n",
    "if ny == 1:\n",
    "    y_axis = torch.zeros(1)\n",
    "else:\n",
    "    y_axis = torch.arange(0.0, 1.0, 1 / ny)\n",
    "\n",
    "if ntheta == 1:\n",
    "    theta_axis = torch.zeros(1)\n",
    "else:\n",
    "    theta_axis = torch.arange(-math.pi / 2, math.pi / 2, math.pi / ntheta)\n",
    "\n",
    "theta, y, x = torch.meshgrid(theta_axis, y_axis, x_axis)\n",
    "\n",
    "uniform_sampling = torch.stack((x.flatten(), y.flatten(), theta.flatten()))\n",
    "uniform_sampling.shape"
   ]
  },
  {
   "cell_type": "code",
   "execution_count": null,
   "metadata": {},
   "outputs": [],
   "source": [
    "sigma = (1.0, 1.0, 1.0)\n",
    "K = 16\n",
    "\n",
    "se2_graph = SE2GEGraph(uniform_sampling, sigma, K)"
   ]
  },
  {
   "cell_type": "code",
   "execution_count": null,
   "metadata": {},
   "outputs": [],
   "source": [
    "visualize_graph(se2_graph)"
   ]
  },
  {
   "cell_type": "code",
   "execution_count": null,
   "metadata": {},
   "outputs": [],
   "source": [
    "visualize_graph_neighborhood(se2_graph, 55)"
   ]
  },
  {
   "cell_type": "code",
   "execution_count": null,
   "metadata": {},
   "outputs": [],
   "source": [
    "se2_graph.attributes"
   ]
  },
  {
   "cell_type": "code",
   "execution_count": null,
   "metadata": {},
   "outputs": [],
   "source": [
    "import pandas as pd"
   ]
  },
  {
   "cell_type": "code",
   "execution_count": null,
   "metadata": {},
   "outputs": [],
   "source": [
    "neighbors_index = torch.tensor([1, 4, 8])\n",
    "neighbors_weight = torch.tensor([0.2, 0.5, 0.2])\n",
    "neighbors_sqdist = torch.tensor([10, 4, 10])"
   ]
  },
  {
   "cell_type": "code",
   "execution_count": null,
   "metadata": {},
   "outputs": [],
   "source": [
    "node_index = torch.arange(10)\n",
    "x = torch.rand(10)\n",
    "y = torch.rand(10)\n",
    "z = torch.rand(10)"
   ]
  },
  {
   "cell_type": "code",
   "execution_count": null,
   "metadata": {},
   "outputs": [],
   "source": [
    "df1 = pd.DataFrame()\n",
    "df1[\"node_index\"], df1[\"weight\"], df1[\"sqdist\"] = neighbors_index, neighbors_weight, neighbors_sqdist\n",
    "\n",
    "df2 = pd.DataFrame({\"node_index\": node_index})\n",
    "df2[\"X\"], df2[\"Y\"], df2[\"Z\"] = x, y, z\n",
    "\n",
    "df = pd.merge(df1, df2, on=\"node_index\", how=\"right\")\n",
    "df.weight.fillna(0.0, inplace=True)"
   ]
  },
  {
   "cell_type": "code",
   "execution_count": null,
   "metadata": {},
   "outputs": [],
   "source": [
    "df"
   ]
  },
  {
   "cell_type": "code",
   "execution_count": null,
   "metadata": {},
   "outputs": [],
   "source": [
    "math.sqrt(9).is_integer()"
   ]
  },
  {
   "cell_type": "code",
   "execution_count": null,
   "metadata": {},
   "outputs": [],
   "source": [
    "D = {1 : \"x\", 2:\"y\"}\n",
    "for k, v in D.items():\n",
    "    print(k, v)"
   ]
  },
  {
   "cell_type": "code",
   "execution_count": null,
   "metadata": {},
   "outputs": [],
   "source": [
    "import torch\n",
    "from gechebnet.liegroup.so3 import so3_uniform_sampling, alphabetagamma2xyz\n",
    "import torch_scatter"
   ]
  },
  {
   "cell_type": "code",
   "execution_count": null,
   "metadata": {},
   "outputs": [],
   "source": [
    "X_.shape"
   ]
  },
  {
   "cell_type": "code",
   "execution_count": null,
   "metadata": {},
   "outputs": [],
   "source": [
    "S = torch.rand(42)"
   ]
  },
  {
   "cell_type": "code",
   "execution_count": null,
   "metadata": {},
   "outputs": [],
   "source": [
    "X = torch.stack(alphabetagamma2xyz(*so3_uniform_sampling(\"icosahedron\", 0, 1)), dim=1)\n",
    "X_ = torch.stack(alphabetagamma2xyz(*so3_uniform_sampling(\"icosahedron\", 1, 1)), dim=1)"
   ]
  },
  {
   "cell_type": "code",
   "execution_count": null,
   "metadata": {},
   "outputs": [],
   "source": [
    "torch_scatter.scatter_max(source, index)"
   ]
  },
  {
   "cell_type": "code",
   "execution_count": null,
   "metadata": {},
   "outputs": [],
   "source": [
    "values, indices = (X.unsqueeze(1) - X_.unsqueeze(0)).pow(2).sum(dim=-1).topk(9, largest=False, dim=1)"
   ]
  },
  {
   "cell_type": "code",
   "execution_count": null,
   "metadata": {},
   "outputs": [],
   "source": [
    "values, indices"
   ]
  },
  {
   "cell_type": "code",
   "execution_count": null,
   "metadata": {},
   "outputs": [],
   "source": [
    "X"
   ]
  },
  {
   "cell_type": "code",
   "execution_count": null,
   "metadata": {},
   "outputs": [],
   "source": [
    "X_"
   ]
  },
  {
   "cell_type": "code",
   "execution_count": null,
   "metadata": {},
   "outputs": [],
   "source": [
    "for v in X:\n",
    "    if not v in X_:\n",
    "        print(v)"
   ]
  },
  {
   "cell_type": "code",
   "execution_count": null,
   "metadata": {},
   "outputs": [],
   "source": [
    "values"
   ]
  },
  {
   "cell_type": "code",
   "execution_count": null,
   "metadata": {},
   "outputs": [],
   "source": [
    "indices"
   ]
  },
  {
   "cell_type": "code",
   "execution_count": null,
   "metadata": {},
   "outputs": [],
   "source": [
    "lvl = 5\n",
    "V = 10 * 4**lvl + 2\n",
    "V"
   ]
  },
  {
   "cell_type": "code",
   "execution_count": null,
   "metadata": {},
   "outputs": [],
   "source": [
    "def fun1(a, b, fun, *args, **kwargs):\n",
    "    print(a, b, fun(*args, **kwargs))\n",
    "    \n",
    "    \n",
    "def funa(c, d):\n",
    "    return c, d\n",
    "\n",
    "def funb(e, f ,g):\n",
    "    return e, f, g"
   ]
  },
  {
   "cell_type": "code",
   "execution_count": null,
   "metadata": {},
   "outputs": [],
   "source": [
    "fun1(1, 2, funb, 87, g=8, f=19)"
   ]
  },
  {
   "cell_type": "code",
   "execution_count": null,
   "metadata": {},
   "outputs": [],
   "source": [
    "a = torch.rand(16, 3, 42)"
   ]
  },
  {
   "cell_type": "code",
   "execution_count": null,
   "metadata": {},
   "outputs": [],
   "source": [
    "%timeit a.view(16, 3, 3, 2, 7)"
   ]
  },
  {
   "cell_type": "code",
   "execution_count": null,
   "metadata": {},
   "outputs": [],
   "source": [
    "%timeit a.view(16, 3, 3, 14)"
   ]
  },
  {
   "cell_type": "code",
   "execution_count": null,
   "metadata": {},
   "outputs": [],
   "source": [
    "- math.log(8)/math.log(2)"
   ]
  },
  {
   "cell_type": "code",
   "execution_count": null,
   "metadata": {},
   "outputs": [],
   "source": [
    "import torch\n",
    "\n",
    "x_enc0 = torch.rand(16, 256, 12*6)\n",
    "x_enc0_unpool = torch.rand(16, 256, 42*6)\n",
    "x_enc1 = torch.rand(16, 256, 42*6)\n",
    "%timeit torch.cat((x_enc0_unpool, x_enc1), dim=1)"
   ]
  },
  {
   "cell_type": "code",
   "execution_count": null,
   "metadata": {},
   "outputs": [],
   "source": [
    "from ignite.metrics import ConfusionMatrix, mIoU\n",
    "from ignite.metrics.confusion_matrix import cmAccuracy\n",
    "import torch"
   ]
  },
  {
   "cell_type": "code",
   "execution_count": null,
   "metadata": {},
   "outputs": [],
   "source": [
    "cm = ConfusionMatrix(3)"
   ]
  },
  {
   "cell_type": "code",
   "execution_count": null,
   "metadata": {},
   "outputs": [],
   "source": [
    "miou = mIoU(cm, ignore_index=0)"
   ]
  },
  {
   "cell_type": "code",
   "execution_count": null,
   "metadata": {},
   "outputs": [],
   "source": [
    "acc = cmAccuracy(cm)"
   ]
  },
  {
   "cell_type": "code",
   "execution_count": null,
   "metadata": {},
   "outputs": [],
   "source": [
    "y = torch.randint(0, 2, (8, 35))\n",
    "y_pred = torch.rand(8, 3, 35)"
   ]
  },
  {
   "cell_type": "code",
   "execution_count": null,
   "metadata": {},
   "outputs": [],
   "source": [
    "cm.update((y_pred, y))\n",
    "cm.compute()"
   ]
  },
  {
   "cell_type": "code",
   "execution_count": null,
   "metadata": {},
   "outputs": [],
   "source": [
    "acc"
   ]
  },
  {
   "cell_type": "code",
   "execution_count": null,
   "metadata": {},
   "outputs": [],
   "source": [
    "miou"
   ]
  },
  {
   "cell_type": "code",
   "execution_count": null,
   "metadata": {},
   "outputs": [],
   "source": [
    "import os\n",
    "import pickle\n",
    "\n",
    "def so3_uniform_sampling(path_to_sampling, level, nalpha):\n",
    "    with open(os.path.join(path_to_sampling, f\"icosphere_{level}.pkl\"), 'rb') as f:\n",
    "        data = pickle.load(f)\n",
    "        xyz = torch.from_numpy(data[\"V\"])\n",
    "\n",
    "\n",
    "    beta, gamma = xyz2betagamma(xyz[:, 0], xyz[:, 1], xyz[:, 2])\n",
    "    N = beta.size(0)\n",
    "\n",
    "    # uniformly samples alpha\n",
    "    if nalpha == 1:\n",
    "        alpha = torch.zeros(1)\n",
    "    else:\n",
    "        alpha = torch.arange(-math.pi / 2, math.pi / 2, math.pi / nalpha)\n",
    "\n",
    "    # merge sampling\n",
    "    sampling = torch.stack(\n",
    "        (\n",
    "            alpha.unsqueeze(1).expand(nalpha, N).flatten(),\n",
    "            beta.unsqueeze(0).expand(nalpha, N).flatten(),\n",
    "            gamma.unsqueeze(0).expand(nalpha, N).flatten(),\n",
    "        )\n",
    "    )\n",
    "\n",
    "    return sampling\n",
    "    \n",
    "    "
   ]
  },
  {
   "cell_type": "code",
   "execution_count": null,
   "metadata": {},
   "outputs": [],
   "source": [
    "(math.log(0.128) - math.log(0.002))/(math.log(16) - math.log(1024))"
   ]
  },
  {
   "cell_type": "code",
   "execution_count": null,
   "metadata": {},
   "outputs": [],
   "source": [
    "0.002 * 1024"
   ]
  },
  {
   "cell_type": "code",
   "execution_count": null,
   "metadata": {},
   "outputs": [],
   "source": [
    "import matplotlib.pyplot as plt\n",
    "import numpy as np"
   ]
  },
  {
   "cell_type": "code",
   "execution_count": null,
   "metadata": {},
   "outputs": [],
   "source": [
    "x = [16, 64, 256, 1024, 4096, 16384]\n",
    "y = [0.128, 0.032, 0.008, 0.002, 0.0005, 0.000125]\n",
    "x_ = np.linspace(8, 20000, 1000)\n",
    "#y_ = np.exp(- np.log(x_) + math.log(2.048))\n",
    "y_ = 2.048 / x_\n",
    "plt.scatter(x, y)\n",
    "plt.plot(x_, y_)\n",
    "plt.xscale(\"log\")\n",
    "plt.yscale(\"log\")"
   ]
  },
  {
   "cell_type": "code",
   "execution_count": null,
   "metadata": {},
   "outputs": [],
   "source": [
    "0.05 * 642"
   ]
  },
  {
   "cell_type": "code",
   "execution_count": null,
   "metadata": {},
   "outputs": [],
   "source": [
    "32.1 / 10242"
   ]
  },
  {
   "cell_type": "code",
   "execution_count": null,
   "metadata": {},
   "outputs": [],
   "source": [
    "math.exp(- math.log(784) + math.log(2.048))"
   ]
  },
  {
   "cell_type": "code",
   "execution_count": null,
   "metadata": {},
   "outputs": [],
   "source": [
    "math.log(2.048) ** (-16)"
   ]
  },
  {
   "cell_type": "code",
   "execution_count": null,
   "metadata": {},
   "outputs": [],
   "source": [
    "so3_uniform_sampling(\"data\", 0, 6)"
   ]
  },
  {
   "cell_type": "code",
   "execution_count": null,
   "metadata": {},
   "outputs": [],
   "source": [
    "from gechebnet.liegroups.so3 import xyz2betagamma"
   ]
  },
  {
   "cell_type": "code",
   "execution_count": null,
   "metadata": {},
   "outputs": [],
   "source": [
    "level = 0\n",
    "nalpha = 1\n",
    "with open(os.path.join(\"data\", f\"icosphere_{level}.pkl\"), 'rb') as f:\n",
    "    data = pickle.load(f)\n",
    "    \n",
    "pos = torch.from_numpy(data[\"V\"])\n",
    "pos.shape"
   ]
  },
  {
   "cell_type": "code",
   "execution_count": null,
   "metadata": {},
   "outputs": [],
   "source": [
    "ARTC_MEAN = (\n",
    "    2.61613026e01,\n",
    "    9.84836817e-01,\n",
    "    1.16275556e-01,\n",
    "    -4.59006906e-01,\n",
    "    1.92794472e-01,\n",
    "    1.07488334e-02,\n",
    "    9.83474609e04,\n",
    "    1.01012266e05,\n",
    "    2.16136414e02,\n",
    "    2.58974274e02,\n",
    "    3.76523026e-08,\n",
    "    2.88836273e02,\n",
    "    2.88041748e02,\n",
    "    3.42482941e02,\n",
    "    1.20318799e04,\n",
    "    6.34397430e01,\n",
    ")\n",
    "ARTC_STD = (\n",
    "    1.7042067e01,\n",
    "    8.1648855e00,\n",
    "    5.6875458e00,\n",
    "    6.4972377e00,\n",
    "    5.4460597e00,\n",
    "    6.3829664e-03,\n",
    "    7.7596729e03,\n",
    "    3.8046602e03,\n",
    "    9.7163849e00,\n",
    "    1.4277466e01,\n",
    "    1.8769481e-07,\n",
    "    1.9797100e01,\n",
    "    1.9022367e01,\n",
    "    6.2425934e02,\n",
    "    6.7624426e02,\n",
    "    4.2128639e00,\n",
    ")"
   ]
  },
  {
   "cell_type": "code",
   "execution_count": null,
   "metadata": {},
   "outputs": [],
   "source": [
    "from gechebnet.datas.datasets import ARTCDataset\n",
    "from gechebnet.datas.transforms import Normalize, ToTensor, Compose, ToGraphSignal, BoolToInt\n",
    "\n",
    "import torchvision\n",
    "\n",
    "path_to_data = \"data/artc_data\"\n",
    "dataset = ARTCDataset(\n",
    "            path_to_data,\n",
    "            transform_data=Compose([ToTensor(), ToGraphSignal(2), Normalize(ARTC_MEAN, ARTC_STD)]),\n",
    "            transform_labels=Compose([ToTensor(), BoolToInt()]),\n",
    "            download=True,\n",
    "        )"
   ]
  },
  {
   "cell_type": "code",
   "execution_count": null,
   "metadata": {},
   "outputs": [],
   "source": [
    "x, y = dataset.__getitem__(0)"
   ]
  },
  {
   "cell_type": "code",
   "execution_count": null,
   "metadata": {},
   "outputs": [],
   "source": [
    "x = x.unsqueeze(0)\n",
    "y = y.unsqueeze(0)"
   ]
  },
  {
   "cell_type": "code",
   "execution_count": null,
   "metadata": {},
   "outputs": [],
   "source": [
    "import torch\n",
    "\n",
    "from gechebnet.nn.models.chebnets import UChebNet\n",
    "from gechebnet.nn.layers.pools import IcosahedralPool\n",
    "from gechebnet.nn.layers.unpools import IcosahedralUnpool\n",
    "from gechebnet.graphs.graphs import SO3GEGraph\n",
    "from gechebnet.liegroups.so3 import so3_uniform_sampling"
   ]
  },
  {
   "cell_type": "code",
   "execution_count": null,
   "metadata": {},
   "outputs": [],
   "source": [
    "path_to_sampling = \"sampling\"\n",
    "path_to_graph = \"graphs\"\n",
    "device = torch.device(\"cuda\")"
   ]
  },
  {
   "cell_type": "code",
   "execution_count": null,
   "metadata": {},
   "outputs": [],
   "source": [
    "graph_lvl0 = SO3GEGraph(so3_uniform_sampling(path_to_sampling, 0, 2), (1.0, 0.1, 2.675), 16, path_to_graph)\n",
    "graph_lvl1 = SO3GEGraph(so3_uniform_sampling(path_to_sampling, 1, 2), (1.0, 0.1, 0.76429), 16, path_to_graph)\n",
    "graph_lvl2 = SO3GEGraph(so3_uniform_sampling(path_to_sampling, 2, 2), (1.0, 0.1, 0.19815), 16, path_to_graph)\n",
    "graph_lvl3 = SO3GEGraph(so3_uniform_sampling(path_to_sampling, 3, 2), (1.0, 0.1, 0.05), 16, path_to_graph)\n",
    "graph_lvl4 = SO3GEGraph(so3_uniform_sampling(path_to_sampling, 4, 2), (1.0, 0.1, 0.01253), 16, path_to_graph)\n",
    "graph_lvl5 = SO3GEGraph(so3_uniform_sampling(path_to_sampling, 5, 2), (1.0, 0.1, 0.00313), 16, path_to_graph)"
   ]
  },
  {
   "cell_type": "code",
   "execution_count": null,
   "metadata": {},
   "outputs": [],
   "source": [
    "model = UChebNet(16, 3, 4, IcosahedralPool, IcosahedralUnpool, graph_lvl0, graph_lvl1, graph_lvl2, graph_lvl3, graph_lvl4, graph_lvl5)\n",
    "model = model"
   ]
  },
  {
   "cell_type": "code",
   "execution_count": null,
   "metadata": {},
   "outputs": [],
   "source": [
    "x.shape"
   ]
  },
  {
   "cell_type": "code",
   "execution_count": null,
   "metadata": {},
   "outputs": [],
   "source": [
    "y_pred"
   ]
  },
  {
   "cell_type": "code",
   "execution_count": null,
   "metadata": {},
   "outputs": [],
   "source": [
    "y_pred = model(x)"
   ]
  },
  {
   "cell_type": "code",
   "execution_count": null,
   "metadata": {},
   "outputs": [],
   "source": [
    "from torch.nn.functional import nll_loss"
   ]
  },
  {
   "cell_type": "code",
   "execution_count": null,
   "metadata": {},
   "outputs": [],
   "source": [
    "nll_loss(y_pred, y)"
   ]
  },
  {
   "cell_type": "code",
   "execution_count": null,
   "metadata": {},
   "outputs": [],
   "source": [
    "from gechebnet.datas.dataloaders import get_train_val_loaders\n",
    "\n",
    "train_loader, _ = get_train_val_loaders(\n",
    "    dataset=\"artc\",\n",
    "    path_to_data=\"data/artc_data\",\n",
    ")"
   ]
  },
  {
   "cell_type": "code",
   "execution_count": null,
   "metadata": {},
   "outputs": [],
   "source": [
    "x, y = next(iter(train_loader))\n",
    "x.shape"
   ]
  },
  {
   "cell_type": "code",
   "execution_count": null,
   "metadata": {},
   "outputs": [],
   "source": [
    "from ignite.metrics import ConfusionMatrix, mIoU\n",
    "\n",
    "cm = ConfusionMatrix(num_classes=3)\n",
    "iou_metric = mIoU(cm)"
   ]
  },
  {
   "cell_type": "code",
   "execution_count": null,
   "metadata": {},
   "outputs": [],
   "source": [
    "cm.update((y_pred, y))\n",
    "cm.compute()"
   ]
  },
  {
   "cell_type": "code",
   "execution_count": null,
   "metadata": {},
   "outputs": [],
   "source": [
    "iou_metric.compute()"
   ]
  },
  {
   "cell_type": "code",
   "execution_count": null,
   "metadata": {},
   "outputs": [],
   "source": [
    "iou_metric.update((y_pred, y))"
   ]
  },
  {
   "cell_type": "code",
   "execution_count": null,
   "metadata": {},
   "outputs": [],
   "source": [
    "x = torch.rand(1, 16, 20484).to(device)"
   ]
  },
  {
   "cell_type": "code",
   "execution_count": null,
   "metadata": {},
   "outputs": [],
   "source": [
    "%timeit model(x).shape"
   ]
  },
  {
   "cell_type": "code",
   "execution_count": null,
   "metadata": {},
   "outputs": [],
   "source": [
    "beta, gamma = xyz2betagamma(pos[:, 0], pos[:, 1], pos[:, 2])\n",
    "N = beta.size(0)\n",
    "\n",
    "# uniformly samples alpha\n",
    "if nalpha == 1:\n",
    "    alpha = torch.zeros(1)\n",
    "else:\n",
    "    alpha = torch.arange(-math.pi / 2, math.pi / 2, math.pi / nalpha)\n",
    "\n",
    "# merge sampling\n",
    "sampling = torch.stack(\n",
    "    (\n",
    "        alpha.unsqueeze(1).expand(nalpha, N).flatten(),\n",
    "        beta.unsqueeze(0).expand(nalpha, N).flatten(),\n",
    "        gamma.unsqueeze(0).expand(nalpha, N).flatten(),\n",
    "    )\n",
    ")\n",
    "\n",
    "sampling"
   ]
  },
  {
   "cell_type": "code",
   "execution_count": null,
   "metadata": {},
   "outputs": [],
   "source": [
    "train_evaluator = \n",
    "\n",
    "cm = ConfusionMatrix(num_classes=num_classes)\n",
    "mIoU(cm, ignore_index=0).attach(train_evaluator, 'mean IoU')\n",
    "\n",
    "state = train_evaluator.run(train_dataset)\n",
    "# state.metrics['mean IoU'] -> scalar"
   ]
  }
 ],
 "metadata": {
  "language_info": {
   "name": "python",
   "pygments_lexer": "ipython3"
  }
 },
 "nbformat": 4,
 "nbformat_minor": 4
}
