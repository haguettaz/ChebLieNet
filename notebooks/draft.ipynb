{
 "cells": [
  {
   "cell_type": "code",
   "execution_count": null,
   "metadata": {},
   "outputs": [],
   "source": [
    "import torch\n",
    "import math"
   ]
  },
  {
   "cell_type": "code",
   "execution_count": null,
   "metadata": {},
   "outputs": [],
   "source": [
    "import matplotlib.pyplot as plt\n",
    "import seaborn as sns\n",
    "import pandas as pd"
   ]
  },
  {
   "cell_type": "code",
   "execution_count": null,
   "metadata": {},
   "outputs": [],
   "source": [
    "dataframe = pd.DataFrame()"
   ]
  },
  {
   "cell_type": "markdown",
   "metadata": {},
   "source": [
    "# Projective line bundle of the SE2 group"
   ]
  },
  {
   "cell_type": "code",
   "execution_count": null,
   "metadata": {},
   "outputs": [],
   "source": [
    "from gechebnet.liegroup.se2 import se2_riemannian_sqdist, se2_matrix"
   ]
  },
  {
   "cell_type": "code",
   "execution_count": null,
   "metadata": {},
   "outputs": [],
   "source": [
    "x = torch.rand(100000)\n",
    "y = torch.rand(100000)\n",
    "theta = torch.rand(100000) * math.pi - math.pi/2\n",
    "Gg = se2_matrix(x, y, theta)"
   ]
  },
  {
   "cell_type": "code",
   "execution_count": null,
   "metadata": {},
   "outputs": [],
   "source": [
    "x = torch.rand(100000)\n",
    "y = torch.rand(100000)\n",
    "theta = torch.rand(100000) * math.pi - math.pi/2\n",
    "Gh = se2_matrix(x, y, theta)"
   ]
  },
  {
   "cell_type": "code",
   "execution_count": null,
   "metadata": {},
   "outputs": [],
   "source": [
    "eps, xi = .1 , 20.\n",
    "Re = torch.diag(torch.tensor([xi/eps, xi, 1.]))\n",
    "dataframe[\"se2_sqdist\"] = se2_riemannian_sqdist(Gg, Gh, Re)"
   ]
  },
  {
   "cell_type": "markdown",
   "metadata": {},
   "source": [
    "# Projective line bundle of the SO3 group"
   ]
  },
  {
   "cell_type": "code",
   "execution_count": null,
   "metadata": {},
   "outputs": [],
   "source": [
    "from gechebnet.liegroup.so3 import so3_riemannian_sqdist, so3_matrix"
   ]
  },
  {
   "cell_type": "code",
   "execution_count": null,
   "metadata": {},
   "outputs": [],
   "source": [
    "alpha = torch.rand(100000) * math.pi - math.pi/2\n",
    "beta = torch.rand(100000) * 2 * math.pi - math.pi\n",
    "gamma = torch.rand(100000) * math.pi - math.pi/2\n",
    "Gg = so3_matrix(alpha, beta, gamma)"
   ]
  },
  {
   "cell_type": "code",
   "execution_count": null,
   "metadata": {},
   "outputs": [],
   "source": [
    "alpha = torch.rand(100000) * math.pi - math.pi/2\n",
    "beta = torch.rand(100000) * 2 * math.pi - math.pi\n",
    "gamma = torch.rand(100000) * math.pi - math.pi/2\n",
    "Gg = so3_matrix(alpha, beta, gamma)"
   ]
  },
  {
   "cell_type": "code",
   "execution_count": null,
   "metadata": {},
   "outputs": [],
   "source": [
    "eps, xi = .1, 2.\n",
    "Re = torch.diag(torch.tensor([xi/eps, xi, 1.]))\n",
    "dataframe[\"so3_sqdist\"] = so3_riemannian_sqdist(Gg, Gh, Re)"
   ]
  },
  {
   "cell_type": "code",
   "execution_count": null,
   "metadata": {},
   "outputs": [],
   "source": [
    "dataframe"
   ]
  },
  {
   "cell_type": "code",
   "execution_count": null,
   "metadata": {},
   "outputs": [],
   "source": [
    "_ = sns.kdeplot(data=dataframe)"
   ]
  },
  {
   "cell_type": "code",
   "execution_count": null,
   "metadata": {},
   "outputs": [],
   "source": [
    "from gechebnet.module.utils import GraphPooling"
   ]
  },
  {
   "cell_type": "code",
   "execution_count": null,
   "metadata": {},
   "outputs": [],
   "source": [
    "graphmaxpool1 = GraphPooling(3, 3, 4, 2, 4, 2)"
   ]
  },
  {
   "cell_type": "code",
   "execution_count": null,
   "metadata": {},
   "outputs": [],
   "source": [
    "x = torch.rand(8, 3, 4*4*3)"
   ]
  },
  {
   "cell_type": "code",
   "execution_count": null,
   "metadata": {},
   "outputs": [],
   "source": [
    "y = graphmaxpool1(x)"
   ]
  },
  {
   "cell_type": "code",
   "execution_count": null,
   "metadata": {},
   "outputs": [],
   "source": [
    "y.shape"
   ]
  },
  {
   "cell_type": "code",
   "execution_count": null,
   "metadata": {},
   "outputs": [],
   "source": [
    "x.shape"
   ]
  },
  {
   "cell_type": "code",
   "execution_count": null,
   "metadata": {},
   "outputs": [],
   "source": [
    "x[0,0]"
   ]
  },
  {
   "cell_type": "code",
   "execution_count": null,
   "metadata": {},
   "outputs": [],
   "source": [
    "y[0,0]"
   ]
  },
  {
   "cell_type": "code",
   "execution_count": null,
   "metadata": {},
   "outputs": [],
   "source": [
    "x[0,0].view(3, 4, 4)[0]"
   ]
  },
  {
   "cell_type": "code",
   "execution_count": null,
   "metadata": {},
   "outputs": [],
   "source": [
    "import numpy as np"
   ]
  },
  {
   "cell_type": "code",
   "execution_count": null,
   "metadata": {},
   "outputs": [],
   "source": [
    "import pandas as pd"
   ]
  },
  {
   "cell_type": "code",
   "execution_count": null,
   "metadata": {},
   "outputs": [],
   "source": [
    "file_path = \"~/Documents/wandb_export_2021-02-22T09 08 24.547+01 00.csv\"\n",
    "df = pd.read_csv(file_path)"
   ]
  },
  {
   "cell_type": "code",
   "execution_count": null,
   "metadata": {},
   "outputs": [],
   "source": [
    "df.groupby(\"nodes_rate\").rotated_test_accuracy.mean()"
   ]
  },
  {
   "cell_type": "code",
   "execution_count": null,
   "metadata": {},
   "outputs": [],
   "source": [
    "df.groupby(\"nodes_rate\").rotated_test_accuracy.std()"
   ]
  },
  {
   "cell_type": "code",
   "execution_count": null,
   "metadata": {},
   "outputs": [],
   "source": [
    "24/28"
   ]
  },
  {
   "cell_type": "code",
   "execution_count": null,
   "metadata": {},
   "outputs": [],
   "source": [
    "import math\n",
    "math.pi/6"
   ]
  },
  {
   "cell_type": "code",
   "execution_count": null,
   "metadata": {},
   "outputs": [],
   "source": [
    "import torch\n",
    "\n",
    "torch.nn.init.dirac_(a)"
   ]
  },
  {
   "cell_type": "code",
   "execution_count": null,
   "metadata": {},
   "outputs": [],
   "source": [
    "a = torch.empty(100)"
   ]
  },
  {
   "cell_type": "code",
   "execution_count": null,
   "metadata": {},
   "outputs": [],
   "source": [
    "a.dirac_"
   ]
  },
  {
   "cell_type": "code",
   "execution_count": null,
   "metadata": {},
   "outputs": [],
   "source": [
    "from torch import FloatTensor\n",
    "from typing import Optional, Tuple, Union\n",
    "from torch import device as Device\n",
    "\n",
    "def delta_kronecker(\n",
    "    size: Union[int, Tuple[int, ...]], offset: Union[int, Tuple[int, ...]], device: Optional[Device] = None\n",
    ") -> FloatTensor:\n",
    "    \"\"\"\n",
    "    Returns a delta kronecker with offset of the specified size.\n",
    "\n",
    "    Args:\n",
    "        size (int or tuple of ints): size of the output tensor.\n",
    "        offset (int or tuple of ints): delta kronecker offset.\n",
    "        device (Device, optional): computation device. Defaults to None.\n",
    "\n",
    "    Returns:\n",
    "        FloatTensor: delta kronecker.\n",
    "    \"\"\"\n",
    "\n",
    "    if type(size) != type(offset):\n",
    "        raise ValueError(f\"size and offset must have the same type: get {type(size)} and {type(offset)}.\")\n",
    "\n",
    "    if isinstance(size, tuple) and len(size) != len(offset):\n",
    "        raise ValueError(f\"size and offset must have the same length: get {len(size)} and {len(offset)}.\")\n",
    "\n",
    "    output = torch.zeros(size, device=device)\n",
    "    output[offset] = 1.0\n",
    "    return output"
   ]
  },
  {
   "cell_type": "code",
   "execution_count": null,
   "metadata": {},
   "outputs": [],
   "source": [
    "delta_kronecker((10,), (0,))"
   ]
  }
 ],
 "metadata": {
  "language_info": {
   "name": "python",
   "pygments_lexer": "ipython3"
  }
 },
 "nbformat": 4,
 "nbformat_minor": 4
}
