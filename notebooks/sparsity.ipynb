{
 "cells": [
  {
   "cell_type": "code",
   "execution_count": null,
   "metadata": {},
   "outputs": [],
   "source": [
    "import torch\n",
    "\n",
    "import numpy as np\n",
    "\n",
    "import time"
   ]
  },
  {
   "cell_type": "code",
   "execution_count": null,
   "metadata": {},
   "outputs": [],
   "source": [
    "def to_sparse(x):\n",
    "    \"\"\" converts dense tensor x to sparse format \"\"\"\n",
    "    x_typename = torch.typename(x).split('.')[-1]\n",
    "    sparse_tensortype = getattr(torch.sparse, x_typename)\n",
    "\n",
    "    indices = torch.nonzero(x)\n",
    "    if len(indices.shape) == 0:  # if all elements are zeros\n",
    "        return sparse_tensortype(*x.shape)\n",
    "    indices = indices.t()\n",
    "    values = x[tuple(indices[i] for i in range(indices.shape[0]))]\n",
    "    return sparse_tensortype(indices, values, x.size())    "
   ]
  },
  {
   "cell_type": "code",
   "execution_count": null,
   "metadata": {},
   "outputs": [],
   "source": [
    "x = torch.rand((1000, 1))\n",
    "\n",
    "sparse_time = torch.zeros(101)\n",
    "dense_time = torch.zeros(101)\n",
    "\n",
    "for i, beta in enumerate(np.linspace(0.998, 1, 101)):\n",
    "    A = torch.rand((1000**2))\n",
    "\n",
    "    indices = np.random.choice(np.arange(1000**2), int(1000**2*beta), replace=False)\n",
    "    A[indices] = 0.\n",
    "        \n",
    "    dense_A = A.reshape(1000, 1000)\n",
    "    sparse_A = to_sparse(dense_A)\n",
    "    \n",
    "    start = time.time()\n",
    "    for k in range(1000):\n",
    "        _ = torch.mm(dense_A, x)\n",
    "    end = time.time()\n",
    "    dense_time[i] = (end-start)/1000\n",
    "        \n",
    "    start = time.time()\n",
    "    for k in range(1000):\n",
    "        _ = torch.sparse.mm(sparse_A, x)\n",
    "    end = time.time()\n",
    "    sparse_time[i] = (end-start)/1000"
   ]
  },
  {
   "cell_type": "code",
   "execution_count": null,
   "metadata": {},
   "outputs": [],
   "source": [
    "import matplotlib.pyplot as plt"
   ]
  },
  {
   "cell_type": "code",
   "execution_count": null,
   "metadata": {},
   "outputs": [],
   "source": [
    "_ = plt.plot(np.linspace(99.8, 100, 101), dense_time)\n",
    "_ = plt.plot(np.linspace(99.8, 100, 101), sparse_time)\n",
    "_ = plt.legend([\"dense operation\", \"sparse operation\"])"
   ]
  },
  {
   "cell_type": "code",
   "execution_count": null,
   "metadata": {},
   "outputs": [],
   "source": [
    "2**9"
   ]
  }
 ],
 "metadata": {
  "language_info": {
   "name": "python",
   "pygments_lexer": "ipython3"
  }
 },
 "nbformat": 4,
 "nbformat_minor": 4
}
