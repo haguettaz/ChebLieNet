{
 "cells": [
  {
   "cell_type": "markdown",
   "metadata": {},
   "source": [
    "# Group Equivariant Graph Tutorial\n",
    "\n",
    "## Introduction\n",
    "\n",
    "In this tutorial, we present the different functionnalities of our implementation of the group equivariant graph. Such a graph is a k-NN graph representing the structure of a group, a set equipped with a binary operation called the group product. Each vertex of the graph represents an element of the group and the edge's weights corresponds to the Riemannian distance between these element. "
   ]
  },
  {
   "cell_type": "code",
   "execution_count": null,
   "metadata": {},
   "outputs": [],
   "source": [
    "import torch\n",
    "import numpy as np\n",
    "import math\n",
    "import matplotlib.pyplot as plt"
   ]
  },
  {
   "cell_type": "code",
   "execution_count": null,
   "metadata": {},
   "outputs": [],
   "source": [
    "from gechebnet.graphs.viz import visualize_graph_neighborhood, visualize_graph"
   ]
  },
  {
   "cell_type": "markdown",
   "metadata": {},
   "source": [
    "## Package\n",
    "\n",
    "The `gechebnet` package implements such a graph and have the basic functions to interact with them. For the most part, it uses PyTorch for tensor operations and PyKeops to achieve a memory and time efficient graph construction.\n",
    "\n",
    "## Graph class\n",
    "\n",
    "The main class of the package is the `Graph` class. It stores a graph in a very efficient way using `node_index`, `edge_index` and `edge_weight` attributes. Very easily, we can get important properties of a graph with `num_nodes` or `num_edges`. Other method, properties and attributes are available, we will see them later. However, this class just gives the main structure of a graph, the group equivariant graph inherits from this class.\n",
    "\n",
    "An important remark is that our graphs are necessarily symmetric, that's why we refer the `knn` parameter as the **maximum** number of neighbours of a vertex."
   ]
  },
  {
   "cell_type": "code",
   "execution_count": null,
   "metadata": {},
   "outputs": [],
   "source": [
    "from gechebnet.graphs.graphs import SE2GEGraph, SO3GEGraph"
   ]
  },
  {
   "cell_type": "markdown",
   "metadata": {},
   "source": [
    "## SE(2) Group Equivariant Graph\n",
    "\n",
    "The SE(2) group equivariant graph is the first group equivariant graph we have implemented. To create such a graph, different variables have to be speficied:\n",
    "- `nx`: the discretization on the x axis, i.e. the number of points to uniformly sample in the x direction.\n",
    "- `ny`: the discretization on the y axis, i.e. the number of points to uniformly sample in the y direction.\n",
    "- `nsym`: the discretization on the symmetry axis, i.e. the number of points to uniformly sample in the orientation domain.\n",
    "- `knn`: the maximum number of neighbors of each vertex. \n",
    "- `sigmas`: the anisotropy's parameters for the computation of the Riemannian distance between vertices.\n",
    "- `weight_kernel`: the weight kernel, that is a function taking as input the squared Riemannian distance and returning a weight.\n",
    "- `kappa`: the edge's compression rate, the rate of edges to drop during random compression."
   ]
  },
  {
   "cell_type": "code",
   "execution_count": null,
   "metadata": {},
   "outputs": [],
   "source": [
    "from gechebnet.liegroups.se2 import se2_uniform_sampling"
   ]
  },
  {
   "cell_type": "code",
   "execution_count": null,
   "metadata": {},
   "outputs": [],
   "source": [
    "eps, xi = .1, 2.048 / (28 ** 2)"
   ]
  },
  {
   "cell_type": "code",
   "execution_count": null,
   "metadata": {},
   "outputs": [],
   "source": [
    "se2_sampling = se2_uniform_sampling(28,28,6)"
   ]
  },
  {
   "cell_type": "code",
   "execution_count": null,
   "metadata": {},
   "outputs": [],
   "source": [
    "se2_graph = SE2GEGraph(\n",
    "    se2_sampling,\n",
    "    K=32,\n",
    "    sigmas=(1., eps, xi),\n",
    "    path_to_graph=\"saved_graphs\"\n",
    ")"
   ]
  },
  {
   "cell_type": "code",
   "execution_count": null,
   "metadata": {},
   "outputs": [],
   "source": [
    "visualize_graph(se2_graph)"
   ]
  },
  {
   "cell_type": "code",
   "execution_count": null,
   "metadata": {},
   "outputs": [],
   "source": [
    "X, Y, Z = se2_graph.cartesian_pos()"
   ]
  },
  {
   "cell_type": "code",
   "execution_count": null,
   "metadata": {},
   "outputs": [],
   "source": [
    "import matplotlib.cm as cm\n",
    "\n",
    "num_neighborhoods = 6\n",
    "num_layers = 6\n",
    "\n",
    "fig = plt.figure(figsize=(20, 20))\n",
    "\n",
    "for k in range(num_neighborhoods):\n",
    "    neighbors_indices, neighbors_weights, _ = se2_graph.neighborhood(torch.randint(se2_graph.num_nodes, (1,)))\n",
    "    weights = torch.zeros(se2_graph.num_nodes)\n",
    "    weights[neighbors_indices] = neighbors_weights\n",
    "    for l in range(num_layers):\n",
    "        ax = fig.add_subplot(num_neighborhoods, num_layers, l * num_neighborhoods + k + 1)\n",
    "        ax.scatter(X[l*784:(l+1)*784], Y[l*784:(l+1)*784], c=weights[l*784:(l+1)*784], cmap=cm.PuRd)\n",
    "        ax.axis(\"off\")\n",
    "\n",
    "fig.tight_layout()\n",
    "plt.show()\n"
   ]
  },
  {
   "cell_type": "code",
   "execution_count": null,
   "metadata": {},
   "outputs": [],
   "source": [
    "visualize_graph_neighborhood(se2_graph, 55)"
   ]
  },
  {
   "cell_type": "code",
   "execution_count": null,
   "metadata": {},
   "outputs": [],
   "source": [
    "visualize_graph_neighborhood(se2_graph, 455)"
   ]
  },
  {
   "cell_type": "code",
   "execution_count": null,
   "metadata": {},
   "outputs": [],
   "source": [
    "se2_graph.node_x[455], se2_graph.node_y[455], se2_graph.node_theta[455]"
   ]
  },
  {
   "cell_type": "code",
   "execution_count": null,
   "metadata": {},
   "outputs": [],
   "source": [
    "f\"The SE(2) graph has {se2_graph.num_nodes} vertices and {se2_graph.num_edges} edges\""
   ]
  },
  {
   "cell_type": "markdown",
   "metadata": {},
   "source": [
    "## SO(3) Group Equivariant Graph\n",
    "\n",
    "The SO(3) group equivariant graph is the second group equivariant graph we have implemented. To create such a graph, different variables have to be speficied:\n",
    "- `nsamples`: the discretization on the sphere, i.e. the number of points to uniformly sample on the sphere.\n",
    "- `nalpha`: the discretization on the alpha axis, i.e. the number of points to uniformly sample in the alpha direction.\n",
    "- `knn`: the maximum number of neighbors of each vertex. \n",
    "- `sigmas`: the anisotropy's parameters for the computation of the Riemannian distance between vertices.\n",
    "- `weight_kernel`: the weight kernel, that is a function taking as input the squared Riemannian distance and returning a weight.\n",
    "- `kappa`: the edge's compression rate, the rate of edges to drop during random compression."
   ]
  },
  {
   "cell_type": "code",
   "execution_count": null,
   "metadata": {},
   "outputs": [],
   "source": [
    "from gechebnet.liegroups.so3 import so3_uniform_sampling"
   ]
  },
  {
   "cell_type": "code",
   "execution_count": null,
   "metadata": {},
   "outputs": [],
   "source": [
    "eps, xi = 1., 1."
   ]
  },
  {
   "cell_type": "code",
   "execution_count": null,
   "metadata": {},
   "outputs": [],
   "source": [
    "eps, xi = .1, 32.1 / (10 * 4 ** 3 + 2)"
   ]
  },
  {
   "cell_type": "code",
   "execution_count": null,
   "metadata": {},
   "outputs": [],
   "source": [
    "path_to_sampling = \"/home/hugo/Documents/thesis/GroupEquivariantChebNets/gechebnet/liegroups/sampling\"\n",
    "so3_sampling = so3_uniform_sampling(path_to_sampling, 3, 6)"
   ]
  },
  {
   "cell_type": "code",
   "execution_count": null,
   "metadata": {},
   "outputs": [],
   "source": [
    "so3_graph = SO3GEGraph(\n",
    "    so3_sampling,\n",
    "    K=32,\n",
    "    sigmas=(1., eps, xi),\n",
    "    path_to_graph=\"saved_graphs\"\n",
    ")"
   ]
  },
  {
   "cell_type": "code",
   "execution_count": null,
   "metadata": {},
   "outputs": [],
   "source": [
    "X, Y, Z = so3_graph.cartesian_pos()"
   ]
  },
  {
   "cell_type": "code",
   "execution_count": null,
   "metadata": {},
   "outputs": [],
   "source": [
    "import matplotlib.cm as cm\n",
    "\n",
    "num_neighborhoods = 6\n",
    "num_layers = 6\n",
    "\n",
    "fig = plt.figure(figsize=(20, 20))\n",
    "\n",
    "for k in range(num_neighborhoods):\n",
    "    neighbors_indices, neighbors_weights, _ = so3_graph.neighborhood(torch.randint(so3_graph.num_nodes, (1,)))\n",
    "    weights = torch.zeros(so3_graph.num_nodes)\n",
    "    weights[neighbors_indices] = neighbors_weights\n",
    "    for l in range(num_layers):\n",
    "        ax = fig.add_subplot(num_neighborhoods, num_layers, l * num_neighborhoods + k + 1, projection=\"3d\")\n",
    "        ax.scatter(X[l*642:(l+1)*642], Y[l*642:(l+1)*642], Z[l*642:(l+1)*642], c=weights[l*642:(l+1)*642], cmap=cm.PuRd)\n",
    "        ax.axis(\"off\")\n",
    "\n",
    "fig.tight_layout()\n",
    "plt.show()\n"
   ]
  },
  {
   "cell_type": "code",
   "execution_count": null,
   "metadata": {},
   "outputs": [],
   "source": [
    "visualize_graph(so3_graph)"
   ]
  },
  {
   "cell_type": "code",
   "execution_count": null,
   "metadata": {},
   "outputs": [],
   "source": [
    "visualize_graph_neighborhood(so3_graph, 100)"
   ]
  },
  {
   "cell_type": "code",
   "execution_count": null,
   "metadata": {},
   "outputs": [],
   "source": [
    "f\"The SO(3) graph has {so3_graph.num_nodes} vertices and {so3_graph.num_edges} edges\""
   ]
  }
 ],
 "metadata": {
  "language_info": {
   "name": "python",
   "pygments_lexer": "ipython3"
  }
 },
 "nbformat": 4,
 "nbformat_minor": 4
}
