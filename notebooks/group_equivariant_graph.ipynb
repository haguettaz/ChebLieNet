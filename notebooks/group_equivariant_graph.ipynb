{
 "cells": [
  {
   "cell_type": "markdown",
   "metadata": {},
   "source": [
    "# Group Equivariant Graph Tutorial\n",
    "\n",
    "## Introduction\n",
    "\n",
    "In this tutorial, we present the different functionnalities of our implementation of the group equivariant graph. Such a graph is a k-NN graph representing the structure of a group, a set equipped with a binary operation called the group product. Each vertex of the graph represents an element of the group and the edge's weights corresponds to the Riemannian distance between these element. "
   ]
  },
  {
   "cell_type": "code",
   "execution_count": null,
   "metadata": {},
   "outputs": [],
   "source": [
    "import torch\n",
    "import numpy as np\n",
    "import math\n",
    "import matplotlib.pyplot as plt\n",
    "\n",
    "#import pykeops\n",
    "#pykeops.clean_pykeops()"
   ]
  },
  {
   "cell_type": "code",
   "execution_count": null,
   "metadata": {},
   "outputs": [],
   "source": [
    "from gechebnet.graph.visualization import visualize_graph_neighborhood, visualize_graph"
   ]
  },
  {
   "cell_type": "markdown",
   "metadata": {},
   "source": [
    "## Package\n",
    "\n",
    "The `gechebnet` package implements such a graph and have the basic functions to interact with them. For the most part, it uses PyTorch for tensor operations and PyKeops to achieve a memory and time efficient graph construction.\n",
    "\n",
    "## Graph class\n",
    "\n",
    "The main class of the package is the `Graph` class. It stores a graph in a very efficient way using `node_index`, `edge_index` and `edge_weight` attributes. Very easily, we can get important properties of a graph with `num_nodes` or `num_edges`. Other method, properties and attributes are available, we will see them later. However, this class just gives the main structure of a graph, the group equivariant graph inherits from this class.\n",
    "\n",
    "An important remark is that our graphs are necessarily symmetric, that's why we refer the `knn` parameter as the **maximum** number of neighbours of a vertex."
   ]
  },
  {
   "cell_type": "code",
   "execution_count": null,
   "metadata": {},
   "outputs": [],
   "source": [
    "from gechebnet.graph.graph import SE2GEGraph, SO3GEGraph"
   ]
  },
  {
   "cell_type": "markdown",
   "metadata": {},
   "source": [
    "## SE(2) Group Equivariant Graph\n",
    "\n",
    "The SE(2) group equivariant graph is the first group equivariant graph we have implemented. To create such a graph, different variables have to be speficied:\n",
    "- `nx`: the discretization on the x axis, i.e. the number of points to uniformly sample in the x direction.\n",
    "- `ny`: the discretization on the y axis, i.e. the number of points to uniformly sample in the y direction.\n",
    "- `nsym`: the discretization on the symmetry axis, i.e. the number of points to uniformly sample in the orientation domain.\n",
    "- `knn`: the maximum number of neighbors of each vertex. \n",
    "- `sigmas`: the anisotropy's parameters for the computation of the Riemannian distance between vertices.\n",
    "- `weight_kernel`: the weight kernel, that is a function taking as input the squared Riemannian distance and returning a weight.\n",
    "- `kappa`: the edge's compression rate, the rate of edges to drop during random compression."
   ]
  },
  {
   "cell_type": "code",
   "execution_count": null,
   "metadata": {},
   "outputs": [],
   "source": [
    "eps, xi = .1, 10."
   ]
  },
  {
   "cell_type": "code",
   "execution_count": null,
   "metadata": {},
   "outputs": [],
   "source": [
    "se2_graph = SE2GEGraph(\n",
    "    nx=30,\n",
    "    ny=30,\n",
    "    ntheta=10,\n",
    "    K=16,\n",
    "    sigmas=(xi / eps, xi, 1.0),\n",
    "    weight_kernel=lambda sqdistc, tc: torch.exp(-sqdistc / (4*tc)),\n",
    ")"
   ]
  },
  {
   "cell_type": "code",
   "execution_count": null,
   "metadata": {},
   "outputs": [],
   "source": [
    "visualize_graph(se2_graph)"
   ]
  },
  {
   "cell_type": "code",
   "execution_count": null,
   "metadata": {},
   "outputs": [],
   "source": [
    "visualize_graph_neighborhood(se2_graph, 3000)"
   ]
  },
  {
   "cell_type": "code",
   "execution_count": null,
   "metadata": {},
   "outputs": [],
   "source": [
    "visualize_graph_neighborhood(se2_graph, 455)"
   ]
  },
  {
   "cell_type": "code",
   "execution_count": null,
   "metadata": {},
   "outputs": [],
   "source": [
    "se2_graph.node_x[455], se2_graph.node_y[455], se2_graph.node_theta[455]"
   ]
  },
  {
   "cell_type": "code",
   "execution_count": null,
   "metadata": {},
   "outputs": [],
   "source": [
    "f\"The SE(2) graph has {se2_graph.num_nodes} vertices and {se2_graph.num_edges} edges\""
   ]
  },
  {
   "cell_type": "markdown",
   "metadata": {},
   "source": [
    "## SO(3) Group Equivariant Graph\n",
    "\n",
    "The SO(3) group equivariant graph is the second group equivariant graph we have implemented. To create such a graph, different variables have to be speficied:\n",
    "- `nsamples`: the discretization on the sphere, i.e. the number of points to uniformly sample on the sphere.\n",
    "- `nalpha`: the discretization on the alpha axis, i.e. the number of points to uniformly sample in the alpha direction.\n",
    "- `knn`: the maximum number of neighbors of each vertex. \n",
    "- `sigmas`: the anisotropy's parameters for the computation of the Riemannian distance between vertices.\n",
    "- `weight_kernel`: the weight kernel, that is a function taking as input the squared Riemannian distance and returning a weight.\n",
    "- `kappa`: the edge's compression rate, the rate of edges to drop during random compression."
   ]
  },
  {
   "cell_type": "code",
   "execution_count": null,
   "metadata": {},
   "outputs": [],
   "source": [
    "eps, xi = 0.1, 0.5"
   ]
  },
  {
   "cell_type": "code",
   "execution_count": null,
   "metadata": {},
   "outputs": [],
   "source": [
    "so3_graph = SO3GEGraph(\n",
    "    polyhedron=\"icosahedron\",\n",
    "    level=2,\n",
    "    nalpha=6,\n",
    "    K=16,\n",
    "    sigmas=(xi / eps, xi, 1.0),\n",
    "    weight_kernel=lambda sqdistc, tc: torch.exp(-sqdistc / (4*tc)),\n",
    ")"
   ]
  },
  {
   "cell_type": "code",
   "execution_count": null,
   "metadata": {},
   "outputs": [],
   "source": [
    "f\"The SO(3) graph has {so3_graph.num_nodes} vertices and {so3_graph.num_edges} edges\""
   ]
  },
  {
   "cell_type": "code",
   "execution_count": null,
   "metadata": {},
   "outputs": [],
   "source": [
    "visualize_graph(so3_graph)"
   ]
  },
  {
   "cell_type": "code",
   "execution_count": null,
   "metadata": {},
   "outputs": [],
   "source": [
    "visualize_graph_neighborhood(so3_graph, 162*4)"
   ]
  },
  {
   "cell_type": "code",
   "execution_count": null,
   "metadata": {},
   "outputs": [],
   "source": [
    "972/6"
   ]
  },
  {
   "cell_type": "code",
   "execution_count": null,
   "metadata": {},
   "outputs": [],
   "source": [
    "so3_graph.node_alpha[162*3], so3_graph.node_beta[162*3], so3_graph.node_gamma[162*3]"
   ]
  }
 ],
 "metadata": {
  "language_info": {
   "name": "python",
   "pygments_lexer": "ipython3"
  }
 },
 "nbformat": 4,
 "nbformat_minor": 4
}
