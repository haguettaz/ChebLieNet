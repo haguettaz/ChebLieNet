{
 "cells": [
  {
   "cell_type": "markdown",
   "metadata": {},
   "source": [
    "# Neural network layers\n",
    "\n",
    "In this tutorial, we introduce three kinds of neural network layers we are using in this thesis. The Chebyshev convolutional layer is a spectral method and has a diffusion effect on a original signal. The pooling and unpooling layer are used to modify an image resolution, by down-sampling and reduction (pooling) or by up-sampling and expansion (unpooling)."
   ]
  },
  {
   "cell_type": "code",
   "execution_count": null,
   "metadata": {},
   "outputs": [],
   "source": [
    "import matplotlib.pyplot as plt\n",
    "import matplotlib.cm as cm\n",
    "\n",
    "import numpy as np\n",
    "import torch"
   ]
  },
  {
   "cell_type": "code",
   "execution_count": null,
   "metadata": {},
   "outputs": [],
   "source": [
    "from gechebnet.graphs.graphs import SE2GEGraph, SO3GEGraph, R2GEGraph, S2GEGraph\n",
    "from gechebnet.nn.layers.convs import ChebConv\n",
    "from gechebnet.nn.layers.pools import SE2SpatialPool, SO3SpatialPool\n",
    "from gechebnet.nn.layers.unpools import SE2SpatialUnpool, SO3SpatialUnpool\n",
    "from gechebnet.utils.utils import delta_kronecker"
   ]
  },
  {
   "cell_type": "code",
   "execution_count": null,
   "metadata": {},
   "outputs": [],
   "source": [
    "def plot_signal(graph, signal, size):\n",
    "    M, L = size\n",
    "        \n",
    "    fig = plt.figure(figsize=(5*L, 5))\n",
    "    \n",
    "    X, Y, Z = graph.cartesian_pos()\n",
    "    vm = signal.abs().max()\n",
    "    \n",
    "    for l in range(L):\n",
    "        ax = fig.add_subplot(1, L, l + 1, projection=\"3d\")\n",
    "        ax.scatter(X[l*M:(l+1)*M], Y[l*M:(l+1)*M], Z[l*M:(l+1)*M], c=signal[...,l*M:(l+1)*M], cmap=cm.PiYG, vmin=-vm, vmax=vm)\n",
    "        ax.axis(\"off\")\n",
    "            \n",
    "    fig.tight_layout()"
   ]
  },
  {
   "cell_type": "markdown",
   "metadata": {},
   "source": [
    "## SE(2) Group Manifold Graph"
   ]
  },
  {
   "cell_type": "markdown",
   "metadata": {},
   "source": [
    "### Convolutional layers"
   ]
  },
  {
   "cell_type": "code",
   "execution_count": null,
   "metadata": {},
   "outputs": [],
   "source": [
    "se2_graph = SE2GEGraph(\n",
    "    [28, 28, 6],\n",
    "    K=16,\n",
    "    sigmas=(1., 0.1, 0.0026),\n",
    "    path_to_graph=\"saved_graphs\"\n",
    ")"
   ]
  },
  {
   "cell_type": "code",
   "execution_count": null,
   "metadata": {},
   "outputs": [],
   "source": [
    "in_channels = 1\n",
    "out_channels = 1\n",
    "kernel_size = 4\n",
    "conv = ChebConv(in_channels, out_channels, kernel_size, se2_graph)"
   ]
  },
  {
   "cell_type": "code",
   "execution_count": null,
   "metadata": {},
   "outputs": [],
   "source": [
    "with torch.no_grad():\n",
    "    input = delta_kronecker((1, 1, 28*28*6), (0,0,406))\n",
    "    output = conv(input)"
   ]
  },
  {
   "cell_type": "code",
   "execution_count": null,
   "metadata": {},
   "outputs": [],
   "source": [
    "plot_signal(se2_graph, output, (784,6))"
   ]
  },
  {
   "cell_type": "markdown",
   "metadata": {},
   "source": [
    "### Pooling and unpooling layers"
   ]
  },
  {
   "cell_type": "code",
   "execution_count": null,
   "metadata": {},
   "outputs": [],
   "source": [
    "up_se2_graph = R2GEGraph(\n",
    "    [40, 40, 1],\n",
    "    K=8,\n",
    "    sigmas=(1., 1., 1.),\n",
    "    path_to_graph=\"saved_graphs\"\n",
    ")\n",
    "\n",
    "se2_graph = R2GEGraph(\n",
    "    [20, 20, 1],\n",
    "    K=8,\n",
    "    sigmas=(1., 1., 1.),\n",
    "    path_to_graph=\"saved_graphs\"\n",
    ")\n",
    "\n",
    "down_se2_graph = R2GEGraph(\n",
    "    [10, 10, 1],\n",
    "    K=8,\n",
    "    sigmas=(1., 1., 1.),\n",
    "    path_to_graph=\"saved_graphs\"\n",
    ")"
   ]
  },
  {
   "cell_type": "code",
   "execution_count": null,
   "metadata": {},
   "outputs": [],
   "source": [
    "input = torch.rand(20*20*1)"
   ]
  },
  {
   "cell_type": "code",
   "execution_count": null,
   "metadata": {},
   "outputs": [],
   "source": [
    "pool = SE2SpatialPool(2, (20, 20, 1), \"rand\")\n",
    "unpool = SE2SpatialUnpool(2, (20, 20, 1), \"rand\")"
   ]
  },
  {
   "cell_type": "code",
   "execution_count": null,
   "metadata": {},
   "outputs": [],
   "source": [
    "plot_signal(se2_graph, input, (20*20,1))"
   ]
  },
  {
   "cell_type": "code",
   "execution_count": null,
   "metadata": {},
   "outputs": [],
   "source": [
    "with torch.no_grad():\n",
    "    plot_signal(down_se2_graph, pool(input), (10*10,1))"
   ]
  },
  {
   "cell_type": "code",
   "execution_count": null,
   "metadata": {},
   "outputs": [],
   "source": [
    "with torch.no_grad():\n",
    "    plot_signal(up_se2_graph, unpool(input), (40*40,1))"
   ]
  },
  {
   "cell_type": "markdown",
   "metadata": {},
   "source": [
    "## SO(3) Group Manifold Graph"
   ]
  },
  {
   "cell_type": "markdown",
   "metadata": {},
   "source": [
    "### Convolutional layer"
   ]
  },
  {
   "cell_type": "code",
   "execution_count": null,
   "metadata": {},
   "outputs": [],
   "source": [
    "so3_graph = SO3GEGraph(\n",
    "    size=[642, 6],\n",
    "    K=32,\n",
    "    sigmas=(1., .1, 10.0 / 642),\n",
    "    path_to_graph=\"saved_graphs\"\n",
    ")"
   ]
  },
  {
   "cell_type": "code",
   "execution_count": null,
   "metadata": {},
   "outputs": [],
   "source": [
    "in_channels = 1\n",
    "out_channels = 1\n",
    "kernel_size = 4\n",
    "conv = ChebConv(in_channels, out_channels, kernel_size, so3_graph)"
   ]
  },
  {
   "cell_type": "code",
   "execution_count": null,
   "metadata": {},
   "outputs": [],
   "source": [
    "with torch.no_grad():\n",
    "    input = delta_kronecker((1, 1, 642*6), (0,0,143))\n",
    "    output = conv(input)"
   ]
  },
  {
   "cell_type": "code",
   "execution_count": null,
   "metadata": {},
   "outputs": [],
   "source": [
    "plot_signal(so3_graph, output, (642,6))"
   ]
  },
  {
   "cell_type": "markdown",
   "metadata": {},
   "source": [
    "### Pooling and unpooling layers"
   ]
  },
  {
   "cell_type": "code",
   "execution_count": null,
   "metadata": {},
   "outputs": [],
   "source": [
    "up_so3_graph = S2GEGraph(\n",
    "    size=[2562, 1],\n",
    "    K=8,\n",
    "    sigmas=(1., 1., 1.),\n",
    "    path_to_graph=\"saved_graphs\"\n",
    ")\n",
    "\n",
    "so3_graph = S2GEGraph(\n",
    "    [642, 1],\n",
    "    K=8,\n",
    "    sigmas=(1., 1., 1.),\n",
    "    path_to_graph=\"saved_graphs\"\n",
    ")\n",
    "\n",
    "down_so3_graph = S2GEGraph(\n",
    "    [162, 1],\n",
    "    K=8,\n",
    "    sigmas=(1., 1., 1.),\n",
    "    path_to_graph=\"saved_graphs\"\n",
    ")"
   ]
  },
  {
   "cell_type": "code",
   "execution_count": null,
   "metadata": {},
   "outputs": [],
   "source": [
    "input = torch.rand(642*1)"
   ]
  },
  {
   "cell_type": "code",
   "execution_count": null,
   "metadata": {},
   "outputs": [],
   "source": [
    "pool = SO3SpatialPool(2, (642, 1), \"max\")\n",
    "unpool = SO3SpatialUnpool(2, (642, 1), \"avg\")"
   ]
  },
  {
   "cell_type": "code",
   "execution_count": null,
   "metadata": {},
   "outputs": [],
   "source": [
    "plot_signal(so3_graph, input, (642,1))"
   ]
  },
  {
   "cell_type": "code",
   "execution_count": null,
   "metadata": {},
   "outputs": [],
   "source": [
    "with torch.no_grad():\n",
    "    plot_signal(down_so3_graph, pool(input), (162,1))"
   ]
  },
  {
   "cell_type": "code",
   "execution_count": null,
   "metadata": {},
   "outputs": [],
   "source": [
    "with torch.no_grad():\n",
    "    plot_signal(up_so3_graph, unpool(input), (2562,1))"
   ]
  },
  {
   "cell_type": "code",
   "execution_count": null,
   "metadata": {},
   "outputs": [],
   "source": [
    "from gechebnet.graphs.graphs import R2GEGraph, RandomSubGraph, SE2GEGraph\n",
    "from gechebnet.nn.models.chebnets import WideResSE2GEChebNet\n",
    "\n",
    "import torch\n",
    "\n",
    "import matplotlib.pyplot as plt"
   ]
  },
  {
   "cell_type": "code",
   "execution_count": null,
   "metadata": {},
   "outputs": [],
   "source": [
    "edge_index = torch.tensor([[0, 0, 1, 1, 2, 2], [1, 2, 0, 2, 0, 1]]) \n",
    "edge_weight = torch.tensor([0.5, 0.4, 0.2, 0.3, 0.4, 0.3])"
   ]
  },
  {
   "cell_type": "code",
   "execution_count": null,
   "metadata": {},
   "outputs": [],
   "source": [
    "edge_matrix = torch.sparse.FloatTensor(edge_index, edge_weight, torch.Size((3, 3))).to_dense()"
   ]
  },
  {
   "cell_type": "code",
   "execution_count": null,
   "metadata": {},
   "outputs": [],
   "source": [
    "mask = edge_matrix.t() == edge_matrix\n",
    "mask"
   ]
  },
  {
   "cell_type": "code",
   "execution_count": null,
   "metadata": {},
   "outputs": [],
   "source": [
    "mask1 = edge_matrix < 0.3 \n",
    "mask2 = edge_matrix.t() == edge_matrix\n",
    "mask1 & mask2"
   ]
  },
  {
   "cell_type": "code",
   "execution_count": null,
   "metadata": {},
   "outputs": [],
   "source": [
    "matrix = torch.zeros_like(edge_matrix)\n",
    "matrix[mask] = edge_matrix[mask]\n",
    "matrix = matrix.to_sparse()"
   ]
  },
  {
   "cell_type": "code",
   "execution_count": null,
   "metadata": {},
   "outputs": [],
   "source": [
    "matrix.to_sparse().coalesce()"
   ]
  },
  {
   "cell_type": "code",
   "execution_count": null,
   "metadata": {},
   "outputs": [],
   "source": [
    "matrix.indices()"
   ]
  },
  {
   "cell_type": "code",
   "execution_count": null,
   "metadata": {},
   "outputs": [],
   "source": [
    "from gechebnet.graphs.graphs import R2GEGraph, RandomSubGraph, SE2GEGraph\n",
    "from gechebnet.nn.models.chebnets import WideResSE2GEChebNet\n",
    "\n",
    "import torch\n",
    "\n",
    "import matplotlib.pyplot as plt\n",
    "\n",
    "device = torch.device(\"cuda\")\n",
    "\n",
    "graph = SE2GEGraph(\n",
    "        [28, 28, 6],\n",
    "        K=16,\n",
    "        sigmas=(1.0, 0.1, 0.02),\n",
    "        path_to_graph=\"saved_graphs\",\n",
    "    )\n",
    "\n",
    "#graph = R2GEGraph(\n",
    "#        [28, 28, 1],\n",
    "#        K=8,\n",
    "#        sigmas=(1.0, 1., 1.),\n",
    "#        path_to_graph=\"saved_graphs\",\n",
    "#    )\n",
    "\n",
    "# we use random sub graphs to evaluate the effect of edges and nodes' sampling\n",
    "sub_graph = RandomSubGraph(graph)\n",
    "\n",
    "# Loads group equivariant Chebnet\n",
    "model = WideResSE2GEChebNet(\n",
    "    in_channels=1,\n",
    "    out_channels=10,\n",
    "    kernel_size=4,\n",
    "    graph_lvl0=sub_graph,\n",
    "    res_depth=2,\n",
    "    widen_factor=8,\n",
    ")"
   ]
  },
  {
   "cell_type": "code",
   "execution_count": null,
   "metadata": {},
   "outputs": [],
   "source": [
    "graph.edge_sqdist.unique()"
   ]
  },
  {
   "cell_type": "code",
   "execution_count": null,
   "metadata": {},
   "outputs": [],
   "source": [
    "graph.num_edges, graph.num_nodes"
   ]
  },
  {
   "cell_type": "code",
   "execution_count": null,
   "metadata": {},
   "outputs": [],
   "source": [
    "image = torch.rand(28, 28)\n",
    "rot_image = torch.rot90(image)\n",
    "vflip_image = torch.flip(image, [0])\n",
    "hflip_image = torch.flip(image, [1])\n",
    "hvflip_image = torch.flip(image, [0, 1])"
   ]
  },
  {
   "cell_type": "code",
   "execution_count": null,
   "metadata": {},
   "outputs": [],
   "source": [
    "plt.imshow(image)"
   ]
  },
  {
   "cell_type": "code",
   "execution_count": null,
   "metadata": {},
   "outputs": [],
   "source": [
    "plt.imshow(rot_image)"
   ]
  },
  {
   "cell_type": "code",
   "execution_count": null,
   "metadata": {},
   "outputs": [],
   "source": [
    "plt.imshow(hvflip_image)"
   ]
  },
  {
   "cell_type": "code",
   "execution_count": null,
   "metadata": {},
   "outputs": [],
   "source": [
    "image = torch.rand(28, 28)\n",
    "rot_image = torch.rot90(image)\n",
    "vflip_image = torch.flip(image, [0])\n",
    "hflip_image = torch.flip(image, [1])\n",
    "hvflip_image = torch.flip(image, [0, 1])"
   ]
  },
  {
   "cell_type": "code",
   "execution_count": null,
   "metadata": {},
   "outputs": [],
   "source": [
    "input = image.unsqueeze(0)\n",
    "input = input.reshape(1, -1).unsqueeze(1).expand(-1, 6, -1).reshape(1, 1, -1)\n",
    "model(input)"
   ]
  },
  {
   "cell_type": "code",
   "execution_count": null,
   "metadata": {},
   "outputs": [],
   "source": [
    "rot_input = rot_image.unsqueeze(0)\n",
    "rot_input = rot_input.reshape(1, -1).unsqueeze(1).expand(-1, 6, -1).reshape(1, 1, -1)\n",
    "model(rot_input)"
   ]
  },
  {
   "cell_type": "code",
   "execution_count": null,
   "metadata": {},
   "outputs": [],
   "source": [
    "hflip_input = hflip_image.unsqueeze(0)\n",
    "hflip_input = hflip_input.reshape(1, -1).unsqueeze(1).expand(-1, 6, -1).reshape(1, 1, -1)\n",
    "model(hflip_input)"
   ]
  },
  {
   "cell_type": "code",
   "execution_count": null,
   "metadata": {},
   "outputs": [],
   "source": [
    "vflip_input = vflip_image.unsqueeze(0)\n",
    "vflip_input = vflip_input.reshape(1, -1).unsqueeze(1).expand(-1, 6, -1).reshape(1, 1, -1)\n",
    "model(vflip_input)"
   ]
  },
  {
   "cell_type": "code",
   "execution_count": null,
   "metadata": {},
   "outputs": [],
   "source": [
    "def permutation_matrix(graph):\n",
    "    P = torch.zeros(graph.num_nodes, graph.num_nodes)\n",
    "    indices = torch.roll((torch.rot90(graph.node_index.reshape(*graph.size[::-1]), dims=(2,1))), shifts=3, dims=0).flatten()\n",
    "    #indices = torch.rot90(graph.node_index.reshape(*graph.size[::-1]), dims=(2,1)).flatten()\n",
    "    P[indices, graph.node_index] = 1\n",
    "    return P"
   ]
  },
  {
   "cell_type": "code",
   "execution_count": null,
   "metadata": {},
   "outputs": [],
   "source": [
    "graph = SE2GEGraph(\n",
    "        [10, 10, 6],\n",
    "        K=16,\n",
    "        sigmas=(1.0, 0.1, 0.02),\n",
    "        path_to_graph=\"saved_graphs\",\n",
    "    )\n"
   ]
  },
  {
   "cell_type": "code",
   "execution_count": null,
   "metadata": {},
   "outputs": [],
   "source": [
    "graph = R2GEGraph(\n",
    "        [4, 4, 1],\n",
    "        K=8,\n",
    "        sigmas=(1.0, 1., 1.),\n",
    "        path_to_graph=\"saved_graphs\",\n",
    "    )"
   ]
  },
  {
   "cell_type": "code",
   "execution_count": null,
   "metadata": {},
   "outputs": [],
   "source": [
    "mask = graph.edge_index[0] == 0\n",
    "graph.edge_sqdist[mask], graph.edge_index[:, mask] "
   ]
  },
  {
   "cell_type": "code",
   "execution_count": null,
   "metadata": {},
   "outputs": [],
   "source": [
    "graph.edge_sqdist, graph.edge_index"
   ]
  },
  {
   "cell_type": "code",
   "execution_count": null,
   "metadata": {},
   "outputs": [],
   "source": [
    "graph.edge_sqdist.median()"
   ]
  },
  {
   "cell_type": "code",
   "execution_count": null,
   "metadata": {},
   "outputs": [],
   "source": [
    "graph.node_x[graph.edge_index[1, mask]], graph.node_y[graph.edge_index[1, mask]]"
   ]
  },
  {
   "cell_type": "code",
   "execution_count": null,
   "metadata": {},
   "outputs": [],
   "source": [
    "graph.node_index.float() @ P"
   ]
  },
  {
   "cell_type": "code",
   "execution_count": null,
   "metadata": {},
   "outputs": [],
   "source": [
    "W = torch.sparse.FloatTensor(graph.edge_index, graph.edge_weight, torch.Size((graph.num_nodes, graph.num_nodes)))"
   ]
  },
  {
   "cell_type": "code",
   "execution_count": null,
   "metadata": {},
   "outputs": [],
   "source": [
    "P = permutation_matrix(graph)"
   ]
  },
  {
   "cell_type": "code",
   "execution_count": null,
   "metadata": {},
   "outputs": [],
   "source": [
    "W = torch.sparse.FloatTensor(graph.edge_index, graph.edge_weight, torch.Size((graph.num_nodes, graph.num_nodes)))\n",
    "torch.allclose(P.t() @ W.to_dense() @ P, W.to_dense())"
   ]
  },
  {
   "cell_type": "code",
   "execution_count": null,
   "metadata": {},
   "outputs": [],
   "source": [
    "L = graph.get_laplacian()\n",
    "torch.allclose(P.t() @ L.to_dense() @ P, L.to_dense())"
   ]
  },
  {
   "cell_type": "code",
   "execution_count": null,
   "metadata": {},
   "outputs": [],
   "source": [
    "graph.get_laplacian().to_dense()"
   ]
  },
  {
   "cell_type": "code",
   "execution_count": null,
   "metadata": {},
   "outputs": [],
   "source": [
    "P.t()@P"
   ]
  },
  {
   "cell_type": "code",
   "execution_count": null,
   "metadata": {},
   "outputs": [],
   "source": [
    "L = graph.get_laplacian()\n",
    "\n",
    "#P.t()@graph.laplacian@P"
   ]
  },
  {
   "cell_type": "code",
   "execution_count": null,
   "metadata": {},
   "outputs": [],
   "source": [
    "P.t() @ L.to_dense() @ P"
   ]
  },
  {
   "cell_type": "code",
   "execution_count": null,
   "metadata": {},
   "outputs": [],
   "source": [
    "L.to_dense()"
   ]
  },
  {
   "cell_type": "code",
   "execution_count": null,
   "metadata": {},
   "outputs": [],
   "source": [
    "from gechebnet.geometry.se import se2_riemannian_sqdist, se2_matrix\n",
    "import math"
   ]
  },
  {
   "cell_type": "code",
   "execution_count": null,
   "metadata": {},
   "outputs": [],
   "source": [
    "Gg = se2_matrix(torch.tensor([0.]), torch.tensor([0.]), torch.tensor([0.]))\n",
    "Gh = se2_matrix(torch.tensor([5.]), torch.tensor([0.]), torch.tensor([0.]))\n",
    "Re = torch.diag(torch.tensor([1, 0.1, 0.02]))\n",
    "se2_riemannian_sqdist(Gg, Gh, Re)"
   ]
  },
  {
   "cell_type": "code",
   "execution_count": null,
   "metadata": {},
   "outputs": [],
   "source": [
    "Gg = se2_matrix(torch.tensor([0.]), torch.tensor([0.]), torch.tensor([math.pi/2]))\n",
    "Gh = se2_matrix(torch.tensor([0.]), torch.tensor([5.]), torch.tensor([math.pi/2]))\n",
    "Re = torch.diag(torch.tensor([1, 0.1, 0.02]))\n",
    "se2_riemannian_sqdist(Gg, Gh, Re)"
   ]
  }
 ],
 "metadata": {
  "language_info": {
   "name": "python",
   "pygments_lexer": "ipython3"
  }
 },
 "nbformat": 4,
 "nbformat_minor": 4
}
