{
 "cells": [
  {
   "cell_type": "markdown",
   "metadata": {},
   "source": [
    "# Neural network layers"
   ]
  },
  {
   "cell_type": "code",
   "execution_count": null,
   "metadata": {},
   "outputs": [],
   "source": [
    "import torch\n",
    "from torchvision.transforms.functional import affine\n",
    "import numpy as np\n",
    "import matplotlib.cm as cm\n"
   ]
  },
  {
   "cell_type": "code",
   "execution_count": null,
   "metadata": {},
   "outputs": [],
   "source": [
    "from gechebnet.graphs.graphs import SE2GEGraph, R2GEGraph"
   ]
  },
  {
   "cell_type": "code",
   "execution_count": null,
   "metadata": {},
   "outputs": [],
   "source": [
    "def get_signal(B, C, H, W, L=1, cheb=False):\n",
    "    if cheb:\n",
    "        x = torch.rand(B, C, 1, H * W)\n",
    "        x = x.expand(-1, -1, L, -1)\n",
    "        return x.reshape(B, C, -1)\n",
    "    \n",
    "    return torch.rand(B, C, H, W)"
   ]
  },
  {
   "cell_type": "code",
   "execution_count": null,
   "metadata": {},
   "outputs": [],
   "source": [
    "import matplotlib.pyplot as plt"
   ]
  },
  {
   "cell_type": "code",
   "execution_count": null,
   "metadata": {},
   "outputs": [],
   "source": [
    "fig = plt.figure(figsize=(10, 10))\n",
    "\n",
    "X, Y, Z = se2_graph.cartesian_pos()\n",
    "signal = get_signal(16, 3, 28, 28, 6, True)\n",
    "\n",
    "ax = fig.add_subplot(1, 1, 1, projection=\"3d\")\n",
    "ax.scatter(X, Y, Z, c=signal[0].permute(1,0), cmap=cm.PiYG)\n",
    "ax.axis(\"off\")\n",
    "fig.tight_layout()"
   ]
  },
  {
   "cell_type": "markdown",
   "metadata": {},
   "source": [
    "## Conv layers"
   ]
  },
  {
   "cell_type": "code",
   "execution_count": null,
   "metadata": {},
   "outputs": [],
   "source": [
    "from gechebnet.nn.layers.convs import ChebConv"
   ]
  },
  {
   "cell_type": "code",
   "execution_count": null,
   "metadata": {},
   "outputs": [],
   "source": [
    "xi = 0.0026\n",
    "eps = 0.1\n",
    "\n",
    "se2_graph = SE2GEGraph(\n",
    "    [28, 28, 6],\n",
    "    K=8,\n",
    "    sigmas=(1., eps, xi),\n",
    "    path_to_graph=\"saved_graphs\"\n",
    ")"
   ]
  },
  {
   "cell_type": "code",
   "execution_count": null,
   "metadata": {},
   "outputs": [],
   "source": [
    "xi = 1.\n",
    "eps = 1.\n",
    "\n",
    "r2_graph = R2GEGraph(\n",
    "    [28, 28, 1],\n",
    "    K=8,\n",
    "    sigmas=(1., eps, xi),\n",
    "    path_to_graph=\"saved_graphs\"\n",
    ")"
   ]
  },
  {
   "cell_type": "code",
   "execution_count": null,
   "metadata": {},
   "outputs": [],
   "source": [
    "x = get_x(16, 3, 28, 28, 6, True)\n",
    "conv = ChebConv(3, 32, 4, se2_graph)\n",
    "conv(x).shape"
   ]
  },
  {
   "cell_type": "markdown",
   "metadata": {},
   "source": [
    "### Equivariance"
   ]
  },
  {
   "cell_type": "code",
   "execution_count": null,
   "metadata": {},
   "outputs": [],
   "source": [
    "err = []\n",
    "tx, ty, theta = 0, 0, 60\n",
    "\n",
    "for _ in range(100):\n",
    "    conv = ChebConv(3, 16, 4, se2_graph)\n",
    "    with torch.no_grad():\n",
    "        x = get_x(16, 3, 28, 28, 6, True)\n",
    "        # transform then conv\n",
    "        y1 = conv(affine(x.view(-1, 28, 28), theta, (tx, ty), 1., (0., 0.)).view(16, 3, -1))\n",
    "        # conv then transform \n",
    "        y2 = affine(conv(x).view(-1, 28, 28), theta, (tx, ty), 1., (0., 0.)).view(16, 16, 6, 28, 28).roll(2, 2).view(16, 16, -1)\n",
    "        err.append(((y1 - y2).pow(2).sum() / y2.pow(2).sum()).item())\n",
    "\n",
    "np.mean(err), np.std(err)"
   ]
  },
  {
   "cell_type": "code",
   "execution_count": null,
   "metadata": {},
   "outputs": [],
   "source": [
    "err = []\n",
    "tx, ty, theta = 0, 0, 60\n",
    "\n",
    "for _ in range(100):\n",
    "    conv = ChebConv(3, 16, 4, r2_graph)\n",
    "    with torch.no_grad():\n",
    "        #x0, y0 = next(iter(dataloader))\n",
    "        x = get_x(16, 3, 28, 28, 1, True)\n",
    "        # transform then conv\n",
    "        y1 = conv(affine(x.view(-1, 28, 28), theta, (tx, ty), 1., (0., 0.)).view(16, 3, -1))\n",
    "        # conv then transform \n",
    "        y2 = affine(conv(x).view(-1, 28, 28), theta, (tx, ty), 1., (0., 0.)).view(16, 16, 1, 28, 28).view(16, 16, -1)\n",
    "        err.append(((y1 - y2).pow(2).sum() / y2.pow(2).sum()).item())\n",
    "\n",
    "np.mean(err), np.std(err)"
   ]
  },
  {
   "cell_type": "code",
   "execution_count": null,
   "metadata": {},
   "outputs": [],
   "source": [
    "err = []\n",
    "tx, ty, theta = 3, 3, 0\n",
    "\n",
    "for _ in range(100):\n",
    "    conv = torch.nn.Conv2d(3, 16, 3)\n",
    "    with torch.no_grad():\n",
    "        x = get_x(16, 3, 28, 28)\n",
    "        # transform then conv\n",
    "        y1 = conv(affine(x, theta, (tx, ty), 1., (0., 0.)))\n",
    "        # conv then transform \n",
    "        y2 = affine(conv(x), theta, (tx, ty), 1., (0., 0.))\n",
    "        err.append(((y1 - y2).pow(2).sum() / y2.pow(2).sum()).item())\n",
    "\n",
    "np.mean(err), np.std(err)"
   ]
  },
  {
   "cell_type": "markdown",
   "metadata": {},
   "source": [
    "## Filters"
   ]
  },
  {
   "cell_type": "code",
   "execution_count": null,
   "metadata": {},
   "outputs": [],
   "source": [
    "from torchvision.utils import make_grid"
   ]
  },
  {
   "cell_type": "code",
   "execution_count": null,
   "metadata": {},
   "outputs": [],
   "source": [
    "#conv = ChebConv(1, 1, 4, se2_graph)\n",
    "conv = model.conv"
   ]
  },
  {
   "cell_type": "code",
   "execution_count": null,
   "metadata": {},
   "outputs": [],
   "source": [
    "conv.weight"
   ]
  },
  {
   "cell_type": "code",
   "execution_count": null,
   "metadata": {},
   "outputs": [],
   "source": [
    "def show(img):\n",
    "    plt.imshow(img.permute(1,2,0), cmap=cm.viridis)\n",
    "    plt.axis(\"off\")"
   ]
  },
  {
   "cell_type": "code",
   "execution_count": null,
   "metadata": {},
   "outputs": [],
   "source": [
    "input = torch.zeros(6, 1, 6*784)\n",
    "for l in range(6):\n",
    "    input[l, :, 406 + l * 784] = 1.\n",
    "\n",
    "with torch.no_grad():\n",
    "    output = conv(input).reshape(6, 16, 6, 28, 28)[:,14,:,:,:]\n",
    "    output = output.reshape(-1, 1, 28, 28)\n",
    "        \n",
    "output = ((output - output.min())/(output.max() - output.min()))\n",
    "output.shape"
   ]
  },
  {
   "cell_type": "code",
   "execution_count": null,
   "metadata": {},
   "outputs": [],
   "source": [
    "show(make_grid(output, padding=1, nrow=6))"
   ]
  },
  {
   "cell_type": "code",
   "execution_count": null,
   "metadata": {},
   "outputs": [],
   "source": [
    "import torch\n",
    "\n",
    "from gechebnet.graphs.graphs import SE2GEGraph, RandomSubGraph\n",
    "from gechebnet.nn.models.chebnets import WideResSE2GEChebNet\n",
    "\n",
    "device = torch.device(\"cpu\")\n",
    "\n",
    "graph = SE2GEGraph(\n",
    "    [28, 28, 6],\n",
    "    K=8,\n",
    "    sigmas=(1.0, 0.1, 2.048 / (28 ** 2)),\n",
    "    path_to_graph=\"saved_graphs\",\n",
    ")\n",
    "# we use random sub graphs to evaluate the effect of edges and nodes' sampling\n",
    "sub_graph = RandomSubGraph(graph)\n",
    "\n",
    "# Loads group equivariant Chebnet\n",
    "model = WideResSE2GEChebNet(\n",
    "    in_channels=1,\n",
    "    out_channels=10,\n",
    "    kernel_size=4,\n",
    "    graph_lvl0=sub_graph,\n",
    "    depth=8,\n",
    "    widen_factor=2,\n",
    ").to(device)"
   ]
  },
  {
   "cell_type": "code",
   "execution_count": null,
   "metadata": {},
   "outputs": [],
   "source": [
    "model.load_state_dict(torch.load(\"models/model_19.pt\"))"
   ]
  },
  {
   "cell_type": "code",
   "execution_count": null,
   "metadata": {},
   "outputs": [],
   "source": [
    "conv = model.conv"
   ]
  },
  {
   "cell_type": "code",
   "execution_count": null,
   "metadata": {},
   "outputs": [],
   "source": [
    "plot_filters(graph, conv)"
   ]
  },
  {
   "cell_type": "code",
   "execution_count": null,
   "metadata": {},
   "outputs": [],
   "source": [
    "def plot_filters(graph, filter):\n",
    "    L = graph.size[-1]\n",
    "    M = np.prod(graph.size[:2])\n",
    "\n",
    "    \n",
    "    input = torch.zeros(L, 1, L * M)\n",
    "    for l in range(L):\n",
    "        input[l, :, 406 * (l+1)] = 1.\n",
    "        \n",
    "    with torch.no_grad():\n",
    "        output = filter(input)\n",
    "        \n",
    "    print(output.shape)\n",
    "            \n",
    "    fig = plt.figure(figsize=(4*L, 4*L))\n",
    "    \n",
    "    X, Y, Z = graph.cartesian_pos()\n",
    "    \n",
    "    for i in range(L):\n",
    "        for j in range(L):\n",
    "            ax = fig.add_subplot(L, L, i * L + j + 1)\n",
    "            ax.scatter(X[i*M:(i+1)*M], Y[i*M:(i+1)*M], c=output[j, 0, i*M:(i+1)*M], cmap=cm.viridis)\n",
    "            ax.axis(\"off\")\n",
    "            \n",
    "    fig.tight_layout()"
   ]
  },
  {
   "cell_type": "code",
   "execution_count": null,
   "metadata": {},
   "outputs": [],
   "source": [
    "conv = ChebConv(1, 1, 4, se2_graph)"
   ]
  },
  {
   "cell_type": "code",
   "execution_count": null,
   "metadata": {},
   "outputs": [],
   "source": [
    "plot_filters(se2_graph, conv)"
   ]
  },
  {
   "cell_type": "markdown",
   "metadata": {},
   "source": [
    "# Pooling layers"
   ]
  },
  {
   "cell_type": "code",
   "execution_count": null,
   "metadata": {},
   "outputs": [],
   "source": [
    "from gechebnet.nn.layers.pools import SE2SpatialPool, SE2OrientationPool, GlobalPool"
   ]
  },
  {
   "cell_type": "code",
   "execution_count": null,
   "metadata": {},
   "outputs": [],
   "source": [
    "x = get_x(16, 3, 28, 28, 6, True)"
   ]
  },
  {
   "cell_type": "code",
   "execution_count": null,
   "metadata": {},
   "outputs": [],
   "source": [
    "err = []\n",
    "tx, ty, theta = 2, 2, 90\n",
    "\n",
    "for _ in range(100):\n",
    "    pool = SE2SpatialPool(2, (28,28,6), \"max\")\n",
    "    with torch.no_grad():\n",
    "        x = get_x(16, 3, 28, 28, 6, True)\n",
    "        # transform then conv\n",
    "        y1 = pool(affine(x.view(-1, 28, 28), theta, (tx, ty), 1., (0., 0.)).view(16, 3, -1))\n",
    "        # conv then transform \n",
    "        y2 = affine(pool(x).view(-1, 14, 14), theta, (tx//2, ty//2), 1., (0., 0.)).view(16, 3, 6, 14, 14).roll(3, 2).view(16, 3, -1)\n",
    "        err.append(((y1 - y2).pow(2).sum() / y2.pow(2).sum()).item())\n",
    "\n",
    "np.mean(err), np.std(err)"
   ]
  },
  {
   "cell_type": "code",
   "execution_count": null,
   "metadata": {},
   "outputs": [],
   "source": [
    "err = []\n",
    "tx, ty, theta = 0, 2, 0\n",
    "\n",
    "for _ in range(100):\n",
    "    pool = SE2SpatialPool(2, (28,28,6), \"rand\")\n",
    "    with torch.no_grad():\n",
    "        x = get_x(16, 3, 28, 28, 6, True)\n",
    "        # transform then conv\n",
    "        y1 = pool(affine(x.view(-1, 28, 28), theta, (tx, ty), 1., (0., 0.)).view(16, 3, -1))\n",
    "        # conv then transform \n",
    "        y2 = affine(pool(x).view(-1, 14, 14), theta, (tx//2, ty//2), 1., (0., 0.)).view(16, 3, 6, 14, 14).roll(0, 2).view(16, 3, -1)\n",
    "        err.append(((y1 - y2).pow(2).sum() / y2.pow(2).sum()).item())\n",
    "\n",
    "np.mean(err), np.std(err)"
   ]
  },
  {
   "cell_type": "code",
   "execution_count": null,
   "metadata": {},
   "outputs": [],
   "source": [
    "err = []\n",
    "tx, ty, theta = 0, 0, 90\n",
    "\n",
    "for _ in range(100):\n",
    "    pool = SE2SpatialPool(2, (28,28,6), \"avg\")\n",
    "    with torch.no_grad():\n",
    "        x = get_x(16, 3, 28, 28, 6, True)\n",
    "        # transform then conv\n",
    "        y1 = pool(affine(x.view(-1, 28, 28), theta, (tx, ty), 1., (0., 0.)).view(16, 3, -1))\n",
    "        # conv then transform \n",
    "        y2 = affine(pool(x).view(-1, 14, 14), theta, (tx//2, ty//2), 1., (0., 0.)).view(16, 3, 6, 14, 14).roll(3, 2).view(16, 3, -1)\n",
    "        err.append(((y1 - y2).pow(2).sum() / y2.pow(2).sum()).item())\n",
    "\n",
    "np.mean(err), np.std(err)"
   ]
  },
  {
   "cell_type": "code",
   "execution_count": null,
   "metadata": {},
   "outputs": [],
   "source": [
    "err = []\n",
    "tx, ty, theta = 0, 0, 90\n",
    "\n",
    "for _ in range(100):\n",
    "    pool = SE2OrientationPool(6, (28,28,6), \"max\")\n",
    "    with torch.no_grad():\n",
    "        x = get_x(16, 3, 28, 28, 6, True)\n",
    "        # transform then conv\n",
    "        y1 = pool(affine(x.view(-1, 28, 28), theta, (tx, ty), 1., (0., 0.)).view(16, 3, -1))\n",
    "        # conv then transform \n",
    "        y2 = affine(pool(x).view(-1, 28, 28), theta, (tx, ty), 1., (0., 0.)).view(16, 3, -1)\n",
    "        err.append(((y1 - y2).pow(2).sum() / y2.pow(2).sum()).item())\n",
    "\n",
    "np.mean(err), np.std(err)"
   ]
  },
  {
   "cell_type": "code",
   "execution_count": null,
   "metadata": {},
   "outputs": [],
   "source": [
    "err = []\n",
    "tx, ty, theta = 0, 0, 90\n",
    "\n",
    "for _ in range(100):\n",
    "    pool = SE2OrientationPool(6, (28,28,6), \"rand\")\n",
    "    with torch.no_grad():\n",
    "        x = get_x(16, 3, 28, 28, 6, True)\n",
    "        # transform then conv\n",
    "        y1 = pool(affine(x.view(-1, 28, 28), theta, (tx, ty), 1., (0., 0.)).view(16, 3, -1))\n",
    "        # conv then transform \n",
    "        y2 = affine(pool(x).view(-1, 28, 28), theta, (tx, ty), 1., (0., 0.)).view(16, 3, -1)\n",
    "        err.append(((y1 - y2).pow(2).sum() / y2.pow(2).sum()).item())\n",
    "\n",
    "np.mean(err), np.std(err)"
   ]
  },
  {
   "cell_type": "code",
   "execution_count": null,
   "metadata": {},
   "outputs": [],
   "source": [
    "x = torch.rand(1, 1, 1, 2, 2).expand(-1, -1, 2, -1, -1).reshape(1, 1, -1)\n",
    "x"
   ]
  },
  {
   "cell_type": "code",
   "execution_count": null,
   "metadata": {},
   "outputs": [],
   "source": [
    "pool = SE2OrientationPool(2, (2,2,2), \"rand\")"
   ]
  },
  {
   "cell_type": "code",
   "execution_count": null,
   "metadata": {},
   "outputs": [],
   "source": [
    "pool(x)"
   ]
  },
  {
   "cell_type": "code",
   "execution_count": null,
   "metadata": {},
   "outputs": [],
   "source": [
    "err = []\n",
    "tx, ty, theta = 0, 0, 90\n",
    "\n",
    "for _ in range(100):\n",
    "    pool = SE2OrientationPool(6, (28,28,6), \"avg\")\n",
    "    with torch.no_grad():\n",
    "        x = get_x(16, 3, 28, 28, 6, True)\n",
    "        # transform then conv\n",
    "        y1 = pool(affine(x.view(-1, 28, 28), theta, (tx, ty), 1., (0., 0.)).view(16, 3, -1))\n",
    "        # conv then transform \n",
    "        y2 = affine(pool(x).view(-1, 28, 28), theta, (tx, ty), 1., (0., 0.)).view(16, 3, -1)\n",
    "        err.append(((y1 - y2).pow(2).sum() / y2.pow(2).sum()).item())\n",
    "\n",
    "np.mean(err), np.std(err)"
   ]
  },
  {
   "cell_type": "code",
   "execution_count": null,
   "metadata": {},
   "outputs": [],
   "source": [
    "pool = SE2SpatialPool(2, (28,28,6), \"max\")"
   ]
  },
  {
   "cell_type": "code",
   "execution_count": null,
   "metadata": {},
   "outputs": [],
   "source": [
    "pool(x)"
   ]
  },
  {
   "cell_type": "code",
   "execution_count": null,
   "metadata": {},
   "outputs": [],
   "source": [
    "from gechebnet.engines.utils import prepare_batch"
   ]
  },
  {
   "cell_type": "code",
   "execution_count": null,
   "metadata": {},
   "outputs": [],
   "source": [
    "import torch\n",
    "import matplotlib.pyplot as plt\n",
    "from torchvision.utils import make_grid\n",
    "\n",
    "import numpy as np"
   ]
  },
  {
   "cell_type": "code",
   "execution_count": null,
   "metadata": {},
   "outputs": [],
   "source": [
    "def rotate_image(x, angles):\n",
    "    x0 = x.clone()\n",
    "    for a in angles:\n",
    "        x = torch.cat((x, rotate(x0, a)), 0)   \n",
    "    return x"
   ]
  },
  {
   "cell_type": "code",
   "execution_count": null,
   "metadata": {},
   "outputs": [],
   "source": [
    "def equivariance_error(x0, angle, chebconv, laplacian):\n",
    "    x1 = rotate(x0, angle)\n",
    "    x1, _ = prepare_batch((x1, torch.empty(1)), se2_graph, device)\n",
    "    x1_hat = chebconv(x1, laplacian).contiguous().view(graph.nsym, 28, 28)\n",
    "    \n",
    "    x0, _ = prepare_batch((x0, torch.empty(1)), se2_graph, device)\n",
    "    x0_hat = chebconv(x0, laplacian).contiguous().view(graph.nsym, 28, 28)\n",
    "    x0_hat = rotate(x0_hat, angle)\n",
    "    \n",
    "    return (x1_hat - x0_hat).pow(2).sum() / x0_hat.pow(2).sum()"
   ]
  },
  {
   "cell_type": "code",
   "execution_count": null,
   "metadata": {},
   "outputs": [],
   "source": [
    "def imshow(img):\n",
    "    fig = plt.figure(figsize=(20., 20.))\n",
    "    \n",
    "    img = img.permute(1, 2, 0)\n",
    "    \n",
    "    if torch.allclose(img[:,:,0], img[:,:,1]):\n",
    "        plt.imshow(img[:,:,0])\n",
    "    else:\n",
    "        plt.imshow(img)\n",
    "        \n",
    "    plt.axis(\"off\")\n",
    "    plt.show()"
   ]
  },
  {
   "cell_type": "code",
   "execution_count": null,
   "metadata": {},
   "outputs": [],
   "source": [
    "device = torch.device(\"cuda\" if torch.cuda.is_available() else \"cpu\")"
   ]
  },
  {
   "cell_type": "markdown",
   "metadata": {},
   "source": [
    "# MNIST "
   ]
  },
  {
   "cell_type": "code",
   "execution_count": null,
   "metadata": {},
   "outputs": [],
   "source": [
    "from torchvision.datasets import MNIST\n",
    "from torchvision.transforms import Compose, ToTensor\n",
    "from torch.utils.data import DataLoader\n",
    "from torch.utils.data import RandomSampler"
   ]
  },
  {
   "cell_type": "code",
   "execution_count": null,
   "metadata": {},
   "outputs": [],
   "source": [
    "dataset = MNIST(\n",
    "            \"data\",\n",
    "            train=True,\n",
    "            download=True,\n",
    "            transform=Compose([ToTensor()]),\n",
    "        )\n",
    "sampler = RandomSampler(dataset)\n",
    "dataloader = DataLoader(dataset, batch_size=1, sampler=sampler)"
   ]
  },
  {
   "cell_type": "code",
   "execution_count": null,
   "metadata": {},
   "outputs": [],
   "source": [
    "x, y = next(iter(dataloader))"
   ]
  },
  {
   "cell_type": "code",
   "execution_count": null,
   "metadata": {},
   "outputs": [],
   "source": [
    "plt.imshow(x[0,0])"
   ]
  },
  {
   "cell_type": "code",
   "execution_count": null,
   "metadata": {},
   "outputs": [],
   "source": [
    "x_ = affine(x, 45, (10, 10), 1., (0., 0.))"
   ]
  },
  {
   "cell_type": "code",
   "execution_count": null,
   "metadata": {},
   "outputs": [],
   "source": [
    "plt.imshow(x_[0,0])"
   ]
  },
  {
   "cell_type": "code",
   "execution_count": null,
   "metadata": {},
   "outputs": [],
   "source": [
    "conv = torch.nn.Conv2d(3, 16, 3)"
   ]
  },
  {
   "cell_type": "code",
   "execution_count": null,
   "metadata": {},
   "outputs": [],
   "source": [
    "x = get_x()\n",
    "x.min(), x.max()"
   ]
  },
  {
   "cell_type": "code",
   "execution_count": null,
   "metadata": {},
   "outputs": [],
   "source": [
    "plt.imshow(x[0])"
   ]
  },
  {
   "cell_type": "code",
   "execution_count": null,
   "metadata": {},
   "outputs": [],
   "source": [
    "with torch.no_grad():\n",
    "    y = conv(affine(x.view(-1, 28, 28), theta, (tx, ty), 1., (0., 0.)).view(16, 3, -1)).view(-1, 6, 28, 28)"
   ]
  },
  {
   "cell_type": "code",
   "execution_count": null,
   "metadata": {},
   "outputs": [],
   "source": [
    "plt.imshow(y[0,0])"
   ]
  },
  {
   "cell_type": "code",
   "execution_count": null,
   "metadata": {},
   "outputs": [],
   "source": [
    "with torch.no_grad():\n",
    "    y = affine(conv(x).view(-1, 28, 28), theta, (tx, ty), 1., (0., 0.)).view(-1, 6, 28, 28)"
   ]
  },
  {
   "cell_type": "code",
   "execution_count": null,
   "metadata": {},
   "outputs": [],
   "source": [
    "plt.imshow(y[0,3])"
   ]
  },
  {
   "cell_type": "markdown",
   "metadata": {},
   "source": [
    "# Equivariance layers"
   ]
  },
  {
   "cell_type": "code",
   "execution_count": null,
   "metadata": {},
   "outputs": [],
   "source": [
    "def prepare_batch(batch):\n",
    "    x, y = batch\n",
    "\n",
    "    B, C, *_ = x.shape\n",
    "    x = x.reshape(B, C, -1).unsqueeze(2)\n",
    "    x = x.expand(-1, -1, 1, -1)\n",
    "    x = x.reshape(B, C, -1)\n",
    "    return x, y"
   ]
  },
  {
   "cell_type": "code",
   "execution_count": null,
   "metadata": {},
   "outputs": [],
   "source": [
    "x0, y0 = next(iter(dataloader))\n",
    "x0 = rotate_image(x0, [30*i for i in range(1, 11)])\n",
    "x, _ = prepare_batch((x0, y0), se2_graph, device)"
   ]
  },
  {
   "cell_type": "code",
   "execution_count": null,
   "metadata": {},
   "outputs": [],
   "source": [
    "with torch.no_grad():\n",
    "    x_hat = pool(x).cpu()\n",
    "    x_hat = x_hat.reshape(11, 1, 6, 14, 14).permute(2, 0, 1, 3, 4).reshape(-1, 1, 14, 14)"
   ]
  },
  {
   "cell_type": "code",
   "execution_count": null,
   "metadata": {},
   "outputs": [],
   "source": [
    "imshow(make_grid(x0, nrow=11, normalize=False))"
   ]
  },
  {
   "cell_type": "code",
   "execution_count": null,
   "metadata": {},
   "outputs": [],
   "source": [
    "imshow(make_grid(x_hat, nrow=11, normalize=False))"
   ]
  },
  {
   "cell_type": "code",
   "execution_count": null,
   "metadata": {},
   "outputs": [],
   "source": [
    "from torch.nn import Conv2d"
   ]
  },
  {
   "cell_type": "code",
   "execution_count": null,
   "metadata": {},
   "outputs": [],
   "source": [
    "conv = Conv2d(1, 1, 3, padding=1)"
   ]
  },
  {
   "cell_type": "markdown",
   "metadata": {},
   "source": [
    "# ChebConv layer"
   ]
  },
  {
   "cell_type": "code",
   "execution_count": null,
   "metadata": {},
   "outputs": [],
   "source": [
    "from gechebnet.nn.layers.convs import ChebConv"
   ]
  },
  {
   "cell_type": "code",
   "execution_count": null,
   "metadata": {},
   "outputs": [],
   "source": [
    "conv = ChebConv(1, 1, 4, se2_graph)\n",
    "conv = Conv2d(1, 1, 3, padding=1)"
   ]
  },
  {
   "cell_type": "code",
   "execution_count": null,
   "metadata": {},
   "outputs": [],
   "source": [
    "x, y, theta = 3, 0, 0"
   ]
  },
  {
   "cell_type": "code",
   "execution_count": null,
   "metadata": {},
   "outputs": [],
   "source": [
    "# original image\n",
    "x0, y0 = next(iter(dataloader))\n",
    "plt.imshow(x0[0,0])\n",
    "plt.axis(\"off\")"
   ]
  },
  {
   "cell_type": "code",
   "execution_count": null,
   "metadata": {},
   "outputs": [],
   "source": [
    "# transforms ...\n",
    "x1_, _ = prepare_batch((affine(x0, theta, (x, y), 1., (0., 0.)), y0))\n",
    "plt.imshow(x1_.contiguous().view(1, 28, 28)[0])\n",
    "plt.axis(\"off\")"
   ]
  },
  {
   "cell_type": "code",
   "execution_count": null,
   "metadata": {},
   "outputs": [],
   "source": [
    "# ... convolves\n",
    "with torch.no_grad():\n",
    "    x1_hat = conv(x1_)\n",
    "plt.imshow(x1_hat.contiguous().view(1, 28, 28)[0])\n",
    "plt.axis(\"off\")"
   ]
  },
  {
   "cell_type": "code",
   "execution_count": null,
   "metadata": {},
   "outputs": [],
   "source": [
    "# convolves ...\n",
    "x0_, _ = prepare_batch((x0, y0))\n",
    "with torch.no_grad():\n",
    "    x0_hat = conv(x0_).contiguous().view(1, 28, 28)\n",
    "    \n",
    "plt.imshow(x0_hat[0])\n",
    "plt.axis(\"off\")"
   ]
  },
  {
   "cell_type": "code",
   "execution_count": null,
   "metadata": {},
   "outputs": [],
   "source": [
    "# ... transforms\n",
    "plt.imshow(affine(x0_hat, theta, (x, y), 1., (0., 0.)).roll(2, 0)[0])\n",
    "plt.axis(\"off\")"
   ]
  },
  {
   "cell_type": "code",
   "execution_count": null,
   "metadata": {},
   "outputs": [],
   "source": [
    "def prepare_batch(batch):\n",
    "    return batch"
   ]
  },
  {
   "cell_type": "code",
   "execution_count": null,
   "metadata": {},
   "outputs": [],
   "source": [
    "err = []\n",
    "x, y, theta = 0, 0, 60\n",
    "\n",
    "for _ in range(100):\n",
    "    conv = ChebConv(1, 1, 4, se2_graph)\n",
    "    #conv = Conv2d(1, 1, 3, padding=1)\n",
    "    with torch.no_grad():\n",
    "        x0, y0 = next(iter(dataloader))\n",
    "\n",
    "        # transform then conv\n",
    "        x1_, _ = prepare_batch((affine(x0, theta, (x, y), 1., (0., 0.)), y0))\n",
    "        x1_hat = conv(x1_).contiguous().view(1, 28, 28)\n",
    "\n",
    "        # conv then transform \n",
    "        x0_, _ = prepare_batch((x0, y0))\n",
    "        x0_hat = conv(x0_).contiguous().view(1, 28, 28)\n",
    "        x0_hat = affine(x0_hat, theta, (x, y), 1., (0., 0.)).roll(0, 0)\n",
    "        \n",
    "        err.append(((x1_hat - x0_hat).pow(2).sum() / x0_hat.pow(2).sum()).item())\n",
    "\n",
    "np.mean(err), np.std(err)"
   ]
  },
  {
   "cell_type": "code",
   "execution_count": null,
   "metadata": {},
   "outputs": [],
   "source": [
    "se2_graph.node_theta"
   ]
  },
  {
   "cell_type": "code",
   "execution_count": null,
   "metadata": {},
   "outputs": [],
   "source": [
    "x = torch.rand(28, 28)\n",
    "y = torch.rand(28, 28)\n",
    "(x - y).pow(2).sum() / y.pow(2).sum()"
   ]
  },
  {
   "cell_type": "markdown",
   "metadata": {},
   "source": [
    "# Pooling layer"
   ]
  },
  {
   "cell_type": "code",
   "execution_count": null,
   "metadata": {},
   "outputs": [],
   "source": [
    "from gechebnet.nn.layers.pools import CubicPool"
   ]
  },
  {
   "cell_type": "code",
   "execution_count": null,
   "metadata": {},
   "outputs": [],
   "source": [
    "pool = CubicPool((1, 2), (6, 28, 28))"
   ]
  },
  {
   "cell_type": "code",
   "execution_count": null,
   "metadata": {},
   "outputs": [],
   "source": [
    "x0, y0 = next(iter(dataloader))"
   ]
  },
  {
   "cell_type": "code",
   "execution_count": null,
   "metadata": {},
   "outputs": [],
   "source": [
    "x0_, _ = prepare_batch((x0, y0), se2_graph, None)\n",
    "plt.imshow(x0[0,0])\n",
    "plt.axis(\"off\")"
   ]
  },
  {
   "cell_type": "code",
   "execution_count": null,
   "metadata": {},
   "outputs": [],
   "source": [
    "x0_hat = pool(x0_)\n",
    "plt.imshow(x0_hat.view(1, 1, 1)[0])\n",
    "plt.axis(\"off\")"
   ]
  },
  {
   "cell_type": "code",
   "execution_count": null,
   "metadata": {},
   "outputs": [],
   "source": [
    "plt.imshow(rotate(x0_hat.view(1, 1, 1), 90)[0])\n",
    "plt.axis(\"off\")"
   ]
  },
  {
   "cell_type": "code",
   "execution_count": null,
   "metadata": {},
   "outputs": [],
   "source": [
    "x1_, _ = prepare_batch((rotate(x0, 90), y0), se2_graph, None)\n",
    "plt.imshow(x1_.view(6, 28, 28)[0])\n",
    "plt.axis(\"off\")"
   ]
  },
  {
   "cell_type": "code",
   "execution_count": null,
   "metadata": {},
   "outputs": [],
   "source": [
    "x1_hat = pool(x1_)\n",
    "plt.imshow(x1_hat.view(1, 1, 1)[0])\n",
    "plt.axis(\"off\")"
   ]
  },
  {
   "cell_type": "code",
   "execution_count": null,
   "metadata": {},
   "outputs": [],
   "source": [
    "pool = CubicPool((1, 2), (6, 28, 28)).to(device)\n",
    "\n",
    "err = []\n",
    "angle = 45\n",
    "\n",
    "for _ in range(100):\n",
    "    with torch.no_grad():\n",
    "        x0, y0 = next(iter(dataloader))\n",
    "\n",
    "        # transform then pool\n",
    "        x1_, _ = prepare_batch((rotate(x0, angle), y0), se2_graph, device)\n",
    "        x1_hat = pool(x1_).contiguous().view(6, 14, 14)\n",
    "\n",
    "        # pool then transform\n",
    "        x0_, _ = prepare_batch((x0, y0), se2_graph, device)   \n",
    "        x0_hat = pool(x0_).contiguous().view(6, 14, 14)\n",
    "        x0_hat = rotate(x0_hat, angle)\n",
    "        \n",
    "        err.append(((x1_hat - x0_hat).pow(2).sum() / x0_hat.pow(2).sum()).item())\n",
    "\n",
    "np.mean(err), np.std(err)"
   ]
  },
  {
   "cell_type": "markdown",
   "metadata": {},
   "source": [
    "# Unpooling layer"
   ]
  },
  {
   "cell_type": "code",
   "execution_count": null,
   "metadata": {},
   "outputs": [],
   "source": [
    "from gechebnet.nn.layers.unpools import CubicUnpool"
   ]
  },
  {
   "cell_type": "code",
   "execution_count": null,
   "metadata": {},
   "outputs": [],
   "source": [
    "unpool = CubicUnpool((1, 2), (6, 28, 28))"
   ]
  },
  {
   "cell_type": "code",
   "execution_count": null,
   "metadata": {},
   "outputs": [],
   "source": [
    "x0, y0 = next(iter(dataloader))"
   ]
  },
  {
   "cell_type": "code",
   "execution_count": null,
   "metadata": {},
   "outputs": [],
   "source": [
    "x0_, _ = prepare_batch((x0, y0), se2_graph, None)\n",
    "plt.imshow(x0[0,0])\n",
    "plt.axis(\"off\")"
   ]
  },
  {
   "cell_type": "code",
   "execution_count": null,
   "metadata": {},
   "outputs": [],
   "source": [
    "x0_hat = unpool(x0_)\n",
    "plt.imshow(x0_hat.view(6, 56, 56)[0])\n",
    "plt.axis(\"off\")"
   ]
  },
  {
   "cell_type": "code",
   "execution_count": null,
   "metadata": {},
   "outputs": [],
   "source": [
    "plt.imshow(rotate(x0_hat.view(6, 56, 56), 90)[0])\n",
    "plt.axis(\"off\")"
   ]
  },
  {
   "cell_type": "code",
   "execution_count": null,
   "metadata": {},
   "outputs": [],
   "source": [
    "x1_, _ = prepare_batch((rotate(x0, 90), y0), se2_graph, None)\n",
    "plt.imshow(x1_.view(6, 28, 28)[0])\n",
    "plt.axis(\"off\")"
   ]
  },
  {
   "cell_type": "code",
   "execution_count": null,
   "metadata": {},
   "outputs": [],
   "source": [
    "x1_hat = unpool(x1_)\n",
    "plt.imshow(x1_hat.view(6, 56, 56)[0])\n",
    "plt.axis(\"off\")"
   ]
  },
  {
   "cell_type": "code",
   "execution_count": null,
   "metadata": {},
   "outputs": [],
   "source": [
    "unpool = CubicUnpool((2, 1), (6, 28, 28)).to(device)\n",
    "\n",
    "err = []\n",
    "angle = 30\n",
    "\n",
    "for _ in range(1000):\n",
    "    with torch.no_grad():\n",
    "        x0, y0 = next(iter(dataloader))\n",
    "\n",
    "        # transform then pool\n",
    "        x1_, _ = prepare_batch((rotate(x0, angle), y0), se2_graph, device)\n",
    "        x1_hat = unpool(x1_).contiguous().view(12, 28, 28)\n",
    "\n",
    "        # pool then transform\n",
    "        x0_, _ = prepare_batch((x0, y0), se2_graph, device)   \n",
    "        x0_hat = unpool(x0_).contiguous().view(12, 28, 28)\n",
    "        x0_hat = rotate(x0_hat, angle)\n",
    "        \n",
    "        err.append(((x1_hat - x0_hat).pow(2).sum() / x0_hat.pow(2).sum()).item())\n",
    "\n",
    "np.mean(err), np.std(err)"
   ]
  },
  {
   "cell_type": "code",
   "execution_count": null,
   "metadata": {},
   "outputs": [],
   "source": [
    "se2_graph.node_theta.unique()"
   ]
  }
 ],
 "metadata": {
  "language_info": {
   "name": "python",
   "pygments_lexer": "ipython3"
  }
 },
 "nbformat": 4,
 "nbformat_minor": 4
}
