{
 "cells": [
  {
   "cell_type": "code",
   "execution_count": null,
   "metadata": {},
   "outputs": [],
   "source": [
    "import torch\n",
    "import math"
   ]
  },
  {
   "cell_type": "code",
   "execution_count": null,
   "metadata": {},
   "outputs": [],
   "source": [
    "def subdivide(pos, div):\n",
    "    torch.linspace([1,0],[0,1])\n",
    "\n",
    "pos = torch.tensor([[1,0],[0,1],[-1,0],[0,-1]])\n",
    "\n",
    "\n",
    "_ = plt.scatter(pos[:,0], pos[:,1])"
   ]
  },
  {
   "cell_type": "code",
   "execution_count": null,
   "metadata": {},
   "outputs": [],
   "source": [
    "beta = torch.linspace(0, 2*math.pi,2)\n",
    "gamma = torch.linspace(-math.pi/2, math.pi/2, 2)\n",
    "\n",
    "pos = torch.stack((torch.cos(a), torch.sin(a)))\n",
    "\n",
    "\n",
    "\n",
    "_ = plt.scatter(pos[0], pos[1])"
   ]
  },
  {
   "cell_type": "code",
   "execution_count": null,
   "metadata": {},
   "outputs": [],
   "source": [
    "\n",
    "\n",
    "def RotationMatrix(theta, axis):\n",
    "    N = theta.size(0)\n",
    "    R = torch.zeros(N, 9)\n",
    "    \n",
    "    if axis == 0:\n",
    "        # [[1, 0, 0], [0, c, -s], [0, s, c]]\n",
    "        R[:, 4] = torch.cos(theta)\n",
    "        R[:, 5] = -torch.sin(theta)\n",
    "        R[:, 7] = torch.sin(theta)\n",
    "        R[:, 8] = torch.cos(theta)\n",
    "        R[:, 0] = 1.\n",
    "    if axis == 1:\n",
    "        # [[c, 0, s], [0, 1, 0], [-s, 0, c]]\n",
    "        R[:, 0] = torch.cos(theta)\n",
    "        R[:, 2] = torch.sin(theta)\n",
    "        R[:, 6] = -torch.sin(theta)\n",
    "        R[:, 8] = torch.cos(theta)\n",
    "        R[:, 4] = 1.\n",
    "    if axis == 2:\n",
    "        # [[c, -s, 0], [s, c, 0], [0, 0, 1]]\n",
    "        R[:, 0] = torch.cos(theta)\n",
    "        R[:, 1] = -torch.sin(theta)\n",
    "        R[:, 3] = torch.sin(theta)\n",
    "        R[:, 4] = torch.cos(theta)\n",
    "        R[:, 8] = 1.\n",
    "\n",
    "    return R.reshape(N, 3, 3)"
   ]
  },
  {
   "cell_type": "code",
   "execution_count": null,
   "metadata": {},
   "outputs": [],
   "source": [
    "nalpha = 5\n",
    "nbeta = 5\n",
    "ngamma = 5\n",
    "\n",
    "beta = torch.arange(0.0, math.pi, math.pi / nbeta)\n",
    "gamma = torch.arange(0.0, 2*math.pi, 2*math.pi / ngamma)\n",
    "\n",
    "beta, gamma"
   ]
  },
  {
   "cell_type": "code",
   "execution_count": null,
   "metadata": {},
   "outputs": [],
   "source": [
    "Beta = RotationMatrix(beta, 1)\n",
    "Gamma = RotationMatrix(gamma, 2)"
   ]
  },
  {
   "cell_type": "code",
   "execution_count": null,
   "metadata": {},
   "outputs": [],
   "source": [
    "All = (Gamma.unsqueeze(0) @ Beta.unsqueeze(1)).reshape(-1, 3, 3)"
   ]
  },
  {
   "cell_type": "code",
   "execution_count": null,
   "metadata": {},
   "outputs": [],
   "source": [
    "origin = torch.tensor([1., 0., 0.])"
   ]
  },
  {
   "cell_type": "code",
   "execution_count": null,
   "metadata": {},
   "outputs": [],
   "source": [
    "pos = All @ origin\n",
    "pos"
   ]
  },
  {
   "cell_type": "code",
   "execution_count": null,
   "metadata": {},
   "outputs": [],
   "source": [
    "fig = plt.figure(figsize=(8.0, 8.0))\n",
    "\n",
    "ax = fig.add_subplot(\n",
    "    111,\n",
    "    projection=\"3d\",\n",
    "    xlim=(-1., 1.),\n",
    "    ylim=(-1., 1.),\n",
    "    zlim=(-1., 1.)\n",
    ")\n",
    "\n",
    "im = ax.scatter(\n",
    "    pos[:,0],\n",
    "    pos[:,1],\n",
    "    pos[:,2]\n",
    ")"
   ]
  },
  {
   "cell_type": "code",
   "execution_count": null,
   "metadata": {},
   "outputs": [],
   "source": [
    "s = torch.rand(10000, 3)*2 - 1"
   ]
  },
  {
   "cell_type": "code",
   "execution_count": null,
   "metadata": {},
   "outputs": [],
   "source": [
    "mask = s.pow(2).sum(dim=1) <= 1"
   ]
  },
  {
   "cell_type": "code",
   "execution_count": null,
   "metadata": {},
   "outputs": [],
   "source": [
    "def norm(tensor):\n",
    "    return tensor/(tensor.pow(2).sum(dim=1).unsqueeze(1))"
   ]
  },
  {
   "cell_type": "code",
   "execution_count": null,
   "metadata": {},
   "outputs": [],
   "source": [
    "fig = plt.figure(figsize=(8.0, 8.0))\n",
    "\n",
    "ax = fig.add_subplot(\n",
    "    111,\n",
    "    projection=\"3d\",\n",
    "    xlim=(-1., 1.),\n",
    "    ylim=(-1., 1.),\n",
    "    zlim=(-1., 1.)\n",
    ")\n",
    "\n",
    "im = ax.scatter(\n",
    "    norm(s[mask])[:784, 0],\n",
    "    norm(s[mask])[:784, 1],\n",
    "    norm(s[mask])[:784, 2]\n",
    ")"
   ]
  },
  {
   "cell_type": "code",
   "execution_count": null,
   "metadata": {},
   "outputs": [],
   "source": [
    "def sub_divide(vertices, faces, num_iter):\n",
    "    vertices /= torch.norm(vertices, dim=1, keepdim=True)\n",
    "    for _ in range(num_iter):\n",
    "        sub_faces = torch.stack((faces[:, [0, 1, 2]], faces[:, [2, 0, 1]], faces[:, [1, 2, 0]]), dim=1)\n",
    "        vertices_1 = vertices[sub_faces[:, :, [0, 1]]].mean(dim=2)\n",
    "        vertices_1 /= torch.norm(vertices_1, dim=2, keepdim=True)\n",
    "        vertices_2 = vertices[sub_faces[:, :, [1, 2]]].mean(dim=2)\n",
    "        vertices_2 /= torch.norm(vertices_2, dim=2, keepdim=True)\n",
    "        \n",
    "        N = vertices.shape[0]\n",
    "        NV1 = vertices_1.shape[0]*vertices_1.shape[1]\n",
    "        NV2 = vertices_2.shape[0]*vertices_1.shape[1]\n",
    "        \n",
    "        sub_faces[:,:,0] = torch.arange(N, N+NV1).reshape(-1, 3)\n",
    "        sub_faces[:,:,2] = torch.arange(N+NV1, N+NV1+NV2).reshape(-1, 3)\n",
    "        \n",
    "        faces = torch.cat((sub_faces, torch.arange(N, N+NV1).reshape(-1,1, 3)), dim=1).reshape(-1, 3)\n",
    "        vertices = torch.cat((vertices, vertices_1.reshape(-1, 3), vertices_2.reshape(-1, 3)), dim=0)\n",
    "        \n",
    "    return vertices.unique(dim=0)"
   ]
  },
  {
   "cell_type": "code",
   "execution_count": null,
   "metadata": {},
   "outputs": [],
   "source": [
    "phi = (1 + math.sqrt(5))/2\n",
    "\n",
    "icosahedron_vertices = torch.tensor([[phi, 1., 0.], [-phi, 1., 0.], [phi, -1., 0.], [-phi, -1., 0.],\n",
    "                                     [1., 0., phi], [1., 0., -phi], [-1., 0., phi], [-1., 0., -phi],\n",
    "                                     [0., phi, 1.], [0., -phi, 1.], [0., phi, -1.], [0., -phi, -1.]])\n",
    "icosahedron_faces = torch.tensor([[0, 2, 4], [0, 2, 5], [0, 4, 8], [0, 8, 10], [0, 5, 10],\n",
    "                                  [1, 3, 6], [1, 3, 7], [1, 6, 8], [1, 7, 10], [1, 8, 10],\n",
    "                                  [2, 4, 9], [2, 5, 11], [2, 9, 11], [3, 7, 11], [3, 9, 11],\n",
    "                                  [3, 6, 9], [4, 6, 9], [4, 6, 8], [5, 7, 10], [5, 7, 11]])"
   ]
  },
  {
   "cell_type": "code",
   "execution_count": null,
   "metadata": {},
   "outputs": [],
   "source": [
    "octahedron_vertices = torch.tensor([[1., 0., 0.], [0., 1., 0.], [-1., 0., 0.], \n",
    "                                    [0., -1., 0.], [0., 0., 1.], [0., 0., -1.]])\n",
    "octahedron_faces = torch.tensor([[0, 1, 5], [1, 5, 2], [2, 5, 3], [0, 5, 3], \n",
    "                                 [0, 3, 4], [0, 1, 4], [1, 2, 4], [2, 3, 4]])"
   ]
  },
  {
   "cell_type": "code",
   "execution_count": null,
   "metadata": {},
   "outputs": [],
   "source": [
    "vertices_ = sub_divide(icosahedron_vertices, icosahedron_faces, 5)\n",
    "vertices_.shape"
   ]
  },
  {
   "cell_type": "code",
   "execution_count": null,
   "metadata": {},
   "outputs": [],
   "source": [
    "fig = plt.figure(figsize=(8.0, 8.0))\n",
    "\n",
    "ax = fig.add_subplot(\n",
    "    111,\n",
    "    projection=\"3d\",\n",
    "    xlim=(-1., 1.),\n",
    "    ylim=(-1., 1.),\n",
    "    zlim=(-1., 1.)\n",
    ")\n",
    "\n",
    "im = ax.scatter(\n",
    "    vertices_[:, 0],\n",
    "    vertices_[:, 1],\n",
    "    vertices_[:, 2]\n",
    ")"
   ]
  },
  {
   "cell_type": "code",
   "execution_count": null,
   "metadata": {},
   "outputs": [],
   "source": [
    "vertices_.shape"
   ]
  },
  {
   "cell_type": "code",
   "execution_count": null,
   "metadata": {},
   "outputs": [],
   "source": [
    "def inv_stereographic_proj(X):\n",
    "    X_norm = X.pow(2).sum(dim=1).unsqueeze(1)\n",
    "    x = torch.cat((2*X/(X_norm + 1), (X_norm - 1)/(X_norm + 1)), dim=1)\n",
    "    return x  "
   ]
  },
  {
   "cell_type": "code",
   "execution_count": null,
   "metadata": {},
   "outputs": [],
   "source": [
    "a = torch.arange(-10, 10).unsqueeze(1)\n",
    "a"
   ]
  },
  {
   "cell_type": "code",
   "execution_count": null,
   "metadata": {},
   "outputs": [],
   "source": [
    "import matplotlib.pyplot as plt\n",
    "\n",
    "proj = inv_stereographic_proj(a)\n",
    "print(proj.shape)\n",
    "plt.scatter(proj[:,0], proj[:,1])"
   ]
  },
  {
   "cell_type": "code",
   "execution_count": null,
   "metadata": {},
   "outputs": [],
   "source": [
    "torch.cat((torch.rand((10, 2)), torch.rand((10, 1))), dim=1)"
   ]
  }
 ],
 "metadata": {
  "language_info": {
   "name": "python",
   "pygments_lexer": "ipython3"
  }
 },
 "nbformat": 4,
 "nbformat_minor": 4
}
