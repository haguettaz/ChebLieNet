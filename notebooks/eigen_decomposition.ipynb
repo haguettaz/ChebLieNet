{
 "cells": [
  {
   "cell_type": "code",
   "execution_count": null,
   "metadata": {},
   "outputs": [],
   "source": [
    "from gechebnet.graph.graph import GraphData\n",
    "from gechebnet.graph.utils import GaussianKernel, CauchyKernel\n",
    "from gechebnet.graph.plot import visualize_signal\n",
    "\n",
    "from scipy.sparse import csr_matrix\n",
    "\n",
    "from pygsp.graphs import Graph\n",
    "\n",
    "import torch\n",
    "\n",
    "import numpy as np"
   ]
  },
  {
   "cell_type": "code",
   "execution_count": null,
   "metadata": {},
   "outputs": [],
   "source": [
    "sigmas = (1., 1., 1.)\n",
    "\n",
    "graph_data = GraphData(grid_size=(10, 10), \n",
    "                       num_layers=10,\n",
    "                       self_loop=False, \n",
    "                       weight_kernel=GaussianKernel(10., 1.),\n",
    "                       sigmas=sigmas)"
   ]
  },
  {
   "cell_type": "code",
   "execution_count": null,
   "metadata": {},
   "outputs": [],
   "source": [
    "# W must be float64 to avoid assertion error when computing fourier basis\n",
    "W = csr_matrix((graph_data.edge_weight, (graph_data.edge_index[0], graph_data.edge_index[1])), shape=(graph_data.num_nodes, graph_data.num_nodes), dtype=np.float64)\n",
    "G = Graph(W)\n",
    "G.compute_fourier_basis()"
   ]
  },
  {
   "cell_type": "code",
   "execution_count": null,
   "metadata": {},
   "outputs": [],
   "source": [
    "# matplotlib behaves weird with float64 tensor, need to convert to float32 tensor\n",
    "Phi = torch.from_numpy(G.U).permute(1,0).float()\n",
    "lambdas = torch.from_numpy(G.e).float()"
   ]
  },
  {
   "cell_type": "code",
   "execution_count": null,
   "metadata": {},
   "outputs": [],
   "source": [
    "visualize_signal(graph_data, Phi[0])"
   ]
  },
  {
   "cell_type": "code",
   "execution_count": null,
   "metadata": {},
   "outputs": [],
   "source": [
    "visualize_signal(graph_data, Phi[1])"
   ]
  },
  {
   "cell_type": "code",
   "execution_count": null,
   "metadata": {},
   "outputs": [],
   "source": [
    "visualize_signal(graph_data, Phi[2])"
   ]
  },
  {
   "cell_type": "code",
   "execution_count": null,
   "metadata": {},
   "outputs": [],
   "source": [
    "visualize_signal(graph_data, Phi[4])"
   ]
  }
 ],
 "metadata": {
  "language_info": {
   "name": "python",
   "pygments_lexer": "ipython3"
  }
 },
 "nbformat": 4,
 "nbformat_minor": 4
}
