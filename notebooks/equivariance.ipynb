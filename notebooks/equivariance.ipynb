{
 "cells": [
  {
   "cell_type": "code",
   "execution_count": null,
   "metadata": {},
   "outputs": [],
   "source": [
    "import torch\n",
    "import numpy as np\n",
    "\n",
    "from torchvision.transforms.functional import rotate\n",
    "\n",
    "import matplotlib.pyplot as plt\n",
    "from mpl_toolkits.axes_grid1 import ImageGrid"
   ]
  },
  {
   "cell_type": "code",
   "execution_count": null,
   "metadata": {},
   "outputs": [],
   "source": [
    "from gechebnet.data.dataloader import get_test_equivariance_dataloaders\n",
    "from gechebnet.graph.graph import SE2GEGraph\n",
    "from gechebnet.graph.plot import visualize_graph, visualize_neighborhood\n",
    "from gechebnet.engine.utils import prepare_batch\n",
    "from gechebnet.model.convolution import ChebConv"
   ]
  },
  {
   "cell_type": "code",
   "execution_count": null,
   "metadata": {},
   "outputs": [],
   "source": [
    "def rotate_image(x, angles):\n",
    "    x0 = x.clone()\n",
    "    for a in angles:\n",
    "        x = torch.cat((x, rotate(x0, a)), 0)   \n",
    "    return x"
   ]
  },
  {
   "cell_type": "code",
   "execution_count": null,
   "metadata": {},
   "outputs": [],
   "source": [
    "def equivariance_error(x0, angle, chebconv, laplacian):\n",
    "    x1 = rotate(x0, angle)\n",
    "    x1, _ = prepare_batch((x1, torch.empty(1)), se2_graph, device)\n",
    "    x1_hat = chebconv(x1, laplacian).contiguous().view(graph.nsym, 28, 28)\n",
    "    \n",
    "    x0, _ = prepare_batch((x0, torch.empty(1)), se2_graph, device)\n",
    "    x0_hat = chebconv(x0, laplacian).contiguous().view(graph.nsym, 28, 28)\n",
    "    x0_hat = rotate(x0_hat, angle)\n",
    "    \n",
    "    return (x1_hat - x0_hat).pow(2).sum() / x0_hat.pow(2).sum()"
   ]
  },
  {
   "cell_type": "code",
   "execution_count": null,
   "metadata": {},
   "outputs": [],
   "source": [
    "def plot_equivariance(input):\n",
    "    B, _, L, H, W = input.shape\n",
    "    images = input.permute(2, 0, 1, 3, 4).contiguous().view(B * L, H, W)\n",
    "    fig = plt.figure(figsize=(20., 20.))\n",
    "\n",
    "    grid = ImageGrid(fig, 111, nrows_ncols=(L, B), axes_pad=0.1, share_all=True)  \n",
    "\n",
    "    grid[0].get_yaxis().set_ticks([])\n",
    "    grid[0].get_xaxis().set_ticks([])\n",
    "\n",
    "    for (ax, im) in zip(grid, images):\n",
    "        # Iterating over the grid returns the Axes.\n",
    "        ax.imshow(im)\n",
    "    \n",
    "    plt.show()\n"
   ]
  },
  {
   "cell_type": "code",
   "execution_count": null,
   "metadata": {},
   "outputs": [],
   "source": [
    "device = torch.device(\"cuda\" if torch.cuda.is_available() else \"cpu\")"
   ]
  },
  {
   "cell_type": "code",
   "execution_count": null,
   "metadata": {},
   "outputs": [],
   "source": [
    "xi = 0.01\n",
    "eps = 0.1\n",
    "se2_graph = SE2GEGraph(\n",
    "            nx=28,\n",
    "            ny=28,\n",
    "            ntheta=6, # theta = -pi, -2pi/3, -pi/3, 0, pi/3, 2pi/3\n",
    "            sigmas=(xi / eps, xi, 1.0),\n",
    "            knn=16\n",
    "        )\n",
    "\n",
    "se2_graph.set_laplacian(norm=True, device=device)"
   ]
  },
  {
   "cell_type": "code",
   "execution_count": null,
   "metadata": {},
   "outputs": [],
   "source": [
    "cheb_conv = ChebConv(1, 1, 6).to(device)"
   ]
  },
  {
   "cell_type": "code",
   "execution_count": null,
   "metadata": {},
   "outputs": [],
   "source": [
    "test_loader, _, _ = get_test_equivariance_dataloaders(\"mnist\", batch_size=1, data_path=\"data\")"
   ]
  },
  {
   "cell_type": "code",
   "execution_count": null,
   "metadata": {},
   "outputs": [],
   "source": [
    "x0, y0 = next(iter(test_loader))\n",
    "plt.imshow(x0[0,0])"
   ]
  },
  {
   "cell_type": "code",
   "execution_count": null,
   "metadata": {},
   "outputs": [],
   "source": [
    "x0.min()"
   ]
  },
  {
   "cell_type": "code",
   "execution_count": null,
   "metadata": {},
   "outputs": [],
   "source": [
    "with torch.no_grad():\n",
    "    x0, y0 = next(iter(test_loader))\n",
    "    #plt.imshow(rotate(x0, 90)[0,0])\n",
    "    #plt.axis(\"off\")\n",
    "\n",
    "    x90, _ = prepare_batch((rotate(x0, 90), y0), se2_graph, device)\n",
    "    x90_hat = cheb_conv(x90, se2_graph.laplacian).contiguous().view(se2_graph.nsym, 28, 28)\n",
    "    #plt.imshow(x90_hat[0].cpu())\n",
    "    #plt.axis(\"off\")\n",
    "\n",
    "\n",
    "    x0, _ = prepare_batch((x0, y0), se2_graph, device)    \n",
    "    \n",
    "    x0_hat = cheb_conv(x0, se2_graph.laplacian).contiguous().view(se2_graph.nsym, 28, 28)\n",
    "    plt.imshow(x0_hat[3].cpu())\n",
    "    plt.axis(\"off\")\n",
    "    \n",
    "    x0_hat = rotate(torch.roll(x0_hat, 3, 0), 90)\n",
    "    #plt.imshow(x0_hat[0].cpu())\n",
    "    #plt.axis(\"off\")\n",
    "    print(f\"equivariance error : {(x90_hat - x0_hat).pow(2).sum() / x0_hat.pow(2).sum()}\")"
   ]
  },
  {
   "cell_type": "code",
   "execution_count": null,
   "metadata": {},
   "outputs": [],
   "source": [
    "with torch.no_grad():\n",
    "    x0, y0 = next(iter(test_loader))\n",
    "    #plt.imshow(rotate(x0, 60)[0,0])\n",
    "    #plt.axis(\"off\")\n",
    "\n",
    "    x60, _ = prepare_batch((rotate(x0, 60), y0), se2_graph, device)\n",
    "    x60_hat = cheb_conv(x60, se2_graph.laplacian).contiguous().view(se2_graph.nsym, 28, 28)\n",
    "    plt.imshow(x60_hat[0].cpu())\n",
    "    plt.axis(\"off\")\n",
    "\n",
    "\n",
    "    x0, _ = prepare_batch((x0, y0), se2_graph, device)    \n",
    "    \n",
    "    x0_hat = cheb_conv(x0, se2_graph.laplacian).contiguous().view(se2_graph.nsym, 28, 28)\n",
    "    #plt.imshow(x0_hat[2].cpu())\n",
    "    #plt.axis(\"off\")\n",
    "    \n",
    "    x0_hat = rotate(torch.roll(x0_hat, 2, 0), 60)\n",
    "    #plt.imshow(x0_hat[2].cpu())\n",
    "    #plt.axis(\"off\")\n",
    "    print(f\"equivariance error : {(x60_hat - x0_hat).pow(2).sum() / x0_hat.pow(2).sum()}\")"
   ]
  },
  {
   "cell_type": "code",
   "execution_count": null,
   "metadata": {},
   "outputs": [],
   "source": [
    "_ = plt.imshow(x0_hat[3].cpu())"
   ]
  },
  {
   "cell_type": "code",
   "execution_count": null,
   "metadata": {},
   "outputs": [],
   "source": [
    "x, y = next(iter(test_loader))\n",
    "x = rotate_image(x, [30*i for i in range(1, 11)])\n",
    "x, _ = prepare_batch((x, y), se2_graph, device)"
   ]
  },
  {
   "cell_type": "code",
   "execution_count": null,
   "metadata": {},
   "outputs": [],
   "source": [
    "with torch.no_grad():\n",
    "    x_hat = cheb_conv(x, se2_graph.laplacian).contiguous().view(-1, 1, 6, 28, 28).cpu()"
   ]
  },
  {
   "cell_type": "code",
   "execution_count": null,
   "metadata": {},
   "outputs": [],
   "source": [
    "plot_equivariance(x_hat)"
   ]
  }
 ],
 "metadata": {
  "language_info": {
   "name": "python",
   "pygments_lexer": "ipython3"
  }
 },
 "nbformat": 4,
 "nbformat_minor": 4
}
