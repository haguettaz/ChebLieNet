{
 "cells": [
  {
   "cell_type": "code",
   "execution_count": null,
   "metadata": {},
   "outputs": [],
   "source": [
    "import pykeops\n",
    "pykeops.clean_pykeops() "
   ]
  },
  {
   "cell_type": "code",
   "execution_count": null,
   "metadata": {},
   "outputs": [],
   "source": [
    "import torch\n",
    "import numpy as np\n",
    "\n",
    "from torchvision.transforms.functional import rotate\n",
    "\n",
    "import matplotlib.pyplot as plt\n",
    "from mpl_toolkits.axes_grid1 import ImageGrid"
   ]
  },
  {
   "cell_type": "code",
   "execution_count": null,
   "metadata": {},
   "outputs": [],
   "source": [
    "from gechebnet.data.dataloader import get_test_equivariance_data_loader\n",
    "from gechebnet.graph.graph import HyperCubeGraph\n",
    "from gechebnet.graph.plot import visualize_graph, visualize_neighborhood\n",
    "\n",
    "from gechebnet.model.convolution import ChebConv"
   ]
  },
  {
   "cell_type": "code",
   "execution_count": null,
   "metadata": {},
   "outputs": [],
   "source": [
    "def prepare_batch(batch, graph, res_rot, device):\n",
    "    x_org, y = batch\n",
    "    x = torch.zeros(res_rot, *x_org.shape[1:])\n",
    "    for i, angle in enumerate(np.linspace(0, 360, res_rot, endpoint=False)):\n",
    "        x[i] = rotate(x_org, angle)\n",
    "        \n",
    "    B, C, H, W = x.shape  # (B, C, H, W)\n",
    "\n",
    "    if H != graph.nx2 or W != graph.nx1:\n",
    "        raise ValueError(\"Dimension incompatibility between graph and data\")\n",
    "\n",
    "    x = x.unsqueeze(2).expand(B, C, graph.nx3, graph.nx2, graph.nx1).reshape(B, C, -1)  # (B, C, L*H*W)\n",
    "\n",
    "    return x.to(device), y.to(device)"
   ]
  },
  {
   "cell_type": "code",
   "execution_count": null,
   "metadata": {},
   "outputs": [],
   "source": [
    "def plot_equivariance(output):\n",
    "    B, _, L, H, W = output.shape\n",
    "    images = output.permute(2, 0, 1, 3, 4).contiguous().view(B * L, H, W)\n",
    "    fig = plt.figure(figsize=(20., 20.))\n",
    "    grid = ImageGrid(fig, 111,  # similar to subplot(111)\n",
    "                     nrows_ncols=(L, B),  # creates 2x2 grid of axes\n",
    "                     axes_pad=0.1,  # pad between axes in inch.\n",
    "                     )\n",
    "\n",
    "    for (ax, im) in zip(grid, images):\n",
    "        # Iterating over the grid returns the Axes.\n",
    "        ax.imshow(im)\n",
    "\n",
    "    plt.show()"
   ]
  },
  {
   "cell_type": "code",
   "execution_count": null,
   "metadata": {},
   "outputs": [],
   "source": [
    "XI = .1\n",
    "EPS = 1.0\n",
    "\n",
    "DATASET = \"MNIST\"\n",
    "DATA_PATH = \"data\"\n",
    "\n",
    "DEVICE = torch.device(\"cuda\" if torch.cuda.is_available() else \"cpu\")"
   ]
  },
  {
   "cell_type": "code",
   "execution_count": null,
   "metadata": {},
   "outputs": [],
   "source": [
    "XI = 0.01\n",
    "EPS = 0.1\n",
    "\n",
    "B = 12          # num rotations\n",
    "H, W = 28, 28 \n",
    "C= 1\n",
    "L = 6           # num layers   \n",
    "K = 15          # Chebyschev's approximation's order"
   ]
  },
  {
   "cell_type": "code",
   "execution_count": null,
   "metadata": {},
   "outputs": [],
   "source": [
    "graph = HyperCubeGraph(\n",
    "            grid_size=(H, W),\n",
    "            nx3=L,\n",
    "            sigmas=(XI / EPS, XI, 1.0),\n",
    "            weight_comp_device=DEVICE,\n",
    "            knn=27\n",
    "        )\n",
    "\n",
    "cheb_conv_layer = ChebConv(graph, 1, 1, K, laplacian_device=DEVICE).to(DEVICE)"
   ]
  },
  {
   "cell_type": "code",
   "execution_count": null,
   "metadata": {},
   "outputs": [],
   "source": [
    "test_loader, _, _ = get_test_equivariance_data_loader(DATASET, batch_size=1)\n",
    "batch = next(iter(test_loader))\n",
    "x, y = prepare_batch(batch, graph, B, DEVICE)"
   ]
  },
  {
   "cell_type": "code",
   "execution_count": null,
   "metadata": {},
   "outputs": [],
   "source": [
    "with torch.no_grad():\n",
    "    X_out = cheb_conv_layer(x).contiguous().view(B, C, L, H, W).cpu()"
   ]
  },
  {
   "cell_type": "code",
   "execution_count": null,
   "metadata": {},
   "outputs": [],
   "source": [
    "plot_equivariance(X_out)"
   ]
  }
 ],
 "metadata": {
  "language_info": {
   "name": "python",
   "pygments_lexer": "ipython3"
  }
 },
 "nbformat": 4,
 "nbformat_minor": 4
}
