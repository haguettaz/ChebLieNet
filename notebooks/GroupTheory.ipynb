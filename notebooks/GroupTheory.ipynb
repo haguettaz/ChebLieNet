{
 "cells": [
  {
   "cell_type": "code",
   "execution_count": null,
   "metadata": {},
   "outputs": [],
   "source": [
    "import torch\n",
    "import math"
   ]
  },
  {
   "cell_type": "code",
   "execution_count": null,
   "metadata": {},
   "outputs": [],
   "source": [
    "theta = torch.rand(100000)*2*math.pi\n",
    "x = torch.rand(100000)*100\n",
    "y = torch.rand(100000)*100\n",
    "\n",
    "alpha = torch.rand(100)\n",
    "beta = torch.rand(100)\n",
    "gamma = torch.rand(100)"
   ]
  },
  {
   "cell_type": "code",
   "execution_count": null,
   "metadata": {},
   "outputs": [],
   "source": [
    "def se2_matrix(bx, by, btheta):   \n",
    "    bcos = torch.cos(btheta)\n",
    "    bsin = torch.sin(btheta)\n",
    "    \n",
    "    bGg = torch.zeros((bx.shape[0], 3, 3), device=None)\n",
    "    bGg[:,0,0] = bcos\n",
    "    bGg[:,0,1] = -bsin\n",
    "    bGg[:,0,2] = bx\n",
    "    bGg[:,1,0] = bsin\n",
    "    bGg[:,1,1] = bcos\n",
    "    bGg[:,1,2] = by\n",
    "    bGg[:,2,2] = 1.\n",
    "    \n",
    "    return bGg\n",
    "\n",
    "def so3_matrix(balpha, bbeta, bgamma):\n",
    "    cosa = torch.cos(alpha)\n",
    "    sina = torch.sin(alpha)    \n",
    "    Ra = torch.zeros((alpha.shape[0], 3, 3))\n",
    "    Ra[:,1,1] = cosa\n",
    "    Ra[:,1,2] = -sina\n",
    "    Ra[:,2,1] = sina\n",
    "    Ra[:,2,2] = cosa\n",
    "    Ra[:,0,0] = 1.\n",
    "\n",
    "    cosb = torch.cos(beta)\n",
    "    sinb = torch.sin(beta)   \n",
    "    Rb = torch.zeros((beta.shape[0], 3, 3))\n",
    "    Rb[:,0,0] = cosb\n",
    "    Rb[:,0,2] = sinb\n",
    "    Rb[:,2,0] = -sinb\n",
    "    Rb[:,2,2] = cosb\n",
    "    Rb[:,1,1] = 1.\n",
    "\n",
    "    cosc = torch.cos(gamma)\n",
    "    sinc = torch.sin(gamma) \n",
    "    Rc = torch.zeros((gamma.shape[0], 3, 3))\n",
    "    Rc[:,0,0] = cosc\n",
    "    Rc[:,0,1] = -sinc\n",
    "    Rc[:,1,0] = sinc\n",
    "    Rc[:,1,1] = cosc\n",
    "    Rc[:,2,2] = 1.\n",
    "    \n",
    "    return Rc @ Rb @ Ra"
   ]
  },
  {
   "cell_type": "code",
   "execution_count": null,
   "metadata": {},
   "outputs": [],
   "source": [
    "se2_matrix(x, y, theta)"
   ]
  },
  {
   "cell_type": "code",
   "execution_count": null,
   "metadata": {},
   "outputs": [],
   "source": [
    "%timeit so3_matrix(alpha, beta, gamma)"
   ]
  },
  {
   "cell_type": "code",
   "execution_count": null,
   "metadata": {},
   "outputs": [],
   "source": [
    "bGg = se2_matrix(x, y, theta)"
   ]
  },
  {
   "cell_type": "code",
   "execution_count": null,
   "metadata": {},
   "outputs": [],
   "source": [
    "(torch.inverse(bGg[:100]).unsqueeze(1) @ torch.inverse(bGg).unsqueeze(0))"
   ]
  },
  {
   "cell_type": "code",
   "execution_count": null,
   "metadata": {},
   "outputs": [],
   "source": [
    "torch.inverse(bGg)"
   ]
  },
  {
   "cell_type": "code",
   "execution_count": null,
   "metadata": {},
   "outputs": [],
   "source": [
    "torch.complex(torch.cos(theta), torch.sin(theta))"
   ]
  },
  {
   "cell_type": "code",
   "execution_count": null,
   "metadata": {},
   "outputs": [],
   "source": [
    "torch.log(torch.complex(torch.cos(theta), torch.sin(theta)))"
   ]
  },
  {
   "cell_type": "code",
   "execution_count": null,
   "metadata": {},
   "outputs": [],
   "source": [
    "torch.sign(torch.sin(theta))*torch.acos(torch.cos(theta))"
   ]
  },
  {
   "cell_type": "code",
   "execution_count": null,
   "metadata": {},
   "outputs": [],
   "source": [
    "def se2_log(bbGg):\n",
    "    # theta = torch.sign(bGg[...,1,0]) * torch.acos(bGg[...,0,0]) % math.pi\n",
    "    # x = bGg[...,0,2]\n",
    "    # y = bGg[...,1,2]\n",
    "    # \n",
    "    # mask = (theta == 0)\n",
    "    # \n",
    "    # c1 = 0.5 * theta * (y + x * torch.cos(theta/2)/torch.sin(theta/2))\n",
    "    # c1[mask] = x[mask]\n",
    "    # \n",
    "    # c2 = 0.5 * theta * (-x + y * torch.cos(theta/2)/torch.sin(theta/2))\n",
    "    # c2[mask] = y[mask]\n",
    "# \n",
    "    # c3 = theta\n",
    "    #     \n",
    "    # return torch.stack((c1, c2, c3), dim=-1)\n",
    "\n",
    "    theta = (bbGg[3].sign() * bbGg[0].acos()).mod(math.pi, -math.pi/2)\n",
    "    x = bbGg[2]\n",
    "    y = bbGg[5]\n",
    "    \n",
    "    c1 = theta/2 * y + x * (theta/2).cos()*(theta/2).xdivsinx()\n",
    "    c2 = -theta/2 * x + y * (theta/2).cos()*(theta/2).xdivsinx()\n",
    "    c3 = theta\n",
    "    \n",
    "    return LazyTensor.cat((c1, c2, c3), dim=-1)"
   ]
  },
  {
   "cell_type": "code",
   "execution_count": null,
   "metadata": {},
   "outputs": [],
   "source": [
    "x = torch.zeros(100)\n",
    "y = torch.zeros(100)\n",
    "theta = torch.rand(100)"
   ]
  },
  {
   "cell_type": "code",
   "execution_count": null,
   "metadata": {},
   "outputs": [],
   "source": [
    "bGg = se2_matrix(x,y,theta)\n",
    "bGg.shape"
   ]
  },
  {
   "cell_type": "code",
   "execution_count": null,
   "metadata": {},
   "outputs": [],
   "source": [
    "se2_log(torch.inverse(bGg).unsqueeze(1) @ bGg.unsqueeze(0))"
   ]
  },
  {
   "cell_type": "code",
   "execution_count": null,
   "metadata": {},
   "outputs": [],
   "source": [
    "xi = Vi(bGg)\n",
    "xj = Vj(bGg)"
   ]
  },
  {
   "cell_type": "code",
   "execution_count": null,
   "metadata": {},
   "outputs": [],
   "source": [
    "LazyTensor.keops_tensordot(xi, xj, (3, 3), (3, 3), (1,), (0,)).sum_reduction(dim=-1)"
   ]
  },
  {
   "cell_type": "code",
   "execution_count": null,
   "metadata": {},
   "outputs": [],
   "source": [
    "from pykeops.torch import LazyTensor, Pm, Vi, Vj\n",
    "import torch\n",
    "import math\n",
    "\n",
    "S = Pm(torch.tensor([1., 1., 1.]))\n",
    "\n",
    "x = torch.zeros(4)\n",
    "y = torch.zeros(4)\n",
    "theta = torch.tensor([0., math.pi/4, math.pi/2, 3/4 * math.pi])\n",
    "\n",
    "Gg = se2_matrix(x, y, theta)\n",
    "Gh = torch.inverse(Gg)\n",
    "\n",
    "xi = Vi(Gh.reshape(4, -1))  # sources\n",
    "xj = Vj(Gg.reshape(4, -1))  # targets\n",
    "\n",
    "xixj = LazyTensor.keops_tensordot(xi, xj, (3, 3), (3, 3), (1,), (0,)) # g^-1 * h\n",
    "\n",
    "se2_log(xixj).weightedsqnorm(S).Kmin_argKmin(4, dim=1)"
   ]
  },
  {
   "cell_type": "code",
   "execution_count": null,
   "metadata": {},
   "outputs": [],
   "source": [
    "(0. - math.pi/4)**2"
   ]
  }
 ],
 "metadata": {
  "language_info": {
   "name": "python",
   "pygments_lexer": "ipython3"
  }
 },
 "nbformat": 4,
 "nbformat_minor": 4
}
